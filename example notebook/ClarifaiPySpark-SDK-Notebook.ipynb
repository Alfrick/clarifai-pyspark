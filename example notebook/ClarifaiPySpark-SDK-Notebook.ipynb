{
 "cells": [
  {
   "cell_type": "code",
   "execution_count": 0,
   "metadata": {
    "application/vnd.databricks.v1+cell": {
     "cellMetadata": {
      "byteLimit": 2048000,
      "rowLimit": 10000
     },
     "inputWidgets": {},
     "nuid": "318c1270-0f7f-44fe-86a6-963339aa867a",
     "showTitle": false,
     "title": ""
    }
   },
   "outputs": [
    {
     "output_type": "stream",
     "name": "stdout",
     "output_type": "stream",
     "text": [
      "Collecting clarifai==9.9.3\r\n  Downloading clarifai-9.9.3-py3-none-any.whl (2.5 MB)\r\n\u001B[?25l     \u001B[90m━━━━━━━━━━━━━━━━━━━━━━━━━━━━━━━━━━━━━━━━\u001B[0m \u001B[32m0.0/2.5 MB\u001B[0m \u001B[31m?\u001B[0m eta \u001B[36m-:--:--\u001B[0m\r\u001B[2K     \u001B[90m━━━━━━━━━━━━━━━━━━━━━━━━━━━━━━━━━━━━━━━━\u001B[0m \u001B[32m0.0/2.5 MB\u001B[0m \u001B[31m?\u001B[0m eta \u001B[36m-:--:--\u001B[0m\r\u001B[2K     \u001B[91m╸\u001B[0m\u001B[90m━━━━━━━━━━━━━━━━━━━━━━━━━━━━━━━━━━━━━━━\u001B[0m \u001B[32m0.1/2.5 MB\u001B[0m \u001B[31m739.6 kB/s\u001B[0m eta \u001B[36m0:00:04\u001B[0m\r\u001B[2K     \u001B[91m━━━━━\u001B[0m\u001B[90m╺\u001B[0m\u001B[90m━━━━━━━━━━━━━━━━━━━━━━━━━━━━━━━━━━\u001B[0m \u001B[32m0.3/2.5 MB\u001B[0m \u001B[31m3.1 MB/s\u001B[0m eta \u001B[36m0:00:01\u001B[0m\r\u001B[2K     \u001B[91m━━━━━━━━━━━━━━━━━━━━━━━━━━━━━━━━━\u001B[0m\u001B[90m╺\u001B[0m\u001B[90m━━━━━━\u001B[0m \u001B[32m2.1/2.5 MB\u001B[0m \u001B[31m14.5 MB/s\u001B[0m eta \u001B[36m0:00:01\u001B[0m\r\u001B[2K     \u001B[91m━━━━━━━━━━━━━━━━━━━━━━━━━━━━━━━━━━━━━━━\u001B[0m\u001B[91m╸\u001B[0m \u001B[32m2.5/2.5 MB\u001B[0m \u001B[31m15.6 MB/s\u001B[0m eta \u001B[36m0:00:01\u001B[0m\r\u001B[2K     \u001B[90m━━━━━━━━━━━━━━━━━━━━━━━━━━━━━━━━━━━━━━━━\u001B[0m \u001B[32m2.5/2.5 MB\u001B[0m \u001B[31m13.1 MB/s\u001B[0m eta \u001B[36m0:00:00\u001B[0m\r\n\u001B[?25hCollecting clarifai-grpc==9.8.1\r\n  Downloading clarifai_grpc-9.8.1-py3-none-any.whl (216 kB)\r\n\u001B[?25l     \u001B[90m━━━━━━━━━━━━━━━━━━━━━━━━━━━━━━━━━━━━━━━━\u001B[0m \u001B[32m0.0/216.9 kB\u001B[0m \u001B[31m?\u001B[0m eta \u001B[36m-:--:--\u001B[0m\r\u001B[2K     \u001B[90m━━━━━━━━━━━━━━━━━━━━━━━━━━━━━━━━━━━━━━\u001B[0m \u001B[32m216.9/216.9 kB\u001B[0m \u001B[31m18.6 MB/s\u001B[0m eta \u001B[36m0:00:00\u001B[0m\r\n\u001B[?25hCollecting tritonclient==2.34.0\r\n  Downloading tritonclient-2.34.0-py3-none-manylinux1_x86_64.whl (12.3 MB)\r\n\u001B[?25l     \u001B[90m━━━━━━━━━━━━━━━━━━━━━━━━━━━━━━━━━━━━━━━━\u001B[0m \u001B[32m0.0/12.3 MB\u001B[0m \u001B[31m?\u001B[0m eta \u001B[36m-:--:--\u001B[0m\r\u001B[2K     \u001B[91m━━━━━━\u001B[0m\u001B[91m╸\u001B[0m\u001B[90m━━━━━━━━━━━━━━━━━━━━━━━━━━━━━━━━━\u001B[0m \u001B[32m2.1/12.3 MB\u001B[0m \u001B[31m99.8 MB/s\u001B[0m eta \u001B[36m0:00:01\u001B[0m\r\u001B[2K     \u001B[91m━━━━━━━━━━━━━━\u001B[0m\u001B[91m╸\u001B[0m\u001B[90m━━━━━━━━━━━━━━━━━━━━━━━━━\u001B[0m \u001B[32m4.5/12.3 MB\u001B[0m \u001B[31m63.0 MB/s\u001B[0m eta \u001B[36m0:00:01\u001B[0m\r\u001B[2K     \u001B[91m━━━━━━━━━━━━━━━━━━━━━━\u001B[0m\u001B[91m╸\u001B[0m\u001B[90m━━━━━━━━━━━━━━━━━\u001B[0m \u001B[32m7.0/12.3 MB\u001B[0m \u001B[31m64.0 MB/s\u001B[0m eta \u001B[36m0:00:01\u001B[0m\r\u001B[2K     \u001B[91m━━━━━━━━━━━━━━━━━━━━━━━━━━━━━━\u001B[0m\u001B[91m╸\u001B[0m\u001B[90m━━━━━━━━━\u001B[0m \u001B[32m9.5/12.3 MB\u001B[0m \u001B[31m57.6 MB/s\u001B[0m eta \u001B[36m0:00:01\u001B[0m\r\u001B[2K     \u001B[91m━━━━━━━━━━━━━━━━━━━━━━━━━━━━━━━━━━━━━━━\u001B[0m\u001B[91m╸\u001B[0m \u001B[32m12.2/12.3 MB\u001B[0m \u001B[31m57.0 MB/s\u001B[0m eta \u001B[36m0:00:01\u001B[0m\r\u001B[2K     \u001B[91m━━━━━━━━━━━━━━━━━━━━━━━━━━━━━━━━━━━━━━━\u001B[0m\u001B[91m╸\u001B[0m \u001B[32m12.2/12.3 MB\u001B[0m \u001B[31m57.0 MB/s\u001B[0m eta \u001B[36m0:00:01\u001B[0m\r\u001B[2K     \u001B[91m━━━━━━━━━━━━━━━━━━━━━━━━━━━━━━━━━━━━━━━\u001B[0m\u001B[91m╸\u001B[0m \u001B[32m12.2/12.3 MB\u001B[0m \u001B[31m57.0 MB/s\u001B[0m eta \u001B[36m0:00:01\u001B[0m\r\u001B[2K     \u001B[90m━━━━━━━━━━━━━━━━━━━━━━━━━━━━━━━━━━━━━━━━\u001B[0m \u001B[32m12.3/12.3 MB\u001B[0m \u001B[31m31.6 MB/s\u001B[0m eta \u001B[36m0:00:00\u001B[0m\r\n\u001B[?25hCollecting schema==0.7.5\r\n  Downloading schema-0.7.5-py2.py3-none-any.whl (17 kB)\r\nCollecting opencv-python==4.7.0.68\r\n  Downloading opencv_python-4.7.0.68-cp37-abi3-manylinux_2_17_x86_64.manylinux2014_x86_64.whl (61.8 MB)\r\n\u001B[?25l     \u001B[90m━━━━━━━━━━━━━━━━━━━━━━━━━━━━━━━━━━━━━━━━\u001B[0m \u001B[32m0.0/61.8 MB\u001B[0m \u001B[31m?\u001B[0m eta \u001B[36m-:--:--\u001B[0m\r\u001B[2K     \u001B[91m━━\u001B[0m\u001B[91m╸\u001B[0m\u001B[90m━━━━━━━━━━━━━━━━━━━━━━━━━━━━━━━━━━━━━\u001B[0m \u001B[32m4.3/61.8 MB\u001B[0m \u001B[31m127.9 MB/s\u001B[0m eta \u001B[36m0:00:01\u001B[0m\r\u001B[2K     \u001B[91m━━━━\u001B[0m\u001B[91m╸\u001B[0m\u001B[90m━━━━━━━━━━━━━━━━━━━━━━━━━━━━━━━━━━━\u001B[0m \u001B[32m7.4/61.8 MB\u001B[0m \u001B[31m106.3 MB/s\u001B[0m eta \u001B[36m0:00:01\u001B[0m\r\u001B[2K     \u001B[91m━━━━━━━\u001B[0m\u001B[90m╺\u001B[0m\u001B[90m━━━━━━━━━━━━━━━━━━━━━━━━━━━━━━━━\u001B[0m \u001B[32m11.2/61.8 MB\u001B[0m \u001B[31m98.6 MB/s\u001B[0m eta \u001B[36m0:00:01\u001B[0m\r\u001B[2K     \u001B[91m━━━━━━━━\u001B[0m\u001B[91m╸\u001B[0m\u001B[90m━━━━━━━━━━━━━━━━━━━━━━━━━━━━━━━\u001B[0m \u001B[32m13.7/61.8 MB\u001B[0m \u001B[31m83.0 MB/s\u001B[0m eta \u001B[36m0:00:01\u001B[0m\r\u001B[2K     \u001B[91m━━━━━━━━━━━\u001B[0m\u001B[91m╸\u001B[0m\u001B[90m━━━━━━━━━━━━━━━━━━━━━━━━━━━━\u001B[0m \u001B[32m18.2/61.8 MB\u001B[0m \u001B[31m93.4 MB/s\u001B[0m eta \u001B[36m0:00:01\u001B[0m\r\u001B[2K     \u001B[91m━━━━━━━━━━━━━━\u001B[0m\u001B[90m╺\u001B[0m\u001B[90m━━━━━━━━━━━━━━━━━━━━━━━━\u001B[0m \u001B[32m22.5/61.8 MB\u001B[0m \u001B[31m110.9 MB/s\u001B[0m eta \u001B[36m0:00:01\u001B[0m\r\u001B[2K     \u001B[91m━━━━━━━━━━━━━━━━\u001B[0m\u001B[91m╸\u001B[0m\u001B[90m━━━━━━━━━━━━━━━━━━━━━━\u001B[0m \u001B[32m26.7/61.8 MB\u001B[0m \u001B[31m120.9 MB/s\u001B[0m eta \u001B[36m0:00:01\u001B[0m\r\u001B[2K     \u001B[91m━━━━━━━━━━━━━━━━━━━\u001B[0m\u001B[90m╺\u001B[0m\u001B[90m━━━━━━━━━━━━━━━━━━━\u001B[0m \u001B[32m30.2/61.8 MB\u001B[0m \u001B[31m112.5 MB/s\u001B[0m eta \u001B[36m0:00:01\u001B[0m\r\u001B[2K     \u001B[91m━━━━━━━━━━━━━━━━━━━━━\u001B[0m\u001B[91m╸\u001B[0m\u001B[90m━━━━━━━━━━━━━━━━━\u001B[0m \u001B[32m34.4/61.8 MB\u001B[0m \u001B[31m107.7 MB/s\u001B[0m eta \u001B[36m0:00:01\u001B[0m\r\u001B[2K     \u001B[91m━━━━━━━━━━━━━━━━━━━━━━━━\u001B[0m\u001B[90m╺\u001B[0m\u001B[90m━━━━━━━━━━━━━━\u001B[0m \u001B[32m38.8/61.8 MB\u001B[0m \u001B[31m114.4 MB/s\u001B[0m eta \u001B[36m0:00:01\u001B[0m\r\u001B[2K     \u001B[91m━━━━━━━━━━━━━━━━━━━━━━━━━━━\u001B[0m\u001B[90m╺\u001B[0m\u001B[90m━━━━━━━━━━━\u001B[0m \u001B[32m43.2/61.8 MB\u001B[0m \u001B[31m117.1 MB/s\u001B[0m eta \u001B[36m0:00:01\u001B[0m\r\u001B[2K     \u001B[91m━━━━━━━━━━━━━━━━━━━━━━━━━━━━━\u001B[0m\u001B[91m╸\u001B[0m\u001B[90m━━━━━━━━━━\u001B[0m \u001B[32m45.6/61.8 MB\u001B[0m \u001B[31m99.7 MB/s\u001B[0m eta \u001B[36m0:00:01\u001B[0m\r\u001B[2K     \u001B[91m━━━━━━━━━━━━━━━━━━━━━━━━━━━━━━━\u001B[0m\u001B[90m╺\u001B[0m\u001B[90m━━━━━━━━\u001B[0m \u001B[32m48.1/61.8 MB\u001B[0m \u001B[31m86.0 MB/s\u001B[0m eta \u001B[36m0:00:01\u001B[0m\r\u001B[2K     \u001B[91m━━━━━━━━━━━━━━━━━━━━━━━━━━━━━━━━━\u001B[0m\u001B[90m╺\u001B[0m\u001B[90m━━━━━━\u001B[0m \u001B[32m51.8/61.8 MB\u001B[0m \u001B[31m84.3 MB/s\u001B[0m eta \u001B[36m0:00:01\u001B[0m\r\u001B[2K     \u001B[91m━━━━━━━━━━━━━━━━━━━━━━━━━━━━━━━━━━━\u001B[0m\u001B[90m╺\u001B[0m\u001B[90m━━━\u001B[0m \u001B[32m56.2/61.8 MB\u001B[0m \u001B[31m101.4 MB/s\u001B[0m eta \u001B[36m0:00:01\u001B[0m\r\u001B[2K     \u001B[91m━━━━━━━━━━━━━━━━━━━━━━━━━━━━━━━━━━━━━\u001B[0m\u001B[91m╸\u001B[0m\u001B[90m━\u001B[0m \u001B[32m60.2/61.8 MB\u001B[0m \u001B[31m115.8 MB/s\u001B[0m eta \u001B[36m0:00:01\u001B[0m\r\u001B[2K     \u001B[91m━━━━━━━━━━━━━━━━━━━━━━━━━━━━━━━━━━━━━━\u001B[0m\u001B[91m╸\u001B[0m \u001B[32m61.8/61.8 MB\u001B[0m \u001B[31m113.6 MB/s\u001B[0m eta \u001B[36m0:00:01\u001B[0m\r\u001B[2K     \u001B[91m━━━━━━━━━━━━━━━━━━━━━━━━━━━━━━━━━━━━━━\u001B[0m\u001B[91m╸\u001B[0m \u001B[32m61.8/61.8 MB\u001B[0m \u001B[31m113.6 MB/s\u001B[0m eta \u001B[36m0:00:01\u001B[0m\r\u001B[2K     \u001B[91m━━━━━━━━━━━━━━━━━━━━━━━━━━━━━━━━━━━━━━\u001B[0m\u001B[91m╸\u001B[0m \u001B[32m61.8/61.8 MB\u001B[0m \u001B[31m113.6 MB/s\u001B[0m eta \u001B[36m0:00:01\u001B[0m\r\u001B[2K     \u001B[91m━━━━━━━━━━━━━━━━━━━━━━━━━━━━━━━━━━━━━━\u001B[0m\u001B[91m╸\u001B[0m \u001B[32m61.8/61.8 MB\u001B[0m \u001B[31m113.6 MB/s\u001B[0m eta \u001B[36m0:00:01\u001B[0m\r\u001B[2K     \u001B[91m━━━━━━━━━━━━━━━━━━━━━━━━━━━━━━━━━━━━━━\u001B[0m\u001B[91m╸\u001B[0m \u001B[32m61.8/61.8 MB\u001B[0m \u001B[31m113.6 MB/s\u001B[0m eta \u001B[36m0:00:01\u001B[0m\r\u001B[2K     \u001B[91m━━━━━━━━━━━━━━━━━━━━━━━━━━━━━━━━━━━━━━\u001B[0m\u001B[91m╸\u001B[0m \u001B[32m61.8/61.8 MB\u001B[0m \u001B[31m113.6 MB/s\u001B[0m eta \u001B[36m0:00:01\u001B[0m\r\u001B[2K     \u001B[91m━━━━━━━━━━━━━━━━━━━━━━━━━━━━━━━━━━━━━━\u001B[0m\u001B[91m╸\u001B[0m \u001B[32m61.8/61.8 MB\u001B[0m \u001B[31m113.6 MB/s\u001B[0m eta \u001B[36m0:00:01\u001B[0m\r\u001B[2K     \u001B[91m━━━━━━━━━━━━━━━━━━━━━━━━━━━━━━━━━━━━━━\u001B[0m\u001B[91m╸\u001B[0m \u001B[32m61.8/61.8 MB\u001B[0m \u001B[31m113.6 MB/s\u001B[0m eta \u001B[36m0:00:01\u001B[0m\r\u001B[2K     \u001B[91m━━━━━━━━━━━━━━━━━━━━━━━━━━━━━━━━━━━━━━\u001B[0m\u001B[91m╸\u001B[0m \u001B[32m61.8/61.8 MB\u001B[0m \u001B[31m113.6 MB/s\u001B[0m eta \u001B[36m0:00:01\u001B[0m\r\u001B[2K     \u001B[90m━━━━━━━━━━━━━━━━━━━━━━━━━━━━━━━━━━━━━━━━\u001B[0m \u001B[32m61.8/61.8 MB\u001B[0m \u001B[31m21.6 MB/s\u001B[0m eta \u001B[36m0:00:00\u001B[0m\r\n\u001B[?25hCollecting pytest==7.4.1\r\n  Downloading pytest-7.4.1-py3-none-any.whl (324 kB)\r\n\u001B[?25l     \u001B[90m━━━━━━━━━━━━━━━━━━━━━━━━━━━━━━━━━━━━━━━━\u001B[0m \u001B[32m0.0/324.2 kB\u001B[0m \u001B[31m?\u001B[0m eta \u001B[36m-:--:--\u001B[0m\r\u001B[2K     \u001B[90m━━━━━━━━━━━━━━━━━━━━━━━━━━━━━━━━━━━━━━\u001B[0m \u001B[32m324.2/324.2 kB\u001B[0m \u001B[31m26.9 MB/s\u001B[0m eta \u001B[36m0:00:00\u001B[0m\r\n\u001B[?25hCollecting pycocotools==2.0.6\r\n  Downloading pycocotools-2.0.6.tar.gz (24 kB)\r\n  Installing build dependencies ... \u001B[?25l-\b \b\\\b \b|\b \b/\b \b-\b \b\\\b \b|\b \b/\b \bdone\r\n\u001B[?25h  Getting requirements to build wheel ... \u001B[?25l-\b \b\\\b \bdone\r\n\u001B[?25h  Preparing metadata (pyproject.toml) ... \u001B[?25l-\b \b\\\b \bdone\r\n\u001B[?25hCollecting pandas==1.3.5\r\n  Downloading pandas-1.3.5-cp310-cp310-manylinux_2_17_x86_64.manylinux2014_x86_64.whl (11.5 MB)\r\n\u001B[?25l     \u001B[90m━━━━━━━━━━━━━━━━━━━━━━━━━━━━━━━━━━━━━━━━\u001B[0m \u001B[32m0.0/11.5 MB\u001B[0m \u001B[31m?\u001B[0m eta \u001B[36m-:--:--\u001B[0m\r\u001B[2K     \u001B[91m━━━━━━━━━━\u001B[0m\u001B[91m╸\u001B[0m\u001B[90m━━━━━━━━━━━━━━━━━━━━━━━━━━━━━\u001B[0m \u001B[32m3.1/11.5 MB\u001B[0m \u001B[31m93.0 MB/s\u001B[0m eta \u001B[36m0:00:01\u001B[0m\r\u001B[2K     \u001B[91m━━━━━━━━━━━━━━━━━━\u001B[0m\u001B[91m╸\u001B[0m\u001B[90m━━━━━━━━━━━━━━━━━━━━━\u001B[0m \u001B[32m5.4/11.5 MB\u001B[0m \u001B[31m76.6 MB/s\u001B[0m eta \u001B[36m0:00:01\u001B[0m\r\u001B[2K     \u001B[91m━━━━━━━━━━━━━━━━━━━━━━━━━━━━━━━\u001B[0m\u001B[91m╸\u001B[0m\u001B[90m━━━━━━━━\u001B[0m \u001B[32m9.2/11.5 MB\u001B[0m \u001B[31m85.7 MB/s\u001B[0m eta \u001B[36m0:00:01\u001B[0m\r\u001B[2K     \u001B[91m━━━━━━━━━━━━━━━━━━━━━━━━━━━━━━━━━━━━━━━\u001B[0m\u001B[91m╸\u001B[0m \u001B[32m11.5/11.5 MB\u001B[0m \u001B[31m91.1 MB/s\u001B[0m eta \u001B[36m0:00:01\u001B[0m\r\u001B[2K     \u001B[91m━━━━━━━━━━━━━━━━━━━━━━━━━━━━━━━━━━━━━━━\u001B[0m\u001B[91m╸\u001B[0m \u001B[32m11.5/11.5 MB\u001B[0m \u001B[31m91.1 MB/s\u001B[0m eta \u001B[36m0:00:01\u001B[0m\r\u001B[2K     \u001B[90m━━━━━━━━━━━━━━━━━━━━━━━━━━━━━━━━━━━━━━━━\u001B[0m \u001B[32m11.5/11.5 MB\u001B[0m \u001B[31m57.3 MB/s\u001B[0m eta \u001B[36m0:00:00\u001B[0m\r\n\u001B[?25hCollecting rich==13.4.2\r\n  Downloading rich-13.4.2-py3-none-any.whl (239 kB)\r\n\u001B[?25l     \u001B[90m━━━━━━━━━━━━━━━━━━━━━━━━━━━━━━━━━━━━━━━━\u001B[0m \u001B[32m0.0/239.4 kB\u001B[0m \u001B[31m?\u001B[0m eta \u001B[36m-:--:--\u001B[0m\r\u001B[2K     \u001B[90m━━━━━━━━━━━━━━━━━━━━━━━━━━━━━━━━━━━━━━\u001B[0m \u001B[32m239.4/239.4 kB\u001B[0m \u001B[31m32.8 MB/s\u001B[0m eta \u001B[36m0:00:00\u001B[0m\r\n\u001B[?25hCollecting tqdm>=4.65.0\r\n  Downloading tqdm-4.66.1-py3-none-any.whl (78 kB)\r\n\u001B[?25l     \u001B[90m━━━━━━━━━━━━━━━━━━━━━━━━━━━━━━━━━━━━━━━━\u001B[0m \u001B[32m0.0/78.3 kB\u001B[0m \u001B[31m?\u001B[0m eta \u001B[36m-:--:--\u001B[0m\r\u001B[2K     \u001B[90m━━━━━━━━━━━━━━━━━━━━━━━━━━━━━━━━━━━━━━━━\u001B[0m \u001B[32m78.3/78.3 kB\u001B[0m \u001B[31m9.2 MB/s\u001B[0m eta \u001B[36m0:00:00\u001B[0m\r\n\u001B[?25hCollecting omegaconf==2.2.3\r\n  Downloading omegaconf-2.2.3-py3-none-any.whl (79 kB)\r\n\u001B[?25l     \u001B[90m━━━━━━━━━━━━━━━━━━━━━━━━━━━━━━━━━━━━━━━━\u001B[0m \u001B[32m0.0/79.3 kB\u001B[0m \u001B[31m?\u001B[0m eta \u001B[36m-:--:--\u001B[0m\r\u001B[2K     \u001B[90m━━━━━━━━━━━━━━━━━━━━━━━━━━━━━━━━━━━━━━━━\u001B[0m \u001B[32m79.3/79.3 kB\u001B[0m \u001B[31m12.0 MB/s\u001B[0m eta \u001B[36m0:00:00\u001B[0m\r\n\u001B[?25hCollecting PyYAML==6.0.1\r\n  Downloading PyYAML-6.0.1-cp310-cp310-manylinux_2_17_x86_64.manylinux2014_x86_64.whl (705 kB)\r\n\u001B[?25l     \u001B[90m━━━━━━━━━━━━━━━━━━━━━━━━━━━━━━━━━━━━━━━━\u001B[0m \u001B[32m0.0/705.5 kB\u001B[0m \u001B[31m?\u001B[0m eta \u001B[36m-:--:--\u001B[0m\r\u001B[2K     \u001B[90m━━━━━━━━━━━━━━━━━━━━━━━━━━━━━━━━━━━━━━\u001B[0m \u001B[32m705.5/705.5 kB\u001B[0m \u001B[31m51.2 MB/s\u001B[0m eta \u001B[36m0:00:00\u001B[0m\r\n\u001B[?25hCollecting numpy==1.22.0\r\n  Downloading numpy-1.22.0-cp310-cp310-manylinux_2_17_x86_64.manylinux2014_x86_64.whl (16.8 MB)\r\n\u001B[?25l     \u001B[90m━━━━━━━━━━━━━━━━━━━━━━━━━━━━━━━━━━━━━━━━\u001B[0m \u001B[32m0.0/16.8 MB\u001B[0m \u001B[31m?\u001B[0m eta \u001B[36m-:--:--\u001B[0m\r\u001B[2K     \u001B[91m━━━━━━━━━━\u001B[0m\u001B[90m╺\u001B[0m\u001B[90m━━━━━━━━━━━━━━━━━━━━━━━━━━━━━\u001B[0m \u001B[32m4.3/16.8 MB\u001B[0m \u001B[31m130.5 MB/s\u001B[0m eta \u001B[36m0:00:01\u001B[0m\r\u001B[2K     \u001B[91m━━━━━━━━━━━━━━━━━━━━━\u001B[0m\u001B[90m╺\u001B[0m\u001B[90m━━━━━━━━━━━━━━━━━━\u001B[0m \u001B[32m8.9/16.8 MB\u001B[0m \u001B[31m126.2 MB/s\u001B[0m eta \u001B[36m0:00:01\u001B[0m\r\u001B[2K     \u001B[91m━━━━━━━━━━━━━━━━━━━━━━━━━━━━\u001B[0m\u001B[91m╸\u001B[0m\u001B[90m━━━━━━━━━━\u001B[0m \u001B[32m12.3/16.8 MB\u001B[0m \u001B[31m112.8 MB/s\u001B[0m eta \u001B[36m0:00:01\u001B[0m\r\u001B[2K     \u001B[91m━━━━━━━━━━━━━━━━━━━━━━━━━━━━━━━━━━━━━━\u001B[0m\u001B[91m╸\u001B[0m\u001B[90m━\u001B[0m \u001B[32m16.2/16.8 MB\u001B[0m \u001B[31m85.5 MB/s\u001B[0m eta \u001B[36m0:00:01\u001B[0m\r\u001B[2K     \u001B[91m━━━━━━━━━━━━━━━━━━━━━━━━━━━━━━━━━━━━━━━\u001B[0m\u001B[91m╸\u001B[0m \u001B[32m16.8/16.8 MB\u001B[0m \u001B[31m83.8 MB/s\u001B[0m eta \u001B[36m0:00:01\u001B[0m\r\u001B[2K     \u001B[91m━━━━━━━━━━━━━━━━━━━━━━━━━━━━━━━━━━━━━━━\u001B[0m\u001B[91m╸\u001B[0m \u001B[32m16.8/16.8 MB\u001B[0m \u001B[31m83.8 MB/s\u001B[0m eta \u001B[36m0:00:01\u001B[0m\r\u001B[2K     \u001B[90m━━━━━━━━━━━━━━━━━━━━━━━━━━━━━━━━━━━━━━━━\u001B[0m \u001B[32m16.8/16.8 MB\u001B[0m \u001B[31m46.9 MB/s\u001B[0m eta \u001B[36m0:00:00\u001B[0m\r\n\u001B[?25hCollecting protobuf>=3.20.3\r\n  Downloading protobuf-4.24.4-cp37-abi3-manylinux2014_x86_64.whl (311 kB)\r\n\u001B[?25l     \u001B[90m━━━━━━━━━━━━━━━━━━━━━━━━━━━━━━━━━━━━━━━━\u001B[0m \u001B[32m0.0/311.6 kB\u001B[0m \u001B[31m?\u001B[0m eta \u001B[36m-:--:--\u001B[0m\r\u001B[2K     \u001B[90m━━━━━━━━━━━━━━━━━━━━━━━━━━━━━━━━━━━━━━\u001B[0m \u001B[32m311.6/311.6 kB\u001B[0m \u001B[31m33.2 MB/s\u001B[0m eta \u001B[36m0:00:00\u001B[0m\r\n\u001B[?25hRequirement already satisfied: googleapis-common-protos>=1.53.0 in /databricks/python3/lib/python3.10/site-packages (from clarifai-grpc==9.8.1->clarifai==9.9.3) (1.56.4)\r\nRequirement already satisfied: requests>=2.25.1 in /databricks/python3/lib/python3.10/site-packages (from clarifai-grpc==9.8.1->clarifai==9.9.3) (2.28.1)\r\nRequirement already satisfied: grpcio>=1.44.0 in /databricks/python3/lib/python3.10/site-packages (from clarifai-grpc==9.8.1->clarifai==9.9.3) (1.48.1)\r\nCollecting antlr4-python3-runtime==4.9.*\r\n  Downloading antlr4-python3-runtime-4.9.3.tar.gz (117 kB)\r\n\u001B[?25l     \u001B[90m━━━━━━━━━━━━━━━━━━━━━━━━━━━━━━━━━━━━━━━━\u001B[0m \u001B[32m0.0/117.0 kB\u001B[0m \u001B[31m?\u001B[0m eta \u001B[36m-:--:--\u001B[0m\r\u001B[2K     \u001B[90m━━━━━━━━━━━━━━━━━━━━━━━━━━━━━━━━━━━━━━\u001B[0m \u001B[32m117.0/117.0 kB\u001B[0m \u001B[31m19.7 MB/s\u001B[0m eta \u001B[36m0:00:00\u001B[0m\r\n\u001B[?25h  Preparing metadata (setup.py) ... \u001B[?25l-\b \bdone\r\n\u001B[?25hRequirement already satisfied: pytz>=2017.3 in /databricks/python3/lib/python3.10/site-packages (from pandas==1.3.5->clarifai==9.9.3) (2022.1)\r\nRequirement already satisfied: python-dateutil>=2.7.3 in /databricks/python3/lib/python3.10/site-packages (from pandas==1.3.5->clarifai==9.9.3) (2.8.2)\r\nRequirement already satisfied: matplotlib>=2.1.0 in /databricks/python3/lib/python3.10/site-packages (from pycocotools==2.0.6->clarifai==9.9.3) (3.5.2)\r\nRequirement already satisfied: pluggy<2.0,>=0.12 in /databricks/python3/lib/python3.10/site-packages (from pytest==7.4.1->clarifai==9.9.3) (1.0.0)\r\nCollecting iniconfig\r\n  Downloading iniconfig-2.0.0-py3-none-any.whl (5.9 kB)\r\nRequirement already satisfied: packaging in /databricks/python3/lib/python3.10/site-packages (from pytest==7.4.1->clarifai==9.9.3) (21.3)\r\nRequirement already satisfied: tomli>=1.0.0 in /databricks/python3/lib/python3.10/site-packages (from pytest==7.4.1->clarifai==9.9.3) (2.0.1)\r\nCollecting exceptiongroup>=1.0.0rc8\r\n  Downloading exceptiongroup-1.1.3-py3-none-any.whl (14 kB)\r\nCollecting markdown-it-py>=2.2.0\r\n  Downloading markdown_it_py-3.0.0-py3-none-any.whl (87 kB)\r\n\u001B[?25l     \u001B[90m━━━━━━━━━━━━━━━━━━━━━━━━━━━━━━━━━━━━━━━━\u001B[0m \u001B[32m0.0/87.5 kB\u001B[0m \u001B[31m?\u001B[0m eta \u001B[36m-:--:--\u001B[0m\r\u001B[2K     \u001B[90m━━━━━━━━━━━━━━━━━━━━━━━━━━━━━━━━━━━━━━━━\u001B[0m \u001B[32m87.5/87.5 kB\u001B[0m \u001B[31m15.2 MB/s\u001B[0m eta \u001B[36m0:00:00\u001B[0m\r\n\u001B[?25hCollecting pygments<3.0.0,>=2.13.0\r\n  Downloading Pygments-2.16.1-py3-none-any.whl (1.2 MB)\r\n\u001B[?25l     \u001B[90m━━━━━━━━━━━━━━━━━━━━━━━━━━━━━━━━━━━━━━━━\u001B[0m \u001B[32m0.0/1.2 MB\u001B[0m \u001B[31m?\u001B[0m eta \u001B[36m-:--:--\u001B[0m\r\u001B[2K     \u001B[90m━━━━━━━━━━━━━━━━━━━━━━━━━━━━━━━━━━━━━━━━\u001B[0m \u001B[32m1.2/1.2 MB\u001B[0m \u001B[31m55.0 MB/s\u001B[0m eta \u001B[36m0:00:00\u001B[0m\r\n\u001B[?25hCollecting contextlib2>=0.5.5\r\n  Downloading contextlib2-21.6.0-py2.py3-none-any.whl (13 kB)\r\nCollecting python-rapidjson>=0.9.1\r\n  Downloading python_rapidjson-1.12-cp310-cp310-manylinux_2_17_x86_64.manylinux2014_x86_64.whl (1.7 MB)\r\n\u001B[?25l     \u001B[90m━━━━━━━━━━━━━━━━━━━━━━━━━━━━━━━━━━━━━━━━\u001B[0m \u001B[32m0.0/1.7 MB\u001B[0m \u001B[31m?\u001B[0m eta \u001B[36m-:--:--\u001B[0m\r\u001B[2K     \u001B[90m━━━━━━━━━━━━━━━━━━━━━━━━━━━━━━━━━━━━━━━━\u001B[0m \u001B[32m1.7/1.7 MB\u001B[0m \u001B[31m73.9 MB/s\u001B[0m eta \u001B[36m0:00:00\u001B[0m\r\n\u001B[?25hRequirement already satisfied: six>=1.5.2 in /usr/lib/python3/dist-packages (from grpcio>=1.44.0->clarifai-grpc==9.8.1->clarifai==9.9.3) (1.16.0)\r\nCollecting mdurl~=0.1\r\n  Downloading mdurl-0.1.2-py3-none-any.whl (10.0 kB)\r\nRequirement already satisfied: pillow>=6.2.0 in /databricks/python3/lib/python3.10/site-packages (from matplotlib>=2.1.0->pycocotools==2.0.6->clarifai==9.9.3) (9.2.0)\r\nRequirement already satisfied: pyparsing>=2.2.1 in /databricks/python3/lib/python3.10/site-packages (from matplotlib>=2.1.0->pycocotools==2.0.6->clarifai==9.9.3) (3.0.9)\r\nRequirement already satisfied: cycler>=0.10 in /databricks/python3/lib/python3.10/site-packages (from matplotlib>=2.1.0->pycocotools==2.0.6->clarifai==9.9.3) (0.11.0)\r\nRequirement already satisfied: kiwisolver>=1.0.1 in /databricks/python3/lib/python3.10/site-packages (from matplotlib>=2.1.0->pycocotools==2.0.6->clarifai==9.9.3) (1.4.2)\r\nRequirement already satisfied: fonttools>=4.22.0 in /databricks/python3/lib/python3.10/site-packages (from matplotlib>=2.1.0->pycocotools==2.0.6->clarifai==9.9.3) (4.25.0)\r\nRequirement already satisfied: certifi>=2017.4.17 in /databricks/python3/lib/python3.10/site-packages (from requests>=2.25.1->clarifai-grpc==9.8.1->clarifai==9.9.3) (2022.9.14)\r\nRequirement already satisfied: urllib3<1.27,>=1.21.1 in /databricks/python3/lib/python3.10/site-packages (from requests>=2.25.1->clarifai-grpc==9.8.1->clarifai==9.9.3) (1.26.11)\r\nRequirement already satisfied: idna<4,>=2.5 in /databricks/python3/lib/python3.10/site-packages (from requests>=2.25.1->clarifai-grpc==9.8.1->clarifai==9.9.3) (3.3)\r\nRequirement already satisfied: charset-normalizer<3,>=2 in /databricks/python3/lib/python3.10/site-packages (from requests>=2.25.1->clarifai-grpc==9.8.1->clarifai==9.9.3) (2.0.4)\r\nBuilding wheels for collected packages: pycocotools, antlr4-python3-runtime\r\n  Building wheel for pycocotools (pyproject.toml) ... \u001B[?25l-\b \b\\\b \b|\b \b/\b \b-\b \b\\\b \b|\b \b/\b \b-\b \bdone\r\n\u001B[?25h  Created wheel for pycocotools: filename=pycocotools-2.0.6-cp310-cp310-linux_x86_64.whl size=333130 sha256=33df10cb285a4f2fc8e4087ca00dd1f566f6bfa4c53d76327d7c340842a76fe1\r\n  Stored in directory: /home/spark-3044921f-02e5-4006-903b-fe/.cache/pip/wheels/58/e6/f9/f87c8f8be098b51b616871315318329cae12cdb618f4caac93\r\n  Building wheel for antlr4-python3-runtime (setup.py) ... \u001B[?25l-\b \b\\\b \b|\b \b/\b \bdone\r\n\u001B[?25h  Created wheel for antlr4-python3-runtime: filename=antlr4_python3_runtime-4.9.3-py3-none-any.whl size=144554 sha256=06a623f9ec1f0737dab94ff9c0ed88518400dff4439767c879e5a3626e08df94\r\n  Stored in directory: /home/spark-3044921f-02e5-4006-903b-fe/.cache/pip/wheels/12/93/dd/1f6a127edc45659556564c5730f6d4e300888f4bca2d4c5a88\r\nSuccessfully built pycocotools antlr4-python3-runtime\r\nInstalling collected packages: antlr4-python3-runtime, tqdm, PyYAML, python-rapidjson, pygments, protobuf, numpy, mdurl, iniconfig, exceptiongroup, contextlib2, tritonclient, schema, pytest, pandas, opencv-python, omegaconf, markdown-it-py, rich, pycocotools, clarifai-grpc, clarifai\r\n  Attempting uninstall: pygments\r\n    Found existing installation: Pygments 2.11.2\r\n    Not uninstalling pygments at /databricks/python3/lib/python3.10/site-packages, outside environment /local_disk0/.ephemeral_nfs/envs/pythonEnv-3044921f-02e5-4006-903b-fe81fd6a87ff\r\n    Can't uninstall 'Pygments'. No files were found to uninstall.\r\n  Attempting uninstall: protobuf\r\n    Found existing installation: protobuf 3.19.4\r\n    Not uninstalling protobuf at /databricks/python3/lib/python3.10/site-packages, outside environment /local_disk0/.ephemeral_nfs/envs/pythonEnv-3044921f-02e5-4006-903b-fe81fd6a87ff\r\n    Can't uninstall 'protobuf'. No files were found to uninstall.\r\n  Attempting uninstall: numpy\r\n    Found existing installation: numpy 1.21.5\r\n    Not uninstalling numpy at /databricks/python3/lib/python3.10/site-packages, outside environment /local_disk0/.ephemeral_nfs/envs/pythonEnv-3044921f-02e5-4006-903b-fe81fd6a87ff\r\n    Can't uninstall 'numpy'. No files were found to uninstall.\r\n  Attempting uninstall: pandas\r\n    Found existing installation: pandas 1.4.4\r\n    Not uninstalling pandas at /databricks/python3/lib/python3.10/site-packages, outside environment /local_disk0/.ephemeral_nfs/envs/pythonEnv-3044921f-02e5-4006-903b-fe81fd6a87ff\r\n    Can't uninstall 'pandas'. No files were found to uninstall.\r\nSuccessfully installed PyYAML-6.0.1 antlr4-python3-runtime-4.9.3 clarifai-9.9.3 clarifai-grpc-9.8.1 contextlib2-21.6.0 exceptiongroup-1.1.3 iniconfig-2.0.0 markdown-it-py-3.0.0 mdurl-0.1.2 numpy-1.22.0 omegaconf-2.2.3 opencv-python-4.7.0.68 pandas-1.3.5 protobuf-4.24.4 pycocotools-2.0.6 pygments-2.16.1 pytest-7.4.1 python-rapidjson-1.12 rich-13.4.2 schema-0.7.5 tqdm-4.66.1 tritonclient-2.34.0\r\n\r\n\u001B[1m[\u001B[0m\u001B[34;49mnotice\u001B[0m\u001B[1;39;49m]\u001B[0m\u001B[39;49m A new release of pip available: \u001B[0m\u001B[31;49m22.2.2\u001B[0m\u001B[39;49m -> \u001B[0m\u001B[32;49m23.3\u001B[0m\r\n\u001B[1m[\u001B[0m\u001B[34;49mnotice\u001B[0m\u001B[1;39;49m]\u001B[0m\u001B[39;49m To update, run: \u001B[0m\u001B[32;49mpip install --upgrade pip\u001B[0m\r\nCollecting pyspark\r\n  Downloading pyspark-3.5.0.tar.gz (316.9 MB)\r\n\u001B[?25l     \u001B[90m━━━━━━━━━━━━━━━━━━━━━━━━━━━━━━━━━━━━━━━━\u001B[0m \u001B[32m0.0/316.9 MB\u001B[0m \u001B[31m?\u001B[0m eta \u001B[36m-:--:--\u001B[0m\r\u001B[2K     \u001B[90m━━━━━━━━━━━━━━━━━━━━━━━━━━━━━━━━━━━━━━━━\u001B[0m \u001B[32m0.0/316.9 MB\u001B[0m \u001B[31m1.2 MB/s\u001B[0m eta \u001B[36m0:04:27\u001B[0m\r\u001B[2K     \u001B[90m━━━━━━━━━━━━━━━━━━━━━━━━━━━━━━━━━━━━━━━━\u001B[0m \u001B[32m2.1/316.9 MB\u001B[0m \u001B[31m29.2 MB/s\u001B[0m eta \u001B[36m0:00:11\u001B[0m\r\u001B[2K     \u001B[91m╸\u001B[0m\u001B[90m━━━━━━━━━━━━━━━━━━━━━━━━━━━━━━━━━━━━━━━\u001B[0m \u001B[32m6.2/316.9 MB\u001B[0m \u001B[31m56.9 MB/s\u001B[0m eta \u001B[36m0:00:06\u001B[0m\r\u001B[2K     \u001B[91m━\u001B[0m\u001B[90m╺\u001B[0m\u001B[90m━━━━━━━━━━━━━━━━━━━━━━━━━━━━━━━━━━━━━\u001B[0m \u001B[32m10.2/316.9 MB\u001B[0m \u001B[31m70.6 MB/s\u001B[0m eta \u001B[36m0:00:05\u001B[0m\r\u001B[2K     \u001B[91m━\u001B[0m\u001B[91m╸\u001B[0m\u001B[90m━━━━━━━━━━━━━━━━━━━━━━━━━━━━━━━━━━━━\u001B[0m \u001B[32m13.5/316.9 MB\u001B[0m \u001B[31m106.6 MB/s\u001B[0m eta \u001B[36m0:00:03\u001B[0m\r\u001B[2K     \u001B[91m━━\u001B[0m\u001B[90m╺\u001B[0m\u001B[90m━━━━━━━━━━━━━━━━━━━━━━━━━━━━━━━━━━━━\u001B[0m \u001B[32m16.5/316.9 MB\u001B[0m \u001B[31m97.6 MB/s\u001B[0m eta \u001B[36m0:00:04\u001B[0m\r\u001B[2K     \u001B[91m━━\u001B[0m\u001B[90m╺\u001B[0m\u001B[90m━━━━━━━━━━━━━━━━━━━━━━━━━━━━━━━━━━━━\u001B[0m \u001B[32m19.7/316.9 MB\u001B[0m \u001B[31m88.0 MB/s\u001B[0m eta \u001B[36m0:00:04\u001B[0m\r\u001B[2K     \u001B[91m━━\u001B[0m\u001B[91m╸\u001B[0m\u001B[90m━━━━━━━━━━━━━━━━━━━━━━━━━━━━━━━━━━━━\u001B[0m \u001B[32m22.7/316.9 MB\u001B[0m \u001B[31m85.3 MB/s\u001B[0m eta \u001B[36m0:00:04\u001B[0m\r\u001B[2K     \u001B[91m━━━\u001B[0m\u001B[90m╺\u001B[0m\u001B[90m━━━━━━━━━━━━━━━━━━━━━━━━━━━━━━━━━━━\u001B[0m \u001B[32m25.7/316.9 MB\u001B[0m \u001B[31m83.6 MB/s\u001B[0m eta \u001B[36m0:00:04\u001B[0m\r\u001B[2K     \u001B[91m━━━\u001B[0m\u001B[91m╸\u001B[0m\u001B[90m━━━━━━━━━━━━━━━━━━━━━━━━━━━━━━━━━━━\u001B[0m \u001B[32m29.5/316.9 MB\u001B[0m \u001B[31m89.6 MB/s\u001B[0m eta \u001B[36m0:00:04\u001B[0m\r\u001B[2K     \u001B[91m━━━━\u001B[0m\u001B[90m╺\u001B[0m\u001B[90m━━━━━━━━━━━━━━━━━━━━━━━━━━━━━━━━━\u001B[0m \u001B[32m33.4/316.9 MB\u001B[0m \u001B[31m100.6 MB/s\u001B[0m eta \u001B[36m0:00:03\u001B[0m\r\u001B[2K     \u001B[91m━━━━\u001B[0m\u001B[90m╺\u001B[0m\u001B[90m━━━━━━━━━━━━━━━━━━━━━━━━━━━━━━━━━\u001B[0m \u001B[32m37.1/316.9 MB\u001B[0m \u001B[31m108.4 MB/s\u001B[0m eta \u001B[36m0:00:03\u001B[0m\r\u001B[2K     \u001B[91m━━━━\u001B[0m\u001B[91m╸\u001B[0m\u001B[90m━━━━━━━━━━━━━━━━━━━━━━━━━━━━━━━━━\u001B[0m \u001B[32m40.9/316.9 MB\u001B[0m \u001B[31m107.0 MB/s\u001B[0m eta \u001B[36m0:00:03\u001B[0m\r\u001B[2K     \u001B[91m━━━━━\u001B[0m\u001B[90m╺\u001B[0m\u001B[90m━━━━━━━━━━━━━━━━━━━━━━━━━━━━━━━━\u001B[0m \u001B[32m44.7/316.9 MB\u001B[0m \u001B[31m106.5 MB/s\u001B[0m eta \u001B[36m0:00:03\u001B[0m\r\u001B[2K     \u001B[91m━━━━━\u001B[0m\u001B[91m╸\u001B[0m\u001B[90m━━━━━━━━━━━━━━━━━━━━━━━━━━━━━━━━\u001B[0m \u001B[32m48.3/316.9 MB\u001B[0m \u001B[31m104.1 MB/s\u001B[0m eta \u001B[36m0:00:03\u001B[0m\r\u001B[2K     \u001B[91m━━━━━━\u001B[0m\u001B[90m╺\u001B[0m\u001B[90m━━━━━━━━━━━━━━━━━━━━━━━━━━━━━━━\u001B[0m \u001B[32m51.9/316.9 MB\u001B[0m \u001B[31m101.1 MB/s\u001B[0m eta \u001B[36m0:00:03\u001B[0m\r\u001B[2K     \u001B[91m━━━━━━\u001B[0m\u001B[91m╸\u001B[0m\u001B[90m━━━━━━━━━━━━━━━━━━━━━━━━━━━━━━━\u001B[0m \u001B[32m55.9/316.9 MB\u001B[0m \u001B[31m102.1 MB/s\u001B[0m eta \u001B[36m0:00:03\u001B[0m\r\u001B[2K     \u001B[91m━━━━━━━\u001B[0m\u001B[90m╺\u001B[0m\u001B[90m━━━━━━━━━━━━━━━━━━━━━━━━━━━━━━\u001B[0m \u001B[32m59.7/316.9 MB\u001B[0m \u001B[31m107.3 MB/s\u001B[0m eta \u001B[36m0:00:03\u001B[0m\r\u001B[2K     \u001B[91m━━━━━━━\u001B[0m\u001B[91m╸\u001B[0m\u001B[90m━━━━━━━━━━━━━━━━━━━━━━━━━━━━━━\u001B[0m \u001B[32m63.6/316.9 MB\u001B[0m \u001B[31m107.8 MB/s\u001B[0m eta \u001B[36m0:00:03\u001B[0m\r\u001B[2K     \u001B[91m━━━━━━━━\u001B[0m\u001B[90m╺\u001B[0m\u001B[90m━━━━━━━━━━━━━━━━━━━━━━━━━━━━━\u001B[0m \u001B[32m67.4/316.9 MB\u001B[0m \u001B[31m107.3 MB/s\u001B[0m eta \u001B[36m0:00:03\u001B[0m\r\u001B[2K     \u001B[91m━━━━━━━━\u001B[0m\u001B[91m╸\u001B[0m\u001B[90m━━━━━━━━━━━━━━━━━━━━━━━━━━━━━\u001B[0m \u001B[32m71.3/316.9 MB\u001B[0m \u001B[31m108.5 MB/s\u001B[0m eta \u001B[36m0:00:03\u001B[0m\r\u001B[2K     \u001B[91m━━━━━━━━━\u001B[0m\u001B[90m╺\u001B[0m\u001B[90m━━━━━━━━━━━━━━━━━━━━━━━━━━━━\u001B[0m \u001B[32m75.2/316.9 MB\u001B[0m \u001B[31m110.1 MB/s\u001B[0m eta \u001B[36m0:00:03\u001B[0m\r\u001B[2K     \u001B[91m━━━━━━━━━\u001B[0m\u001B[90m╺\u001B[0m\u001B[90m━━━━━━━━━━━━━━━━━━━━━━━━━━━━\u001B[0m \u001B[32m79.1/316.9 MB\u001B[0m \u001B[31m109.0 MB/s\u001B[0m eta \u001B[36m0:00:03\u001B[0m\r\u001B[2K     \u001B[91m━━━━━━━━━\u001B[0m\u001B[91m╸\u001B[0m\u001B[90m━━━━━━━━━━━━━━━━━━━━━━━━━━━━\u001B[0m \u001B[32m82.8/316.9 MB\u001B[0m \u001B[31m105.3 MB/s\u001B[0m eta \u001B[36m0:00:03\u001B[0m\r\u001B[2K     \u001B[91m━━━━━━━━━━\u001B[0m\u001B[90m╺\u001B[0m\u001B[90m━━━━━━━━━━━━━━━━━━━━━━━━━━━\u001B[0m \u001B[32m86.9/316.9 MB\u001B[0m \u001B[31m107.4 MB/s\u001B[0m eta \u001B[36m0:00:03\u001B[0m\r\u001B[2K     \u001B[91m━━━━━━━━━━\u001B[0m\u001B[91m╸\u001B[0m\u001B[90m━━━━━━━━━━━━━━━━━━━━━━━━━━━\u001B[0m \u001B[32m91.1/316.9 MB\u001B[0m \u001B[31m114.6 MB/s\u001B[0m eta \u001B[36m0:00:02\u001B[0m\r\u001B[2K     \u001B[91m━━━━━━━━━━━\u001B[0m\u001B[90m╺\u001B[0m\u001B[90m━━━━━━━━━━━━━━━━━━━━━━━━━━\u001B[0m \u001B[32m94.7/316.9 MB\u001B[0m \u001B[31m108.9 MB/s\u001B[0m eta \u001B[36m0:00:03\u001B[0m\r\u001B[2K     \u001B[91m━━━━━━━━━━━\u001B[0m\u001B[91m╸\u001B[0m\u001B[90m━━━━━━━━━━━━━━━━━━━━━━━━━━\u001B[0m \u001B[32m98.4/316.9 MB\u001B[0m \u001B[31m104.2 MB/s\u001B[0m eta \u001B[36m0:00:03\u001B[0m\r\u001B[2K     \u001B[91m━━━━━━━━━━━\u001B[0m\u001B[91m╸\u001B[0m\u001B[90m━━━━━━━━━━━━━━━━━━━━━━━━━\u001B[0m \u001B[32m102.4/316.9 MB\u001B[0m \u001B[31m105.8 MB/s\u001B[0m eta \u001B[36m0:00:03\u001B[0m\r\u001B[2K     \u001B[91m━━━━━━━━━━━━\u001B[0m\u001B[90m╺\u001B[0m\u001B[90m━━━━━━━━━━━━━━━━━━━━━━━━\u001B[0m \u001B[32m106.0/316.9 MB\u001B[0m \u001B[31m105.2 MB/s\u001B[0m eta \u001B[36m0:00:03\u001B[0m\r\u001B[2K     \u001B[91m━━━━━━━━━━━━\u001B[0m\u001B[91m╸\u001B[0m\u001B[90m━━━━━━━━━━━━━━━━━━━━━━━━\u001B[0m \u001B[32m110.0/316.9 MB\u001B[0m \u001B[31m109.3 MB/s\u001B[0m eta \u001B[36m0:00:02\u001B[0m\r\u001B[2K     \u001B[91m━━━━━━━━━━━━━\u001B[0m\u001B[90m╺\u001B[0m\u001B[90m━━━━━━━━━━━━━━━━━━━━━━━\u001B[0m \u001B[32m114.6/316.9 MB\u001B[0m \u001B[31m117.3 MB/s\u001B[0m eta \u001B[36m0:00:02\u001B[0m\r\u001B[2K     \u001B[91m━━━━━━━━━━━━━\u001B[0m\u001B[91m╸\u001B[0m\u001B[90m━━━━━━━━━━━━━━━━━━━━━━━\u001B[0m \u001B[32m118.8/316.9 MB\u001B[0m \u001B[31m123.8 MB/s\u001B[0m eta \u001B[36m0:00:02\u001B[0m\r\u001B[2K     \u001B[91m━━━━━━━━━━━━━━\u001B[0m\u001B[90m╺\u001B[0m\u001B[90m━━━━━━━━━━━━━━━━━━━━━━\u001B[0m \u001B[32m122.2/316.9 MB\u001B[0m \u001B[31m110.9 MB/s\u001B[0m eta \u001B[36m0:00:02\u001B[0m\r\u001B[2K     \u001B[91m━━━━━━━━━━━━━━\u001B[0m\u001B[91m╸\u001B[0m\u001B[90m━━━━━━━━━━━━━━━━━━━━━━\u001B[0m \u001B[32m125.8/316.9 MB\u001B[0m \u001B[31m103.3 MB/s\u001B[0m eta \u001B[36m0:00:02\u001B[0m\r\u001B[2K     \u001B[91m━━━━━━━━━━━━━━━\u001B[0m\u001B[90m╺\u001B[0m\u001B[90m━━━━━━━━━━━━━━━━━━━━━\u001B[0m \u001B[32m130.3/316.9 MB\u001B[0m \u001B[31m111.8 MB/s\u001B[0m eta \u001B[36m0:00:02\u001B[0m\r\u001B[2K     \u001B[91m━━━━━━━━━━━━━━━\u001B[0m\u001B[91m╸\u001B[0m\u001B[90m━━━━━━━━━━━━━━━━━━━━━\u001B[0m \u001B[32m134.2/316.9 MB\u001B[0m \u001B[31m115.2 MB/s\u001B[0m eta \u001B[36m0:00:02\u001B[0m\r\u001B[2K     \u001B[91m━━━━━━━━━━━━━━━━\u001B[0m\u001B[90m╺\u001B[0m\u001B[90m━━━━━━━━━━━━━━━━━━━━\u001B[0m \u001B[32m137.7/316.9 MB\u001B[0m \u001B[31m109.1 MB/s\u001B[0m eta \u001B[36m0:00:02\u001B[0m\r\u001B[2K     \u001B[91m━━━━━━━━━━━━━━━━\u001B[0m\u001B[91m╸\u001B[0m\u001B[90m━━━━━━━━━━━━━━━━━━━━━\u001B[0m \u001B[32m139.5/316.9 MB\u001B[0m \u001B[31m86.2 MB/s\u001B[0m eta \u001B[36m0:00:03\u001B[0m\r\u001B[2K     \u001B[91m━━━━━━━━━━━━━━━━━\u001B[0m\u001B[90m╺\u001B[0m\u001B[90m━━━━━━━━━━━━━━━━━━━━\u001B[0m \u001B[32m142.7/316.9 MB\u001B[0m \u001B[31m81.9 MB/s\u001B[0m eta \u001B[36m0:00:03\u001B[0m\r\u001B[2K     \u001B[91m━━━━━━━━━━━━━━━━━\u001B[0m\u001B[90m╺\u001B[0m\u001B[90m━━━━━━━━━━━━━━━━━━━━\u001B[0m \u001B[32m145.8/316.9 MB\u001B[0m \u001B[31m78.4 MB/s\u001B[0m eta \u001B[36m0:00:03\u001B[0m\r\u001B[2K     \u001B[91m━━━━━━━━━━━━━━━━━\u001B[0m\u001B[91m╸\u001B[0m\u001B[90m━━━━━━━━━━━━━━━━━━━━\u001B[0m \u001B[32m148.8/316.9 MB\u001B[0m \u001B[31m82.4 MB/s\u001B[0m eta \u001B[36m0:00:03\u001B[0m\r\u001B[2K     \u001B[91m━━━━━━━━━━━━━━━━━━\u001B[0m\u001B[90m╺\u001B[0m\u001B[90m━━━━━━━━━━━━━━━━━━━\u001B[0m \u001B[32m151.8/316.9 MB\u001B[0m \u001B[31m82.6 MB/s\u001B[0m eta \u001B[36m0:00:02\u001B[0m\r\u001B[2K     \u001B[91m━━━━━━━━━━━━━━━━━━\u001B[0m\u001B[91m╸\u001B[0m\u001B[90m━━━━━━━━━━━━━━━━━━━\u001B[0m \u001B[32m156.3/316.9 MB\u001B[0m \u001B[31m98.0 MB/s\u001B[0m eta \u001B[36m0:00:02\u001B[0m\r\u001B[2K     \u001B[91m━━━━━━━━━━━━━━━━━━━\u001B[0m\u001B[90m╺\u001B[0m\u001B[90m━━━━━━━━━━━━━━━━━━\u001B[0m \u001B[32m159.4/316.9 MB\u001B[0m \u001B[31m98.0 MB/s\u001B[0m eta \u001B[36m0:00:02\u001B[0m\r\u001B[2K     \u001B[91m━━━━━━━━━━━━━━━━━━━\u001B[0m\u001B[90m╺\u001B[0m\u001B[90m━━━━━━━━━━━━━━━━━━\u001B[0m \u001B[32m162.1/316.9 MB\u001B[0m \u001B[31m95.8 MB/s\u001B[0m eta \u001B[36m0:00:02\u001B[0m\r\u001B[2K     \u001B[91m━━━━━━━━━━━━━━━━━━━\u001B[0m\u001B[91m╸\u001B[0m\u001B[90m━━━━━━━━━━━━━━━━━━\u001B[0m \u001B[32m166.0/316.9 MB\u001B[0m \u001B[31m88.2 MB/s\u001B[0m eta \u001B[36m0:00:02\u001B[0m\r\u001B[2K     \u001B[91m━━━━━━━━━━━━━━━━━━━\u001B[0m\u001B[91m╸\u001B[0m\u001B[90m━━━━━━━━━━━━━━━━━\u001B[0m \u001B[32m170.2/316.9 MB\u001B[0m \u001B[31m101.9 MB/s\u001B[0m eta \u001B[36m0:00:02\u001B[0m\r\u001B[2K     \u001B[91m━━━━━━━━━━━━━━━━━━━━\u001B[0m\u001B[90m╺\u001B[0m\u001B[90m━━━━━━━━━━━━━━━━\u001B[0m \u001B[32m174.2/316.9 MB\u001B[0m \u001B[31m116.1 MB/s\u001B[0m eta \u001B[36m0:00:02\u001B[0m\r\u001B[2K     \u001B[91m━━━━━━━━━━━━━━━━━━━━\u001B[0m\u001B[91m╸\u001B[0m\u001B[90m━━━━━━━━━━━━━━━━\u001B[0m \u001B[32m177.7/316.9 MB\u001B[0m \u001B[31m107.7 MB/s\u001B[0m eta \u001B[36m0:00:02\u001B[0m\r\u001B[2K     \u001B[91m━━━━━━━━━━━━━━━━━━━━━\u001B[0m\u001B[90m╺\u001B[0m\u001B[90m━━━━━━━━━━━━━━━\u001B[0m \u001B[32m181.0/316.9 MB\u001B[0m \u001B[31m100.5 MB/s\u001B[0m eta \u001B[36m0:00:02\u001B[0m\r\u001B[2K     \u001B[91m━━━━━━━━━━━━━━━━━━━━━\u001B[0m\u001B[91m╸\u001B[0m\u001B[90m━━━━━━━━━━━━━━━━\u001B[0m \u001B[32m182.8/316.9 MB\u001B[0m \u001B[31m82.9 MB/s\u001B[0m eta \u001B[36m0:00:02\u001B[0m\r\u001B[2K     \u001B[91m━━━━━━━━━━━━━━━━━━━━━━\u001B[0m\u001B[90m╺\u001B[0m\u001B[90m━━━━━━━━━━━━━━━\u001B[0m \u001B[32m184.7/316.9 MB\u001B[0m \u001B[31m71.3 MB/s\u001B[0m eta \u001B[36m0:00:02\u001B[0m\r\u001B[2K     \u001B[91m━━━━━━━━━━━━━━━━━━━━━━\u001B[0m\u001B[90m╺\u001B[0m\u001B[90m━━━━━━━━━━━━━━━\u001B[0m \u001B[32m187.0/316.9 MB\u001B[0m \u001B[31m64.9 MB/s\u001B[0m eta \u001B[36m0:00:03\u001B[0m\r\u001B[2K     \u001B[91m━━━━━━━━━━━━━━━━━━━━━━\u001B[0m\u001B[91m╸\u001B[0m\u001B[90m━━━━━━━━━━━━━━━\u001B[0m \u001B[32m189.8/316.9 MB\u001B[0m \u001B[31m62.5 MB/s\u001B[0m eta \u001B[36m0:00:03\u001B[0m\r\u001B[2K     \u001B[91m━━━━━━━━━━━━━━━━━━━━━━━\u001B[0m\u001B[90m╺\u001B[0m\u001B[90m━━━━━━━━━━━━━━\u001B[0m \u001B[32m192.8/316.9 MB\u001B[0m \u001B[31m66.0 MB/s\u001B[0m eta \u001B[36m0:00:02\u001B[0m\r\u001B[2K     \u001B[91m━━━━━━━━━━━━━━━━━━━━━━━\u001B[0m\u001B[90m╺\u001B[0m\u001B[90m━━━━━━━━━━━━━━\u001B[0m \u001B[32m195.6/316.9 MB\u001B[0m \u001B[31m74.1 MB/s\u001B[0m eta \u001B[36m0:00:02\u001B[0m\r\u001B[2K     \u001B[91m━━━━━━━━━━━━━━━━━━━━━━━\u001B[0m\u001B[91m╸\u001B[0m\u001B[90m━━━━━━━━━━━━━━\u001B[0m \u001B[32m198.8/316.9 MB\u001B[0m \u001B[31m81.5 MB/s\u001B[0m eta \u001B[36m0:00:02\u001B[0m\r\u001B[2K     \u001B[91m━━━━━━━━━━━━━━━━━━━━━━━━\u001B[0m\u001B[90m╺\u001B[0m\u001B[90m━━━━━━━━━━━━━\u001B[0m \u001B[32m201.9/316.9 MB\u001B[0m \u001B[31m83.0 MB/s\u001B[0m eta \u001B[36m0:00:02\u001B[0m\r\u001B[2K     \u001B[91m━━━━━━━━━━━━━━━━━━━━━━━━\u001B[0m\u001B[91m╸\u001B[0m\u001B[90m━━━━━━━━━━━━━\u001B[0m \u001B[32m204.9/316.9 MB\u001B[0m \u001B[31m88.2 MB/s\u001B[0m eta \u001B[36m0:00:02\u001B[0m\r\u001B[2K     \u001B[91m━━━━━━━━━━━━━━━━━━━━━━━━\u001B[0m\u001B[91m╸\u001B[0m\u001B[90m━━━━━━━━━━━━━\u001B[0m \u001B[32m208.1/316.9 MB\u001B[0m \u001B[31m86.5 MB/s\u001B[0m eta \u001B[36m0:00:02\u001B[0m\r\u001B[2K     \u001B[91m━━━━━━━━━━━━━━━━━━━━━━━━━\u001B[0m\u001B[90m╺\u001B[0m\u001B[90m━━━━━━━━━━━━\u001B[0m \u001B[32m211.3/316.9 MB\u001B[0m \u001B[31m87.8 MB/s\u001B[0m eta \u001B[36m0:00:02\u001B[0m\r\u001B[2K     \u001B[91m━━━━━━━━━━━━━━━━━━━━━━━━━\u001B[0m\u001B[91m╸\u001B[0m\u001B[90m━━━━━━━━━━━━\u001B[0m \u001B[32m215.1/316.9 MB\u001B[0m \u001B[31m92.8 MB/s\u001B[0m eta \u001B[36m0:00:02\u001B[0m\r\u001B[2K     \u001B[91m━━━━━━━━━━━━━━━━━━━━━━━━━━\u001B[0m\u001B[90m╺\u001B[0m\u001B[90m━━━━━━━━━━━\u001B[0m \u001B[32m218.3/316.9 MB\u001B[0m \u001B[31m91.7 MB/s\u001B[0m eta \u001B[36m0:00:02\u001B[0m\r\u001B[2K     \u001B[91m━━━━━━━━━━━━━━━━━━━━━━━━━━\u001B[0m\u001B[90m╺\u001B[0m\u001B[90m━━━━━━━━━━━\u001B[0m \u001B[32m220.0/316.9 MB\u001B[0m \u001B[31m78.5 MB/s\u001B[0m eta \u001B[36m0:00:02\u001B[0m\r\u001B[2K     \u001B[91m━━━━━━━━━━━━━━━━━━━━━━━━━━\u001B[0m\u001B[91m╸\u001B[0m\u001B[90m━━━━━━━━━━━\u001B[0m \u001B[32m224.2/316.9 MB\u001B[0m \u001B[31m83.8 MB/s\u001B[0m eta \u001B[36m0:00:02\u001B[0m\r\u001B[2K     \u001B[91m━━━━━━━━━━━━━━━━━━━━━━━━━━━\u001B[0m\u001B[90m╺\u001B[0m\u001B[90m━━━━━━━━━━\u001B[0m \u001B[32m227.9/316.9 MB\u001B[0m \u001B[31m85.3 MB/s\u001B[0m eta \u001B[36m0:00:02\u001B[0m\r\u001B[2K     \u001B[91m━━━━━━━━━━━━━━━━━━━━━━━━━━━\u001B[0m\u001B[90m╺\u001B[0m\u001B[90m━━━━━━━━━\u001B[0m \u001B[32m231.8/316.9 MB\u001B[0m \u001B[31m107.9 MB/s\u001B[0m eta \u001B[36m0:00:01\u001B[0m\r\u001B[2K     \u001B[91m━━━━━━━━━━━━━━━━━━━━━━━━━━━\u001B[0m\u001B[91m╸\u001B[0m\u001B[90m━━━━━━━━━\u001B[0m \u001B[32m235.5/316.9 MB\u001B[0m \u001B[31m107.6 MB/s\u001B[0m eta \u001B[36m0:00:01\u001B[0m\r\u001B[2K     \u001B[91m━━━━━━━━━━━━━━━━━━━━━━━━━━━\u001B[0m\u001B[91m╸\u001B[0m\u001B[90m━━━━━━━━━\u001B[0m \u001B[32m239.1/316.9 MB\u001B[0m \u001B[31m106.4 MB/s\u001B[0m eta \u001B[36m0:00:01\u001B[0m\r\u001B[2K     \u001B[91m━━━━━━━━━━━━━━━━━━━━━━━━━━━━\u001B[0m\u001B[90m╺\u001B[0m\u001B[90m━━━━━━━━\u001B[0m \u001B[32m242.8/316.9 MB\u001B[0m \u001B[31m101.9 MB/s\u001B[0m eta \u001B[36m0:00:01\u001B[0m\r\u001B[2K     \u001B[91m━━━━━━━━━━━━━━━━━━━━━━━━━━━━━\u001B[0m\u001B[91m╸\u001B[0m\u001B[90m━━━━━━━━\u001B[0m \u001B[32m246.4/316.9 MB\u001B[0m \u001B[31m98.8 MB/s\u001B[0m eta \u001B[36m0:00:01\u001B[0m\r\u001B[2K     \u001B[91m━━━━━━━━━━━━━━━━━━━━━━━━━━━━━\u001B[0m\u001B[90m╺\u001B[0m\u001B[90m━━━━━━━\u001B[0m \u001B[32m250.1/316.9 MB\u001B[0m \u001B[31m102.2 MB/s\u001B[0m eta \u001B[36m0:00:01\u001B[0m\r\u001B[2K     \u001B[91m━━━━━━━━━━━━━━━━━━━━━━━━━━━━━\u001B[0m\u001B[91m╸\u001B[0m\u001B[90m━━━━━━━\u001B[0m \u001B[32m254.0/316.9 MB\u001B[0m \u001B[31m103.1 MB/s\u001B[0m eta \u001B[36m0:00:01\u001B[0m\r\u001B[2K     \u001B[91m━━━━━━━━━━━━━━━━━━━━━━━━━━━━━━\u001B[0m\u001B[90m╺\u001B[0m\u001B[90m━━━━━━\u001B[0m \u001B[32m257.5/316.9 MB\u001B[0m \u001B[31m102.9 MB/s\u001B[0m eta \u001B[36m0:00:01\u001B[0m\r\u001B[2K     \u001B[91m━━━━━━━━━━━━━━━━━━━━━━━━━━━━━━\u001B[0m\u001B[91m╸\u001B[0m\u001B[90m━━━━━━\u001B[0m \u001B[32m262.0/316.9 MB\u001B[0m \u001B[31m114.1 MB/s\u001B[0m eta \u001B[36m0:00:01\u001B[0m\r\u001B[2K     \u001B[91m━━━━━━━━━━━━━━━━━━━━━━━━━━━━━━━\u001B[0m\u001B[90m╺\u001B[0m\u001B[90m━━━━━\u001B[0m \u001B[32m265.8/316.9 MB\u001B[0m \u001B[31m114.3 MB/s\u001B[0m eta \u001B[36m0:00:01\u001B[0m\r\u001B[2K     \u001B[91m━━━━━━━━━━━━━━━━━━━━━━━━━━━━━━━\u001B[0m\u001B[90m╺\u001B[0m\u001B[90m━━━━━\u001B[0m \u001B[32m269.3/316.9 MB\u001B[0m \u001B[31m108.8 MB/s\u001B[0m eta \u001B[36m0:00:01\u001B[0m\r\u001B[2K     \u001B[91m━━━━━━━━━━━━━━━━━━━━━━━━━━━━━━━\u001B[0m\u001B[91m╸\u001B[0m\u001B[90m━━━━━\u001B[0m \u001B[32m273.0/316.9 MB\u001B[0m \u001B[31m103.5 MB/s\u001B[0m eta \u001B[36m0:00:01\u001B[0m\r\u001B[2K     \u001B[91m━━━━━━━━━━━━━━━━━━━━━━━━━━━━━━━━\u001B[0m\u001B[90m╺\u001B[0m\u001B[90m━━━━\u001B[0m \u001B[32m277.3/316.9 MB\u001B[0m \u001B[31m107.2 MB/s\u001B[0m eta \u001B[36m0:00:01\u001B[0m\r\u001B[2K     \u001B[91m━━━━━━━━━━━━━━━━━━━━━━━━━━━━━━━━\u001B[0m\u001B[91m╸\u001B[0m\u001B[90m━━━━\u001B[0m \u001B[32m281.9/316.9 MB\u001B[0m \u001B[31m116.6 MB/s\u001B[0m eta \u001B[36m0:00:01\u001B[0m\r\u001B[2K     \u001B[91m━━━━━━━━━━━━━━━━━━━━━━━━━━━━━━━━━\u001B[0m\u001B[90m╺\u001B[0m\u001B[90m━━━\u001B[0m \u001B[32m286.3/316.9 MB\u001B[0m \u001B[31m120.4 MB/s\u001B[0m eta \u001B[36m0:00:01\u001B[0m\r\u001B[2K     \u001B[91m━━━━━━━━━━━━━━━━━━━━━━━━━━━━━━━━━\u001B[0m\u001B[91m╸\u001B[0m\u001B[90m━━━\u001B[0m \u001B[32m290.7/316.9 MB\u001B[0m \u001B[31m116.8 MB/s\u001B[0m eta \u001B[36m0:00:01\u001B[0m\r\u001B[2K     \u001B[91m━━━━━━━━━━━━━━━━━━━━━━━━━━━━━━━━━━\u001B[0m\u001B[90m╺\u001B[0m\u001B[90m━━\u001B[0m \u001B[32m295.0/316.9 MB\u001B[0m \u001B[31m116.6 MB/s\u001B[0m eta \u001B[36m0:00:01\u001B[0m\r\u001B[2K     \u001B[91m━━━━━━━━━━━━━━━━━━━━━━━━━━━━━━━━━━\u001B[0m\u001B[91m╸\u001B[0m\u001B[90m━━\u001B[0m \u001B[32m299.5/316.9 MB\u001B[0m \u001B[31m116.9 MB/s\u001B[0m eta \u001B[36m0:00:01\u001B[0m\r\u001B[2K     \u001B[91m━━━━━━━━━━━━━━━━━━━━━━━━━━━━━━━━━━━\u001B[0m\u001B[90m╺\u001B[0m\u001B[90m━\u001B[0m \u001B[32m303.0/316.9 MB\u001B[0m \u001B[31m109.5 MB/s\u001B[0m eta \u001B[36m0:00:01\u001B[0m\r\u001B[2K     \u001B[91m━━━━━━━━━━━━━━━━━━━━━━━━━━━━━━━━━━━\u001B[0m\u001B[91m╸\u001B[0m\u001B[90m━\u001B[0m \u001B[32m307.0/316.9 MB\u001B[0m \u001B[31m107.6 MB/s\u001B[0m eta \u001B[36m0:00:01\u001B[0m\r\u001B[2K     \u001B[91m━━━━━━━━━━━━━━━━━━━━━━━━━━━━━━━━━━━━\u001B[0m\u001B[90m╺\u001B[0m \u001B[32m311.1/316.9 MB\u001B[0m \u001B[31m107.3 MB/s\u001B[0m eta \u001B[36m0:00:01\u001B[0m\r\u001B[2K     \u001B[91m━━━━━━━━━━━━━━━━━━━━━━━━━━━━━━━━━━━━\u001B[0m\u001B[91m╸\u001B[0m \u001B[32m315.8/316.9 MB\u001B[0m \u001B[31m117.9 MB/s\u001B[0m eta \u001B[36m0:00:01\u001B[0m\r\u001B[2K     \u001B[91m━━━━━━━━━━━━━━━━━━━━━━━━━━━━━━━━━━━━\u001B[0m\u001B[91m╸\u001B[0m \u001B[32m316.9/316.9 MB\u001B[0m \u001B[31m116.4 MB/s\u001B[0m eta \u001B[36m0:00:01\u001B[0m\r\u001B[2K     \u001B[91m━━━━━━━━━━━━━━━━━━━━━━━━━━━━━━━━━━━━\u001B[0m\u001B[91m╸\u001B[0m \u001B[32m316.9/316.9 MB\u001B[0m \u001B[31m116.4 MB/s\u001B[0m eta \u001B[36m0:00:01\u001B[0m\r\u001B[2K     \u001B[91m━━━━━━━━━━━━━━━━━━━━━━━━━━━━━━━━━━━━\u001B[0m\u001B[91m╸\u001B[0m \u001B[32m316.9/316.9 MB\u001B[0m \u001B[31m116.4 MB/s\u001B[0m eta \u001B[36m0:00:01\u001B[0m\r\u001B[2K     \u001B[91m━━━━━━━━━━━━━━━━━━━━━━━━━━━━━━━━━━━━\u001B[0m\u001B[91m╸\u001B[0m \u001B[32m316.9/316.9 MB\u001B[0m \u001B[31m116.4 MB/s\u001B[0m eta \u001B[36m0:00:01\u001B[0m\r\u001B[2K     \u001B[91m━━━━━━━━━━━━━━━━━━━━━━━━━━━━━━━━━━━━\u001B[0m\u001B[91m╸\u001B[0m \u001B[32m316.9/316.9 MB\u001B[0m \u001B[31m116.4 MB/s\u001B[0m eta \u001B[36m0:00:01\u001B[0m\r\u001B[2K     \u001B[91m━━━━━━━━━━━━━━━━━━━━━━━━━━━━━━━━━━━━\u001B[0m\u001B[91m╸\u001B[0m \u001B[32m316.9/316.9 MB\u001B[0m \u001B[31m116.4 MB/s\u001B[0m eta \u001B[36m0:00:01\u001B[0m\r\u001B[2K     \u001B[91m━━━━━━━━━━━━━━━━━━━━━━━━━━━━━━━━━━━━\u001B[0m\u001B[91m╸\u001B[0m \u001B[32m316.9/316.9 MB\u001B[0m \u001B[31m116.4 MB/s\u001B[0m eta \u001B[36m0:00:01\u001B[0m\r\u001B[2K     \u001B[91m━━━━━━━━━━━━━━━━━━━━━━━━━━━━━━━━━━━━\u001B[0m\u001B[91m╸\u001B[0m \u001B[32m316.9/316.9 MB\u001B[0m \u001B[31m116.4 MB/s\u001B[0m eta \u001B[36m0:00:01\u001B[0m\r\u001B[2K     \u001B[91m━━━━━━━━━━━━━━━━━━━━━━━━━━━━━━━━━━━━\u001B[0m\u001B[91m╸\u001B[0m \u001B[32m316.9/316.9 MB\u001B[0m \u001B[31m116.4 MB/s\u001B[0m eta \u001B[36m0:00:01\u001B[0m\r\u001B[2K     \u001B[91m━━━━━━━━━━━━━━━━━━━━━━━━━━━━━━━━━━━━\u001B[0m\u001B[91m╸\u001B[0m \u001B[32m316.9/316.9 MB\u001B[0m \u001B[31m116.4 MB/s\u001B[0m eta \u001B[36m0:00:01\u001B[0m\r\u001B[2K     \u001B[91m━━━━━━━━━━━━━━━━━━━━━━━━━━━━━━━━━━━━\u001B[0m\u001B[91m╸\u001B[0m \u001B[32m316.9/316.9 MB\u001B[0m \u001B[31m116.4 MB/s\u001B[0m eta \u001B[36m0:00:01\u001B[0m\r\u001B[2K     \u001B[91m━━━━━━━━━━━━━━━━━━━━━━━━━━━━━━━━━━━━\u001B[0m\u001B[91m╸\u001B[0m \u001B[32m316.9/316.9 MB\u001B[0m \u001B[31m116.4 MB/s\u001B[0m eta \u001B[36m0:00:01\u001B[0m\r\u001B[2K     \u001B[91m━━━━━━━━━━━━━━━━━━━━━━━━━━━━━━━━━━━━\u001B[0m\u001B[91m╸\u001B[0m \u001B[32m316.9/316.9 MB\u001B[0m \u001B[31m116.4 MB/s\u001B[0m eta \u001B[36m0:00:01\u001B[0m\r\u001B[2K     \u001B[91m━━━━━━━━━━━━━━━━━━━━━━━━━━━━━━━━━━━━\u001B[0m\u001B[91m╸\u001B[0m \u001B[32m316.9/316.9 MB\u001B[0m \u001B[31m116.4 MB/s\u001B[0m eta \u001B[36m0:00:01\u001B[0m\r\u001B[2K     \u001B[91m━━━━━━━━━━━━━━━━━━━━━━━━━━━━━━━━━━━━\u001B[0m\u001B[91m╸\u001B[0m \u001B[32m316.9/316.9 MB\u001B[0m \u001B[31m116.4 MB/s\u001B[0m eta \u001B[36m0:00:01\u001B[0m\r\u001B[2K     \u001B[91m━━━━━━━━━━━━━━━━━━━━━━━━━━━━━━━━━━━━\u001B[0m\u001B[91m╸\u001B[0m \u001B[32m316.9/316.9 MB\u001B[0m \u001B[31m116.4 MB/s\u001B[0m eta \u001B[36m0:00:01\u001B[0m\r\u001B[2K     \u001B[91m━━━━━━━━━━━━━━━━━━━━━━━━━━━━━━━━━━━━\u001B[0m\u001B[91m╸\u001B[0m \u001B[32m316.9/316.9 MB\u001B[0m \u001B[31m116.4 MB/s\u001B[0m eta \u001B[36m0:00:01\u001B[0m\r\u001B[2K     \u001B[91m━━━━━━━━━━━━━━━━━━━━━━━━━━━━━━━━━━━━\u001B[0m\u001B[91m╸\u001B[0m \u001B[32m316.9/316.9 MB\u001B[0m \u001B[31m116.4 MB/s\u001B[0m eta \u001B[36m0:00:01\u001B[0m\r\u001B[2K     \u001B[91m━━━━━━━━━━━━━━━━━━━━━━━━━━━━━━━━━━━━\u001B[0m\u001B[91m╸\u001B[0m \u001B[32m316.9/316.9 MB\u001B[0m \u001B[31m116.4 MB/s\u001B[0m eta \u001B[36m0:00:01\u001B[0m\r\u001B[2K     \u001B[91m━━━━━━━━━━━━━━━━━━━━━━━━━━━━━━━━━━━━\u001B[0m\u001B[91m╸\u001B[0m \u001B[32m316.9/316.9 MB\u001B[0m \u001B[31m116.4 MB/s\u001B[0m eta \u001B[36m0:00:01\u001B[0m\r\u001B[2K     \u001B[91m━━━━━━━━━━━━━━━━━━━━━━━━━━━━━━━━━━━━\u001B[0m\u001B[91m╸\u001B[0m \u001B[32m316.9/316.9 MB\u001B[0m \u001B[31m116.4 MB/s\u001B[0m eta \u001B[36m0:00:01\u001B[0m\r\u001B[2K     \u001B[91m━━━━━━━━━━━━━━━━━━━━━━━━━━━━━━━━━━━━\u001B[0m\u001B[91m╸\u001B[0m \u001B[32m316.9/316.9 MB\u001B[0m \u001B[31m116.4 MB/s\u001B[0m eta \u001B[36m0:00:01\u001B[0m\r\u001B[2K     \u001B[91m━━━━━━━━━━━━━━━━━━━━━━━━━━━━━━━━━━━━\u001B[0m\u001B[91m╸\u001B[0m \u001B[32m316.9/316.9 MB\u001B[0m \u001B[31m116.4 MB/s\u001B[0m eta \u001B[36m0:00:01\u001B[0m\r\u001B[2K     \u001B[91m━━━━━━━━━━━━━━━━━━━━━━━━━━━━━━━━━━━━\u001B[0m\u001B[91m╸\u001B[0m \u001B[32m316.9/316.9 MB\u001B[0m \u001B[31m116.4 MB/s\u001B[0m eta \u001B[36m0:00:01\u001B[0m\r\u001B[2K     \u001B[91m━━━━━━━━━━━━━━━━━━━━━━━━━━━━━━━━━━━━\u001B[0m\u001B[91m╸\u001B[0m \u001B[32m316.9/316.9 MB\u001B[0m \u001B[31m116.4 MB/s\u001B[0m eta \u001B[36m0:00:01\u001B[0m\r\u001B[2K     \u001B[91m━━━━━━━━━━━━━━━━━━━━━━━━━━━━━━━━━━━━\u001B[0m\u001B[91m╸\u001B[0m \u001B[32m316.9/316.9 MB\u001B[0m \u001B[31m116.4 MB/s\u001B[0m eta \u001B[36m0:00:01\u001B[0m\r\u001B[2K     \u001B[91m━━━━━━━━━━━━━━━━━━━━━━━━━━━━━━━━━━━━\u001B[0m\u001B[91m╸\u001B[0m \u001B[32m316.9/316.9 MB\u001B[0m \u001B[31m116.4 MB/s\u001B[0m eta \u001B[36m0:00:01\u001B[0m\r\u001B[2K     \u001B[91m━━━━━━━━━━━━━━━━━━━━━━━━━━━━━━━━━━━━\u001B[0m\u001B[91m╸\u001B[0m \u001B[32m316.9/316.9 MB\u001B[0m \u001B[31m116.4 MB/s\u001B[0m eta \u001B[36m0:00:01\u001B[0m\r\u001B[2K     \u001B[91m━━━━━━━━━━━━━━━━━━━━━━━━━━━━━━━━━━━━\u001B[0m\u001B[91m╸\u001B[0m \u001B[32m316.9/316.9 MB\u001B[0m \u001B[31m116.4 MB/s\u001B[0m eta \u001B[36m0:00:01\u001B[0m\r\u001B[2K     \u001B[91m━━━━━━━━━━━━━━━━━━━━━━━━━━━━━━━━━━━━\u001B[0m\u001B[91m╸\u001B[0m \u001B[32m316.9/316.9 MB\u001B[0m \u001B[31m116.4 MB/s\u001B[0m eta \u001B[36m0:00:01\u001B[0m\r\u001B[2K     \u001B[91m━━━━━━━━━━━━━━━━━━━━━━━━━━━━━━━━━━━━\u001B[0m\u001B[91m╸\u001B[0m \u001B[32m316.9/316.9 MB\u001B[0m \u001B[31m116.4 MB/s\u001B[0m eta \u001B[36m0:00:01\u001B[0m\r\u001B[2K     \u001B[91m━━━━━━━━━━━━━━━━━━━━━━━━━━━━━━━━━━━━\u001B[0m\u001B[91m╸\u001B[0m \u001B[32m316.9/316.9 MB\u001B[0m \u001B[31m116.4 MB/s\u001B[0m eta \u001B[36m0:00:01\u001B[0m\r\u001B[2K     \u001B[91m━━━━━━━━━━━━━━━━━━━━━━━━━━━━━━━━━━━━\u001B[0m\u001B[91m╸\u001B[0m \u001B[32m316.9/316.9 MB\u001B[0m \u001B[31m116.4 MB/s\u001B[0m eta \u001B[36m0:00:01\u001B[0m\r\u001B[2K     \u001B[91m━━━━━━━━━━━━━━━━━━━━━━━━━━━━━━━━━━━━\u001B[0m\u001B[91m╸\u001B[0m \u001B[32m316.9/316.9 MB\u001B[0m \u001B[31m116.4 MB/s\u001B[0m eta \u001B[36m0:00:01\u001B[0m\r\u001B[2K     \u001B[91m━━━━━━━━━━━━━━━━━━━━━━━━━━━━━━━━━━━━\u001B[0m\u001B[91m╸\u001B[0m \u001B[32m316.9/316.9 MB\u001B[0m \u001B[31m116.4 MB/s\u001B[0m eta \u001B[36m0:00:01\u001B[0m\r\u001B[2K     \u001B[91m━━━━━━━━━━━━━━━━━━━━━━━━━━━━━━━━━━━━\u001B[0m\u001B[91m╸\u001B[0m \u001B[32m316.9/316.9 MB\u001B[0m \u001B[31m116.4 MB/s\u001B[0m eta \u001B[36m0:00:01\u001B[0m\r\u001B[2K     \u001B[91m━━━━━━━━━━━━━━━━━━━━━━━━━━━━━━━━━━━━\u001B[0m\u001B[91m╸\u001B[0m \u001B[32m316.9/316.9 MB\u001B[0m \u001B[31m116.4 MB/s\u001B[0m eta \u001B[36m0:00:01\u001B[0m\r\u001B[2K     \u001B[91m━━━━━━━━━━━━━━━━━━━━━━━━━━━━━━━━━━━━\u001B[0m\u001B[91m╸\u001B[0m \u001B[32m316.9/316.9 MB\u001B[0m \u001B[31m116.4 MB/s\u001B[0m eta \u001B[36m0:00:01\u001B[0m\r\u001B[2K     \u001B[91m━━━━━━━━━━━━━━━━━━━━━━━━━━━━━━━━━━━━\u001B[0m\u001B[91m╸\u001B[0m \u001B[32m316.9/316.9 MB\u001B[0m \u001B[31m116.4 MB/s\u001B[0m eta \u001B[36m0:00:01\u001B[0m\r\u001B[2K     \u001B[91m━━━━━━━━━━━━━━━━━━━━━━━━━━━━━━━━━━━━\u001B[0m\u001B[91m╸\u001B[0m \u001B[32m316.9/316.9 MB\u001B[0m \u001B[31m116.4 MB/s\u001B[0m eta \u001B[36m0:00:01\u001B[0m\r\u001B[2K     \u001B[91m━━━━━━━━━━━━━━━━━━━━━━━━━━━━━━━━━━━━\u001B[0m\u001B[91m╸\u001B[0m \u001B[32m316.9/316.9 MB\u001B[0m \u001B[31m116.4 MB/s\u001B[0m eta \u001B[36m0:00:01\u001B[0m\r\u001B[2K     \u001B[91m━━━━━━━━━━━━━━━━━━━━━━━━━━━━━━━━━━━━\u001B[0m\u001B[91m╸\u001B[0m \u001B[32m316.9/316.9 MB\u001B[0m \u001B[31m116.4 MB/s\u001B[0m eta \u001B[36m0:00:01\u001B[0m\r\u001B[2K     \u001B[91m━━━━━━━━━━━━━━━━━━━━━━━━━━━━━━━━━━━━\u001B[0m\u001B[91m╸\u001B[0m \u001B[32m316.9/316.9 MB\u001B[0m \u001B[31m116.4 MB/s\u001B[0m eta \u001B[36m0:00:01\u001B[0m\r\u001B[2K     \u001B[91m━━━━━━━━━━━━━━━━━━━━━━━━━━━━━━━━━━━━\u001B[0m\u001B[91m╸\u001B[0m \u001B[32m316.9/316.9 MB\u001B[0m \u001B[31m116.4 MB/s\u001B[0m eta \u001B[36m0:00:01\u001B[0m\r\u001B[2K     \u001B[91m━━━━━━━━━━━━━━━━━━━━━━━━━━━━━━━━━━━━\u001B[0m\u001B[91m╸\u001B[0m \u001B[32m316.9/316.9 MB\u001B[0m \u001B[31m116.4 MB/s\u001B[0m eta \u001B[36m0:00:01\u001B[0m\r\u001B[2K     \u001B[91m━━━━━━━━━━━━━━━━━━━━━━━━━━━━━━━━━━━━\u001B[0m\u001B[91m╸\u001B[0m \u001B[32m316.9/316.9 MB\u001B[0m \u001B[31m116.4 MB/s\u001B[0m eta \u001B[36m0:00:01\u001B[0m\r\u001B[2K     \u001B[91m━━━━━━━━━━━━━━━━━━━━━━━━━━━━━━━━━━━━\u001B[0m\u001B[91m╸\u001B[0m \u001B[32m316.9/316.9 MB\u001B[0m \u001B[31m116.4 MB/s\u001B[0m eta \u001B[36m0:00:01\u001B[0m\r\u001B[2K     \u001B[91m━━━━━━━━━━━━━━━━━━━━━━━━━━━━━━━━━━━━\u001B[0m\u001B[91m╸\u001B[0m \u001B[32m316.9/316.9 MB\u001B[0m \u001B[31m116.4 MB/s\u001B[0m eta \u001B[36m0:00:01\u001B[0m\r\u001B[2K     \u001B[91m━━━━━━━━━━━━━━━━━━━━━━━━━━━━━━━━━━━━\u001B[0m\u001B[91m╸\u001B[0m \u001B[32m316.9/316.9 MB\u001B[0m \u001B[31m116.4 MB/s\u001B[0m eta \u001B[36m0:00:01\u001B[0m\r\u001B[2K     \u001B[91m━━━━━━━━━━━━━━━━━━━━━━━━━━━━━━━━━━━━\u001B[0m\u001B[91m╸\u001B[0m \u001B[32m316.9/316.9 MB\u001B[0m \u001B[31m116.4 MB/s\u001B[0m eta \u001B[36m0:00:01\u001B[0m\r\u001B[2K     \u001B[91m━━━━━━━━━━━━━━━━━━━━━━━━━━━━━━━━━━━━\u001B[0m\u001B[91m╸\u001B[0m \u001B[32m316.9/316.9 MB\u001B[0m \u001B[31m116.4 MB/s\u001B[0m eta \u001B[36m0:00:01\u001B[0m\r\u001B[2K     \u001B[91m━━━━━━━━━━━━━━━━━━━━━━━━━━━━━━━━━━━━\u001B[0m\u001B[91m╸\u001B[0m \u001B[32m316.9/316.9 MB\u001B[0m \u001B[31m116.4 MB/s\u001B[0m eta \u001B[36m0:00:01\u001B[0m\r\u001B[2K     \u001B[91m━━━━━━━━━━━━━━━━━━━━━━━━━━━━━━━━━━━━\u001B[0m\u001B[91m╸\u001B[0m \u001B[32m316.9/316.9 MB\u001B[0m \u001B[31m116.4 MB/s\u001B[0m eta \u001B[36m0:00:01\u001B[0m\r\u001B[2K     \u001B[91m━━━━━━━━━━━━━━━━━━━━━━━━━━━━━━━━━━━━\u001B[0m\u001B[91m╸\u001B[0m \u001B[32m316.9/316.9 MB\u001B[0m \u001B[31m116.4 MB/s\u001B[0m eta \u001B[36m0:00:01\u001B[0m\r\u001B[2K     \u001B[91m━━━━━━━━━━━━━━━━━━━━━━━━━━━━━━━━━━━━\u001B[0m\u001B[91m╸\u001B[0m \u001B[32m316.9/316.9 MB\u001B[0m \u001B[31m116.4 MB/s\u001B[0m eta \u001B[36m0:00:01\u001B[0m\r\u001B[2K     \u001B[91m━━━━━━━━━━━━━━━━━━━━━━━━━━━━━━━━━━━━\u001B[0m\u001B[91m╸\u001B[0m \u001B[32m316.9/316.9 MB\u001B[0m \u001B[31m116.4 MB/s\u001B[0m eta \u001B[36m0:00:01\u001B[0m\r\u001B[2K     \u001B[91m━━━━━━━━━━━━━━━━━━━━━━━━━━━━━━━━━━━━\u001B[0m\u001B[91m╸\u001B[0m \u001B[32m316.9/316.9 MB\u001B[0m \u001B[31m116.4 MB/s\u001B[0m eta \u001B[36m0:00:01\u001B[0m\r\u001B[2K     \u001B[91m━━━━━━━━━━━━━━━━━━━━━━━━━━━━━━━━━━━━\u001B[0m\u001B[91m╸\u001B[0m \u001B[32m316.9/316.9 MB\u001B[0m \u001B[31m116.4 MB/s\u001B[0m eta \u001B[36m0:00:01\u001B[0m\r\u001B[2K     \u001B[91m━━━━━━━━━━━━━━━━━━━━━━━━━━━━━━━━━━━━\u001B[0m\u001B[91m╸\u001B[0m \u001B[32m316.9/316.9 MB\u001B[0m \u001B[31m116.4 MB/s\u001B[0m eta \u001B[36m0:00:01\u001B[0m\r\u001B[2K     \u001B[91m━━━━━━━━━━━━━━━━━━━━━━━━━━━━━━━━━━━━\u001B[0m\u001B[91m╸\u001B[0m \u001B[32m316.9/316.9 MB\u001B[0m \u001B[31m116.4 MB/s\u001B[0m eta \u001B[36m0:00:01\u001B[0m\r\u001B[2K     \u001B[91m━━━━━━━━━━━━━━━━━━━━━━━━━━━━━━━━━━━━\u001B[0m\u001B[91m╸\u001B[0m \u001B[32m316.9/316.9 MB\u001B[0m \u001B[31m116.4 MB/s\u001B[0m eta \u001B[36m0:00:01\u001B[0m\r\u001B[2K     \u001B[91m━━━━━━━━━━━━━━━━━━━━━━━━━━━━━━━━━━━━\u001B[0m\u001B[91m╸\u001B[0m \u001B[32m316.9/316.9 MB\u001B[0m \u001B[31m116.4 MB/s\u001B[0m eta \u001B[36m0:00:01\u001B[0m\r\u001B[2K     \u001B[91m━━━━━━━━━━━━━━━━━━━━━━━━━━━━━━━━━━━━\u001B[0m\u001B[91m╸\u001B[0m \u001B[32m316.9/316.9 MB\u001B[0m \u001B[31m116.4 MB/s\u001B[0m eta \u001B[36m0:00:01\u001B[0m\r\u001B[2K     \u001B[91m━━━━━━━━━━━━━━━━━━━━━━━━━━━━━━━━━━━━\u001B[0m\u001B[91m╸\u001B[0m \u001B[32m316.9/316.9 MB\u001B[0m \u001B[31m116.4 MB/s\u001B[0m eta \u001B[36m0:00:01\u001B[0m\r\u001B[2K     \u001B[91m━━━━━━━━━━━━━━━━━━━━━━━━━━━━━━━━━━━━\u001B[0m\u001B[91m╸\u001B[0m \u001B[32m316.9/316.9 MB\u001B[0m \u001B[31m116.4 MB/s\u001B[0m eta \u001B[36m0:00:01\u001B[0m\r\u001B[2K     \u001B[91m━━━━━━━━━━━━━━━━━━━━━━━━━━━━━━━━━━━━\u001B[0m\u001B[91m╸\u001B[0m \u001B[32m316.9/316.9 MB\u001B[0m \u001B[31m116.4 MB/s\u001B[0m eta \u001B[36m0:00:01\u001B[0m\r\u001B[2K     \u001B[91m━━━━━━━━━━━━━━━━━━━━━━━━━━━━━━━━━━━━\u001B[0m\u001B[91m╸\u001B[0m \u001B[32m316.9/316.9 MB\u001B[0m \u001B[31m116.4 MB/s\u001B[0m eta \u001B[36m0:00:01\u001B[0m\r\u001B[2K     \u001B[91m━━━━━━━━━━━━━━━━━━━━━━━━━━━━━━━━━━━━\u001B[0m\u001B[91m╸\u001B[0m \u001B[32m316.9/316.9 MB\u001B[0m \u001B[31m116.4 MB/s\u001B[0m eta \u001B[36m0:00:01\u001B[0m\r\u001B[2K     \u001B[91m━━━━━━━━━━━━━━━━━━━━━━━━━━━━━━━━━━━━\u001B[0m\u001B[91m╸\u001B[0m \u001B[32m316.9/316.9 MB\u001B[0m \u001B[31m116.4 MB/s\u001B[0m eta \u001B[36m0:00:01\u001B[0m\r\u001B[2K     \u001B[91m━━━━━━━━━━━━━━━━━━━━━━━━━━━━━━━━━━━━\u001B[0m\u001B[91m╸\u001B[0m \u001B[32m316.9/316.9 MB\u001B[0m \u001B[31m116.4 MB/s\u001B[0m eta \u001B[36m0:00:01\u001B[0m\r\u001B[2K     \u001B[91m━━━━━━━━━━━━━━━━━━━━━━━━━━━━━━━━━━━━\u001B[0m\u001B[91m╸\u001B[0m \u001B[32m316.9/316.9 MB\u001B[0m \u001B[31m116.4 MB/s\u001B[0m eta \u001B[36m0:00:01\u001B[0m\r\u001B[2K     \u001B[91m━━━━━━━━━━━━━━━━━━━━━━━━━━━━━━━━━━━━\u001B[0m\u001B[91m╸\u001B[0m \u001B[32m316.9/316.9 MB\u001B[0m \u001B[31m116.4 MB/s\u001B[0m eta \u001B[36m0:00:01\u001B[0m\r\u001B[2K     \u001B[91m━━━━━━━━━━━━━━━━━━━━━━━━━━━━━━━━━━━━\u001B[0m\u001B[91m╸\u001B[0m \u001B[32m316.9/316.9 MB\u001B[0m \u001B[31m116.4 MB/s\u001B[0m eta \u001B[36m0:00:01\u001B[0m\r\u001B[2K     \u001B[90m━━━━━━━━━━━━━━━━━━━━━━━━━━━━━━━━━━━━━━━\u001B[0m \u001B[32m316.9/316.9 MB\u001B[0m \u001B[31m3.5 MB/s\u001B[0m eta \u001B[36m0:00:00\u001B[0m\r\n\u001B[?25h  Preparing metadata (setup.py) ... \u001B[?25l-\b \b\\\b \bdone\r\n\u001B[?25hCollecting py4j==0.10.9.7\r\n  Downloading py4j-0.10.9.7-py2.py3-none-any.whl (200 kB)\r\n\u001B[?25l     \u001B[90m━━━━━━━━━━━━━━━━━━━━━━━━━━━━━━━━━━━━━━━━\u001B[0m \u001B[32m0.0/200.5 kB\u001B[0m \u001B[31m?\u001B[0m eta \u001B[36m-:--:--\u001B[0m\r\u001B[2K     \u001B[90m━━━━━━━━━━━━━━━━━━━━━━━━━━━━━━━━━━━━━━\u001B[0m \u001B[32m200.5/200.5 kB\u001B[0m \u001B[31m22.2 MB/s\u001B[0m eta \u001B[36m0:00:00\u001B[0m\r\n\u001B[?25hBuilding wheels for collected packages: pyspark\r\n  Building wheel for pyspark (setup.py) ... \u001B[?25l-\b \b\\\b \b|\b \b/\b \b-\b \b\\\b \b|\b \b/\b \b-\b \b\\\b \b|\b \b/\b \b-\b \b\\\b \b|\b \b/\b \b-\b \b\\\b \b|\b \b/\b \b-\b \b\\\b \b|\b \b/\b \b-\b \b\\\b \b|\b \b/\b \b-\b \b\\\b \b|\b \b/\b \b-\b \b\\\b \b|\b \b/\b \b-\b \b\\\b \b|\b \b/\b \b-\b \b\\\b \b|\b \b/\b \b-\b \b\\\b \b|\b \b/\b \b-\b \b\\\b \b|\b \b/\b \b-\b \b\\\b \b|\b \b/\b \b-\b \b\\\b \b|\b \b/\b \b-\b \b\\\b \b|\b \b/\b \b-\b \b\\\b \b|\b \b/\b \bdone\r\n\u001B[?25h  Created wheel for pyspark: filename=pyspark-3.5.0-py2.py3-none-any.whl size=317425350 sha256=aeb0aa454a34ff846effa95ac0de814edeccacac089e8a4a3ead9ffe11fa5c7b\r\n  Stored in directory: /home/spark-3044921f-02e5-4006-903b-fe/.cache/pip/wheels/41/4e/10/c2cf2467f71c678cfc8a6b9ac9241e5e44a01940da8fbb17fc\r\nSuccessfully built pyspark\r\nInstalling collected packages: py4j, pyspark\r\nSuccessfully installed py4j-0.10.9.7 pyspark-3.5.0\r\n\r\n\u001B[1m[\u001B[0m\u001B[34;49mnotice\u001B[0m\u001B[1;39;49m]\u001B[0m\u001B[39;49m A new release of pip available: \u001B[0m\u001B[31;49m22.2.2\u001B[0m\u001B[39;49m -> \u001B[0m\u001B[32;49m23.3\u001B[0m\r\n\u001B[1m[\u001B[0m\u001B[34;49mnotice\u001B[0m\u001B[1;39;49m]\u001B[0m\u001B[39;49m To update, run: \u001B[0m\u001B[32;49mpip install --upgrade pip\u001B[0m\r\n"
     ]
    }
   ],
   "source": [
    "!pip install clarifai==9.9.3\n",
    "!pip install pyspark"
   ]
  },
  {
   "cell_type": "code",
   "execution_count": 0,
   "metadata": {
    "application/vnd.databricks.v1+cell": {
     "cellMetadata": {
      "byteLimit": 2048000,
      "rowLimit": 10000
     },
     "inputWidgets": {},
     "nuid": "2cb25f83-599a-4835-a6e1-1d51d06a756c",
     "showTitle": false,
     "title": ""
    }
   },
   "outputs": [
    {
     "output_type": "stream",
     "name": "stdout",
     "output_type": "stream",
     "text": [
      "Collecting protobuf==4.24.2\r\n  Downloading protobuf-4.24.2-cp37-abi3-manylinux2014_x86_64.whl (311 kB)\r\n\u001B[?25l     \u001B[90m━━━━━━━━━━━━━━━━━━━━━━━━━━━━━━━━━━━━━━━━\u001B[0m \u001B[32m0.0/311.4 kB\u001B[0m \u001B[31m?\u001B[0m eta \u001B[36m-:--:--\u001B[0m\r\u001B[2K     \u001B[91m━━━━━━━━━\u001B[0m\u001B[90m╺\u001B[0m\u001B[90m━━━━━━━━━━━━━━━━━━━━━━━━━━━━━━\u001B[0m \u001B[32m71.7/311.4 kB\u001B[0m \u001B[31m2.0 MB/s\u001B[0m eta \u001B[36m0:00:01\u001B[0m\r\u001B[2K     \u001B[90m━━━━━━━━━━━━━━━━━━━━━━━━━━━━━━━━━━━━━━━\u001B[0m \u001B[32m311.4/311.4 kB\u001B[0m \u001B[31m5.4 MB/s\u001B[0m eta \u001B[36m0:00:00\u001B[0m\r\n\u001B[?25hInstalling collected packages: protobuf\r\n  Attempting uninstall: protobuf\r\n    Found existing installation: protobuf 4.24.4\r\n    Uninstalling protobuf-4.24.4:\r\n      Successfully uninstalled protobuf-4.24.4\r\nSuccessfully installed protobuf-4.24.2\r\n\r\n\u001B[1m[\u001B[0m\u001B[34;49mnotice\u001B[0m\u001B[1;39;49m]\u001B[0m\u001B[39;49m A new release of pip available: \u001B[0m\u001B[31;49m22.2.2\u001B[0m\u001B[39;49m -> \u001B[0m\u001B[32;49m23.3\u001B[0m\r\n\u001B[1m[\u001B[0m\u001B[34;49mnotice\u001B[0m\u001B[1;39;49m]\u001B[0m\u001B[39;49m To update, run: \u001B[0m\u001B[32;49mpip install --upgrade pip\u001B[0m\r\nName: protobuf\r\nVersion: 4.24.2\r\nSummary: \r\nHome-page: https://developers.google.com/protocol-buffers/\r\nAuthor: protobuf@googlegroups.com\r\nAuthor-email: protobuf@googlegroups.com\r\nLicense: 3-Clause BSD License\r\nLocation: /local_disk0/.ephemeral_nfs/envs/pythonEnv-3044921f-02e5-4006-903b-fe81fd6a87ff/lib/python3.10/site-packages\r\nRequires: \r\nRequired-by: clarifai-grpc, facets-overview, googleapis-common-protos, grpcio-status\r\n"
     ]
    }
   ],
   "source": [
    "!pip install protobuf==4.24.2\n",
    "!pip show protobuf\n",
    "dbutils.library.restartPython() \n",
    "     "
   ]
  },
  {
   "cell_type": "markdown",
   "metadata": {
    "application/vnd.databricks.v1+cell": {
     "cellMetadata": {},
     "inputWidgets": {},
     "nuid": "6b3955e6-9088-4c3c-a0d2-8f860a01588e",
     "showTitle": false,
     "title": ""
    }
   },
   "source": [
    "# Writing ClarifaiPySpark SDK functions"
   ]
  },
  {
   "cell_type": "markdown",
   "metadata": {
    "application/vnd.databricks.v1+cell": {
     "cellMetadata": {},
     "inputWidgets": {},
     "nuid": "f40014f9-5b31-4b14-8ec1-55b669b14f09",
     "showTitle": false,
     "title": ""
    }
   },
   "source": [
    "### ClarifaiPySpark Dataset class"
   ]
  },
  {
   "cell_type": "code",
   "execution_count": 0,
   "metadata": {
    "application/vnd.databricks.v1+cell": {
     "cellMetadata": {
      "byteLimit": 2048000,
      "rowLimit": 10000
     },
     "inputWidgets": {},
     "nuid": "ce874369-42f1-4323-bff0-6f886b02df3c",
     "showTitle": false,
     "title": ""
    },
    "jupyter": {
     "source_hidden": true
    }
   },
   "outputs": [
    {
     "output_type": "display_data",
     "data": {
      "text/html": [
       "<pre style=\"white-space:pre;overflow-x:auto;line-height:normal;font-family:Menlo,'DejaVu Sans Mono',consolas,'Courier New',monospace\"><span style=\"color: #7fbfbf; text-decoration-color: #7fbfbf\">2023-10-19 15:07:04 </span><span style=\"color: #000080; text-decoration-color: #000080\">INFO    </span> INFO:py4j.clientserver:Received command c on object id p0          <a href=\"file:///databricks/spark/python/lib/py4j-0.10.9.7-src.zip/py4j/clientserver.py\" target=\"_blank\"><span style=\"color: #7f7f7f; text-decoration-color: #7f7f7f\">clientserver.py</span></a><span style=\"color: #7f7f7f; text-decoration-color: #7f7f7f\">:</span><a href=\"file:///databricks/spark/python/lib/py4j-0.10.9.7-src.zip/py4j/clientserver.py#575\" target=\"_blank\"><span style=\"color: #7f7f7f; text-decoration-color: #7f7f7f\">575</span></a>\n",
       "</pre>\n"
      ],
      "text/plain": [
       "\u001B[2;36m2023-10-19 15:07:04\u001B[0m\u001B[2;36m \u001B[0m\u001B[34mINFO    \u001B[0m INFO:py4j.clientserver:Received command c on object id p0          \u001B]8;id=908675;file:///databricks/spark/python/lib/py4j-0.10.9.7-src.zip/py4j/clientserver.py\u001B\\\u001B[2mclientserver.py\u001B[0m\u001B]8;;\u001B\\\u001B[2m:\u001B[0m\u001B]8;id=416196;file:///databricks/spark/python/lib/py4j-0.10.9.7-src.zip/py4j/clientserver.py#575\u001B\\\u001B[2m575\u001B[0m\u001B]8;;\u001B\\\n"
      ]
     },
     "metadata": {},
     "output_type": "display_data"
    }
   ],
   "source": [
    "import json\n",
    "import uuid\n",
    "from typing import List\n",
    "import os\n",
    "import time\n",
    "import requests\n",
    "from clarifai.client.app import App\n",
    "from clarifai.client.dataset import Dataset\n",
    "from clarifai.client.input import Inputs\n",
    "from clarifai.client.user import User\n",
    "from clarifai.errors import UserError\n",
    "from clarifai_grpc.grpc.api.resources_pb2 import Text\n",
    "from google.protobuf.json_format import MessageToJson\n",
    "from google.protobuf.struct_pb2 import Struct\n",
    "from pyspark.sql import DataFrame as SparkDataFrame\n",
    "from pyspark.sql import SparkSession\n",
    "\n",
    "\n",
    "class Dataset(Dataset):\n",
    "  \"\"\"Dataset class provides information about dataset of the app and it inherits from the clarifai SDK Dataset class.\"\"\"\n",
    "\n",
    "  def __init__(self, user_id: str = \"\", app_id: str = \"\", dataset_id: str = \"\"):\n",
    "    \"\"\"Initializes the Dataset object.\n",
    "\n",
    "    Args:\n",
    "        user_id (str): The clarifai user ID of the user.\n",
    "        app_id (str): Clarifai App ID.\n",
    "        dataset_id (str): Dataset ID of the dataset inside the clarifai App.\n",
    "\n",
    "    Example: TODO\n",
    "    \"\"\"\n",
    "    self.user = User(user_id=user_id)\n",
    "    self.app = App(app_id=app_id)\n",
    "    #Inputs object - for listannotations\n",
    "    #input_obj = User(user_id=\"user_id\").app(app_id=\"app_id\").inputs()\n",
    "    self.user_id = user_id\n",
    "    self.app_id = app_id\n",
    "    self.dataset_id = dataset_id\n",
    "    super().__init__(user_id=user_id, app_id=app_id, dataset_id=dataset_id)\n",
    "\n",
    "  def upload_dataset_from_csv(self,\n",
    "                              csv_path: str = \"\",\n",
    "                              input_type: str = 'text',\n",
    "                              csv_type: str = None,\n",
    "                              labels: bool = True,\n",
    "                              chunk_size: int = 128) -> None:\n",
    "    \"\"\"Uploads dataset into clarifai app from the csv file path.\n",
    "\n",
    "    Args:\n",
    "        csv_path (str): CSV file path of the dataset to be uploaded into clarifai App.\n",
    "        input_type (str): Input type of the dataset whether (Image, text).\n",
    "        csv_type (str): Type of the csv file contents(url, raw, filepath).\n",
    "        labels (bool): Give True if labels column present in dataset else False.\n",
    "        chunk_size (int): chunk size of parallel uploads of inputs and annotations.\n",
    "\n",
    "    Example: TODO\n",
    "\n",
    "    Note:\n",
    "        CSV file supports 'inputid', 'input', 'concepts', 'metadata', 'geopoints' columns.\n",
    "        All the data in the CSV should be in double quotes.\n",
    "        metadata should be in single quotes format. Example: \"{'key': 'value'}\"\n",
    "        geopoints should be in \"long,lat\" format.\n",
    "\n",
    "    \"\"\"\n",
    "    ### TODO: Can input column names & extract them to convert to our csv format\n",
    "    self.upload_from_csv(\n",
    "        csv_path=csv_path,\n",
    "        input_type=input_type,\n",
    "        csv_type=csv_type,\n",
    "        labels=labels,\n",
    "        chunk_size=chunk_size)\n",
    "\n",
    "  def upload_dataset_from_folder(self,\n",
    "                                 folder_path: str,\n",
    "                                 input_type: str,\n",
    "                                 labels: bool = False,\n",
    "                                 chunk_size: int = 128) -> None:\n",
    "    \"\"\"Uploads dataset from folder into clarifai app.\n",
    "\n",
    "    Args:\n",
    "        folder_path (str): folder path of the dataset to be uploaded into clarifai App.\n",
    "        input_type (str): Input type of the dataset whether (Image, text).\n",
    "        labels (bool): Give True if labels column present in dataset else False.\n",
    "        chunk_size (int): chunk size of parallel uploads of inputs and annotations.\n",
    "\n",
    "    Example: TODO\n",
    "\n",
    "    Note:\n",
    "        Can provide a volume or S3 path to the folder\n",
    "        If label is true, then folder name is class name (label)\n",
    "    \"\"\"\n",
    "\n",
    "    self.upload_from_folder(\n",
    "        folder_path=folder_path, input_type=input_type, labels=labels, chunk_size=chunk_size)\n",
    "\n",
    "  def get_inputs_from_dataframe(self,\n",
    "                                dataframe,\n",
    "                                input_type: str,\n",
    "                                df_type: str,\n",
    "                                dataset_id: str = None,\n",
    "                                labels: str = True) -> List[Text]:\n",
    "    input_protos = []\n",
    "    input_obj = Inputs(user_id=self.user_id, app_id=self.app_id)\n",
    "\n",
    "    for row in dataframe.collect():\n",
    "      if labels:\n",
    "        labels_list = row[\"concepts\"].split(',')\n",
    "        labels = labels_list if len(row['concepts']) > 0 else None\n",
    "      else:\n",
    "        labels = None\n",
    "\n",
    "      if 'metadata' in dataframe.columns:\n",
    "        if row['metadata'] is not None and len(row['metadata']) > 0:\n",
    "          metadata_str = row['metadata'].replace(\"'\", '\"')\n",
    "          try:\n",
    "            metadata_dict = json.loads(metadata_str)\n",
    "          except json.decoder.JSONDecodeError:\n",
    "            raise UserError(\"metadata column in CSV file should be a valid json\")\n",
    "          metadata = Struct()\n",
    "          metadata.update(metadata_dict)\n",
    "        else:\n",
    "          metadata = None\n",
    "      else:\n",
    "        metadata = None\n",
    "\n",
    "      if 'geopoints' in dataframe.columns:\n",
    "        if row['geopoints'] is not None and len(row['geopoints']) > 0:\n",
    "          geo_points = row['geopoints'].split(',')\n",
    "          geo_points = [float(geo_point) for geo_point in geo_points]\n",
    "          geo_info = geo_points if len(geo_points) == 2 else UserError(\n",
    "              \"geopoints column in CSV file should have longitude,latitude\")\n",
    "        else:\n",
    "          geo_info = None\n",
    "      else:\n",
    "        geo_info = None\n",
    "\n",
    "      input_id = uuid.uuid4().hex\n",
    "      text = row[\"input\"] if input_type == 'text' else None\n",
    "      image = row['input'] if input_type == 'image' else None\n",
    "      video = row['input'] if input_type == 'video' else None\n",
    "      audio = row['input'] if input_type == 'audio' else None\n",
    "\n",
    "      if df_type == 'raw':\n",
    "        input_protos.append(\n",
    "            input_obj.get_text_input(\n",
    "                input_id=input_id,\n",
    "                raw_text=text,\n",
    "                dataset_id=dataset_id,\n",
    "                labels=labels,\n",
    "                geo_info=geo_info))\n",
    "      elif df_type == 'url':\n",
    "        input_protos.append(\n",
    "            input_obj.get_input_from_url(\n",
    "                input_id=input_id,\n",
    "                image_url=image,\n",
    "                text_url=text,\n",
    "                audio_url=audio,\n",
    "                video_url=video,\n",
    "                dataset_id=dataset_id,\n",
    "                labels=labels,\n",
    "                geo_info=geo_info))\n",
    "      else:\n",
    "        input_protos.append(\n",
    "            input_obj.get_input_from_file(\n",
    "                input_id=input_id,\n",
    "                image_file=image,\n",
    "                text_file=text,\n",
    "                audio_file=audio,\n",
    "                video_file=video,\n",
    "                dataset_id=dataset_id,\n",
    "                labels=labels,\n",
    "                geo_info=geo_info))\n",
    "\n",
    "    return input_protos\n",
    "\n",
    "  def upload_from_dataframe(self,\n",
    "                            dataframe,\n",
    "                            input_type: str,\n",
    "                            df_type: str = None,\n",
    "                            labels: bool = True,\n",
    "                            chunk_size: int = 128) -> None:\n",
    "\n",
    "    if input_type not in ['image', 'text', 'video', 'audio']:\n",
    "      raise UserError('Invalid input type, it should be image,text,audio or video')\n",
    "\n",
    "    if df_type not in ['raw', 'url', 'file_path']:\n",
    "      raise UserError('Invalid csv type, it should be raw, url or file_path')\n",
    "\n",
    "    if df_type == 'raw' and input_type != 'text':\n",
    "      raise UserError('Only text input type is supported for raw csv type')\n",
    "\n",
    "    if not isinstance(dataframe, SparkDataFrame):\n",
    "      raise UserError('dataframe should be a Spark DataFrame')\n",
    "\n",
    "    chunk_size = min(128, chunk_size)\n",
    "    input_obj = input_obj = Inputs(user_id=self.user_id, app_id=self.app_id)\n",
    "    input_protos = self.get_inputs_from_dataframe(\n",
    "        dataframe=dataframe,\n",
    "        df_type=df_type,\n",
    "        input_type=input_type,\n",
    "        dataset_id=self.dataset_id,\n",
    "        labels=labels)\n",
    "    return (input_obj._bulk_upload(inputs=input_protos, chunk_size=chunk_size))\n",
    "\n",
    "  def upload_dataset_from_dataloader(self,\n",
    "                                     task: str,\n",
    "                                     split: str,\n",
    "                                     module_dir: str = None,\n",
    "                                     dataset_loader: str = None,\n",
    "                                     chunk_size: int = 128) -> None:\n",
    "    \"\"\"Uploads dataset using a dataloader function for custom formats.\n",
    "\n",
    "    Args:\n",
    "        task (str): task type(text_clf, visual-classification, visual_detection, visual_segmentation, visual-captioning).\n",
    "        split (str): split type(train, test, val).\n",
    "        module_dir (str): path to the module directory.\n",
    "        dataset_loader (str): name of the dataset loader.\n",
    "        chunk_size (int): chunk size for concurrent upload of inputs and annotations.\n",
    "\n",
    "    Example: TODO\n",
    "    \"\"\"\n",
    "    self.upload_dataset(task, split, module_dir, dataset_loader, chunk_size)\n",
    "\n",
    "  def upload_dataset_from_table(self,\n",
    "                                table_path: str,\n",
    "                                task: str,\n",
    "                                split: str,\n",
    "                                input_type: str,\n",
    "                                table_type: str,\n",
    "                                labels: bool,\n",
    "                                module_dir: str = None,\n",
    "                                dataset_loader=None,\n",
    "                                chunk_size: int = 128) -> None:\n",
    "    \"\"\"upload dataset into clarifai app from spark tables.\n",
    "\n",
    "    Args:\n",
    "        table_path (str): path of the table to be uploaded.\n",
    "        task (str):\n",
    "        split (str):\n",
    "        input_type (str): Input type of the dataset whether (Image, text).\n",
    "        table_type (str): Type of the table contents (url, raw, filepath).\n",
    "        labels (bool): Give True if labels column present in dataset else False.\n",
    "        module_dir (str): path to the module directory.\n",
    "        dataset_loader (str): name of the dataset loader.\n",
    "        chunk_size (int): chunk size for concurrent upload of inputs and annotations.\n",
    "    Note:\n",
    "        Accepted csv format - input, label\n",
    "        TODO: dataframe dataloader template\n",
    "        TODO: Can input column names & extreact them to convert to our csv format\n",
    "    \"\"\"\n",
    "\n",
    "    if dataset_loader:\n",
    "      self.upload_dataset(task, split, module_dir, dataset_loader, chunk_size)\n",
    "\n",
    "    else:\n",
    "      # df = sqlContext.table(table_path)\n",
    "      csv_path = \"./\"\n",
    "      # df.write.option(\"header\", True).option(\"delimiter\",\",\").csv(csv_path)\n",
    "      spark = SparkSession.builder.appName('Clarifai-spark').getOrCreate()\n",
    "      df_delta = spark.read.format(\"delta\").load(table_path)\n",
    "      df_delta.createTempView(\"temporary_view\")\n",
    "      # convert the temporary view into a CSV file\n",
    "      csv_path = table_path.replace(\".delta\", \".csv\")\n",
    "      spark.sql(\"SELECT * FROM temporary_view\").write.option(\"header\",\n",
    "                                                             \"true\").format(\"csv\").save(csv_path)\n",
    "      self.upload_from_csv(\n",
    "          csv_path=csv_path,\n",
    "          input_type=input_type,\n",
    "          csv_type=table_type,\n",
    "          labels=labels,\n",
    "          chunk_size=chunk_size)\n",
    "\n",
    "  def list_inputs_from_dataset(self, per_page: int = None, input_type: str = None):\n",
    "    \"\"\"Lists all the inputs from the app.\n",
    "\n",
    "    Args:\n",
    "        dataset_id (str): dataset_id of which the inputs needs to be listed.\n",
    "        per_page (str): No of response of inputs per page.\n",
    "        input_type (str): Input type that needs to be displayed (text,image)\n",
    "        TODO: Do we need input_type ?, since in our case it is image, so probably we can go with default value of \"image\".\n",
    "\n",
    "    Examples:\n",
    "        TODO\n",
    "\n",
    "    Returns:\n",
    "        list of inputs.\n",
    "        \"\"\"\n",
    "    input_obj = Inputs(user_id=self.user_id, app_id=self.app_id)\n",
    "    return list(\n",
    "        input_obj.list_inputs(\n",
    "            dataset_id=self.dataset_id, input_type=input_type, per_page=per_page))\n",
    "\n",
    "  def list_annotations(self, per_page: int = None, input_type: str = None):\n",
    "    \"\"\"Lists all the annotations for the inputs in the dataset of a clarifai app.\n",
    "\n",
    "    Args:\n",
    "        dataset_id (str): dataset_id of which the inputs needs to be listed.\n",
    "        per_page (str): No of response of inputs per page.\n",
    "        input_type (str): Input type that needs to be displayed (text,image)\n",
    "        TODO: Do we need input_type ?, since in our case it is image, so probably we can go with default value of \"image\".\n",
    "\n",
    "    Examples:\n",
    "        TODO\n",
    "\n",
    "    Returns:\n",
    "        list of annotations.\n",
    "    \"\"\"\n",
    "    ### input_ids: list of input_ids for which user wants annotations\n",
    "    input_obj = Inputs(user_id=self.user_id, app_id=self.app_id)\n",
    "    all_inputs = list(\n",
    "        input_obj.list_inputs(\n",
    "            dataset_id=self.dataset_id, input_type=input_type, per_page=per_page))\n",
    "    return list(input_obj.list_annotations(batch_input=all_inputs))\n",
    "\n",
    "  def export_annotations_to_dataframe(self):\n",
    "    \"\"\"Export all the annotations from clarifai App into spark dataframe.\n",
    "\n",
    "    Examples:\n",
    "        TODO\n",
    "\n",
    "    Returns:\n",
    "        spark dataframe with annotations\"\"\"\n",
    "\n",
    "    annotation_list = []\n",
    "    spark = SparkSession.builder.appName('Clarifai-spark').getOrCreate()\n",
    "    input_obj = Inputs(user_id=self.user_id, app_id=self.app_id)\n",
    "    all_inputs = list(input_obj.list_inputs(dataset_id=self.dataset_id))\n",
    "    response = list(input_obj.list_annotations(batch_input=all_inputs))\n",
    "    for an in response:\n",
    "      temp = {}\n",
    "      temp['annotation'] = json.loads(MessageToJson(an.data))\n",
    "      if not temp['annotation'] or temp['annotation'] == '{}' or temp['annotation'] == {}:\n",
    "        continue\n",
    "      temp['id'] = an.id\n",
    "      temp['user_id'] = an.user_id\n",
    "      temp['input_id'] = an.input_id\n",
    "      created_at = float(f\"{an.created_at.seconds}.{an.created_at.nanos}\")\n",
    "      temp['created_at'] = time.strftime('%m/%d/% %H:%M:%5', time.gmtime(created_at))\n",
    "      modified_at = float(f\"{an.modified_at.seconds}.{an.modified_at.nanos}\")\n",
    "      temp['modified_at'] = time.strftime('%m/%d/% %H:%M:%5', time.gmtime(modified_at))\n",
    "      annotation_list.append(temp)\n",
    "    df = spark.createDataFrame(annotation_list)\n",
    "    return df\n",
    "\n",
    "\n",
    "  def export_images_to_volume(self, path, input_response):\n",
    "    for resp in input_response:\n",
    "        imgid = resp.id\n",
    "        ext = resp.data.image.image_info.format\n",
    "        url = resp.data.image.url\n",
    "        img_name = path+'/'+imgid+'.'+ext.lower()\n",
    "        headers = {\n",
    "            \"Authorization\": f\"Bearer {os.environ['CLARIFAI_PAT']}\"\n",
    "        }\n",
    "        response = requests.get(url, headers=headers)\n",
    "        with open(img_name, \"wb\") as f:\n",
    "            f.write(response.content)\n",
    "\n",
    "\n",
    "  def export_text_to_volume(self, path, input_response):\n",
    "    for resp in input_response:\n",
    "        textid = resp.id\n",
    "        url = resp.data.text.url\n",
    "        file_name = path+'/'+textid+'.txt'\n",
    "        enc = resp.data.text.text_info.encoding\n",
    "        headers = {\n",
    "            \"Authorization\": f\"Bearer {os.environ['CLARIFAI_PAT']}\"\n",
    "        }\n",
    "        response = requests.get(url, headers=headers)\n",
    "        with open(file_name, \"a\", encoding=enc) as f:\n",
    "            f.write(response.content.decode())\n"
   ]
  },
  {
   "cell_type": "markdown",
   "metadata": {
    "application/vnd.databricks.v1+cell": {
     "cellMetadata": {},
     "inputWidgets": {},
     "nuid": "b1930017-2f54-478f-bbdf-264a1f746c65",
     "showTitle": false,
     "title": ""
    }
   },
   "source": [
    "### ClarifaiPySpark Client class"
   ]
  },
  {
   "cell_type": "code",
   "execution_count": 0,
   "metadata": {
    "application/vnd.databricks.v1+cell": {
     "cellMetadata": {
      "byteLimit": 2048000,
      "rowLimit": 10000
     },
     "inputWidgets": {},
     "nuid": "67816333-aec9-4535-9af4-810115231054",
     "showTitle": false,
     "title": ""
    },
    "jupyter": {
     "source_hidden": true
    }
   },
   "outputs": [
    {
     "output_type": "display_data",
     "data": {
      "text/html": [
       "<pre style=\"white-space:pre;overflow-x:auto;line-height:normal;font-family:Menlo,'DejaVu Sans Mono',consolas,'Courier New',monospace\"><span style=\"color: #7fbfbf; text-decoration-color: #7fbfbf\">2023-10-19 15:07:08 </span><span style=\"color: #000080; text-decoration-color: #000080\">INFO    </span> INFO:py4j.clientserver:Received command c on object id p0          <a href=\"file:///databricks/spark/python/lib/py4j-0.10.9.7-src.zip/py4j/clientserver.py\" target=\"_blank\"><span style=\"color: #7f7f7f; text-decoration-color: #7f7f7f\">clientserver.py</span></a><span style=\"color: #7f7f7f; text-decoration-color: #7f7f7f\">:</span><a href=\"file:///databricks/spark/python/lib/py4j-0.10.9.7-src.zip/py4j/clientserver.py#575\" target=\"_blank\"><span style=\"color: #7f7f7f; text-decoration-color: #7f7f7f\">575</span></a>\n",
       "</pre>\n"
      ],
      "text/plain": [
       "\u001B[2;36m2023-10-19 15:07:08\u001B[0m\u001B[2;36m \u001B[0m\u001B[34mINFO    \u001B[0m INFO:py4j.clientserver:Received command c on object id p0          \u001B]8;id=408457;file:///databricks/spark/python/lib/py4j-0.10.9.7-src.zip/py4j/clientserver.py\u001B\\\u001B[2mclientserver.py\u001B[0m\u001B]8;;\u001B\\\u001B[2m:\u001B[0m\u001B]8;id=373917;file:///databricks/spark/python/lib/py4j-0.10.9.7-src.zip/py4j/clientserver.py#575\u001B\\\u001B[2m575\u001B[0m\u001B]8;;\u001B\\\n"
      ]
     },
     "metadata": {},
     "output_type": "display_data"
    }
   ],
   "source": [
    "from clarifai.client.app import App\n",
    "from clarifai.client.base import BaseClient\n",
    "from clarifai.client.user import User\n",
    "\n",
    "# from clarifaipyspark.dataset import Dataset\n",
    "\n",
    "\n",
    "class ClarifaiPySpark(BaseClient):\n",
    "  \"\"\"ClarifaiPySpark inherits the BaseClient class from the clarifai SDK and it initializes the client.\"\"\"\n",
    "\n",
    "  def __init__(self, user_id: str = \"\", app_id: str = \"\"):\n",
    "    \"\"\"Initializes clarifai client object.\n",
    "\n",
    "    Args:\n",
    "      - user_id (str): A user ID for authentication.\n",
    "      - app_id (str): An app ID for the application to interact with.\n",
    "  \"\"\"\n",
    "\n",
    "    self.user = User(user_id=user_id)\n",
    "    self.app = App(app_id=app_id)\n",
    "    self.user_id = user_id\n",
    "    self.app_id = app_id\n",
    "    super().__init__(user_id=user_id, app_id=app_id)\n",
    "\n",
    "  def dataset(self, dataset_id):\n",
    "    \"\"\"Initializes the dataset method with dataset_id.\n",
    "\n",
    "    Args:\n",
    "        dataset_id: The dataset_id within the user app.\n",
    "\n",
    "    Returns:\n",
    "           Dataset object for the dataset_id.\n",
    "      \"\"\"\n",
    "\n",
    "    self.dataset_id = dataset_id\n",
    "    try:\n",
    "      self.app.dataset(dataset_id=dataset_id)\n",
    "    except:\n",
    "      print(\"Creating a new dataset\")\n",
    "      self.app.create_dataset(dataset_id=dataset_id)\n",
    "\n",
    "    return Dataset(dataset_id=dataset_id, user_id=self.user_id, app_id=self.app_id)\n"
   ]
  },
  {
   "cell_type": "markdown",
   "metadata": {
    "application/vnd.databricks.v1+cell": {
     "cellMetadata": {},
     "inputWidgets": {},
     "nuid": "e324b745-65dc-4e9b-ac56-cc307dc32e20",
     "showTitle": false,
     "title": ""
    }
   },
   "source": [
    "# Testing ClarifaiPySpark SDK"
   ]
  },
  {
   "cell_type": "markdown",
   "metadata": {
    "application/vnd.databricks.v1+cell": {
     "cellMetadata": {},
     "inputWidgets": {},
     "nuid": "b49e60e6-14d5-41cf-98bf-c1d3bac0e326",
     "showTitle": false,
     "title": ""
    }
   },
   "source": [
    "### Setting Env variables"
   ]
  },
  {
   "cell_type": "code",
   "execution_count": 0,
   "metadata": {
    "application/vnd.databricks.v1+cell": {
     "cellMetadata": {
      "byteLimit": 2048000,
      "rowLimit": 10000
     },
     "inputWidgets": {},
     "nuid": "c6c40e27-74cc-400c-b287-ef4946ec9f13",
     "showTitle": false,
     "title": ""
    }
   },
   "outputs": [
    {
     "output_type": "display_data",
     "data": {
      "text/html": [
       "<pre style=\"white-space:pre;overflow-x:auto;line-height:normal;font-family:Menlo,'DejaVu Sans Mono',consolas,'Courier New',monospace\"><span style=\"color: #7fbfbf; text-decoration-color: #7fbfbf\">2023-10-19 14:50:40 </span><span style=\"color: #000080; text-decoration-color: #000080\">INFO    </span> INFO:py4j.clientserver:Received command c on object id p0          <a href=\"file:///databricks/spark/python/lib/py4j-0.10.9.7-src.zip/py4j/clientserver.py\" target=\"_blank\"><span style=\"color: #7f7f7f; text-decoration-color: #7f7f7f\">clientserver.py</span></a><span style=\"color: #7f7f7f; text-decoration-color: #7f7f7f\">:</span><a href=\"file:///databricks/spark/python/lib/py4j-0.10.9.7-src.zip/py4j/clientserver.py#575\" target=\"_blank\"><span style=\"color: #7f7f7f; text-decoration-color: #7f7f7f\">575</span></a>\n",
       "</pre>\n"
      ],
      "text/plain": [
       "\u001B[2;36m2023-10-19 14:50:40\u001B[0m\u001B[2;36m \u001B[0m\u001B[34mINFO    \u001B[0m INFO:py4j.clientserver:Received command c on object id p0          \u001B]8;id=909460;file:///databricks/spark/python/lib/py4j-0.10.9.7-src.zip/py4j/clientserver.py\u001B\\\u001B[2mclientserver.py\u001B[0m\u001B]8;;\u001B\\\u001B[2m:\u001B[0m\u001B]8;id=703563;file:///databricks/spark/python/lib/py4j-0.10.9.7-src.zip/py4j/clientserver.py#575\u001B\\\u001B[2m575\u001B[0m\u001B]8;;\u001B\\\n"
      ]
     },
     "metadata": {},
     "output_type": "display_data"
    }
   ],
   "source": [
    "import os\n",
    "\n",
    "os.environ['CLARIFAI_PAT'] = '95978ef1e65e4e1ab8b268e94a49b1e9'"
   ]
  },
  {
   "cell_type": "markdown",
   "metadata": {
    "application/vnd.databricks.v1+cell": {
     "cellMetadata": {},
     "inputWidgets": {},
     "nuid": "f1d7478c-e90a-4060-aeac-4fd9c302e147",
     "showTitle": false,
     "title": ""
    }
   },
   "source": [
    "### Creating ClarifaiPyspark object & creating/fetching image dataset from app"
   ]
  },
  {
   "cell_type": "code",
   "execution_count": 0,
   "metadata": {
    "application/vnd.databricks.v1+cell": {
     "cellMetadata": {
      "byteLimit": 2048000,
      "rowLimit": 10000
     },
     "inputWidgets": {},
     "nuid": "278fbfb8-3a3c-4556-8066-f801c368f7fb",
     "showTitle": false,
     "title": ""
    }
   },
   "outputs": [
    {
     "output_type": "display_data",
     "data": {
      "text/html": [
       "<pre style=\"white-space:pre;overflow-x:auto;line-height:normal;font-family:Menlo,'DejaVu Sans Mono',consolas,'Courier New',monospace\"><span style=\"color: #7fbfbf; text-decoration-color: #7fbfbf\">2023-10-19 15:18:00 </span><span style=\"color: #000080; text-decoration-color: #000080\">INFO    </span> INFO:py4j.clientserver:Received command c on object id p0          <a href=\"file:///databricks/spark/python/lib/py4j-0.10.9.7-src.zip/py4j/clientserver.py\" target=\"_blank\"><span style=\"color: #7f7f7f; text-decoration-color: #7f7f7f\">clientserver.py</span></a><span style=\"color: #7f7f7f; text-decoration-color: #7f7f7f\">:</span><a href=\"file:///databricks/spark/python/lib/py4j-0.10.9.7-src.zip/py4j/clientserver.py#575\" target=\"_blank\"><span style=\"color: #7f7f7f; text-decoration-color: #7f7f7f\">575</span></a>\n",
       "</pre>\n"
      ],
      "text/plain": [
       "\u001B[2;36m2023-10-19 15:18:00\u001B[0m\u001B[2;36m \u001B[0m\u001B[34mINFO    \u001B[0m INFO:py4j.clientserver:Received command c on object id p0          \u001B]8;id=459924;file:///databricks/spark/python/lib/py4j-0.10.9.7-src.zip/py4j/clientserver.py\u001B\\\u001B[2mclientserver.py\u001B[0m\u001B]8;;\u001B\\\u001B[2m:\u001B[0m\u001B]8;id=970693;file:///databricks/spark/python/lib/py4j-0.10.9.7-src.zip/py4j/clientserver.py#575\u001B\\\u001B[2m575\u001B[0m\u001B]8;;\u001B\\\n"
      ]
     },
     "metadata": {},
     "output_type": "display_data"
    }
   ],
   "source": [
    "cspark_obj = ClarifaiPySpark(user_id='mansi_k', app_id='databricks_tester')\n",
    "\n",
    "dataset_obj = cspark_obj.dataset(dataset_id='dataset1')"
   ]
  },
  {
   "cell_type": "markdown",
   "metadata": {
    "application/vnd.databricks.v1+cell": {
     "cellMetadata": {},
     "inputWidgets": {},
     "nuid": "37067eee-62ff-484c-9748-e4a29ae8103c",
     "showTitle": false,
     "title": ""
    }
   },
   "source": [
    "### Fetching current inputs from image dataset"
   ]
  },
  {
   "cell_type": "code",
   "execution_count": 0,
   "metadata": {
    "application/vnd.databricks.v1+cell": {
     "cellMetadata": {
      "byteLimit": 2048000,
      "rowLimit": 10000
     },
     "inputWidgets": {},
     "nuid": "4cca0e26-4d31-4252-9fa1-3a10300bf0f0",
     "showTitle": false,
     "title": ""
    }
   },
   "outputs": [
    {
     "output_type": "display_data",
     "data": {
      "text/html": [
       "<pre style=\"white-space:pre;overflow-x:auto;line-height:normal;font-family:Menlo,'DejaVu Sans Mono',consolas,'Courier New',monospace\"><span style=\"color: #7fbfbf; text-decoration-color: #7fbfbf\">2023-10-19 13:21:49 </span><span style=\"color: #000080; text-decoration-color: #000080\">INFO    </span> INFO:py4j.clientserver:Received command c on object id p0          <a href=\"file:///databricks/spark/python/lib/py4j-0.10.9.7-src.zip/py4j/clientserver.py\" target=\"_blank\"><span style=\"color: #7f7f7f; text-decoration-color: #7f7f7f\">clientserver.py</span></a><span style=\"color: #7f7f7f; text-decoration-color: #7f7f7f\">:</span><a href=\"file:///databricks/spark/python/lib/py4j-0.10.9.7-src.zip/py4j/clientserver.py#575\" target=\"_blank\"><span style=\"color: #7f7f7f; text-decoration-color: #7f7f7f\">575</span></a>\n",
       "</pre>\n"
      ],
      "text/plain": [
       "\u001B[2;36m2023-10-19 13:21:49\u001B[0m\u001B[2;36m \u001B[0m\u001B[34mINFO    \u001B[0m INFO:py4j.clientserver:Received command c on object id p0          \u001B]8;id=300018;file:///databricks/spark/python/lib/py4j-0.10.9.7-src.zip/py4j/clientserver.py\u001B\\\u001B[2mclientserver.py\u001B[0m\u001B]8;;\u001B\\\u001B[2m:\u001B[0m\u001B]8;id=361412;file:///databricks/spark/python/lib/py4j-0.10.9.7-src.zip/py4j/clientserver.py#575\u001B\\\u001B[2m575\u001B[0m\u001B]8;;\u001B\\\n"
      ]
     },
     "metadata": {},
     "output_type": "display_data"
    },
    {
     "output_type": "execute_result",
     "data": {
      "text/plain": [
       "[id: \"c4\"\n",
       " data {\n",
       "   image {\n",
       "     url: \"https://data.clarifai.com/orig/users/mansi_k/apps/databricks_tester/inputs/image/55889a69788a8ff9a4aab1e457f7420f\"\n",
       "     hosted {\n",
       "       prefix: \"https://data.clarifai.com\"\n",
       "       suffix: \"users/mansi_k/apps/databricks_tester/inputs/image/55889a69788a8ff9a4aab1e457f7420f\"\n",
       "       sizes: \"orig\"\n",
       "       sizes: \"tiny\"\n",
       "       sizes: \"small\"\n",
       "       sizes: \"large\"\n",
       "       crossorigin: \"use-credentials\"\n",
       "     }\n",
       "     image_info {\n",
       "       width: 1600\n",
       "       height: 1435\n",
       "       format: \"WebP\"\n",
       "       color_mode: \"YUV\"\n",
       "     }\n",
       "   }\n",
       "   concepts {\n",
       "     id: \"id-cat\"\n",
       "     name: \"cat\"\n",
       "     value: 1\n",
       "     app_id: \"databricks_tester\"\n",
       "   }\n",
       " }\n",
       " created_at {\n",
       "   seconds: 1697705999\n",
       "   nanos: 358281000\n",
       " }\n",
       " modified_at {\n",
       "   seconds: 1697706002\n",
       "   nanos: 167299000\n",
       " }\n",
       " status {\n",
       "   code: INPUT_DOWNLOAD_SUCCESS\n",
       "   description: \"Download complete\"\n",
       " },\n",
       " id: \"c7\"\n",
       " data {\n",
       "   image {\n",
       "     url: \"https://data.clarifai.com/orig/users/mansi_k/apps/databricks_tester/inputs/image/042dc758e67c807683d8f7cb3a064fd3\"\n",
       "     hosted {\n",
       "       prefix: \"https://data.clarifai.com\"\n",
       "       suffix: \"users/mansi_k/apps/databricks_tester/inputs/image/042dc758e67c807683d8f7cb3a064fd3\"\n",
       "       sizes: \"orig\"\n",
       "       sizes: \"tiny\"\n",
       "       sizes: \"small\"\n",
       "       sizes: \"large\"\n",
       "       crossorigin: \"use-credentials\"\n",
       "     }\n",
       "     image_info {\n",
       "       width: 540\n",
       "       height: 360\n",
       "       format: \"JPEG\"\n",
       "       color_mode: \"YUV\"\n",
       "     }\n",
       "   }\n",
       "   concepts {\n",
       "     id: \"id-cat\"\n",
       "     name: \"cat\"\n",
       "     value: 1\n",
       "     app_id: \"databricks_tester\"\n",
       "   }\n",
       " }\n",
       " created_at {\n",
       "   seconds: 1697705999\n",
       "   nanos: 358281000\n",
       " }\n",
       " modified_at {\n",
       "   seconds: 1697706002\n",
       "   nanos: 167299000\n",
       " }\n",
       " status {\n",
       "   code: INPUT_DOWNLOAD_SUCCESS\n",
       "   description: \"Download complete\"\n",
       " },\n",
       " id: \"c5\"\n",
       " data {\n",
       "   image {\n",
       "     url: \"https://data.clarifai.com/orig/users/mansi_k/apps/databricks_tester/inputs/image/e91483b17642cc4540cfb97afad3196b\"\n",
       "     hosted {\n",
       "       prefix: \"https://data.clarifai.com\"\n",
       "       suffix: \"users/mansi_k/apps/databricks_tester/inputs/image/e91483b17642cc4540cfb97afad3196b\"\n",
       "       sizes: \"orig\"\n",
       "       sizes: \"tiny\"\n",
       "       sizes: \"small\"\n",
       "       sizes: \"large\"\n",
       "       crossorigin: \"use-credentials\"\n",
       "     }\n",
       "     image_info {\n",
       "       width: 500\n",
       "       height: 473\n",
       "       format: \"JPEG\"\n",
       "       color_mode: \"YUV\"\n",
       "     }\n",
       "   }\n",
       "   concepts {\n",
       "     id: \"id-cat\"\n",
       "     name: \"cat\"\n",
       "     value: 1\n",
       "     app_id: \"databricks_tester\"\n",
       "   }\n",
       " }\n",
       " created_at {\n",
       "   seconds: 1697705999\n",
       "   nanos: 358281000\n",
       " }\n",
       " modified_at {\n",
       "   seconds: 1697706002\n",
       "   nanos: 167299000\n",
       " }\n",
       " status {\n",
       "   code: INPUT_DOWNLOAD_SUCCESS\n",
       "   description: \"Download complete\"\n",
       " },\n",
       " id: \"c3\"\n",
       " data {\n",
       "   image {\n",
       "     url: \"https://data.clarifai.com/orig/users/mansi_k/apps/databricks_tester/inputs/image/737ab81969b3ce8dee6e4e578cfcb7f7\"\n",
       "     hosted {\n",
       "       prefix: \"https://data.clarifai.com\"\n",
       "       suffix: \"users/mansi_k/apps/databricks_tester/inputs/image/737ab81969b3ce8dee6e4e578cfcb7f7\"\n",
       "       sizes: \"orig\"\n",
       "       sizes: \"tiny\"\n",
       "       sizes: \"small\"\n",
       "       sizes: \"large\"\n",
       "       crossorigin: \"use-credentials\"\n",
       "     }\n",
       "     image_info {\n",
       "       width: 1200\n",
       "       height: 901\n",
       "       format: \"JPEG\"\n",
       "       color_mode: \"YUV\"\n",
       "     }\n",
       "   }\n",
       "   concepts {\n",
       "     id: \"id-cat\"\n",
       "     name: \"cat\"\n",
       "     value: 1\n",
       "     app_id: \"databricks_tester\"\n",
       "   }\n",
       " }\n",
       " created_at {\n",
       "   seconds: 1697705999\n",
       "   nanos: 358281000\n",
       " }\n",
       " modified_at {\n",
       "   seconds: 1697706002\n",
       "   nanos: 167299000\n",
       " }\n",
       " status {\n",
       "   code: INPUT_DOWNLOAD_SUCCESS\n",
       "   description: \"Download complete\"\n",
       " },\n",
       " id: \"c11\"\n",
       " data {\n",
       "   image {\n",
       "     url: \"https://data.clarifai.com/orig/users/mansi_k/apps/databricks_tester/inputs/image/009e353544134aa65d29c20fa2922e63\"\n",
       "     hosted {\n",
       "       prefix: \"https://data.clarifai.com\"\n",
       "       suffix: \"users/mansi_k/apps/databricks_tester/inputs/image/009e353544134aa65d29c20fa2922e63\"\n",
       "       sizes: \"orig\"\n",
       "       sizes: \"tiny\"\n",
       "       sizes: \"small\"\n",
       "       sizes: \"large\"\n",
       "       crossorigin: \"use-credentials\"\n",
       "     }\n",
       "     image_info {\n",
       "       width: 1200\n",
       "       height: 1200\n",
       "       format: \"JPEG\"\n",
       "       color_mode: \"YUV\"\n",
       "     }\n",
       "   }\n",
       "   concepts {\n",
       "     id: \"id-cat\"\n",
       "     name: \"cat\"\n",
       "     value: 1\n",
       "     app_id: \"databricks_tester\"\n",
       "   }\n",
       " }\n",
       " created_at {\n",
       "   seconds: 1697705999\n",
       "   nanos: 358281000\n",
       " }\n",
       " modified_at {\n",
       "   seconds: 1697706002\n",
       "   nanos: 167299000\n",
       " }\n",
       " status {\n",
       "   code: INPUT_DOWNLOAD_SUCCESS\n",
       "   description: \"Download complete\"\n",
       " },\n",
       " id: \"c9\"\n",
       " data {\n",
       "   image {\n",
       "     url: \"https://data.clarifai.com/orig/users/mansi_k/apps/databricks_tester/inputs/image/b88d83dd8fb9f34011ce441bd0cb823b\"\n",
       "     hosted {\n",
       "       prefix: \"https://data.clarifai.com\"\n",
       "       suffix: \"users/mansi_k/apps/databricks_tester/inputs/image/b88d83dd8fb9f34011ce441bd0cb823b\"\n",
       "       sizes: \"orig\"\n",
       "       sizes: \"tiny\"\n",
       "       sizes: \"small\"\n",
       "       sizes: \"large\"\n",
       "       crossorigin: \"use-credentials\"\n",
       "     }\n",
       "     image_info {\n",
       "       width: 1200\n",
       "       height: 834\n",
       "       format: \"JPEG\"\n",
       "       color_mode: \"YUV\"\n",
       "     }\n",
       "   }\n",
       "   concepts {\n",
       "     id: \"id-cat\"\n",
       "     name: \"cat\"\n",
       "     value: 1\n",
       "     app_id: \"databricks_tester\"\n",
       "   }\n",
       " }\n",
       " created_at {\n",
       "   seconds: 1697705999\n",
       "   nanos: 358281000\n",
       " }\n",
       " modified_at {\n",
       "   seconds: 1697706002\n",
       "   nanos: 167299000\n",
       " }\n",
       " status {\n",
       "   code: INPUT_DOWNLOAD_SUCCESS\n",
       "   description: \"Download complete\"\n",
       " },\n",
       " id: \"c1\"\n",
       " data {\n",
       "   image {\n",
       "     url: \"https://data.clarifai.com/orig/users/mansi_k/apps/databricks_tester/inputs/image/4137614e89b636f6afaf749bf7dcea6f\"\n",
       "     hosted {\n",
       "       prefix: \"https://data.clarifai.com\"\n",
       "       suffix: \"users/mansi_k/apps/databricks_tester/inputs/image/4137614e89b636f6afaf749bf7dcea6f\"\n",
       "       sizes: \"orig\"\n",
       "       sizes: \"tiny\"\n",
       "       sizes: \"small\"\n",
       "       sizes: \"large\"\n",
       "       crossorigin: \"use-credentials\"\n",
       "     }\n",
       "     image_info {\n",
       "       width: 736\n",
       "       height: 566\n",
       "       format: \"JPEG\"\n",
       "       color_mode: \"YUV\"\n",
       "     }\n",
       "   }\n",
       "   concepts {\n",
       "     id: \"id-cat\"\n",
       "     name: \"cat\"\n",
       "     value: 1\n",
       "     app_id: \"databricks_tester\"\n",
       "   }\n",
       " }\n",
       " created_at {\n",
       "   seconds: 1697705999\n",
       "   nanos: 358281000\n",
       " }\n",
       " modified_at {\n",
       "   seconds: 1697706002\n",
       "   nanos: 167299000\n",
       " }\n",
       " status {\n",
       "   code: INPUT_DOWNLOAD_SUCCESS\n",
       "   description: \"Download complete\"\n",
       " },\n",
       " id: \"c6\"\n",
       " data {\n",
       "   image {\n",
       "     url: \"https://data.clarifai.com/orig/users/mansi_k/apps/databricks_tester/inputs/image/9aad344c32108b9c7c1c54e58a3b90e3\"\n",
       "     hosted {\n",
       "       prefix: \"https://data.clarifai.com\"\n",
       "       suffix: \"users/mansi_k/apps/databricks_tester/inputs/image/9aad344c32108b9c7c1c54e58a3b90e3\"\n",
       "       sizes: \"orig\"\n",
       "       sizes: \"tiny\"\n",
       "       sizes: \"small\"\n",
       "       sizes: \"large\"\n",
       "       crossorigin: \"use-credentials\"\n",
       "     }\n",
       "     image_info {\n",
       "       width: 612\n",
       "       height: 640\n",
       "       format: \"JPEG\"\n",
       "       color_mode: \"YUV\"\n",
       "     }\n",
       "   }\n",
       "   concepts {\n",
       "     id: \"id-cat\"\n",
       "     name: \"cat\"\n",
       "     value: 1\n",
       "     app_id: \"databricks_tester\"\n",
       "   }\n",
       " }\n",
       " created_at {\n",
       "   seconds: 1697705999\n",
       "   nanos: 358281000\n",
       " }\n",
       " modified_at {\n",
       "   seconds: 1697706002\n",
       "   nanos: 167299000\n",
       " }\n",
       " status {\n",
       "   code: INPUT_DOWNLOAD_SUCCESS\n",
       "   description: \"Download complete\"\n",
       " },\n",
       " id: \"c2\"\n",
       " data {\n",
       "   image {\n",
       "     url: \"https://data.clarifai.com/orig/users/mansi_k/apps/databricks_tester/inputs/image/6e2a3ada6f10f0b4eb2f1e851b930c1b\"\n",
       "     hosted {\n",
       "       prefix: \"https://data.clarifai.com\"\n",
       "       suffix: \"users/mansi_k/apps/databricks_tester/inputs/image/6e2a3ada6f10f0b4eb2f1e851b930c1b\"\n",
       "       sizes: \"orig\"\n",
       "       sizes: \"tiny\"\n",
       "       sizes: \"small\"\n",
       "       sizes: \"large\"\n",
       "       crossorigin: \"use-credentials\"\n",
       "     }\n",
       "     image_info {\n",
       "       width: 1500\n",
       "       height: 1000\n",
       "       format: \"JPEG\"\n",
       "       color_mode: \"YUV\"\n",
       "     }\n",
       "   }\n",
       "   concepts {\n",
       "     id: \"id-cat\"\n",
       "     name: \"cat\"\n",
       "     value: 1\n",
       "     app_id: \"databricks_tester\"\n",
       "   }\n",
       " }\n",
       " created_at {\n",
       "   seconds: 1697705999\n",
       "   nanos: 358281000\n",
       " }\n",
       " modified_at {\n",
       "   seconds: 1697706002\n",
       "   nanos: 167299000\n",
       " }\n",
       " status {\n",
       "   code: INPUT_DOWNLOAD_SUCCESS\n",
       "   description: \"Download complete\"\n",
       " },\n",
       " id: \"c10\"\n",
       " data {\n",
       "   image {\n",
       "     url: \"https://data.clarifai.com/orig/users/mansi_k/apps/databricks_tester/inputs/image/c1b5a9392f89cf42deca348758a63c79\"\n",
       "     hosted {\n",
       "       prefix: \"https://data.clarifai.com\"\n",
       "       suffix: \"users/mansi_k/apps/databricks_tester/inputs/image/c1b5a9392f89cf42deca348758a63c79\"\n",
       "       sizes: \"orig\"\n",
       "       sizes: \"tiny\"\n",
       "       sizes: \"small\"\n",
       "       sizes: \"large\"\n",
       "       crossorigin: \"use-credentials\"\n",
       "     }\n",
       "     image_info {\n",
       "       width: 1000\n",
       "       height: 665\n",
       "       format: \"JPEG\"\n",
       "       color_mode: \"YUV\"\n",
       "     }\n",
       "   }\n",
       "   concepts {\n",
       "     id: \"id-cat\"\n",
       "     name: \"cat\"\n",
       "     value: 1\n",
       "     app_id: \"databricks_tester\"\n",
       "   }\n",
       " }\n",
       " created_at {\n",
       "   seconds: 1697705999\n",
       "   nanos: 358281000\n",
       " }\n",
       " modified_at {\n",
       "   seconds: 1697706002\n",
       "   nanos: 167299000\n",
       " }\n",
       " status {\n",
       "   code: INPUT_DOWNLOAD_SUCCESS\n",
       "   description: \"Download complete\"\n",
       " },\n",
       " id: \"c8\"\n",
       " data {\n",
       "   image {\n",
       "     url: \"https://data.clarifai.com/orig/users/mansi_k/apps/databricks_tester/inputs/image/1a56dcd4d97934cb2736c1ac3877e373\"\n",
       "     hosted {\n",
       "       prefix: \"https://data.clarifai.com\"\n",
       "       suffix: \"users/mansi_k/apps/databricks_tester/inputs/image/1a56dcd4d97934cb2736c1ac3877e373\"\n",
       "       sizes: \"orig\"\n",
       "       sizes: \"tiny\"\n",
       "       sizes: \"small\"\n",
       "       sizes: \"large\"\n",
       "       crossorigin: \"use-credentials\"\n",
       "     }\n",
       "     image_info {\n",
       "       width: 930\n",
       "       height: 620\n",
       "       format: \"WebP\"\n",
       "       color_mode: \"YUV\"\n",
       "     }\n",
       "   }\n",
       "   concepts {\n",
       "     id: \"id-cat\"\n",
       "     name: \"cat\"\n",
       "     value: 1\n",
       "     app_id: \"databricks_tester\"\n",
       "   }\n",
       " }\n",
       " created_at {\n",
       "   seconds: 1697705999\n",
       "   nanos: 358281000\n",
       " }\n",
       " modified_at {\n",
       "   seconds: 1697706002\n",
       "   nanos: 167299000\n",
       " }\n",
       " status {\n",
       "   code: INPUT_DOWNLOAD_SUCCESS\n",
       "   description: \"Download complete\"\n",
       " },\n",
       " id: \"1102\"\n",
       " data {\n",
       "   image {\n",
       "     url: \"https://db-test-bucket-integration.s3.amazonaws.com/images-test/portal-onboarding10.jpg\"\n",
       "     hosted {\n",
       "       prefix: \"https://data.clarifai.com\"\n",
       "       suffix: \"users/mansi_k/apps/databricks_tester/inputs/image/a81598f16d3cbf68760d8580d81cfd8c\"\n",
       "       sizes: \"orig\"\n",
       "       sizes: \"tiny\"\n",
       "       sizes: \"small\"\n",
       "       sizes: \"large\"\n",
       "       crossorigin: \"use-credentials\"\n",
       "     }\n",
       "     image_info {\n",
       "       width: 666\n",
       "       height: 1000\n",
       "       format: \"JPEG\"\n",
       "       color_mode: \"YUV\"\n",
       "     }\n",
       "   }\n",
       " }\n",
       " created_at {\n",
       "   seconds: 1697020382\n",
       "   nanos: 293298000\n",
       " }\n",
       " modified_at {\n",
       "   seconds: 1697020383\n",
       "   nanos: 76677000\n",
       " }\n",
       " status {\n",
       "   code: INPUT_DOWNLOAD_SUCCESS\n",
       "   description: \"Download complete\"\n",
       " },\n",
       " id: \"1720\"\n",
       " data {\n",
       "   image {\n",
       "     url: \"https://db-test-bucket-integration.s3.amazonaws.com/images-test/portal-onboarding5.jpg\"\n",
       "     hosted {\n",
       "       prefix: \"https://data.clarifai.com\"\n",
       "       suffix: \"users/mansi_k/apps/databricks_tester/inputs/image/ab83bb83761d14f99e99e52b537b699d\"\n",
       "       sizes: \"orig\"\n",
       "       sizes: \"tiny\"\n",
       "       sizes: \"small\"\n",
       "       sizes: \"large\"\n",
       "       crossorigin: \"use-credentials\"\n",
       "     }\n",
       "     image_info {\n",
       "       width: 1000\n",
       "       height: 750\n",
       "       format: \"JPEG\"\n",
       "       color_mode: \"YUV\"\n",
       "     }\n",
       "   }\n",
       " }\n",
       " created_at {\n",
       "   seconds: 1697020382\n",
       "   nanos: 703977000\n",
       " }\n",
       " modified_at {\n",
       "   seconds: 1697020383\n",
       "   nanos: 389180000\n",
       " }\n",
       " status {\n",
       "   code: INPUT_DOWNLOAD_SUCCESS\n",
       "   description: \"Download complete\"\n",
       " },\n",
       " id: \"1504\"\n",
       " data {\n",
       "   image {\n",
       "     url: \"https://db-test-bucket-integration.s3.amazonaws.com/images-test/portal-onboarding4.jpg\"\n",
       "     hosted {\n",
       "       prefix: \"https://data.clarifai.com\"\n",
       "       suffix: \"users/mansi_k/apps/databricks_tester/inputs/image/fda290b2d99ea81d1728db0d5c002797\"\n",
       "       sizes: \"orig\"\n",
       "       sizes: \"tiny\"\n",
       "       sizes: \"small\"\n",
       "       sizes: \"large\"\n",
       "       crossorigin: \"use-credentials\"\n",
       "     }\n",
       "     image_info {\n",
       "       width: 694\n",
       "       height: 1000\n",
       "       format: \"JPEG\"\n",
       "       color_mode: \"YUV\"\n",
       "     }\n",
       "   }\n",
       " }\n",
       " created_at {\n",
       "   seconds: 1697020382\n",
       "   nanos: 602753000\n",
       " }\n",
       " modified_at {\n",
       "   seconds: 1697020383\n",
       "   nanos: 363409000\n",
       " }\n",
       " status {\n",
       "   code: INPUT_DOWNLOAD_SUCCESS\n",
       "   description: \"Download complete\"\n",
       " }]"
      ]
     },
     "execution_count": 8,
     "metadata": {},
     "output_type": "execute_result"
    }
   ],
   "source": [
    "my_inputs = dataset_obj.list_inputs_from_dataset()\n",
    "\n",
    "my_inputs"
   ]
  },
  {
   "cell_type": "markdown",
   "metadata": {
    "application/vnd.databricks.v1+cell": {
     "cellMetadata": {},
     "inputWidgets": {},
     "nuid": "76a4ffe7-3a47-42ad-84db-1126aacd9cb1",
     "showTitle": false,
     "title": ""
    }
   },
   "source": [
    "### Upload images from volume folder to Clarifai dataset"
   ]
  },
  {
   "cell_type": "code",
   "execution_count": 0,
   "metadata": {
    "application/vnd.databricks.v1+cell": {
     "cellMetadata": {
      "byteLimit": 2048000,
      "rowLimit": 10000
     },
     "inputWidgets": {},
     "nuid": "d15b3001-8b49-498b-b7c3-60d775047671",
     "showTitle": false,
     "title": ""
    }
   },
   "outputs": [
    {
     "output_type": "display_data",
     "data": {
      "text/html": [
       "<pre style=\"white-space:pre;overflow-x:auto;line-height:normal;font-family:Menlo,'DejaVu Sans Mono',consolas,'Courier New',monospace\"><span style=\"color: #7fbfbf; text-decoration-color: #7fbfbf\">2023-10-19 08:59:58 </span><span style=\"color: #000080; text-decoration-color: #000080\">INFO    </span> INFO:py4j.clientserver:Received command c on object id p0          <a href=\"file:///databricks/spark/python/lib/py4j-0.10.9.7-src.zip/py4j/clientserver.py\" target=\"_blank\"><span style=\"color: #7f7f7f; text-decoration-color: #7f7f7f\">clientserver.py</span></a><span style=\"color: #7f7f7f; text-decoration-color: #7f7f7f\">:</span><a href=\"file:///databricks/spark/python/lib/py4j-0.10.9.7-src.zip/py4j/clientserver.py#575\" target=\"_blank\"><span style=\"color: #7f7f7f; text-decoration-color: #7f7f7f\">575</span></a>\n",
       "</pre>\n"
      ],
      "text/plain": [
       "\u001B[2;36m2023-10-19 08:59:58\u001B[0m\u001B[2;36m \u001B[0m\u001B[34mINFO    \u001B[0m INFO:py4j.clientserver:Received command c on object id p0          \u001B]8;id=998956;file:///databricks/spark/python/lib/py4j-0.10.9.7-src.zip/py4j/clientserver.py\u001B\\\u001B[2mclientserver.py\u001B[0m\u001B]8;;\u001B\\\u001B[2m:\u001B[0m\u001B]8;id=287604;file:///databricks/spark/python/lib/py4j-0.10.9.7-src.zip/py4j/clientserver.py#575\u001B\\\u001B[2m575\u001B[0m\u001B]8;;\u001B\\\n"
      ]
     },
     "metadata": {},
     "output_type": "display_data"
    },
    {
     "output_type": "stream",
     "name": "stderr",
     "output_type": "stream",
     "text": [
      "\rUploading inputs:   0%|          | 0/1 [00:00<?, ?it/s]\rUploading inputs: 100%|██████████| 1/1 [00:05<00:00,  5.23s/it]\rUploading inputs: 100%|██████████| 1/1 [00:05<00:00,  5.23s/it]\n"
     ]
    }
   ],
   "source": [
    "dataset_obj.upload_dataset_from_folder(folder_path='/Volumes/mansi_test/default/cat', input_type='image', labels=True)"
   ]
  },
  {
   "cell_type": "markdown",
   "metadata": {
    "application/vnd.databricks.v1+cell": {
     "cellMetadata": {},
     "inputWidgets": {},
     "nuid": "522a228a-52dd-417e-b02c-fa896e7833ad",
     "showTitle": false,
     "title": ""
    }
   },
   "source": [
    "### Export image annotations to spark dataframe"
   ]
  },
  {
   "cell_type": "code",
   "execution_count": 0,
   "metadata": {
    "application/vnd.databricks.v1+cell": {
     "cellMetadata": {
      "byteLimit": 2048000,
      "rowLimit": 10000
     },
     "inputWidgets": {},
     "nuid": "d61eedc2-2488-499a-a367-a943bc692062",
     "showTitle": false,
     "title": ""
    }
   },
   "outputs": [
    {
     "output_type": "display_data",
     "data": {
      "text/html": [
       "<pre style=\"white-space:pre;overflow-x:auto;line-height:normal;font-family:Menlo,'DejaVu Sans Mono',consolas,'Courier New',monospace\"><span style=\"color: #7fbfbf; text-decoration-color: #7fbfbf\">2023-10-19 13:22:04 </span><span style=\"color: #000080; text-decoration-color: #000080\">INFO    </span> INFO:py4j.clientserver:Received command c on object id p0          <a href=\"file:///databricks/spark/python/lib/py4j-0.10.9.7-src.zip/py4j/clientserver.py\" target=\"_blank\"><span style=\"color: #7f7f7f; text-decoration-color: #7f7f7f\">clientserver.py</span></a><span style=\"color: #7f7f7f; text-decoration-color: #7f7f7f\">:</span><a href=\"file:///databricks/spark/python/lib/py4j-0.10.9.7-src.zip/py4j/clientserver.py#575\" target=\"_blank\"><span style=\"color: #7f7f7f; text-decoration-color: #7f7f7f\">575</span></a>\n",
       "</pre>\n"
      ],
      "text/plain": [
       "\u001B[2;36m2023-10-19 13:22:04\u001B[0m\u001B[2;36m \u001B[0m\u001B[34mINFO    \u001B[0m INFO:py4j.clientserver:Received command c on object id p0          \u001B]8;id=905988;file:///databricks/spark/python/lib/py4j-0.10.9.7-src.zip/py4j/clientserver.py\u001B\\\u001B[2mclientserver.py\u001B[0m\u001B]8;;\u001B\\\u001B[2m:\u001B[0m\u001B]8;id=472545;file:///databricks/spark/python/lib/py4j-0.10.9.7-src.zip/py4j/clientserver.py#575\u001B\\\u001B[2m575\u001B[0m\u001B]8;;\u001B\\\n"
      ]
     },
     "metadata": {},
     "output_type": "display_data"
    },
    {
     "output_type": "execute_result",
     "data": {
      "text/plain": [
       "DataFrame[annotation: map<string,array<map<string,string>>>, created_at: string, id: string, input_id: string, modified_at: string, user_id: string]"
      ]
     },
     "execution_count": 9,
     "metadata": {},
     "output_type": "execute_result"
    }
   ],
   "source": [
    "annot_df = dataset_obj.export_annotations_to_dataframe()\n",
    "annot_df"
   ]
  },
  {
   "cell_type": "markdown",
   "metadata": {
    "application/vnd.databricks.v1+cell": {
     "cellMetadata": {},
     "inputWidgets": {},
     "nuid": "228872b2-c1d2-4058-a92c-f81b23d48b47",
     "showTitle": false,
     "title": ""
    }
   },
   "source": [
    "### Write annotations dataframe to volume as delta table"
   ]
  },
  {
   "cell_type": "code",
   "execution_count": 0,
   "metadata": {
    "application/vnd.databricks.v1+cell": {
     "cellMetadata": {
      "byteLimit": 2048000,
      "rowLimit": 10000
     },
     "inputWidgets": {},
     "nuid": "60b3f2dc-3e02-41ce-b0bd-1eedb7db176a",
     "showTitle": false,
     "title": ""
    }
   },
   "outputs": [
    {
     "output_type": "display_data",
     "data": {
      "text/html": [
       "<pre style=\"white-space:pre;overflow-x:auto;line-height:normal;font-family:Menlo,'DejaVu Sans Mono',consolas,'Courier New',monospace\"><span style=\"color: #7fbfbf; text-decoration-color: #7fbfbf\">2023-10-19 13:22:10 </span><span style=\"color: #000080; text-decoration-color: #000080\">INFO    </span> INFO:py4j.clientserver:Received command c on object id p0          <a href=\"file:///databricks/spark/python/lib/py4j-0.10.9.7-src.zip/py4j/clientserver.py\" target=\"_blank\"><span style=\"color: #7f7f7f; text-decoration-color: #7f7f7f\">clientserver.py</span></a><span style=\"color: #7f7f7f; text-decoration-color: #7f7f7f\">:</span><a href=\"file:///databricks/spark/python/lib/py4j-0.10.9.7-src.zip/py4j/clientserver.py#575\" target=\"_blank\"><span style=\"color: #7f7f7f; text-decoration-color: #7f7f7f\">575</span></a>\n",
       "</pre>\n"
      ],
      "text/plain": [
       "\u001B[2;36m2023-10-19 13:22:10\u001B[0m\u001B[2;36m \u001B[0m\u001B[34mINFO    \u001B[0m INFO:py4j.clientserver:Received command c on object id p0          \u001B]8;id=988046;file:///databricks/spark/python/lib/py4j-0.10.9.7-src.zip/py4j/clientserver.py\u001B\\\u001B[2mclientserver.py\u001B[0m\u001B]8;;\u001B\\\u001B[2m:\u001B[0m\u001B]8;id=853982;file:///databricks/spark/python/lib/py4j-0.10.9.7-src.zip/py4j/clientserver.py#575\u001B\\\u001B[2m575\u001B[0m\u001B]8;;\u001B\\\n"
      ]
     },
     "metadata": {},
     "output_type": "display_data"
    }
   ],
   "source": [
    "annot_df.write.format(\"delta\").mode(\"overwrite\").save(\"/Volumes/mansi_test/default/test_vol1/imgAnnsDeltaTable\") \n"
   ]
  },
  {
   "cell_type": "markdown",
   "metadata": {
    "application/vnd.databricks.v1+cell": {
     "cellMetadata": {},
     "inputWidgets": {},
     "nuid": "d938ddb1-ae12-44df-92b2-cceeb19b24e7",
     "showTitle": false,
     "title": ""
    }
   },
   "source": [
    "### Load annotations delta table from volume"
   ]
  },
  {
   "cell_type": "code",
   "execution_count": 0,
   "metadata": {
    "application/vnd.databricks.v1+cell": {
     "cellMetadata": {
      "byteLimit": 2048000,
      "rowLimit": 10000
     },
     "inputWidgets": {},
     "nuid": "ec9866be-484d-4e26-9e2d-eaf93243e9bb",
     "showTitle": false,
     "title": ""
    }
   },
   "outputs": [
    {
     "output_type": "display_data",
     "data": {
      "text/html": [
       "<pre style=\"white-space:pre;overflow-x:auto;line-height:normal;font-family:Menlo,'DejaVu Sans Mono',consolas,'Courier New',monospace\"><span style=\"color: #7fbfbf; text-decoration-color: #7fbfbf\">2023-10-19 13:22:21 </span><span style=\"color: #000080; text-decoration-color: #000080\">INFO    </span> INFO:py4j.clientserver:Received command c on object id p0          <a href=\"file:///databricks/spark/python/lib/py4j-0.10.9.7-src.zip/py4j/clientserver.py\" target=\"_blank\"><span style=\"color: #7f7f7f; text-decoration-color: #7f7f7f\">clientserver.py</span></a><span style=\"color: #7f7f7f; text-decoration-color: #7f7f7f\">:</span><a href=\"file:///databricks/spark/python/lib/py4j-0.10.9.7-src.zip/py4j/clientserver.py#575\" target=\"_blank\"><span style=\"color: #7f7f7f; text-decoration-color: #7f7f7f\">575</span></a>\n",
       "</pre>\n"
      ],
      "text/plain": [
       "\u001B[2;36m2023-10-19 13:22:21\u001B[0m\u001B[2;36m \u001B[0m\u001B[34mINFO    \u001B[0m INFO:py4j.clientserver:Received command c on object id p0          \u001B]8;id=82632;file:///databricks/spark/python/lib/py4j-0.10.9.7-src.zip/py4j/clientserver.py\u001B\\\u001B[2mclientserver.py\u001B[0m\u001B]8;;\u001B\\\u001B[2m:\u001B[0m\u001B]8;id=220713;file:///databricks/spark/python/lib/py4j-0.10.9.7-src.zip/py4j/clientserver.py#575\u001B\\\u001B[2m575\u001B[0m\u001B]8;;\u001B\\\n"
      ]
     },
     "metadata": {},
     "output_type": "display_data"
    },
    {
     "output_type": "stream",
     "name": "stdout",
     "output_type": "stream",
     "text": [
      "+--------------------+-------------------+--------------------+--------+-------------------+-------+\n|          annotation|         created_at|                  id|input_id|        modified_at|user_id|\n+--------------------+-------------------+--------------------+--------+-------------------+-------+\n|{concepts -> [{na...|10/19/% 08:59:   %5|4bf61ec2eae84409a...|      c4|10/19/% 08:59:   %5|mansi_k|\n|{concepts -> [{na...|10/19/% 08:59:   %5|5b81affe82764c8cb...|     c10|10/19/% 08:59:   %5|mansi_k|\n|{concepts -> [{na...|10/19/% 08:59:   %5|5ddcbbd4583a4d6eb...|      c2|10/19/% 08:59:   %5|mansi_k|\n|{concepts -> [{na...|10/19/% 08:59:   %5|7fcf791aabd040ffb...|      c3|10/19/% 08:59:   %5|mansi_k|\n|{concepts -> [{na...|10/19/% 08:59:   %5|db097c021b5144aa9...|      c6|10/19/% 08:59:   %5|mansi_k|\n|{concepts -> [{na...|10/19/% 08:59:   %5|f9163378eb39453c8...|      c7|10/19/% 08:59:   %5|mansi_k|\n|{concepts -> [{na...|10/19/% 08:59:   %5|32853b11e46f401e8...|     c11|10/19/% 08:59:   %5|mansi_k|\n|{regions -> [{id ...|10/11/% 10:34:   %5|    JuYJBORpRfKhR5aS|    1720|10/11/% 10:34:   %5|mansi_k|\n|{regions -> [{id ...|10/11/% 10:34:   %5|    pjg5FguuTFA8WrVu|    1720|10/11/% 10:34:   %5|mansi_k|\n|{regions -> [{id ...|10/11/% 10:35:   %5|    ud1iDZRmDyVuRHL7|    1102|10/11/% 10:35:   %5|mansi_k|\n|{regions -> [{id ...|10/11/% 10:34:   %5|    CmgOXwLH9GT8Iu4k|    1504|10/11/% 10:34:   %5|mansi_k|\n|{concepts -> [{na...|10/19/% 08:59:   %5|3b67d29e476a49299...|      c8|10/19/% 08:59:   %5|mansi_k|\n|{concepts -> [{na...|10/19/% 08:59:   %5|4820e4e9143249758...|      c1|10/19/% 08:59:   %5|mansi_k|\n|{concepts -> [{na...|10/19/% 08:59:   %5|a8a317c09c994054a...|      c5|10/19/% 08:59:   %5|mansi_k|\n|{concepts -> [{na...|10/19/% 08:59:   %5|b81ed230d35249dab...|      c9|10/19/% 08:59:   %5|mansi_k|\n+--------------------+-------------------+--------------------+--------+-------------------+-------+\n\n"
     ]
    }
   ],
   "source": [
    "df_delta = spark.read.format(\"delta\").load(\"/Volumes/mansi_test/default/test_vol1/imgAnnsDeltaTable\")\n",
    "df_delta.show()"
   ]
  },
  {
   "cell_type": "markdown",
   "metadata": {
    "application/vnd.databricks.v1+cell": {
     "cellMetadata": {},
     "inputWidgets": {},
     "nuid": "ab6dfc75-d4e7-4541-bc3a-6863a8561882",
     "showTitle": false,
     "title": ""
    }
   },
   "source": [
    "### Loop through delta table rows & columns"
   ]
  },
  {
   "cell_type": "code",
   "execution_count": 0,
   "metadata": {
    "application/vnd.databricks.v1+cell": {
     "cellMetadata": {
      "byteLimit": 2048000,
      "rowLimit": 10000
     },
     "inputWidgets": {},
     "nuid": "b46930f4-b3a8-4491-b134-089cd3c9155a",
     "showTitle": false,
     "title": ""
    }
   },
   "outputs": [
    {
     "output_type": "display_data",
     "data": {
      "text/html": [
       "<pre style=\"white-space:pre;overflow-x:auto;line-height:normal;font-family:Menlo,'DejaVu Sans Mono',consolas,'Courier New',monospace\"><span style=\"color: #7fbfbf; text-decoration-color: #7fbfbf\">2023-10-19 13:22:31 </span><span style=\"color: #000080; text-decoration-color: #000080\">INFO    </span> INFO:py4j.clientserver:Received command c on object id p0          <a href=\"file:///databricks/spark/python/lib/py4j-0.10.9.7-src.zip/py4j/clientserver.py\" target=\"_blank\"><span style=\"color: #7f7f7f; text-decoration-color: #7f7f7f\">clientserver.py</span></a><span style=\"color: #7f7f7f; text-decoration-color: #7f7f7f\">:</span><a href=\"file:///databricks/spark/python/lib/py4j-0.10.9.7-src.zip/py4j/clientserver.py#575\" target=\"_blank\"><span style=\"color: #7f7f7f; text-decoration-color: #7f7f7f\">575</span></a>\n",
       "</pre>\n"
      ],
      "text/plain": [
       "\u001B[2;36m2023-10-19 13:22:31\u001B[0m\u001B[2;36m \u001B[0m\u001B[34mINFO    \u001B[0m INFO:py4j.clientserver:Received command c on object id p0          \u001B]8;id=94111;file:///databricks/spark/python/lib/py4j-0.10.9.7-src.zip/py4j/clientserver.py\u001B\\\u001B[2mclientserver.py\u001B[0m\u001B]8;;\u001B\\\u001B[2m:\u001B[0m\u001B]8;id=605579;file:///databricks/spark/python/lib/py4j-0.10.9.7-src.zip/py4j/clientserver.py#575\u001B\\\u001B[2m575\u001B[0m\u001B]8;;\u001B\\\n"
      ]
     },
     "metadata": {},
     "output_type": "display_data"
    },
    {
     "output_type": "stream",
     "name": "stdout",
     "output_type": "stream",
     "text": [
      "4bf61ec2eae84409a7e8c4ceac3180ec\nc4\nmansi_k\n10/19/% 08:59:   %5\nc4\n{'concepts': [{'name': 'cat', 'id': 'id-cat', 'value': '1.0', 'appId': 'databricks_tester'}]}\n########################\n\n5b81affe82764c8cb4612111626196a2\nc10\nmansi_k\n10/19/% 08:59:   %5\nc10\n{'concepts': [{'name': 'cat', 'id': 'id-cat', 'value': '1.0', 'appId': 'databricks_tester'}]}\n########################\n\n5ddcbbd4583a4d6ebe63fbf2eb5d0753\nc2\nmansi_k\n10/19/% 08:59:   %5\nc2\n{'concepts': [{'name': 'cat', 'id': 'id-cat', 'value': '1.0', 'appId': 'databricks_tester'}]}\n########################\n\n7fcf791aabd040ffba689710f2c0872a\nc3\nmansi_k\n10/19/% 08:59:   %5\nc3\n{'concepts': [{'name': 'cat', 'id': 'id-cat', 'value': '1.0', 'appId': 'databricks_tester'}]}\n########################\n\n"
     ]
    }
   ],
   "source": [
    "for row in df_delta.collect()[:4]:\n",
    "    print(row['id'])\n",
    "    print(row['input_id'])\n",
    "    print(row['user_id'])\n",
    "    print(row['created_at'])\n",
    "    print(row['input_id'])\n",
    "    print(row['annotation'])\n",
    "    print(\"########################\\n\")"
   ]
  },
  {
   "cell_type": "markdown",
   "metadata": {
    "application/vnd.databricks.v1+cell": {
     "cellMetadata": {},
     "inputWidgets": {},
     "nuid": "9b869a1a-2b07-4ce5-ba12-2b4481fc3803",
     "showTitle": false,
     "title": ""
    }
   },
   "source": [
    "### Testing export_images_to_volume()"
   ]
  },
  {
   "cell_type": "code",
   "execution_count": 0,
   "metadata": {
    "application/vnd.databricks.v1+cell": {
     "cellMetadata": {
      "byteLimit": 2048000,
      "rowLimit": 10000
     },
     "inputWidgets": {},
     "nuid": "a7825f27-d719-4a6c-8e7d-6234444865f9",
     "showTitle": false,
     "title": ""
    }
   },
   "outputs": [
    {
     "output_type": "display_data",
     "data": {
      "text/html": [
       "<pre style=\"white-space:pre;overflow-x:auto;line-height:normal;font-family:Menlo,'DejaVu Sans Mono',consolas,'Courier New',monospace\"><span style=\"color: #7fbfbf; text-decoration-color: #7fbfbf\">2023-10-19 13:27:28 </span><span style=\"color: #000080; text-decoration-color: #000080\">INFO    </span> INFO:py4j.clientserver:Received command c on object id p0          <a href=\"file:///databricks/spark/python/lib/py4j-0.10.9.7-src.zip/py4j/clientserver.py\" target=\"_blank\"><span style=\"color: #7f7f7f; text-decoration-color: #7f7f7f\">clientserver.py</span></a><span style=\"color: #7f7f7f; text-decoration-color: #7f7f7f\">:</span><a href=\"file:///databricks/spark/python/lib/py4j-0.10.9.7-src.zip/py4j/clientserver.py#575\" target=\"_blank\"><span style=\"color: #7f7f7f; text-decoration-color: #7f7f7f\">575</span></a>\n",
       "</pre>\n"
      ],
      "text/plain": [
       "\u001B[2;36m2023-10-19 13:27:28\u001B[0m\u001B[2;36m \u001B[0m\u001B[34mINFO    \u001B[0m INFO:py4j.clientserver:Received command c on object id p0          \u001B]8;id=395642;file:///databricks/spark/python/lib/py4j-0.10.9.7-src.zip/py4j/clientserver.py\u001B\\\u001B[2mclientserver.py\u001B[0m\u001B]8;;\u001B\\\u001B[2m:\u001B[0m\u001B]8;id=377012;file:///databricks/spark/python/lib/py4j-0.10.9.7-src.zip/py4j/clientserver.py#575\u001B\\\u001B[2m575\u001B[0m\u001B]8;;\u001B\\\n"
      ]
     },
     "metadata": {},
     "output_type": "display_data"
    }
   ],
   "source": [
    "dataset_obj.export_images_to_volume(path=\"/Volumes/mansi_test/default/test_vol1\", input_response=my_inputs[:5])"
   ]
  },
  {
   "cell_type": "markdown",
   "metadata": {
    "application/vnd.databricks.v1+cell": {
     "cellMetadata": {},
     "inputWidgets": {},
     "nuid": "ec8d8448-bfb3-48b8-87a4-430ea1555985",
     "showTitle": false,
     "title": ""
    }
   },
   "source": [
    "### Load test csv file & upload text data into app using dataframe"
   ]
  },
  {
   "cell_type": "code",
   "execution_count": 0,
   "metadata": {
    "application/vnd.databricks.v1+cell": {
     "cellMetadata": {
      "byteLimit": 2048000,
      "rowLimit": 10000
     },
     "inputWidgets": {},
     "nuid": "0db5727d-fdcc-49f2-9197-315671da3804",
     "showTitle": false,
     "title": ""
    }
   },
   "outputs": [
    {
     "output_type": "display_data",
     "data": {
      "text/html": [
       "<pre style=\"white-space:pre;overflow-x:auto;line-height:normal;font-family:Menlo,'DejaVu Sans Mono',consolas,'Courier New',monospace\"><span style=\"color: #7fbfbf; text-decoration-color: #7fbfbf\">2023-10-19 15:18:10 </span><span style=\"color: #000080; text-decoration-color: #000080\">INFO    </span> INFO:py4j.clientserver:Received command c on object id p0          <a href=\"file:///databricks/spark/python/lib/py4j-0.10.9.7-src.zip/py4j/clientserver.py\" target=\"_blank\"><span style=\"color: #7f7f7f; text-decoration-color: #7f7f7f\">clientserver.py</span></a><span style=\"color: #7f7f7f; text-decoration-color: #7f7f7f\">:</span><a href=\"file:///databricks/spark/python/lib/py4j-0.10.9.7-src.zip/py4j/clientserver.py#575\" target=\"_blank\"><span style=\"color: #7f7f7f; text-decoration-color: #7f7f7f\">575</span></a>\n",
       "</pre>\n"
      ],
      "text/plain": [
       "\u001B[2;36m2023-10-19 15:18:10\u001B[0m\u001B[2;36m \u001B[0m\u001B[34mINFO    \u001B[0m INFO:py4j.clientserver:Received command c on object id p0          \u001B]8;id=617312;file:///databricks/spark/python/lib/py4j-0.10.9.7-src.zip/py4j/clientserver.py\u001B\\\u001B[2mclientserver.py\u001B[0m\u001B]8;;\u001B\\\u001B[2m:\u001B[0m\u001B]8;id=846478;file:///databricks/spark/python/lib/py4j-0.10.9.7-src.zip/py4j/clientserver.py#575\u001B\\\u001B[2m575\u001B[0m\u001B]8;;\u001B\\\n"
      ]
     },
     "metadata": {},
     "output_type": "display_data"
    },
    {
     "output_type": "stream",
     "name": "stdout",
     "output_type": "stream",
     "text": [
      "+-------+--------------------+--------+\n|inputid|               input|concepts|\n+-------+--------------------+--------+\n|  img11|https://img.freep...|     dog|\n|  img21|https://images.un...|    duck|\n|  img31|https://mymodernm...|    duck|\n+-------+--------------------+--------+\n\n"
     ]
    }
   ],
   "source": [
    "spark = SparkSession.builder.appName(\"Clarifai-spark\").getOrCreate()\n",
    "df = spark.read.option(\"header\",True).csv(\"/Volumes/mansi_test/default/test_vol1/img_data2.csv\")\n",
    "df.show()"
   ]
  },
  {
   "cell_type": "code",
   "execution_count": 0,
   "metadata": {
    "application/vnd.databricks.v1+cell": {
     "cellMetadata": {
      "byteLimit": 2048000,
      "rowLimit": 10000
     },
     "inputWidgets": {},
     "nuid": "ea2f83f5-2609-4343-9624-d4664b30e686",
     "showTitle": false,
     "title": ""
    }
   },
   "outputs": [
    {
     "output_type": "display_data",
     "data": {
      "text/html": [
       "<pre style=\"white-space:pre;overflow-x:auto;line-height:normal;font-family:Menlo,'DejaVu Sans Mono',consolas,'Courier New',monospace\"><span style=\"color: #7fbfbf; text-decoration-color: #7fbfbf\">2023-10-19 15:18:20 </span><span style=\"color: #000080; text-decoration-color: #000080\">INFO    </span> INFO:py4j.clientserver:Received command c on object id p0          <a href=\"file:///databricks/spark/python/lib/py4j-0.10.9.7-src.zip/py4j/clientserver.py\" target=\"_blank\"><span style=\"color: #7f7f7f; text-decoration-color: #7f7f7f\">clientserver.py</span></a><span style=\"color: #7f7f7f; text-decoration-color: #7f7f7f\">:</span><a href=\"file:///databricks/spark/python/lib/py4j-0.10.9.7-src.zip/py4j/clientserver.py#575\" target=\"_blank\"><span style=\"color: #7f7f7f; text-decoration-color: #7f7f7f\">575</span></a>\n",
       "</pre>\n"
      ],
      "text/plain": [
       "\u001B[2;36m2023-10-19 15:18:20\u001B[0m\u001B[2;36m \u001B[0m\u001B[34mINFO    \u001B[0m INFO:py4j.clientserver:Received command c on object id p0          \u001B]8;id=483129;file:///databricks/spark/python/lib/py4j-0.10.9.7-src.zip/py4j/clientserver.py\u001B\\\u001B[2mclientserver.py\u001B[0m\u001B]8;;\u001B\\\u001B[2m:\u001B[0m\u001B]8;id=60663;file:///databricks/spark/python/lib/py4j-0.10.9.7-src.zip/py4j/clientserver.py#575\u001B\\\u001B[2m575\u001B[0m\u001B]8;;\u001B\\\n"
      ]
     },
     "metadata": {},
     "output_type": "display_data"
    },
    {
     "output_type": "stream",
     "name": "stderr",
     "output_type": "stream",
     "text": [
      "\rUploading inputs:   0%|          | 0/1 [00:00<?, ?it/s]\rUploading inputs: 100%|██████████| 1/1 [00:02<00:00,  2.51s/it]\rUploading inputs: 100%|██████████| 1/1 [00:02<00:00,  2.51s/it]\n"
     ]
    }
   ],
   "source": [
    "dataset_obj.upload_from_dataframe(dataframe=df, input_type='image', df_type='url', labels=True)"
   ]
  },
  {
   "cell_type": "markdown",
   "metadata": {
    "application/vnd.databricks.v1+cell": {
     "cellMetadata": {},
     "inputWidgets": {},
     "nuid": "bdb964fd-2203-4c83-9313-cce1c5adcbc6",
     "showTitle": false,
     "title": ""
    }
   },
   "source": [
    "### Creating ClarifaiPyspark object & creating/fetching text dataset from app"
   ]
  },
  {
   "cell_type": "code",
   "execution_count": 0,
   "metadata": {
    "application/vnd.databricks.v1+cell": {
     "cellMetadata": {
      "byteLimit": 2048000,
      "rowLimit": 10000
     },
     "inputWidgets": {},
     "nuid": "3be66328-fbf5-4218-b4f7-971d03c67ead",
     "showTitle": false,
     "title": ""
    }
   },
   "outputs": [
    {
     "output_type": "display_data",
     "data": {
      "text/html": [
       "<pre style=\"white-space:pre;overflow-x:auto;line-height:normal;font-family:Menlo,'DejaVu Sans Mono',consolas,'Courier New',monospace\"><span style=\"color: #7fbfbf; text-decoration-color: #7fbfbf\">2023-10-19 15:07:26 </span><span style=\"color: #000080; text-decoration-color: #000080\">INFO    </span> INFO:py4j.clientserver:Received command c on object id p0          <a href=\"file:///databricks/spark/python/lib/py4j-0.10.9.7-src.zip/py4j/clientserver.py\" target=\"_blank\"><span style=\"color: #7f7f7f; text-decoration-color: #7f7f7f\">clientserver.py</span></a><span style=\"color: #7f7f7f; text-decoration-color: #7f7f7f\">:</span><a href=\"file:///databricks/spark/python/lib/py4j-0.10.9.7-src.zip/py4j/clientserver.py#575\" target=\"_blank\"><span style=\"color: #7f7f7f; text-decoration-color: #7f7f7f\">575</span></a>\n",
       "</pre>\n"
      ],
      "text/plain": [
       "\u001B[2;36m2023-10-19 15:07:26\u001B[0m\u001B[2;36m \u001B[0m\u001B[34mINFO    \u001B[0m INFO:py4j.clientserver:Received command c on object id p0          \u001B]8;id=445764;file:///databricks/spark/python/lib/py4j-0.10.9.7-src.zip/py4j/clientserver.py\u001B\\\u001B[2mclientserver.py\u001B[0m\u001B]8;;\u001B\\\u001B[2m:\u001B[0m\u001B]8;id=855606;file:///databricks/spark/python/lib/py4j-0.10.9.7-src.zip/py4j/clientserver.py#575\u001B\\\u001B[2m575\u001B[0m\u001B]8;;\u001B\\\n"
      ]
     },
     "metadata": {},
     "output_type": "display_data"
    }
   ],
   "source": [
    "cspark_obj = ClarifaiPySpark(user_id='mansi_k', app_id='docQA_tester')\n",
    "\n",
    "dataset_obj = cspark_obj.dataset(dataset_id='docQA_tester-dataset-1')"
   ]
  },
  {
   "cell_type": "markdown",
   "metadata": {
    "application/vnd.databricks.v1+cell": {
     "cellMetadata": {},
     "inputWidgets": {},
     "nuid": "5f12641b-c675-4e76-bbfd-30c3ca0592a5",
     "showTitle": false,
     "title": ""
    }
   },
   "source": [
    "### Fetching current inputs from text dataset"
   ]
  },
  {
   "cell_type": "code",
   "execution_count": 0,
   "metadata": {
    "application/vnd.databricks.v1+cell": {
     "cellMetadata": {
      "byteLimit": 2048000,
      "rowLimit": 10000
     },
     "inputWidgets": {},
     "nuid": "301a1f0f-b1fa-4220-b8ee-02710876a414",
     "showTitle": false,
     "title": ""
    }
   },
   "outputs": [
    {
     "output_type": "display_data",
     "data": {
      "text/html": [
       "<pre style=\"white-space:pre;overflow-x:auto;line-height:normal;font-family:Menlo,'DejaVu Sans Mono',consolas,'Courier New',monospace\"><span style=\"color: #7fbfbf; text-decoration-color: #7fbfbf\">2023-10-19 13:28:06 </span><span style=\"color: #000080; text-decoration-color: #000080\">INFO    </span> INFO:py4j.clientserver:Received command c on object id p0          <a href=\"file:///databricks/spark/python/lib/py4j-0.10.9.7-src.zip/py4j/clientserver.py\" target=\"_blank\"><span style=\"color: #7f7f7f; text-decoration-color: #7f7f7f\">clientserver.py</span></a><span style=\"color: #7f7f7f; text-decoration-color: #7f7f7f\">:</span><a href=\"file:///databricks/spark/python/lib/py4j-0.10.9.7-src.zip/py4j/clientserver.py#575\" target=\"_blank\"><span style=\"color: #7f7f7f; text-decoration-color: #7f7f7f\">575</span></a>\n",
       "</pre>\n"
      ],
      "text/plain": [
       "\u001B[2;36m2023-10-19 13:28:06\u001B[0m\u001B[2;36m \u001B[0m\u001B[34mINFO    \u001B[0m INFO:py4j.clientserver:Received command c on object id p0          \u001B]8;id=415402;file:///databricks/spark/python/lib/py4j-0.10.9.7-src.zip/py4j/clientserver.py\u001B\\\u001B[2mclientserver.py\u001B[0m\u001B]8;;\u001B\\\u001B[2m:\u001B[0m\u001B]8;id=260392;file:///databricks/spark/python/lib/py4j-0.10.9.7-src.zip/py4j/clientserver.py#575\u001B\\\u001B[2m575\u001B[0m\u001B]8;;\u001B\\\n"
      ]
     },
     "metadata": {},
     "output_type": "display_data"
    },
    {
     "output_type": "execute_result",
     "data": {
      "text/plain": [
       "[id: \"t1\"\n",
       " data {\n",
       "   concepts {\n",
       "     id: \"id-happy\"\n",
       "     name: \"happy\"\n",
       "     value: 1\n",
       "     app_id: \"docQA_tester\"\n",
       "   }\n",
       "   text {\n",
       "     url: \"https://data.clarifai.com/orig/users/mansi_k/apps/docQA_tester/inputs/text/e58883f24060c49e19d8bc7cf4e5e8f9\"\n",
       "     hosted {\n",
       "       prefix: \"https://data.clarifai.com\"\n",
       "       suffix: \"users/mansi_k/apps/docQA_tester/inputs/text/e58883f24060c49e19d8bc7cf4e5e8f9\"\n",
       "       sizes: \"orig\"\n",
       "       crossorigin: \"use-credentials\"\n",
       "     }\n",
       "     text_info {\n",
       "       char_count: 20\n",
       "       encoding: \"UTF8\"\n",
       "     }\n",
       "   }\n",
       " }\n",
       " created_at {\n",
       "   seconds: 1697717839\n",
       "   nanos: 238509000\n",
       " }\n",
       " modified_at {\n",
       "   seconds: 1697717869\n",
       "   nanos: 119549000\n",
       " }\n",
       " status {\n",
       "   code: INPUT_DOWNLOAD_SUCCESS\n",
       "   description: \"Download complete\"\n",
       " },\n",
       " id: \"t2\"\n",
       " data {\n",
       "   concepts {\n",
       "     id: \"id-neutral\"\n",
       "     name: \"neutral\"\n",
       "     value: 1\n",
       "     app_id: \"docQA_tester\"\n",
       "   }\n",
       "   text {\n",
       "     url: \"https://data.clarifai.com/orig/users/mansi_k/apps/docQA_tester/inputs/text/391ab3ba74427b778e0cd9a2d33d6922\"\n",
       "     hosted {\n",
       "       prefix: \"https://data.clarifai.com\"\n",
       "       suffix: \"users/mansi_k/apps/docQA_tester/inputs/text/391ab3ba74427b778e0cd9a2d33d6922\"\n",
       "       sizes: \"orig\"\n",
       "       crossorigin: \"use-credentials\"\n",
       "     }\n",
       "     text_info {\n",
       "       char_count: 20\n",
       "       encoding: \"UTF8\"\n",
       "     }\n",
       "   }\n",
       " }\n",
       " created_at {\n",
       "   seconds: 1697717839\n",
       "   nanos: 238509000\n",
       " }\n",
       " modified_at {\n",
       "   seconds: 1697717869\n",
       "   nanos: 119549000\n",
       " }\n",
       " status {\n",
       "   code: INPUT_DOWNLOAD_SUCCESS\n",
       "   description: \"Download complete\"\n",
       " },\n",
       " id: \"t3\"\n",
       " data {\n",
       "   concepts {\n",
       "     id: \"id-sad\"\n",
       "     name: \"sad\"\n",
       "     value: 1\n",
       "     app_id: \"docQA_tester\"\n",
       "   }\n",
       "   text {\n",
       "     url: \"https://data.clarifai.com/orig/users/mansi_k/apps/docQA_tester/inputs/text/a463061d92f31b19f6cc6459e132c8be\"\n",
       "     hosted {\n",
       "       prefix: \"https://data.clarifai.com\"\n",
       "       suffix: \"users/mansi_k/apps/docQA_tester/inputs/text/a463061d92f31b19f6cc6459e132c8be\"\n",
       "       sizes: \"orig\"\n",
       "       crossorigin: \"use-credentials\"\n",
       "     }\n",
       "     text_info {\n",
       "       char_count: 27\n",
       "       encoding: \"UTF8\"\n",
       "     }\n",
       "   }\n",
       " }\n",
       " created_at {\n",
       "   seconds: 1697717839\n",
       "   nanos: 238509000\n",
       " }\n",
       " modified_at {\n",
       "   seconds: 1697717869\n",
       "   nanos: 119549000\n",
       " }\n",
       " status {\n",
       "   code: INPUT_DOWNLOAD_SUCCESS\n",
       "   description: \"Download complete\"\n",
       " },\n",
       " id: \"c4d7466cc6db4730b9e8f981bde25ef4\"\n",
       " data {\n",
       "   geo {\n",
       "     geo_point {\n",
       "     }\n",
       "   }\n",
       "   text {\n",
       "     url: \"https://data.clarifai.com/orig/users/mansi_k/apps/docQA_tester/inputs/text/67fcaa67fa941b5e59aeab2ca98822b7\"\n",
       "     hosted {\n",
       "       prefix: \"https://data.clarifai.com\"\n",
       "       suffix: \"users/mansi_k/apps/docQA_tester/inputs/text/67fcaa67fa941b5e59aeab2ca98822b7\"\n",
       "       sizes: \"orig\"\n",
       "       crossorigin: \"use-credentials\"\n",
       "     }\n",
       "     text_info {\n",
       "       char_count: 822\n",
       "       encoding: \"UTF8\"\n",
       "     }\n",
       "   }\n",
       " }\n",
       " created_at {\n",
       "   seconds: 1695212294\n",
       "   nanos: 983363000\n",
       " }\n",
       " modified_at {\n",
       "   seconds: 1695212296\n",
       "   nanos: 407321000\n",
       " }\n",
       " status {\n",
       "   code: INPUT_DOWNLOAD_SUCCESS\n",
       "   description: \"Download complete\"\n",
       " },\n",
       " id: \"d4695ead0a964ccda6e525c3ce1fc44e\"\n",
       " data {\n",
       "   geo {\n",
       "     geo_point {\n",
       "       longitude: -77.0365524\n",
       "       latitude: 38.8977\n",
       "     }\n",
       "   }\n",
       "   text {\n",
       "     url: \"https://data.clarifai.com/orig/users/mansi_k/apps/docQA_tester/inputs/text/ce9f03412d8bdca94774337d617db4c7\"\n",
       "     hosted {\n",
       "       prefix: \"https://data.clarifai.com\"\n",
       "       suffix: \"users/mansi_k/apps/docQA_tester/inputs/text/ce9f03412d8bdca94774337d617db4c7\"\n",
       "       sizes: \"orig\"\n",
       "       crossorigin: \"use-credentials\"\n",
       "     }\n",
       "     text_info {\n",
       "       char_count: 2302\n",
       "       encoding: \"UTF8\"\n",
       "     }\n",
       "   }\n",
       " }\n",
       " created_at {\n",
       "   seconds: 1695282958\n",
       "   nanos: 982205000\n",
       " }\n",
       " modified_at {\n",
       "   seconds: 1695282974\n",
       "   nanos: 843451000\n",
       " }\n",
       " status {\n",
       "   code: INPUT_DOWNLOAD_SUCCESS\n",
       "   description: \"Download complete\"\n",
       " },\n",
       " id: \"f556852c4ed5437f9abc61c39cf621b1\"\n",
       " data {\n",
       "   geo {\n",
       "     geo_point {\n",
       "       longitude: -0.12765\n",
       "       latitude: 51.5073357\n",
       "     }\n",
       "   }\n",
       "   text {\n",
       "     url: \"https://data.clarifai.com/orig/users/mansi_k/apps/docQA_tester/inputs/text/0840f0791c9b6d9f444c799631bc49c7\"\n",
       "     hosted {\n",
       "       prefix: \"https://data.clarifai.com\"\n",
       "       suffix: \"users/mansi_k/apps/docQA_tester/inputs/text/0840f0791c9b6d9f444c799631bc49c7\"\n",
       "       sizes: \"orig\"\n",
       "       crossorigin: \"use-credentials\"\n",
       "     }\n",
       "     text_info {\n",
       "       char_count: 1149\n",
       "       encoding: \"UTF8\"\n",
       "     }\n",
       "   }\n",
       " }\n",
       " created_at {\n",
       "   seconds: 1695231046\n",
       "   nanos: 987712000\n",
       " }\n",
       " modified_at {\n",
       "   seconds: 1695231047\n",
       "   nanos: 786691000\n",
       " }\n",
       " status {\n",
       "   code: INPUT_DOWNLOAD_SUCCESS\n",
       "   description: \"Download complete\"\n",
       " },\n",
       " id: \"f58e67cdf62347d5a95c07c086530a38\"\n",
       " data {\n",
       "   text {\n",
       "     url: \"https://data.clarifai.com/orig/users/mansi_k/apps/docQA_tester/inputs/text/08c8a3cd112feaeecfde21b154274257\"\n",
       "     hosted {\n",
       "       prefix: \"https://data.clarifai.com\"\n",
       "       suffix: \"users/mansi_k/apps/docQA_tester/inputs/text/08c8a3cd112feaeecfde21b154274257\"\n",
       "       sizes: \"orig\"\n",
       "       crossorigin: \"use-credentials\"\n",
       "     }\n",
       "     text_info {\n",
       "       char_count: 2042\n",
       "       encoding: \"UTF8\"\n",
       "     }\n",
       "   }\n",
       " }\n",
       " created_at {\n",
       "   seconds: 1695211666\n",
       "   nanos: 33122000\n",
       " }\n",
       " modified_at {\n",
       "   seconds: 1695211666\n",
       "   nanos: 735246000\n",
       " }\n",
       " status {\n",
       "   code: INPUT_DOWNLOAD_SUCCESS\n",
       "   description: \"Download complete\"\n",
       " },\n",
       " id: \"82896dae447f418bb2fbcf7cac932259\"\n",
       " data {\n",
       "   geo {\n",
       "     geo_point {\n",
       "     }\n",
       "   }\n",
       "   text {\n",
       "     url: \"https://data.clarifai.com/orig/users/mansi_k/apps/docQA_tester/inputs/text/64ce626fbdc3823ed015987ee9e0d2fc\"\n",
       "     hosted {\n",
       "       prefix: \"https://data.clarifai.com\"\n",
       "       suffix: \"users/mansi_k/apps/docQA_tester/inputs/text/64ce626fbdc3823ed015987ee9e0d2fc\"\n",
       "       sizes: \"orig\"\n",
       "       crossorigin: \"use-credentials\"\n",
       "     }\n",
       "     text_info {\n",
       "       char_count: 1031\n",
       "       encoding: \"UTF8\"\n",
       "     }\n",
       "   }\n",
       " }\n",
       " created_at {\n",
       "   seconds: 1695212294\n",
       "   nanos: 983363000\n",
       " }\n",
       " modified_at {\n",
       "   seconds: 1695212296\n",
       "   nanos: 407321000\n",
       " }\n",
       " status {\n",
       "   code: INPUT_DOWNLOAD_SUCCESS\n",
       "   description: \"Download complete\"\n",
       " },\n",
       " id: \"8bb6ce322587442fbb4d055913c62345\"\n",
       " data {\n",
       "   geo {\n",
       "     geo_point {\n",
       "       longitude: -1.13319695\n",
       "       latitude: 52.6362\n",
       "     }\n",
       "   }\n",
       "   text {\n",
       "     url: \"https://data.clarifai.com/orig/users/mansi_k/apps/docQA_tester/inputs/text/0840f0791c9b6d9f444c799631bc49c7\"\n",
       "     hosted {\n",
       "       prefix: \"https://data.clarifai.com\"\n",
       "       suffix: \"users/mansi_k/apps/docQA_tester/inputs/text/0840f0791c9b6d9f444c799631bc49c7\"\n",
       "       sizes: \"orig\"\n",
       "       crossorigin: \"use-credentials\"\n",
       "     }\n",
       "     text_info {\n",
       "       char_count: 1149\n",
       "       encoding: \"UTF8\"\n",
       "     }\n",
       "   }\n",
       " }\n",
       " created_at {\n",
       "   seconds: 1695282958\n",
       "   nanos: 982205000\n",
       " }\n",
       " modified_at {\n",
       "   seconds: 1695282974\n",
       "   nanos: 843451000\n",
       " }\n",
       " status {\n",
       "   code: INPUT_DOWNLOAD_SUCCESS\n",
       "   description: \"Download complete\"\n",
       " }]"
      ]
     },
     "execution_count": 19,
     "metadata": {},
     "output_type": "execute_result"
    }
   ],
   "source": [
    "my_inputs = dataset_obj.list_inputs_from_dataset()\n",
    "\n",
    "my_inputs"
   ]
  },
  {
   "cell_type": "markdown",
   "metadata": {
    "application/vnd.databricks.v1+cell": {
     "cellMetadata": {},
     "inputWidgets": {},
     "nuid": "59d06dc0-5235-41c1-be75-a5a8cd9dad73",
     "showTitle": false,
     "title": ""
    }
   },
   "source": [
    "### Testing export_text_to_volume()\n",
    "\n",
    "Q- Create folders acc to concept name?   \n",
    "Q- Save text as csv?"
   ]
  },
  {
   "cell_type": "code",
   "execution_count": 0,
   "metadata": {
    "application/vnd.databricks.v1+cell": {
     "cellMetadata": {
      "byteLimit": 2048000,
      "rowLimit": 10000
     },
     "inputWidgets": {},
     "nuid": "e01c1396-1cd3-4290-b702-d9114244ff90",
     "showTitle": false,
     "title": ""
    }
   },
   "outputs": [
    {
     "output_type": "display_data",
     "data": {
      "text/html": [
       "<pre style=\"white-space:pre;overflow-x:auto;line-height:normal;font-family:Menlo,'DejaVu Sans Mono',consolas,'Courier New',monospace\"><span style=\"color: #7fbfbf; text-decoration-color: #7fbfbf\">2023-10-19 13:28:17 </span><span style=\"color: #000080; text-decoration-color: #000080\">INFO    </span> INFO:py4j.clientserver:Received command c on object id p0          <a href=\"file:///databricks/spark/python/lib/py4j-0.10.9.7-src.zip/py4j/clientserver.py\" target=\"_blank\"><span style=\"color: #7f7f7f; text-decoration-color: #7f7f7f\">clientserver.py</span></a><span style=\"color: #7f7f7f; text-decoration-color: #7f7f7f\">:</span><a href=\"file:///databricks/spark/python/lib/py4j-0.10.9.7-src.zip/py4j/clientserver.py#575\" target=\"_blank\"><span style=\"color: #7f7f7f; text-decoration-color: #7f7f7f\">575</span></a>\n",
       "</pre>\n"
      ],
      "text/plain": [
       "\u001B[2;36m2023-10-19 13:28:17\u001B[0m\u001B[2;36m \u001B[0m\u001B[34mINFO    \u001B[0m INFO:py4j.clientserver:Received command c on object id p0          \u001B]8;id=319111;file:///databricks/spark/python/lib/py4j-0.10.9.7-src.zip/py4j/clientserver.py\u001B\\\u001B[2mclientserver.py\u001B[0m\u001B]8;;\u001B\\\u001B[2m:\u001B[0m\u001B]8;id=633711;file:///databricks/spark/python/lib/py4j-0.10.9.7-src.zip/py4j/clientserver.py#575\u001B\\\u001B[2m575\u001B[0m\u001B]8;;\u001B\\\n"
      ]
     },
     "metadata": {},
     "output_type": "display_data"
    }
   ],
   "source": [
    "dataset_obj.export_text_to_volume(path=\"/Volumes/mansi_test/default/test_vol1\", input_response=my_inputs)"
   ]
  },
  {
   "cell_type": "markdown",
   "metadata": {
    "application/vnd.databricks.v1+cell": {
     "cellMetadata": {},
     "inputWidgets": {},
     "nuid": "0f8b3c16-8b05-4dee-b834-1270edc2b0b2",
     "showTitle": false,
     "title": ""
    }
   },
   "source": [
    "### Upload text from volume csv to Clarifai dataset"
   ]
  },
  {
   "cell_type": "code",
   "execution_count": 0,
   "metadata": {
    "application/vnd.databricks.v1+cell": {
     "cellMetadata": {
      "byteLimit": 2048000,
      "rowLimit": 10000
     },
     "inputWidgets": {},
     "nuid": "1c7d8451-d9ac-42e6-85e6-ff451aeb6a1e",
     "showTitle": false,
     "title": ""
    }
   },
   "outputs": [
    {
     "output_type": "display_data",
     "data": {
      "text/html": [
       "<pre style=\"white-space:pre;overflow-x:auto;line-height:normal;font-family:Menlo,'DejaVu Sans Mono',consolas,'Courier New',monospace\"><span style=\"color: #7fbfbf; text-decoration-color: #7fbfbf\">2023-10-19 12:17:18 </span><span style=\"color: #000080; text-decoration-color: #000080\">INFO    </span> INFO:py4j.clientserver:Received command c on object id p0          <a href=\"file:///databricks/spark/python/lib/py4j-0.10.9.7-src.zip/py4j/clientserver.py\" target=\"_blank\"><span style=\"color: #7f7f7f; text-decoration-color: #7f7f7f\">clientserver.py</span></a><span style=\"color: #7f7f7f; text-decoration-color: #7f7f7f\">:</span><a href=\"file:///databricks/spark/python/lib/py4j-0.10.9.7-src.zip/py4j/clientserver.py#575\" target=\"_blank\"><span style=\"color: #7f7f7f; text-decoration-color: #7f7f7f\">575</span></a>\n",
       "</pre>\n"
      ],
      "text/plain": [
       "\u001B[2;36m2023-10-19 12:17:18\u001B[0m\u001B[2;36m \u001B[0m\u001B[34mINFO    \u001B[0m INFO:py4j.clientserver:Received command c on object id p0          \u001B]8;id=856945;file:///databricks/spark/python/lib/py4j-0.10.9.7-src.zip/py4j/clientserver.py\u001B\\\u001B[2mclientserver.py\u001B[0m\u001B]8;;\u001B\\\u001B[2m:\u001B[0m\u001B]8;id=618624;file:///databricks/spark/python/lib/py4j-0.10.9.7-src.zip/py4j/clientserver.py#575\u001B\\\u001B[2m575\u001B[0m\u001B]8;;\u001B\\\n"
      ]
     },
     "metadata": {},
     "output_type": "display_data"
    },
    {
     "output_type": "stream",
     "name": "stderr",
     "output_type": "stream",
     "text": [
      "\rUploading inputs:   0%|          | 0/1 [00:00<?, ?it/s]\rUploading inputs: 100%|██████████| 1/1 [00:41<00:00, 41.02s/it]\rUploading inputs: 100%|██████████| 1/1 [00:41<00:00, 41.02s/it]\n"
     ]
    }
   ],
   "source": [
    "dataset_obj.upload_dataset_from_csv(csv_path='/Volumes/mansi_test/default/test_vol1/emotions_data.csv', input_type='text', labels=True, csv_type='raw')"
   ]
  },
  {
   "cell_type": "markdown",
   "metadata": {
    "application/vnd.databricks.v1+cell": {
     "cellMetadata": {},
     "inputWidgets": {},
     "nuid": "b6363576-2540-491e-9506-5af1c7d5fa2b",
     "showTitle": false,
     "title": ""
    }
   },
   "source": [
    "### Load test csv file & upload text data into app using dataframe"
   ]
  },
  {
   "cell_type": "code",
   "execution_count": 0,
   "metadata": {
    "application/vnd.databricks.v1+cell": {
     "cellMetadata": {
      "byteLimit": 2048000,
      "rowLimit": 10000
     },
     "inputWidgets": {},
     "nuid": "af76b341-7019-4513-bf93-a934067136ff",
     "showTitle": false,
     "title": ""
    }
   },
   "outputs": [
    {
     "output_type": "display_data",
     "data": {
      "text/html": [
       "<pre style=\"white-space:pre;overflow-x:auto;line-height:normal;font-family:Menlo,'DejaVu Sans Mono',consolas,'Courier New',monospace\"><span style=\"color: #7fbfbf; text-decoration-color: #7fbfbf\">2023-10-19 15:07:39 </span><span style=\"color: #000080; text-decoration-color: #000080\">INFO    </span> INFO:py4j.clientserver:Received command c on object id p0          <a href=\"file:///databricks/spark/python/lib/py4j-0.10.9.7-src.zip/py4j/clientserver.py\" target=\"_blank\"><span style=\"color: #7f7f7f; text-decoration-color: #7f7f7f\">clientserver.py</span></a><span style=\"color: #7f7f7f; text-decoration-color: #7f7f7f\">:</span><a href=\"file:///databricks/spark/python/lib/py4j-0.10.9.7-src.zip/py4j/clientserver.py#575\" target=\"_blank\"><span style=\"color: #7f7f7f; text-decoration-color: #7f7f7f\">575</span></a>\n",
       "</pre>\n"
      ],
      "text/plain": [
       "\u001B[2;36m2023-10-19 15:07:39\u001B[0m\u001B[2;36m \u001B[0m\u001B[34mINFO    \u001B[0m INFO:py4j.clientserver:Received command c on object id p0          \u001B]8;id=960477;file:///databricks/spark/python/lib/py4j-0.10.9.7-src.zip/py4j/clientserver.py\u001B\\\u001B[2mclientserver.py\u001B[0m\u001B]8;;\u001B\\\u001B[2m:\u001B[0m\u001B]8;id=482382;file:///databricks/spark/python/lib/py4j-0.10.9.7-src.zip/py4j/clientserver.py#575\u001B\\\u001B[2m575\u001B[0m\u001B]8;;\u001B\\\n"
      ]
     },
     "metadata": {},
     "output_type": "display_data"
    },
    {
     "output_type": "stream",
     "name": "stdout",
     "output_type": "stream",
     "text": [
      "+-------+--------------------+--------+\n|inputid|               input|concepts|\n+-------+--------------------+--------+\n|    t11|   I am feeling good|   happy|\n|    t21|This is a guava tree| neutral|\n|    t31|This is a saddeni...|     sad|\n+-------+--------------------+--------+\n\n"
     ]
    }
   ],
   "source": [
    "spark = SparkSession.builder.appName(\"Clarifai-spark\").getOrCreate()\n",
    "df = spark.read.option(\"header\",True).csv(\"/Volumes/mansi_test/default/test_vol1/emotions_data1.csv\")\n",
    "df.show()"
   ]
  },
  {
   "cell_type": "code",
   "execution_count": 0,
   "metadata": {
    "application/vnd.databricks.v1+cell": {
     "cellMetadata": {
      "byteLimit": 2048000,
      "rowLimit": 10000
     },
     "inputWidgets": {},
     "nuid": "c327d8d8-db0d-42db-bd79-a43743c08423",
     "showTitle": false,
     "title": ""
    }
   },
   "outputs": [
    {
     "output_type": "display_data",
     "data": {
      "text/html": [
       "<pre style=\"white-space:pre;overflow-x:auto;line-height:normal;font-family:Menlo,'DejaVu Sans Mono',consolas,'Courier New',monospace\"><span style=\"color: #7fbfbf; text-decoration-color: #7fbfbf\">2023-10-19 15:07:48 </span><span style=\"color: #000080; text-decoration-color: #000080\">INFO    </span> INFO:py4j.clientserver:Received command c on object id p0          <a href=\"file:///databricks/spark/python/lib/py4j-0.10.9.7-src.zip/py4j/clientserver.py\" target=\"_blank\"><span style=\"color: #7f7f7f; text-decoration-color: #7f7f7f\">clientserver.py</span></a><span style=\"color: #7f7f7f; text-decoration-color: #7f7f7f\">:</span><a href=\"file:///databricks/spark/python/lib/py4j-0.10.9.7-src.zip/py4j/clientserver.py#575\" target=\"_blank\"><span style=\"color: #7f7f7f; text-decoration-color: #7f7f7f\">575</span></a>\n",
       "</pre>\n"
      ],
      "text/plain": [
       "\u001B[2;36m2023-10-19 15:07:48\u001B[0m\u001B[2;36m \u001B[0m\u001B[34mINFO    \u001B[0m INFO:py4j.clientserver:Received command c on object id p0          \u001B]8;id=488728;file:///databricks/spark/python/lib/py4j-0.10.9.7-src.zip/py4j/clientserver.py\u001B\\\u001B[2mclientserver.py\u001B[0m\u001B]8;;\u001B\\\u001B[2m:\u001B[0m\u001B]8;id=549985;file:///databricks/spark/python/lib/py4j-0.10.9.7-src.zip/py4j/clientserver.py#575\u001B\\\u001B[2m575\u001B[0m\u001B]8;;\u001B\\\n"
      ]
     },
     "metadata": {},
     "output_type": "display_data"
    },
    {
     "output_type": "stream",
     "name": "stderr",
     "output_type": "stream",
     "text": [
      "\rUploading inputs:   0%|          | 0/1 [00:00<?, ?it/s]\rUploading inputs: 100%|██████████| 1/1 [00:01<00:00,  1.14s/it]\rUploading inputs: 100%|██████████| 1/1 [00:01<00:00,  1.15s/it]\n"
     ]
    }
   ],
   "source": [
    "dataset_obj.upload_from_dataframe(dataframe=df, input_type='text', df_type='raw', labels=True)"
   ]
  }
 ],
 "metadata": {
  "application/vnd.databricks.v1+notebook": {
   "dashboards": [],
   "language": "python",
   "notebookMetadata": {
    "pythonIndentUnit": 4
   },
   "notebookName": "SDK_in_book_test",
   "widgets": {}
  }
 },
 "nbformat": 4,
 "nbformat_minor": 0
}
