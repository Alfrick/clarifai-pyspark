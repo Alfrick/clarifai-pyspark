{
 "cells": [
  {
   "cell_type": "code",
   "execution_count": 44,
   "metadata": {},
   "outputs": [
    {
     "name": "stdout",
     "output_type": "stream",
     "text": [
      "Obtaining file:///Users/mogithpn/work/clarifai-pyspark\n",
      "  Installing build dependencies ... \u001b[?25ldone\n",
      "\u001b[?25h  Checking if build backend supports build_editable ... \u001b[?25ldone\n",
      "\u001b[?25h  Getting requirements to build editable ... \u001b[?25ldone\n",
      "\u001b[?25h  Preparing editable metadata (pyproject.toml) ... \u001b[?25ldone\n",
      "\u001b[?25hRequirement already satisfied: clarifai==9.9.3 in /Users/mogithpn/.pyenv/versions/3.9.10/lib/python3.9/site-packages (from clarifaipyspark==0.1) (9.9.3)\n",
      "Requirement already satisfied: pyspark==3.5.0 in /Users/mogithpn/.pyenv/versions/3.9.10/lib/python3.9/site-packages (from clarifaipyspark==0.1) (3.5.0)\n",
      "Requirement already satisfied: clarifai-grpc==9.8.1 in /Users/mogithpn/.pyenv/versions/3.9.10/lib/python3.9/site-packages (from clarifai==9.9.3->clarifaipyspark==0.1) (9.8.1)\n",
      "Requirement already satisfied: pandas==1.3.5 in /Users/mogithpn/.pyenv/versions/3.9.10/lib/python3.9/site-packages (from clarifai==9.9.3->clarifaipyspark==0.1) (1.3.5)\n",
      "Requirement already satisfied: numpy==1.22.0 in /Users/mogithpn/.pyenv/versions/3.9.10/lib/python3.9/site-packages (from clarifai==9.9.3->clarifaipyspark==0.1) (1.22.0)\n",
      "Requirement already satisfied: tqdm>=4.65.0 in /Users/mogithpn/.pyenv/versions/3.9.10/lib/python3.9/site-packages (from clarifai==9.9.3->clarifaipyspark==0.1) (4.66.1)\n",
      "Requirement already satisfied: omegaconf==2.2.3 in /Users/mogithpn/.pyenv/versions/3.9.10/lib/python3.9/site-packages (from clarifai==9.9.3->clarifaipyspark==0.1) (2.2.3)\n",
      "Requirement already satisfied: pycocotools==2.0.6 in /Users/mogithpn/.pyenv/versions/3.9.10/lib/python3.9/site-packages (from clarifai==9.9.3->clarifaipyspark==0.1) (2.0.6)\n",
      "Requirement already satisfied: opencv-python==4.7.0.68 in /Users/mogithpn/.pyenv/versions/3.9.10/lib/python3.9/site-packages (from clarifai==9.9.3->clarifaipyspark==0.1) (4.7.0.68)\n",
      "Requirement already satisfied: tritonclient==2.34.0 in /Users/mogithpn/.pyenv/versions/3.9.10/lib/python3.9/site-packages (from clarifai==9.9.3->clarifaipyspark==0.1) (2.34.0)\n",
      "Requirement already satisfied: rich==13.4.2 in /Users/mogithpn/.pyenv/versions/3.9.10/lib/python3.9/site-packages (from clarifai==9.9.3->clarifaipyspark==0.1) (13.4.2)\n",
      "Requirement already satisfied: pytest==7.4.1 in /Users/mogithpn/.pyenv/versions/3.9.10/lib/python3.9/site-packages (from clarifai==9.9.3->clarifaipyspark==0.1) (7.4.1)\n",
      "Requirement already satisfied: PyYAML==6.0.1 in /Users/mogithpn/.pyenv/versions/3.9.10/lib/python3.9/site-packages (from clarifai==9.9.3->clarifaipyspark==0.1) (6.0.1)\n",
      "Requirement already satisfied: schema==0.7.5 in /Users/mogithpn/.pyenv/versions/3.9.10/lib/python3.9/site-packages (from clarifai==9.9.3->clarifaipyspark==0.1) (0.7.5)\n",
      "Requirement already satisfied: py4j==0.10.9.7 in /Users/mogithpn/.pyenv/versions/3.9.10/lib/python3.9/site-packages (from pyspark==3.5.0->clarifaipyspark==0.1) (0.10.9.7)\n",
      "Requirement already satisfied: grpcio>=1.44.0 in /Users/mogithpn/.pyenv/versions/3.9.10/lib/python3.9/site-packages (from clarifai-grpc==9.8.1->clarifai==9.9.3->clarifaipyspark==0.1) (1.59.0)\n",
      "Requirement already satisfied: protobuf>=3.20.3 in /Users/mogithpn/.pyenv/versions/3.9.10/lib/python3.9/site-packages (from clarifai-grpc==9.8.1->clarifai==9.9.3->clarifaipyspark==0.1) (4.24.4)\n",
      "Requirement already satisfied: googleapis-common-protos>=1.53.0 in /Users/mogithpn/.pyenv/versions/3.9.10/lib/python3.9/site-packages (from clarifai-grpc==9.8.1->clarifai==9.9.3->clarifaipyspark==0.1) (1.61.0)\n",
      "Requirement already satisfied: requests>=2.25.1 in /Users/mogithpn/.pyenv/versions/3.9.10/lib/python3.9/site-packages (from clarifai-grpc==9.8.1->clarifai==9.9.3->clarifaipyspark==0.1) (2.31.0)\n",
      "Requirement already satisfied: antlr4-python3-runtime==4.9.* in /Users/mogithpn/.pyenv/versions/3.9.10/lib/python3.9/site-packages (from omegaconf==2.2.3->clarifai==9.9.3->clarifaipyspark==0.1) (4.9.3)\n",
      "Requirement already satisfied: python-dateutil>=2.7.3 in /Users/mogithpn/.pyenv/versions/3.9.10/lib/python3.9/site-packages (from pandas==1.3.5->clarifai==9.9.3->clarifaipyspark==0.1) (2.8.2)\n",
      "Requirement already satisfied: pytz>=2017.3 in /Users/mogithpn/.pyenv/versions/3.9.10/lib/python3.9/site-packages (from pandas==1.3.5->clarifai==9.9.3->clarifaipyspark==0.1) (2023.3.post1)\n",
      "Requirement already satisfied: matplotlib>=2.1.0 in /Users/mogithpn/.pyenv/versions/3.9.10/lib/python3.9/site-packages (from pycocotools==2.0.6->clarifai==9.9.3->clarifaipyspark==0.1) (3.8.0)\n",
      "Requirement already satisfied: iniconfig in /Users/mogithpn/.pyenv/versions/3.9.10/lib/python3.9/site-packages (from pytest==7.4.1->clarifai==9.9.3->clarifaipyspark==0.1) (2.0.0)\n",
      "Requirement already satisfied: packaging in /Users/mogithpn/.pyenv/versions/3.9.10/lib/python3.9/site-packages (from pytest==7.4.1->clarifai==9.9.3->clarifaipyspark==0.1) (23.2)\n",
      "Requirement already satisfied: pluggy<2.0,>=0.12 in /Users/mogithpn/.pyenv/versions/3.9.10/lib/python3.9/site-packages (from pytest==7.4.1->clarifai==9.9.3->clarifaipyspark==0.1) (1.3.0)\n",
      "Requirement already satisfied: exceptiongroup>=1.0.0rc8 in /Users/mogithpn/.pyenv/versions/3.9.10/lib/python3.9/site-packages (from pytest==7.4.1->clarifai==9.9.3->clarifaipyspark==0.1) (1.1.3)\n",
      "Requirement already satisfied: tomli>=1.0.0 in /Users/mogithpn/.pyenv/versions/3.9.10/lib/python3.9/site-packages (from pytest==7.4.1->clarifai==9.9.3->clarifaipyspark==0.1) (2.0.1)\n",
      "Requirement already satisfied: markdown-it-py>=2.2.0 in /Users/mogithpn/.pyenv/versions/3.9.10/lib/python3.9/site-packages (from rich==13.4.2->clarifai==9.9.3->clarifaipyspark==0.1) (3.0.0)\n",
      "Requirement already satisfied: pygments<3.0.0,>=2.13.0 in /Users/mogithpn/.pyenv/versions/3.9.10/lib/python3.9/site-packages (from rich==13.4.2->clarifai==9.9.3->clarifaipyspark==0.1) (2.16.1)\n",
      "Requirement already satisfied: contextlib2>=0.5.5 in /Users/mogithpn/.pyenv/versions/3.9.10/lib/python3.9/site-packages (from schema==0.7.5->clarifai==9.9.3->clarifaipyspark==0.1) (21.6.0)\n",
      "Requirement already satisfied: python-rapidjson>=0.9.1 in /Users/mogithpn/.pyenv/versions/3.9.10/lib/python3.9/site-packages (from tritonclient==2.34.0->clarifai==9.9.3->clarifaipyspark==0.1) (1.12)\n",
      "Requirement already satisfied: mdurl~=0.1 in /Users/mogithpn/.pyenv/versions/3.9.10/lib/python3.9/site-packages (from markdown-it-py>=2.2.0->rich==13.4.2->clarifai==9.9.3->clarifaipyspark==0.1) (0.1.2)\n",
      "Requirement already satisfied: contourpy>=1.0.1 in /Users/mogithpn/.pyenv/versions/3.9.10/lib/python3.9/site-packages (from matplotlib>=2.1.0->pycocotools==2.0.6->clarifai==9.9.3->clarifaipyspark==0.1) (1.1.1)\n",
      "Requirement already satisfied: cycler>=0.10 in /Users/mogithpn/.pyenv/versions/3.9.10/lib/python3.9/site-packages (from matplotlib>=2.1.0->pycocotools==2.0.6->clarifai==9.9.3->clarifaipyspark==0.1) (0.12.1)\n",
      "Requirement already satisfied: fonttools>=4.22.0 in /Users/mogithpn/.pyenv/versions/3.9.10/lib/python3.9/site-packages (from matplotlib>=2.1.0->pycocotools==2.0.6->clarifai==9.9.3->clarifaipyspark==0.1) (4.43.1)\n",
      "Requirement already satisfied: kiwisolver>=1.0.1 in /Users/mogithpn/.pyenv/versions/3.9.10/lib/python3.9/site-packages (from matplotlib>=2.1.0->pycocotools==2.0.6->clarifai==9.9.3->clarifaipyspark==0.1) (1.4.5)\n",
      "Requirement already satisfied: pillow>=6.2.0 in /Users/mogithpn/.pyenv/versions/3.9.10/lib/python3.9/site-packages (from matplotlib>=2.1.0->pycocotools==2.0.6->clarifai==9.9.3->clarifaipyspark==0.1) (10.1.0)\n",
      "Requirement already satisfied: pyparsing>=2.3.1 in /Users/mogithpn/.pyenv/versions/3.9.10/lib/python3.9/site-packages (from matplotlib>=2.1.0->pycocotools==2.0.6->clarifai==9.9.3->clarifaipyspark==0.1) (3.1.1)\n",
      "Requirement already satisfied: importlib-resources>=3.2.0 in /Users/mogithpn/.pyenv/versions/3.9.10/lib/python3.9/site-packages (from matplotlib>=2.1.0->pycocotools==2.0.6->clarifai==9.9.3->clarifaipyspark==0.1) (6.1.0)\n",
      "Requirement already satisfied: six>=1.5 in /Users/mogithpn/.pyenv/versions/3.9.10/lib/python3.9/site-packages (from python-dateutil>=2.7.3->pandas==1.3.5->clarifai==9.9.3->clarifaipyspark==0.1) (1.16.0)\n",
      "Requirement already satisfied: charset-normalizer<4,>=2 in /Users/mogithpn/.pyenv/versions/3.9.10/lib/python3.9/site-packages (from requests>=2.25.1->clarifai-grpc==9.8.1->clarifai==9.9.3->clarifaipyspark==0.1) (3.3.0)\n",
      "Requirement already satisfied: idna<4,>=2.5 in /Users/mogithpn/.pyenv/versions/3.9.10/lib/python3.9/site-packages (from requests>=2.25.1->clarifai-grpc==9.8.1->clarifai==9.9.3->clarifaipyspark==0.1) (3.4)\n",
      "Requirement already satisfied: urllib3<3,>=1.21.1 in /Users/mogithpn/.pyenv/versions/3.9.10/lib/python3.9/site-packages (from requests>=2.25.1->clarifai-grpc==9.8.1->clarifai==9.9.3->clarifaipyspark==0.1) (2.0.6)\n",
      "Requirement already satisfied: certifi>=2017.4.17 in /Users/mogithpn/.pyenv/versions/3.9.10/lib/python3.9/site-packages (from requests>=2.25.1->clarifai-grpc==9.8.1->clarifai==9.9.3->clarifaipyspark==0.1) (2023.7.22)\n",
      "Requirement already satisfied: zipp>=3.1.0 in /Users/mogithpn/.pyenv/versions/3.9.10/lib/python3.9/site-packages (from importlib-resources>=3.2.0->matplotlib>=2.1.0->pycocotools==2.0.6->clarifai==9.9.3->clarifaipyspark==0.1) (3.17.0)\n",
      "Building wheels for collected packages: clarifaipyspark\n",
      "  Building editable for clarifaipyspark (pyproject.toml) ... \u001b[?25ldone\n",
      "\u001b[?25h  Created wheel for clarifaipyspark: filename=clarifaipyspark-0.1-0.editable-py3-none-any.whl size=6702 sha256=aa161bc5272df037c0db60f1dcba602d7e8b8ae12590ae0d149251daa63e67a2\n",
      "  Stored in directory: /private/var/folders/t9/ws_lrgcx2hq7qxs7r0kmk8q00000gn/T/pip-ephem-wheel-cache-uqxsvd34/wheels/aa/65/62/f6be5f54b9b053a85ad75d6adf78075f30cf8bed69cb7b319c\n",
      "Successfully built clarifaipyspark\n",
      "Installing collected packages: clarifaipyspark\n",
      "  Attempting uninstall: clarifaipyspark\n",
      "    Found existing installation: clarifaipyspark 0.1\n",
      "    Can't uninstall 'clarifaipyspark'. No files were found to uninstall.\n",
      "Successfully installed clarifaipyspark-0.1\n",
      "\n",
      "\u001b[1m[\u001b[0m\u001b[34;49mnotice\u001b[0m\u001b[1;39;49m]\u001b[0m\u001b[39;49m A new release of pip is available: \u001b[0m\u001b[31;49m23.2.1\u001b[0m\u001b[39;49m -> \u001b[0m\u001b[32;49m23.3\u001b[0m\n",
      "\u001b[1m[\u001b[0m\u001b[34;49mnotice\u001b[0m\u001b[1;39;49m]\u001b[0m\u001b[39;49m To update, run: \u001b[0m\u001b[32;49mpip install --upgrade pip\u001b[0m\n",
      "Note: you may need to restart the kernel to use updated packages.\n"
     ]
    }
   ],
   "source": [
    "%pip install -e ."
   ]
  },
  {
   "cell_type": "code",
   "execution_count": 45,
   "metadata": {},
   "outputs": [],
   "source": [
    "import os\n",
    "os.environ['CLARIFAI_PAT']='21b7b036432a45c1ade7afd3c271cb4e'"
   ]
  },
  {
   "cell_type": "code",
   "execution_count": 46,
   "metadata": {},
   "outputs": [],
   "source": [
    "from clarifaipyspark.client import ClarifaiPySpark\n",
    "from clarifaipyspark.dataset import Dataset"
   ]
  },
  {
   "cell_type": "code",
   "execution_count": 47,
   "metadata": {},
   "outputs": [],
   "source": [
    "claps=ClarifaiPySpark(user_id='mogith-p-n',app_id=\"trialapp-module-gallery\")"
   ]
  },
  {
   "cell_type": "code",
   "execution_count": 48,
   "metadata": {},
   "outputs": [
    {
     "name": "stdout",
     "output_type": "stream",
     "text": [
      "dataset-2\n"
     ]
    }
   ],
   "source": [
    "all_datasets = list(claps.app.list_datasets())\n",
    "print((all_datasets[0].id))"
   ]
  },
  {
   "cell_type": "code",
   "execution_count": 51,
   "metadata": {},
   "outputs": [
    {
     "data": {
      "text/html": [
       "<pre style=\"white-space:pre;overflow-x:auto;line-height:normal;font-family:Menlo,'DejaVu Sans Mono',consolas,'Courier New',monospace\"><span style=\"color: #800000; text-decoration-color: #800000\">╭─────────────────────────────── </span><span style=\"color: #800000; text-decoration-color: #800000; font-weight: bold\">Traceback </span><span style=\"color: #bf7f7f; text-decoration-color: #bf7f7f; font-weight: bold\">(most recent call last)</span><span style=\"color: #800000; text-decoration-color: #800000\"> ────────────────────────────────╮</span>\n",
       "<span style=\"color: #800000; text-decoration-color: #800000\">│</span> in <span style=\"color: #00ff00; text-decoration-color: #00ff00\">&lt;module&gt;</span>:<span style=\"color: #0000ff; text-decoration-color: #0000ff\">1</span>                                                                                    <span style=\"color: #800000; text-decoration-color: #800000\">│</span>\n",
       "<span style=\"color: #800000; text-decoration-color: #800000\">│</span>                                                                                                  <span style=\"color: #800000; text-decoration-color: #800000\">│</span>\n",
       "<span style=\"color: #800000; text-decoration-color: #800000\">│</span> <span style=\"color: #800000; text-decoration-color: #800000\">❱ </span>1 datset_obj=claps.dataset(dataset_id=<span style=\"color: #808000; text-decoration-color: #808000\">\"dataset-1\"</span>)                                             <span style=\"color: #800000; text-decoration-color: #800000\">│</span>\n",
       "<span style=\"color: #800000; text-decoration-color: #800000\">│</span>   <span style=\"color: #7f7f7f; text-decoration-color: #7f7f7f\">2 </span>                                                                                             <span style=\"color: #800000; text-decoration-color: #800000\">│</span>\n",
       "<span style=\"color: #800000; text-decoration-color: #800000\">╰──────────────────────────────────────────────────────────────────────────────────────────────────╯</span>\n",
       "<span style=\"color: #ff0000; text-decoration-color: #ff0000; font-weight: bold\">TypeError: </span><span style=\"color: #008000; text-decoration-color: #008000\">'Dataset'</span> object is not callable\n",
       "</pre>\n"
      ],
      "text/plain": [
       "\u001b[31m╭─\u001b[0m\u001b[31m──────────────────────────────\u001b[0m\u001b[31m \u001b[0m\u001b[1;31mTraceback \u001b[0m\u001b[1;2;31m(most recent call last)\u001b[0m\u001b[31m \u001b[0m\u001b[31m───────────────────────────────\u001b[0m\u001b[31m─╮\u001b[0m\n",
       "\u001b[31m│\u001b[0m in \u001b[92m<module>\u001b[0m:\u001b[94m1\u001b[0m                                                                                    \u001b[31m│\u001b[0m\n",
       "\u001b[31m│\u001b[0m                                                                                                  \u001b[31m│\u001b[0m\n",
       "\u001b[31m│\u001b[0m \u001b[31m❱ \u001b[0m1 datset_obj=claps.dataset(dataset_id=\u001b[33m\"\u001b[0m\u001b[33mdataset-1\u001b[0m\u001b[33m\"\u001b[0m)                                             \u001b[31m│\u001b[0m\n",
       "\u001b[31m│\u001b[0m   \u001b[2m2 \u001b[0m                                                                                             \u001b[31m│\u001b[0m\n",
       "\u001b[31m╰──────────────────────────────────────────────────────────────────────────────────────────────────╯\u001b[0m\n",
       "\u001b[1;91mTypeError: \u001b[0m\u001b[32m'Dataset'\u001b[0m object is not callable\n"
      ]
     },
     "metadata": {},
     "output_type": "display_data"
    }
   ],
   "source": [
    "datset_obj=claps.dataset(dataset_id=\"dataset-1\")"
   ]
  },
  {
   "cell_type": "code",
   "execution_count": 53,
   "metadata": {},
   "outputs": [
    {
     "data": {
      "text/plain": [
       "<clarifaipyspark.dataset.Dataset at 0x107f6a040>"
      ]
     },
     "execution_count": 53,
     "metadata": {},
     "output_type": "execute_result"
    }
   ],
   "source": [
    "datset_obj\n"
   ]
  },
  {
   "cell_type": "code",
   "execution_count": 50,
   "metadata": {},
   "outputs": [],
   "source": [
    "resp=claps.dataset.list_inputs_from_dataset(dataset_id=\"dataset-1\",input_type=\"image\")"
   ]
  },
  {
   "cell_type": "code",
   "execution_count": 41,
   "metadata": {},
   "outputs": [
    {
     "data": {
      "text/plain": [
       "[id: \"87c4d8fb329142189c375d0d65237594\"\n",
       " data {\n",
       "   image {\n",
       "     url: \"https://samples.clarifai.com/featured-models/color-colored-houses-boats-on-canal.jpg\"\n",
       "     hosted {\n",
       "       prefix: \"https://data.clarifai.com\"\n",
       "       suffix: \"users/mogith-p-n/apps/trialapp-module-gallery/inputs/image/ef850716a02d859b3f1e904c142da63a\"\n",
       "       sizes: \"orig\"\n",
       "       sizes: \"tiny\"\n",
       "       sizes: \"small\"\n",
       "       sizes: \"large\"\n",
       "       crossorigin: \"use-credentials\"\n",
       "     }\n",
       "     image_info {\n",
       "       width: 900\n",
       "       height: 600\n",
       "       format: \"JPEG\"\n",
       "       color_mode: \"YUV\"\n",
       "     }\n",
       "   }\n",
       " }\n",
       " created_at {\n",
       "   seconds: 1697476688\n",
       "   nanos: 279014000\n",
       " }\n",
       " modified_at {\n",
       "   seconds: 1697476704\n",
       "   nanos: 565823000\n",
       " }\n",
       " status {\n",
       "   code: INPUT_DOWNLOAD_SUCCESS\n",
       "   description: \"Download complete\"\n",
       " },\n",
       " id: \"c592ff60a0694dac8d55fdbcf8edde9d\"\n",
       " data {\n",
       "   image {\n",
       "     url: \"https://samples.clarifai.com/featured-models/color-grafitti-on-garage-door.jpg\"\n",
       "     hosted {\n",
       "       prefix: \"https://data.clarifai.com\"\n",
       "       suffix: \"users/mogith-p-n/apps/trialapp-module-gallery/inputs/image/2302a7d85fc7fb570bf67998f1c14efe\"\n",
       "       sizes: \"orig\"\n",
       "       sizes: \"tiny\"\n",
       "       sizes: \"small\"\n",
       "       sizes: \"large\"\n",
       "       crossorigin: \"use-credentials\"\n",
       "     }\n",
       "     image_info {\n",
       "       width: 900\n",
       "       height: 544\n",
       "       format: \"JPEG\"\n",
       "       color_mode: \"YUV\"\n",
       "     }\n",
       "   }\n",
       " }\n",
       " created_at {\n",
       "   seconds: 1697476688\n",
       "   nanos: 279014000\n",
       " }\n",
       " modified_at {\n",
       "   seconds: 1697476704\n",
       "   nanos: 565823000\n",
       " }\n",
       " status {\n",
       "   code: INPUT_DOWNLOAD_SUCCESS\n",
       "   description: \"Download complete\"\n",
       " },\n",
       " id: \"88fc1d089df843a5b116214e676e562f\"\n",
       " data {\n",
       "   image {\n",
       "     url: \"https://samples.clarifai.com/metro-north.jpg\"\n",
       "     hosted {\n",
       "       prefix: \"https://data.clarifai.com\"\n",
       "       suffix: \"users/mogith-p-n/apps/trialapp-module-gallery/inputs/image/140c856dc82565d2c4d6ea720fceff78\"\n",
       "       sizes: \"orig\"\n",
       "       sizes: \"tiny\"\n",
       "       sizes: \"small\"\n",
       "       sizes: \"large\"\n",
       "       crossorigin: \"use-credentials\"\n",
       "     }\n",
       "     image_info {\n",
       "       width: 512\n",
       "       height: 384\n",
       "       format: \"JPEG\"\n",
       "       color_mode: \"YUV\"\n",
       "     }\n",
       "   }\n",
       " }\n",
       " created_at {\n",
       "   seconds: 1697476688\n",
       "   nanos: 279014000\n",
       " }\n",
       " modified_at {\n",
       "   seconds: 1697476704\n",
       "   nanos: 565823000\n",
       " }\n",
       " status {\n",
       "   code: INPUT_DOWNLOAD_SUCCESS\n",
       "   description: \"Download complete\"\n",
       " }]"
      ]
     },
     "execution_count": 41,
     "metadata": {},
     "output_type": "execute_result"
    }
   ],
   "source": [
    "resp"
   ]
  },
  {
   "cell_type": "code",
   "execution_count": 42,
   "metadata": {},
   "outputs": [
    {
     "data": {
      "text/html": [
       "<pre style=\"white-space:pre;overflow-x:auto;line-height:normal;font-family:Menlo,'DejaVu Sans Mono',consolas,'Courier New',monospace\"><span style=\"color: #800000; text-decoration-color: #800000\">╭─────────────────────────────── </span><span style=\"color: #800000; text-decoration-color: #800000; font-weight: bold\">Traceback </span><span style=\"color: #bf7f7f; text-decoration-color: #bf7f7f; font-weight: bold\">(most recent call last)</span><span style=\"color: #800000; text-decoration-color: #800000\"> ────────────────────────────────╮</span>\n",
       "<span style=\"color: #800000; text-decoration-color: #800000\">│</span> in <span style=\"color: #00ff00; text-decoration-color: #00ff00\">&lt;module&gt;</span>:<span style=\"color: #0000ff; text-decoration-color: #0000ff\">1</span>                                                                                    <span style=\"color: #800000; text-decoration-color: #800000\">│</span>\n",
       "<span style=\"color: #800000; text-decoration-color: #800000\">│</span>                                                                                                  <span style=\"color: #800000; text-decoration-color: #800000\">│</span>\n",
       "<span style=\"color: #800000; text-decoration-color: #800000\">│</span> <span style=\"color: #800000; text-decoration-color: #800000\">❱ </span>1 resp=claps.dataset(dataset_id=<span style=\"color: #808000; text-decoration-color: #808000\">\"dataset-1\"</span>)                                                   <span style=\"color: #800000; text-decoration-color: #800000\">│</span>\n",
       "<span style=\"color: #800000; text-decoration-color: #800000\">│</span>   <span style=\"color: #7f7f7f; text-decoration-color: #7f7f7f\">2 </span>                                                                                             <span style=\"color: #800000; text-decoration-color: #800000\">│</span>\n",
       "<span style=\"color: #800000; text-decoration-color: #800000\">╰──────────────────────────────────────────────────────────────────────────────────────────────────╯</span>\n",
       "<span style=\"color: #ff0000; text-decoration-color: #ff0000; font-weight: bold\">TypeError: </span><span style=\"color: #008000; text-decoration-color: #008000\">'Dataset'</span> object is not callable\n",
       "</pre>\n"
      ],
      "text/plain": [
       "\u001b[31m╭─\u001b[0m\u001b[31m──────────────────────────────\u001b[0m\u001b[31m \u001b[0m\u001b[1;31mTraceback \u001b[0m\u001b[1;2;31m(most recent call last)\u001b[0m\u001b[31m \u001b[0m\u001b[31m───────────────────────────────\u001b[0m\u001b[31m─╮\u001b[0m\n",
       "\u001b[31m│\u001b[0m in \u001b[92m<module>\u001b[0m:\u001b[94m1\u001b[0m                                                                                    \u001b[31m│\u001b[0m\n",
       "\u001b[31m│\u001b[0m                                                                                                  \u001b[31m│\u001b[0m\n",
       "\u001b[31m│\u001b[0m \u001b[31m❱ \u001b[0m1 resp=claps.dataset(dataset_id=\u001b[33m\"\u001b[0m\u001b[33mdataset-1\u001b[0m\u001b[33m\"\u001b[0m)                                                   \u001b[31m│\u001b[0m\n",
       "\u001b[31m│\u001b[0m   \u001b[2m2 \u001b[0m                                                                                             \u001b[31m│\u001b[0m\n",
       "\u001b[31m╰──────────────────────────────────────────────────────────────────────────────────────────────────╯\u001b[0m\n",
       "\u001b[1;91mTypeError: \u001b[0m\u001b[32m'Dataset'\u001b[0m object is not callable\n"
      ]
     },
     "metadata": {},
     "output_type": "display_data"
    }
   ],
   "source": [
    "resp=claps.dataset(dataset_id=\"dataset-1\")"
   ]
  },
  {
   "cell_type": "code",
   "execution_count": null,
   "metadata": {},
   "outputs": [],
   "source": []
  }
 ],
 "metadata": {
  "kernelspec": {
   "display_name": "Python 3",
   "language": "python",
   "name": "python3"
  },
  "language_info": {
   "codemirror_mode": {
    "name": "ipython",
    "version": 3
   },
   "file_extension": ".py",
   "mimetype": "text/x-python",
   "name": "python",
   "nbconvert_exporter": "python",
   "pygments_lexer": "ipython3",
   "version": "3.9.10"
  }
 },
 "nbformat": 4,
 "nbformat_minor": 2
}
