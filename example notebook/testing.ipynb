{
 "cells": [
  {
   "cell_type": "code",
   "execution_count": 2,
   "metadata": {},
   "outputs": [
    {
     "name": "stdout",
     "output_type": "stream",
     "text": [
      "Obtaining file:///Users/mogithpn/work/clarifai-pyspark/example%20notebook\n",
      "\u001b[31mERROR: file:///Users/mogithpn/work/clarifai-pyspark/example%20notebook does not appear to be a Python project: neither 'setup.py' nor 'pyproject.toml' found.\u001b[0m\u001b[31m\n",
      "\u001b[0m\n",
      "\u001b[1m[\u001b[0m\u001b[34;49mnotice\u001b[0m\u001b[1;39;49m]\u001b[0m\u001b[39;49m A new release of pip is available: \u001b[0m\u001b[31;49m23.2.1\u001b[0m\u001b[39;49m -> \u001b[0m\u001b[32;49m23.3\u001b[0m\n",
      "\u001b[1m[\u001b[0m\u001b[34;49mnotice\u001b[0m\u001b[1;39;49m]\u001b[0m\u001b[39;49m To update, run: \u001b[0m\u001b[32;49mpip install --upgrade pip\u001b[0m\n",
      "Note: you may need to restart the kernel to use updated packages.\n"
     ]
    }
   ],
   "source": [
    "%pip install -e ."
   ]
  },
  {
   "cell_type": "code",
   "execution_count": 2,
   "metadata": {},
   "outputs": [],
   "source": [
    "import os\n",
    "os.environ['CLARIFAI_PAT']=CLARIFAI_PAT"
   ]
  },
  {
   "cell_type": "code",
   "execution_count": 1,
   "metadata": {},
   "outputs": [],
   "source": [
    "from clarifaipyspark.client import ClarifaiPySpark\n",
    "from clarifaipyspark.dataset import Dataset"
   ]
  },
  {
   "cell_type": "code",
   "execution_count": 6,
   "metadata": {},
   "outputs": [],
   "source": [
    "claps=ClarifaiPySpark(user_id='UserID',app_id=\"AppID\")"
   ]
  },
  {
   "cell_type": "code",
   "execution_count": 8,
   "metadata": {},
   "outputs": [
    {
     "name": "stdout",
     "output_type": "stream",
     "text": [
      "dataset-2\n"
     ]
    }
   ],
   "source": [
    "all_datasets = list(claps.app.list_datasets())\n",
    "print((all_datasets[0].id))"
   ]
  },
  {
   "cell_type": "code",
   "execution_count": 7,
   "metadata": {},
   "outputs": [],
   "source": [
    "datset_obj=claps.dataset(dataset_id=\"datasetID\")"
   ]
  },
  {
   "cell_type": "code",
   "execution_count": 9,
   "metadata": {},
   "outputs": [
    {
     "data": {
      "text/plain": [
       "<clarifaipyspark.dataset.Dataset at 0x123655940>"
      ]
     },
     "execution_count": 9,
     "metadata": {},
     "output_type": "execute_result"
    }
   ],
   "source": [
    "datset_obj\n"
   ]
  },
  {
   "cell_type": "code",
   "execution_count": 50,
   "metadata": {},
   "outputs": [],
   "source": [
    "resp=claps.dataset.list_inputs_from_dataset(dataset_id=\"dataset-1\",input_type=\"image\")"
   ]
  },
  {
   "cell_type": "code",
   "execution_count": 41,
   "metadata": {},
   "outputs": [
    {
     "data": {
      "text/plain": [
       "[id: \"87c4d8fb329142189c375d0d65237594\"\n",
       " data {\n",
       "   image {\n",
       "     url: \"https://samples.clarifai.com/featured-models/color-colored-houses-boats-on-canal.jpg\"\n",
       "     hosted {\n",
       "       prefix: \"https://data.clarifai.com\"\n",
       "       suffix: \"users/mogith-p-n/apps/trialapp-module-gallery/inputs/image/ef850716a02d859b3f1e904c142da63a\"\n",
       "       sizes: \"orig\"\n",
       "       sizes: \"tiny\"\n",
       "       sizes: \"small\"\n",
       "       sizes: \"large\"\n",
       "       crossorigin: \"use-credentials\"\n",
       "     }\n",
       "     image_info {\n",
       "       width: 900\n",
       "       height: 600\n",
       "       format: \"JPEG\"\n",
       "       color_mode: \"YUV\"\n",
       "     }\n",
       "   }\n",
       " }\n",
       " created_at {\n",
       "   seconds: 1697476688\n",
       "   nanos: 279014000\n",
       " }\n",
       " modified_at {\n",
       "   seconds: 1697476704\n",
       "   nanos: 565823000\n",
       " }\n",
       " status {\n",
       "   code: INPUT_DOWNLOAD_SUCCESS\n",
       "   description: \"Download complete\"\n",
       " },\n",
       " id: \"c592ff60a0694dac8d55fdbcf8edde9d\"\n",
       " data {\n",
       "   image {\n",
       "     url: \"https://samples.clarifai.com/featured-models/color-grafitti-on-garage-door.jpg\"\n",
       "     hosted {\n",
       "       prefix: \"https://data.clarifai.com\"\n",
       "       suffix: \"users/mogith-p-n/apps/trialapp-module-gallery/inputs/image/2302a7d85fc7fb570bf67998f1c14efe\"\n",
       "       sizes: \"orig\"\n",
       "       sizes: \"tiny\"\n",
       "       sizes: \"small\"\n",
       "       sizes: \"large\"\n",
       "       crossorigin: \"use-credentials\"\n",
       "     }\n",
       "     image_info {\n",
       "       width: 900\n",
       "       height: 544\n",
       "       format: \"JPEG\"\n",
       "       color_mode: \"YUV\"\n",
       "     }\n",
       "   }\n",
       " }\n",
       " created_at {\n",
       "   seconds: 1697476688\n",
       "   nanos: 279014000\n",
       " }\n",
       " modified_at {\n",
       "   seconds: 1697476704\n",
       "   nanos: 565823000\n",
       " }\n",
       " status {\n",
       "   code: INPUT_DOWNLOAD_SUCCESS\n",
       "   description: \"Download complete\"\n",
       " },\n",
       " id: \"88fc1d089df843a5b116214e676e562f\"\n",
       " data {\n",
       "   image {\n",
       "     url: \"https://samples.clarifai.com/metro-north.jpg\"\n",
       "     hosted {\n",
       "       prefix: \"https://data.clarifai.com\"\n",
       "       suffix: \"users/mogith-p-n/apps/trialapp-module-gallery/inputs/image/140c856dc82565d2c4d6ea720fceff78\"\n",
       "       sizes: \"orig\"\n",
       "       sizes: \"tiny\"\n",
       "       sizes: \"small\"\n",
       "       sizes: \"large\"\n",
       "       crossorigin: \"use-credentials\"\n",
       "     }\n",
       "     image_info {\n",
       "       width: 512\n",
       "       height: 384\n",
       "       format: \"JPEG\"\n",
       "       color_mode: \"YUV\"\n",
       "     }\n",
       "   }\n",
       " }\n",
       " created_at {\n",
       "   seconds: 1697476688\n",
       "   nanos: 279014000\n",
       " }\n",
       " modified_at {\n",
       "   seconds: 1697476704\n",
       "   nanos: 565823000\n",
       " }\n",
       " status {\n",
       "   code: INPUT_DOWNLOAD_SUCCESS\n",
       "   description: \"Download complete\"\n",
       " }]"
      ]
     },
     "execution_count": 41,
     "metadata": {},
     "output_type": "execute_result"
    }
   ],
   "source": [
    "resp"
   ]
  },
  {
   "cell_type": "code",
   "execution_count": 42,
   "metadata": {},
   "outputs": [
    {
     "data": {
      "text/html": [
       "<pre style=\"white-space:pre;overflow-x:auto;line-height:normal;font-family:Menlo,'DejaVu Sans Mono',consolas,'Courier New',monospace\"><span style=\"color: #800000; text-decoration-color: #800000\">╭─────────────────────────────── </span><span style=\"color: #800000; text-decoration-color: #800000; font-weight: bold\">Traceback </span><span style=\"color: #bf7f7f; text-decoration-color: #bf7f7f; font-weight: bold\">(most recent call last)</span><span style=\"color: #800000; text-decoration-color: #800000\"> ────────────────────────────────╮</span>\n",
       "<span style=\"color: #800000; text-decoration-color: #800000\">│</span> in <span style=\"color: #00ff00; text-decoration-color: #00ff00\">&lt;module&gt;</span>:<span style=\"color: #0000ff; text-decoration-color: #0000ff\">1</span>                                                                                    <span style=\"color: #800000; text-decoration-color: #800000\">│</span>\n",
       "<span style=\"color: #800000; text-decoration-color: #800000\">│</span>                                                                                                  <span style=\"color: #800000; text-decoration-color: #800000\">│</span>\n",
       "<span style=\"color: #800000; text-decoration-color: #800000\">│</span> <span style=\"color: #800000; text-decoration-color: #800000\">❱ </span>1 resp=claps.dataset(dataset_id=<span style=\"color: #808000; text-decoration-color: #808000\">\"dataset-1\"</span>)                                                   <span style=\"color: #800000; text-decoration-color: #800000\">│</span>\n",
       "<span style=\"color: #800000; text-decoration-color: #800000\">│</span>   <span style=\"color: #7f7f7f; text-decoration-color: #7f7f7f\">2 </span>                                                                                             <span style=\"color: #800000; text-decoration-color: #800000\">│</span>\n",
       "<span style=\"color: #800000; text-decoration-color: #800000\">╰──────────────────────────────────────────────────────────────────────────────────────────────────╯</span>\n",
       "<span style=\"color: #ff0000; text-decoration-color: #ff0000; font-weight: bold\">TypeError: </span><span style=\"color: #008000; text-decoration-color: #008000\">'Dataset'</span> object is not callable\n",
       "</pre>\n"
      ],
      "text/plain": [
       "\u001b[31m╭─\u001b[0m\u001b[31m──────────────────────────────\u001b[0m\u001b[31m \u001b[0m\u001b[1;31mTraceback \u001b[0m\u001b[1;2;31m(most recent call last)\u001b[0m\u001b[31m \u001b[0m\u001b[31m───────────────────────────────\u001b[0m\u001b[31m─╮\u001b[0m\n",
       "\u001b[31m│\u001b[0m in \u001b[92m<module>\u001b[0m:\u001b[94m1\u001b[0m                                                                                    \u001b[31m│\u001b[0m\n",
       "\u001b[31m│\u001b[0m                                                                                                  \u001b[31m│\u001b[0m\n",
       "\u001b[31m│\u001b[0m \u001b[31m❱ \u001b[0m1 resp=claps.dataset(dataset_id=\u001b[33m\"\u001b[0m\u001b[33mdataset-1\u001b[0m\u001b[33m\"\u001b[0m)                                                   \u001b[31m│\u001b[0m\n",
       "\u001b[31m│\u001b[0m   \u001b[2m2 \u001b[0m                                                                                             \u001b[31m│\u001b[0m\n",
       "\u001b[31m╰──────────────────────────────────────────────────────────────────────────────────────────────────╯\u001b[0m\n",
       "\u001b[1;91mTypeError: \u001b[0m\u001b[32m'Dataset'\u001b[0m object is not callable\n"
      ]
     },
     "metadata": {},
     "output_type": "display_data"
    }
   ],
   "source": []
  },
  {
   "cell_type": "code",
   "execution_count": 1,
   "metadata": {},
   "outputs": [],
   "source": []
  },
  {
   "cell_type": "code",
   "execution_count": null,
   "metadata": {},
   "outputs": [],
   "source": []
  }
 ],
 "metadata": {
  "kernelspec": {
   "display_name": "Python 3",
   "language": "python",
   "name": "python3"
  },
  "language_info": {
   "codemirror_mode": {
    "name": "ipython",
    "version": 3
   },
   "file_extension": ".py",
   "mimetype": "text/x-python",
   "name": "python",
   "nbconvert_exporter": "python",
   "pygments_lexer": "ipython3",
   "version": "3.9.10"
  }
 },
 "nbformat": 4,
 "nbformat_minor": 2
}
