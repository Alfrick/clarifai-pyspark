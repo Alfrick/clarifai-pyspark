{
 "cells": [
  {
   "cell_type": "markdown",
   "metadata": {
    "application/vnd.databricks.v1+cell": {
     "cellMetadata": {},
     "inputWidgets": {},
     "nuid": "09934f97-509c-4fa7-ab25-a674835ff57a",
     "showTitle": false,
     "title": ""
    }
   },
   "source": [
    "### Requirements"
   ]
  },
  {
   "cell_type": "markdown",
   "metadata": {
    "application/vnd.databricks.v1+cell": {
     "cellMetadata": {},
     "inputWidgets": {},
     "nuid": "c70a237e-3168-4bd5-b7e9-fe49da3eeb75",
     "showTitle": false,
     "title": ""
    }
   },
   "source": [
    "Installing the required python packages"
   ]
  },
  {
   "cell_type": "code",
   "execution_count": 0,
   "metadata": {
    "application/vnd.databricks.v1+cell": {
     "cellMetadata": {},
     "inputWidgets": {},
     "nuid": "2d33eebd-4547-4055-a704-17631456a6b9",
     "showTitle": false,
     "title": ""
    }
   },
   "outputs": [],
   "source": [
    "!pip install clarifaipyspark\n",
    "!pip install protobuf==4.24.2"
   ]
  },
  {
   "cell_type": "markdown",
   "metadata": {
    "application/vnd.databricks.v1+cell": {
     "cellMetadata": {},
     "inputWidgets": {},
     "nuid": "b822de8e-783a-4aa5-94bc-3a454befb1a5",
     "showTitle": false,
     "title": ""
    }
   },
   "source": [
    "Setting CLARIFAI_PAT as an environment variable.  \n",
    "*Note: Guide to get your [PAT](https://docs.clarifai.com/clarifai-basics/authentication/personal-access-tokens)*"
   ]
  },
  {
   "cell_type": "code",
   "execution_count": 0,
   "metadata": {
    "application/vnd.databricks.v1+cell": {
     "cellMetadata": {},
     "inputWidgets": {},
     "nuid": "a6ea3ecb-624d-40a6-b8b5-72aac4765580",
     "showTitle": false,
     "title": ""
    }
   },
   "outputs": [],
   "source": [
    "import os\n",
    "#Mention your PAT\n",
    "os.environ['CLARIFAI_PAT'] = ''"
   ]
  },
  {
   "cell_type": "markdown",
   "metadata": {
    "application/vnd.databricks.v1+cell": {
     "cellMetadata": {},
     "inputWidgets": {},
     "nuid": "a1926f48-e305-416c-8d33-b0b07143482f",
     "showTitle": false,
     "title": ""
    }
   },
   "source": [
    "### Clarifai-PySpark Interface"
   ]
  },
  {
   "cell_type": "markdown",
   "metadata": {
    "application/vnd.databricks.v1+cell": {
     "cellMetadata": {},
     "inputWidgets": {},
     "nuid": "f048b9a5-0f6c-4a57-bf6e-d4c513c52d10",
     "showTitle": false,
     "title": ""
    }
   },
   "source": [
    "Create a ClarifaiPyspark client object to connect to your App on Clarifai"
   ]
  },
  {
   "cell_type": "code",
   "execution_count": 0,
   "metadata": {
    "application/vnd.databricks.v1+cell": {
     "cellMetadata": {},
     "inputWidgets": {},
     "nuid": "3ff59442-b953-47e3-b50c-0eb11a8276f2",
     "showTitle": false,
     "title": ""
    }
   },
   "outputs": [],
   "source": [
    "cspark = ClarifaiPySpark(user_id='user_id', app_id='app_id')"
   ]
  },
  {
   "cell_type": "markdown",
   "metadata": {
    "application/vnd.databricks.v1+cell": {
     "cellMetadata": {},
     "inputWidgets": {},
     "nuid": "eacc6ee9-7efb-48b6-9eb7-515ea8d01816",
     "showTitle": false,
     "title": ""
    }
   },
   "source": [
    "Mention the dataset from your App on which you want to work.  \n",
    "This creates a new dataset in the App if it doesn't already exist."
   ]
  },
  {
   "cell_type": "code",
   "execution_count": 0,
   "metadata": {
    "application/vnd.databricks.v1+cell": {
     "cellMetadata": {},
     "inputWidgets": {},
     "nuid": "cc9d473d-3f61-41d0-ab65-17c7dab8b8b6",
     "showTitle": false,
     "title": ""
    }
   },
   "outputs": [],
   "source": [
    "dataset_obj = cspark_obj.dataset(dataset_id='dataset_id')"
   ]
  },
  {
   "cell_type": "markdown",
   "metadata": {
    "application/vnd.databricks.v1+cell": {
     "cellMetadata": {},
     "inputWidgets": {},
     "nuid": "6865d686-e89f-4b46-982e-138302bf8e69",
     "showTitle": false,
     "title": ""
    }
   },
   "source": [
    "#1. Upload Dataset"
   ]
  },
  {
   "cell_type": "markdown",
   "metadata": {
    "application/vnd.databricks.v1+cell": {
     "cellMetadata": {},
     "inputWidgets": {},
     "nuid": "d8037987-2191-414a-b3ec-d4ac66e80094",
     "showTitle": false,
     "title": ""
    }
   },
   "source": [
    "### a. Upload from Volume folder   \n",
    "If you have your dataset images/text files stored in databricks volume, you can directly upload the data files from volume to Clarifai App.  \n",
    "The folder should contain only images.  \n",
    "If the folder name is the label for all images inside it, then you can set labels paramter to True."
   ]
  },
  {
   "cell_type": "code",
   "execution_count": 0,
   "metadata": {
    "application/vnd.databricks.v1+cell": {
     "cellMetadata": {},
     "inputWidgets": {},
     "nuid": "39e4ae83-291e-4273-a422-750cda2d8039",
     "showTitle": false,
     "title": ""
    }
   },
   "outputs": [],
   "source": [
    "dataset_obj.upload_dataset_from_folder(folder_path='volume_folder_path', input_type='image/text', labels=True/False)"
   ]
  },
  {
   "cell_type": "markdown",
   "metadata": {
    "application/vnd.databricks.v1+cell": {
     "cellMetadata": {},
     "inputWidgets": {},
     "nuid": "8d0a0fd6-ccc5-461a-aa7b-b8d8594ba9b4",
     "showTitle": false,
     "title": ""
    }
   },
   "source": [
    "### b. Upload from CSV\n",
    "Dataset can be populated from a CSV which contains these mandatory columns - inputid, input.  \n",
    "Other columns supported in CSV are - concepts, metadata, geopoints.  \n",
    "The input column can have file url or path, or can contain raw text.  \n",
    "If concepts column exists in the CSV, set labels=True"
   ]
  },
  {
   "cell_type": "code",
   "execution_count": 0,
   "metadata": {
    "application/vnd.databricks.v1+cell": {
     "cellMetadata": {},
     "inputWidgets": {},
     "nuid": "b48df9a5-51ce-4392-a4ac-1cb749a18586",
     "showTitle": false,
     "title": ""
    }
   },
   "outputs": [],
   "source": [
    "dataset_obj.upload_dataset_from_csv(csv_path='volume_csv_path', input_type='text/image', labels=True/False, csv_type='raw/url/filepath')"
   ]
  },
  {
   "cell_type": "markdown",
   "metadata": {
    "application/vnd.databricks.v1+cell": {
     "cellMetadata": {},
     "inputWidgets": {},
     "nuid": "0196f0ba-81a3-40a0-b294-9fe4e52decfb",
     "showTitle": false,
     "title": ""
    }
   },
   "source": [
    "### c. Upload from Delta table\n",
    "A delta table can be used to populate dataset in App. The table should have these mandatory columns - inputid, input.   \n",
    "Other columns supported in delta table are - concepts, metadata, geopoints.   \n",
    "The input column can have file url or path, or can contain raw text.    \n",
    "If concepts column exists in the table, set labels=True.  "
   ]
  },
  {
   "cell_type": "code",
   "execution_count": 0,
   "metadata": {
    "application/vnd.databricks.v1+cell": {
     "cellMetadata": {},
     "inputWidgets": {},
     "nuid": "233589f9-55cf-4862-8c38-b633db8b9509",
     "showTitle": false,
     "title": ""
    }
   },
   "outputs": [],
   "source": [
    "dataset_obj.upload_dataset_from_table(table_path='volume_table_path', input_type='text/image', labels=True/False, csv_type='raw/url/filepath')"
   ]
  },
  {
   "cell_type": "markdown",
   "metadata": {
    "application/vnd.databricks.v1+cell": {
     "cellMetadata": {},
     "inputWidgets": {},
     "nuid": "377caad0-6b82-40db-be52-80a0316b5144",
     "showTitle": false,
     "title": ""
    }
   },
   "source": [
    "### d. Upload from Dataframe\n",
    "Dataset can be uploaded from a dataframe which contains these mandatory columns - inputid, input.  \n",
    "Other columns supported in dataframe are - concepts, metadata, geopoints.  \n",
    "The input column can have file url or path, or can contain raw text.  \n",
    "If concepts column exists in the dataframe, set labels=True"
   ]
  },
  {
   "cell_type": "code",
   "execution_count": 0,
   "metadata": {
    "application/vnd.databricks.v1+cell": {
     "cellMetadata": {},
     "inputWidgets": {},
     "nuid": "8b81db38-0dab-4b34-8b0e-64241021dca2",
     "showTitle": false,
     "title": ""
    }
   },
   "outputs": [],
   "source": [
    "dataset_obj.upload_dataset_from_table(dataframe=spark_dataframe, input_type='text/image', labels=True/False, csv_type='raw/url/filepath')"
   ]
  },
  {
   "cell_type": "markdown",
   "metadata": {
    "application/vnd.databricks.v1+cell": {
     "cellMetadata": {},
     "inputWidgets": {},
     "nuid": "6efdce4d-01c7-4cb5-b595-632c6598469f",
     "showTitle": false,
     "title": ""
    }
   },
   "source": [
    "### e. Upload with custom dataloader\n",
    "If you have your dataset stored in a different format or need to do any preprocessing, a custom dataloader can be provided.  \n",
    "You can find examples of different dataloaders [here](https://github.com/Clarifai/examples/tree/main/datasets/upload)"
   ]
  },
  {
   "cell_type": "code",
   "execution_count": 0,
   "metadata": {
    "application/vnd.databricks.v1+cell": {
     "cellMetadata": {},
     "inputWidgets": {},
     "nuid": "ac853504-9dcb-4d59-9d30-4b0110e812ba",
     "showTitle": false,
     "title": ""
    }
   },
   "outputs": [],
   "source": [
    "dataset_obj.upload_dataset_from_dataloader(task=\"visual-classification\", split=\"train\", module_dir=\"volume_module_path\")"
   ]
  },
  {
   "cell_type": "markdown",
   "metadata": {
    "application/vnd.databricks.v1+cell": {
     "cellMetadata": {},
     "inputWidgets": {},
     "nuid": "d7d09fb0-99d5-4f6e-955e-e5d0a02d0335",
     "showTitle": false,
     "title": ""
    }
   },
   "source": [
    "#2. Fetch inputs from dataset in App"
   ]
  },
  {
   "cell_type": "markdown",
   "metadata": {
    "application/vnd.databricks.v1+cell": {
     "cellMetadata": {},
     "inputWidgets": {},
     "nuid": "b7e7f597-6be7-41ff-a20c-624d31bfc509",
     "showTitle": false,
     "title": ""
    }
   },
   "source": [
    "### a. Get inputs from dataset in your Clarfai App\n",
    "You can fetch the inputs and its metadata from your dataset in Clarifai App. It returns a list of jsons. "
   ]
  },
  {
   "cell_type": "code",
   "execution_count": 0,
   "metadata": {
    "application/vnd.databricks.v1+cell": {
     "cellMetadata": {},
     "inputWidgets": {},
     "nuid": "d1a6c44c-c8d2-4539-9f62-aad199fa2c39",
     "showTitle": false,
     "title": ""
    }
   },
   "outputs": [],
   "source": [
    "inputs_response = list(dataset_obj.list_inputs())"
   ]
  },
  {
   "cell_type": "markdown",
   "metadata": {
    "application/vnd.databricks.v1+cell": {
     "cellMetadata": {},
     "inputWidgets": {},
     "nuid": "ded51252-a892-48da-b819-cc1f0f058406",
     "showTitle": false,
     "title": ""
    }
   },
   "source": [
    "### b. Fetch actual image/text files from your dataset and store them into volume\n",
    "The image/text files from your App's dataset can be exported and stored into databricks Volume"
   ]
  },
  {
   "cell_type": "code",
   "execution_count": 0,
   "metadata": {
    "application/vnd.databricks.v1+cell": {
     "cellMetadata": {},
     "inputWidgets": {},
     "nuid": "39c7c78d-4043-457a-a9d4-bdf18a78ee32",
     "showTitle": false,
     "title": ""
    }
   },
   "outputs": [],
   "source": [
    "#For images\n",
    "dataset_obj.export_images_to_volume(path=\"destination_volume_path\", input_response=inputs_response)\n",
    "\n",
    "#For text\n",
    "dataset_obj.export_text_to_volume(path=\"destination_volume_path\", input_response=inputs_response)"
   ]
  },
  {
   "cell_type": "markdown",
   "metadata": {
    "application/vnd.databricks.v1+cell": {
     "cellMetadata": {},
     "inputWidgets": {},
     "nuid": "ac7c35e4-9090-492e-b4af-9f118fb5d434",
     "showTitle": false,
     "title": ""
    }
   },
   "source": [
    "# 3. Fetch Annotations from dataset in App\n",
    "You can retrieve the image/text annotations from App's dataset in a dataframe format.  \n",
    "The resultant dataframe will have these columns - id (annotation_id), user_id, input_id, annotation (json), created_at, modified_at"
   ]
  },
  {
   "cell_type": "code",
   "execution_count": 0,
   "metadata": {
    "application/vnd.databricks.v1+cell": {
     "cellMetadata": {},
     "inputWidgets": {},
     "nuid": "0fb331b6-c5af-4422-9223-3f87ace21a90",
     "showTitle": false,
     "title": ""
    }
   },
   "outputs": [],
   "source": [
    "annotations_df = dataset_obj.export_annotations_to_dataframe()"
   ]
  }
 ],
 "metadata": {
  "application/vnd.databricks.v1+notebook": {
   "dashboards": [],
   "language": "python",
   "notebookMetadata": {
    "pythonIndentUnit": 4
   },
   "notebookName": "ClarifaiPyspark Example NB",
   "widgets": {}
  }
 },
 "nbformat": 4,
 "nbformat_minor": 0
}
