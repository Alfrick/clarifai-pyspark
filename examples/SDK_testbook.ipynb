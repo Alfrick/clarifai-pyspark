{
 "cells": [
  {
   "cell_type": "code",
   "execution_count": 0,
   "metadata": {
    "application/vnd.databricks.v1+cell": {
     "cellMetadata": {
      "byteLimit": 2048000,
      "rowLimit": 10000
     },
     "inputWidgets": {},
     "nuid": "318c1270-0f7f-44fe-86a6-963339aa867a",
     "showTitle": false,
     "title": ""
    }
   },
   "outputs": [
    {
     "output_type": "stream",
     "name": "stdout",
     "output_type": "stream",
     "text": [
      "Requirement already satisfied: clarifai==9.9.3 in /local_disk0/.ephemeral_nfs/envs/pythonEnv-07884fc6-4bdc-4cb9-bce0-6f0de44f7080/lib/python3.10/site-packages (9.9.3)\r\nRequirement already satisfied: PyYAML==6.0.1 in /local_disk0/.ephemeral_nfs/envs/pythonEnv-07884fc6-4bdc-4cb9-bce0-6f0de44f7080/lib/python3.10/site-packages (from clarifai==9.9.3) (6.0.1)\r\nRequirement already satisfied: pytest==7.4.1 in /local_disk0/.ephemeral_nfs/envs/pythonEnv-07884fc6-4bdc-4cb9-bce0-6f0de44f7080/lib/python3.10/site-packages (from clarifai==9.9.3) (7.4.1)\r\nRequirement already satisfied: omegaconf==2.2.3 in /local_disk0/.ephemeral_nfs/envs/pythonEnv-07884fc6-4bdc-4cb9-bce0-6f0de44f7080/lib/python3.10/site-packages (from clarifai==9.9.3) (2.2.3)\r\nRequirement already satisfied: pycocotools==2.0.6 in /local_disk0/.ephemeral_nfs/envs/pythonEnv-07884fc6-4bdc-4cb9-bce0-6f0de44f7080/lib/python3.10/site-packages (from clarifai==9.9.3) (2.0.6)\r\nRequirement already satisfied: pandas==1.3.5 in /local_disk0/.ephemeral_nfs/envs/pythonEnv-07884fc6-4bdc-4cb9-bce0-6f0de44f7080/lib/python3.10/site-packages (from clarifai==9.9.3) (1.3.5)\r\nRequirement already satisfied: rich==13.4.2 in /local_disk0/.ephemeral_nfs/envs/pythonEnv-07884fc6-4bdc-4cb9-bce0-6f0de44f7080/lib/python3.10/site-packages (from clarifai==9.9.3) (13.4.2)\r\nRequirement already satisfied: clarifai-grpc==9.8.1 in /local_disk0/.ephemeral_nfs/envs/pythonEnv-07884fc6-4bdc-4cb9-bce0-6f0de44f7080/lib/python3.10/site-packages (from clarifai==9.9.3) (9.8.1)\r\nRequirement already satisfied: tqdm>=4.65.0 in /local_disk0/.ephemeral_nfs/envs/pythonEnv-07884fc6-4bdc-4cb9-bce0-6f0de44f7080/lib/python3.10/site-packages (from clarifai==9.9.3) (4.66.1)\r\nRequirement already satisfied: schema==0.7.5 in /local_disk0/.ephemeral_nfs/envs/pythonEnv-07884fc6-4bdc-4cb9-bce0-6f0de44f7080/lib/python3.10/site-packages (from clarifai==9.9.3) (0.7.5)\r\nRequirement already satisfied: tritonclient==2.34.0 in /local_disk0/.ephemeral_nfs/envs/pythonEnv-07884fc6-4bdc-4cb9-bce0-6f0de44f7080/lib/python3.10/site-packages (from clarifai==9.9.3) (2.34.0)\r\nRequirement already satisfied: numpy==1.22.0 in /local_disk0/.ephemeral_nfs/envs/pythonEnv-07884fc6-4bdc-4cb9-bce0-6f0de44f7080/lib/python3.10/site-packages (from clarifai==9.9.3) (1.22.0)\r\nRequirement already satisfied: opencv-python==4.7.0.68 in /local_disk0/.ephemeral_nfs/envs/pythonEnv-07884fc6-4bdc-4cb9-bce0-6f0de44f7080/lib/python3.10/site-packages (from clarifai==9.9.3) (4.7.0.68)\r\nRequirement already satisfied: googleapis-common-protos>=1.53.0 in /databricks/python3/lib/python3.10/site-packages (from clarifai-grpc==9.8.1->clarifai==9.9.3) (1.56.4)\r\nRequirement already satisfied: grpcio>=1.44.0 in /databricks/python3/lib/python3.10/site-packages (from clarifai-grpc==9.8.1->clarifai==9.9.3) (1.48.1)\r\nRequirement already satisfied: requests>=2.25.1 in /databricks/python3/lib/python3.10/site-packages (from clarifai-grpc==9.8.1->clarifai==9.9.3) (2.28.1)\r\nRequirement already satisfied: protobuf>=3.20.3 in /local_disk0/.ephemeral_nfs/envs/pythonEnv-07884fc6-4bdc-4cb9-bce0-6f0de44f7080/lib/python3.10/site-packages (from clarifai-grpc==9.8.1->clarifai==9.9.3) (4.24.2)\r\nRequirement already satisfied: antlr4-python3-runtime==4.9.* in /local_disk0/.ephemeral_nfs/envs/pythonEnv-07884fc6-4bdc-4cb9-bce0-6f0de44f7080/lib/python3.10/site-packages (from omegaconf==2.2.3->clarifai==9.9.3) (4.9.3)\r\nRequirement already satisfied: python-dateutil>=2.7.3 in /databricks/python3/lib/python3.10/site-packages (from pandas==1.3.5->clarifai==9.9.3) (2.8.2)\r\nRequirement already satisfied: pytz>=2017.3 in /databricks/python3/lib/python3.10/site-packages (from pandas==1.3.5->clarifai==9.9.3) (2022.1)\r\nRequirement already satisfied: matplotlib>=2.1.0 in /databricks/python3/lib/python3.10/site-packages (from pycocotools==2.0.6->clarifai==9.9.3) (3.5.2)\r\nRequirement already satisfied: pluggy<2.0,>=0.12 in /databricks/python3/lib/python3.10/site-packages (from pytest==7.4.1->clarifai==9.9.3) (1.0.0)\r\nRequirement already satisfied: exceptiongroup>=1.0.0rc8 in /local_disk0/.ephemeral_nfs/envs/pythonEnv-07884fc6-4bdc-4cb9-bce0-6f0de44f7080/lib/python3.10/site-packages (from pytest==7.4.1->clarifai==9.9.3) (1.1.3)\r\nRequirement already satisfied: iniconfig in /local_disk0/.ephemeral_nfs/envs/pythonEnv-07884fc6-4bdc-4cb9-bce0-6f0de44f7080/lib/python3.10/site-packages (from pytest==7.4.1->clarifai==9.9.3) (2.0.0)\r\nRequirement already satisfied: packaging in /databricks/python3/lib/python3.10/site-packages (from pytest==7.4.1->clarifai==9.9.3) (21.3)\r\nRequirement already satisfied: tomli>=1.0.0 in /databricks/python3/lib/python3.10/site-packages (from pytest==7.4.1->clarifai==9.9.3) (2.0.1)\r\nRequirement already satisfied: pygments<3.0.0,>=2.13.0 in /local_disk0/.ephemeral_nfs/envs/pythonEnv-07884fc6-4bdc-4cb9-bce0-6f0de44f7080/lib/python3.10/site-packages (from rich==13.4.2->clarifai==9.9.3) (2.16.1)\r\nRequirement already satisfied: markdown-it-py>=2.2.0 in /local_disk0/.ephemeral_nfs/envs/pythonEnv-07884fc6-4bdc-4cb9-bce0-6f0de44f7080/lib/python3.10/site-packages (from rich==13.4.2->clarifai==9.9.3) (3.0.0)\r\nRequirement already satisfied: contextlib2>=0.5.5 in /local_disk0/.ephemeral_nfs/envs/pythonEnv-07884fc6-4bdc-4cb9-bce0-6f0de44f7080/lib/python3.10/site-packages (from schema==0.7.5->clarifai==9.9.3) (21.6.0)\r\nRequirement already satisfied: python-rapidjson>=0.9.1 in /local_disk0/.ephemeral_nfs/envs/pythonEnv-07884fc6-4bdc-4cb9-bce0-6f0de44f7080/lib/python3.10/site-packages (from tritonclient==2.34.0->clarifai==9.9.3) (1.12)\r\nRequirement already satisfied: six>=1.5.2 in /usr/lib/python3/dist-packages (from grpcio>=1.44.0->clarifai-grpc==9.8.1->clarifai==9.9.3) (1.16.0)\r\nRequirement already satisfied: mdurl~=0.1 in /local_disk0/.ephemeral_nfs/envs/pythonEnv-07884fc6-4bdc-4cb9-bce0-6f0de44f7080/lib/python3.10/site-packages (from markdown-it-py>=2.2.0->rich==13.4.2->clarifai==9.9.3) (0.1.2)\r\nRequirement already satisfied: fonttools>=4.22.0 in /databricks/python3/lib/python3.10/site-packages (from matplotlib>=2.1.0->pycocotools==2.0.6->clarifai==9.9.3) (4.25.0)\r\nRequirement already satisfied: cycler>=0.10 in /databricks/python3/lib/python3.10/site-packages (from matplotlib>=2.1.0->pycocotools==2.0.6->clarifai==9.9.3) (0.11.0)\r\nRequirement already satisfied: kiwisolver>=1.0.1 in /databricks/python3/lib/python3.10/site-packages (from matplotlib>=2.1.0->pycocotools==2.0.6->clarifai==9.9.3) (1.4.2)\r\nRequirement already satisfied: pillow>=6.2.0 in /databricks/python3/lib/python3.10/site-packages (from matplotlib>=2.1.0->pycocotools==2.0.6->clarifai==9.9.3) (9.2.0)\r\nRequirement already satisfied: pyparsing>=2.2.1 in /databricks/python3/lib/python3.10/site-packages (from matplotlib>=2.1.0->pycocotools==2.0.6->clarifai==9.9.3) (3.0.9)\r\nRequirement already satisfied: certifi>=2017.4.17 in /databricks/python3/lib/python3.10/site-packages (from requests>=2.25.1->clarifai-grpc==9.8.1->clarifai==9.9.3) (2022.9.14)\r\nRequirement already satisfied: urllib3<1.27,>=1.21.1 in /databricks/python3/lib/python3.10/site-packages (from requests>=2.25.1->clarifai-grpc==9.8.1->clarifai==9.9.3) (1.26.11)\r\nRequirement already satisfied: idna<4,>=2.5 in /databricks/python3/lib/python3.10/site-packages (from requests>=2.25.1->clarifai-grpc==9.8.1->clarifai==9.9.3) (3.3)\r\nRequirement already satisfied: charset-normalizer<3,>=2 in /databricks/python3/lib/python3.10/site-packages (from requests>=2.25.1->clarifai-grpc==9.8.1->clarifai==9.9.3) (2.0.4)\r\n\r\n\u001B[1m[\u001B[0m\u001B[34;49mnotice\u001B[0m\u001B[1;39;49m]\u001B[0m\u001B[39;49m A new release of pip available: \u001B[0m\u001B[31;49m22.2.2\u001B[0m\u001B[39;49m -> \u001B[0m\u001B[32;49m23.3.1\u001B[0m\r\n\u001B[1m[\u001B[0m\u001B[34;49mnotice\u001B[0m\u001B[1;39;49m]\u001B[0m\u001B[39;49m To update, run: \u001B[0m\u001B[32;49mpip install --upgrade pip\u001B[0m\r\nRequirement already satisfied: pyspark in /local_disk0/.ephemeral_nfs/envs/pythonEnv-07884fc6-4bdc-4cb9-bce0-6f0de44f7080/lib/python3.10/site-packages (3.5.0)\r\nRequirement already satisfied: py4j==0.10.9.7 in /local_disk0/.ephemeral_nfs/envs/pythonEnv-07884fc6-4bdc-4cb9-bce0-6f0de44f7080/lib/python3.10/site-packages (from pyspark) (0.10.9.7)\r\n\r\n\u001B[1m[\u001B[0m\u001B[34;49mnotice\u001B[0m\u001B[1;39;49m]\u001B[0m\u001B[39;49m A new release of pip available: \u001B[0m\u001B[31;49m22.2.2\u001B[0m\u001B[39;49m -> \u001B[0m\u001B[32;49m23.3.1\u001B[0m\r\n\u001B[1m[\u001B[0m\u001B[34;49mnotice\u001B[0m\u001B[1;39;49m]\u001B[0m\u001B[39;49m To update, run: \u001B[0m\u001B[32;49mpip install --upgrade pip\u001B[0m\r\n"
     ]
    }
   ],
   "source": [
    "!pip install clarifai==9.9.3\n",
    "!pip install pyspark"
   ]
  },
  {
   "cell_type": "code",
   "execution_count": 0,
   "metadata": {
    "application/vnd.databricks.v1+cell": {
     "cellMetadata": {
      "byteLimit": 2048000,
      "rowLimit": 10000
     },
     "inputWidgets": {},
     "nuid": "2cb25f83-599a-4835-a6e1-1d51d06a756c",
     "showTitle": false,
     "title": ""
    }
   },
   "outputs": [
    {
     "output_type": "stream",
     "name": "stdout",
     "output_type": "stream",
     "text": [
      "Requirement already satisfied: protobuf==4.24.2 in /local_disk0/.ephemeral_nfs/envs/pythonEnv-07884fc6-4bdc-4cb9-bce0-6f0de44f7080/lib/python3.10/site-packages (4.24.2)\r\n\r\n\u001B[1m[\u001B[0m\u001B[34;49mnotice\u001B[0m\u001B[1;39;49m]\u001B[0m\u001B[39;49m A new release of pip available: \u001B[0m\u001B[31;49m22.2.2\u001B[0m\u001B[39;49m -> \u001B[0m\u001B[32;49m23.3.1\u001B[0m\r\n\u001B[1m[\u001B[0m\u001B[34;49mnotice\u001B[0m\u001B[1;39;49m]\u001B[0m\u001B[39;49m To update, run: \u001B[0m\u001B[32;49mpip install --upgrade pip\u001B[0m\r\nName: protobuf\r\nVersion: 4.24.2\r\nSummary: \r\nHome-page: https://developers.google.com/protocol-buffers/\r\nAuthor: protobuf@googlegroups.com\r\nAuthor-email: protobuf@googlegroups.com\r\nLicense: 3-Clause BSD License\r\nLocation: /local_disk0/.ephemeral_nfs/envs/pythonEnv-07884fc6-4bdc-4cb9-bce0-6f0de44f7080/lib/python3.10/site-packages\r\nRequires: \r\nRequired-by: clarifai-grpc, facets-overview, googleapis-common-protos, grpcio-status\r\n"
     ]
    }
   ],
   "source": [
    "!pip install protobuf==4.24.2\n",
    "!pip show protobuf\n",
    "dbutils.library.restartPython() \n",
    "     "
   ]
  },
  {
   "cell_type": "markdown",
   "metadata": {
    "application/vnd.databricks.v1+cell": {
     "cellMetadata": {},
     "inputWidgets": {},
     "nuid": "6b3955e6-9088-4c3c-a0d2-8f860a01588e",
     "showTitle": false,
     "title": ""
    }
   },
   "source": [
    "# Writing ClarifaiPySpark SDK functions"
   ]
  },
  {
   "cell_type": "markdown",
   "metadata": {
    "application/vnd.databricks.v1+cell": {
     "cellMetadata": {},
     "inputWidgets": {},
     "nuid": "f40014f9-5b31-4b14-8ec1-55b669b14f09",
     "showTitle": false,
     "title": ""
    }
   },
   "source": [
    "### ClarifaiPySpark Dataset class"
   ]
  },
  {
   "cell_type": "code",
   "execution_count": 0,
   "metadata": {
    "application/vnd.databricks.v1+cell": {
     "cellMetadata": {
      "byteLimit": 2048000,
      "rowLimit": 10000
     },
     "inputWidgets": {},
     "nuid": "ce874369-42f1-4323-bff0-6f886b02df3c",
     "showTitle": false,
     "title": ""
    },
    "jupyter": {
     "source_hidden": true
    }
   },
   "outputs": [
    {
     "output_type": "display_data",
     "data": {
      "text/html": [
       "<pre style=\"white-space:pre;overflow-x:auto;line-height:normal;font-family:Menlo,'DejaVu Sans Mono',consolas,'Courier New',monospace\"><span style=\"color: #7fbfbf; text-decoration-color: #7fbfbf\">2023-10-23 09:04:30 </span><span style=\"color: #000080; text-decoration-color: #000080\">INFO    </span> INFO:py4j.clientserver:Received command c on object id p0          <a href=\"file:///databricks/spark/python/lib/py4j-0.10.9.7-src.zip/py4j/clientserver.py\" target=\"_blank\"><span style=\"color: #7f7f7f; text-decoration-color: #7f7f7f\">clientserver.py</span></a><span style=\"color: #7f7f7f; text-decoration-color: #7f7f7f\">:</span><a href=\"file:///databricks/spark/python/lib/py4j-0.10.9.7-src.zip/py4j/clientserver.py#575\" target=\"_blank\"><span style=\"color: #7f7f7f; text-decoration-color: #7f7f7f\">575</span></a>\n",
       "</pre>\n"
      ],
      "text/plain": [
       "\u001B[2;36m2023-10-23 09:04:30\u001B[0m\u001B[2;36m \u001B[0m\u001B[34mINFO    \u001B[0m INFO:py4j.clientserver:Received command c on object id p0          \u001B]8;id=574375;file:///databricks/spark/python/lib/py4j-0.10.9.7-src.zip/py4j/clientserver.py\u001B\\\u001B[2mclientserver.py\u001B[0m\u001B]8;;\u001B\\\u001B[2m:\u001B[0m\u001B]8;id=783822;file:///databricks/spark/python/lib/py4j-0.10.9.7-src.zip/py4j/clientserver.py#575\u001B\\\u001B[2m575\u001B[0m\u001B]8;;\u001B\\\n"
      ]
     },
     "metadata": {},
     "output_type": "display_data"
    }
   ],
   "source": [
    "import json\n",
    "import time\n",
    "import uuid\n",
    "from typing import Generator, List, Union \n",
    "\n",
    "import requests\n",
    "from clarifai.client.app import App\n",
    "from clarifai.client.dataset import Dataset\n",
    "from clarifai.client.input import Inputs\n",
    "from clarifai.client.user import User\n",
    "from clarifai.errors import UserError\n",
    "from clarifai_grpc.grpc.api.resources_pb2 import Input\n",
    "from google.protobuf.json_format import MessageToJson\n",
    "from google.protobuf.struct_pb2 import Struct\n",
    "from pyspark.sql import DataFrame as SparkDataFrame\n",
    "from pyspark.sql import SparkSession\n",
    "\n",
    "\n",
    "\n",
    "class Dataset(Dataset):\n",
    "  \"\"\"\n",
    "  Dataset class provides information about dataset of the app\n",
    "  and it inherits from the clarifai SDK Dataset class.\n",
    "  \"\"\"\n",
    "\n",
    "  def __init__(self, user_id: str = \"\", app_id: str = \"\", dataset_id: str = \"\"):\n",
    "    \"\"\"Initializes the Dataset object.\n",
    "\n",
    "    Args:\n",
    "        user_id (str): The clarifai user ID of the user.\n",
    "        app_id (str): Clarifai App ID.\n",
    "        dataset_id (str): Dataset ID of the dataset inside the clarifai App.\n",
    "\n",
    "    Example: TODO\n",
    "    \"\"\"\n",
    "    self.user = User(user_id=user_id)\n",
    "    self.app = App(app_id=app_id)\n",
    "    #Inputs object - for listannotations\n",
    "    #input_obj = User(user_id=\"user_id\").app(app_id=\"app_id\").inputs()\n",
    "    self.user_id = user_id\n",
    "    self.app_id = app_id\n",
    "    self.dataset_id = dataset_id\n",
    "    super().__init__(user_id=user_id, app_id=app_id, dataset_id=dataset_id)\n",
    "\n",
    "  def upload_dataset_from_csv(self,\n",
    "                              csv_path: str = \"\",\n",
    "                              input_type: str = 'text',\n",
    "                              csv_type: str = None,\n",
    "                              labels: bool = True,\n",
    "                              chunk_size: int = 128) -> None:\n",
    "    \"\"\"Uploads dataset to clarifai app from the csv file path.\n",
    "\n",
    "    Args:\n",
    "        csv_path (str): CSV file path of the dataset to be uploaded into clarifai App.\n",
    "        input_type (str): Input type of the dataset whether (Image, text).\n",
    "        csv_type (str): Type of the csv file contents(url, raw, filepath).\n",
    "        labels (bool): Give True if labels column present in dataset else False.\n",
    "        chunk_size (int): chunk size of parallel uploads of inputs and annotations.\n",
    "\n",
    "    Example: TODO\n",
    "\n",
    "    Note:\n",
    "        CSV file supports 'inputid', 'input', 'concepts', 'metadata', 'geopoints' columns.\n",
    "        All the data in the CSV should be in double quotes.\n",
    "        metadata should be in single quotes format. Example: \"{'key': 'value'}\"\n",
    "        geopoints should be in \"long,lat\" format.\n",
    "\n",
    "    \"\"\"\n",
    "    ### TODO: Can input column names & extract them to convert to our csv format\n",
    "    self.upload_from_csv(\n",
    "        csv_path=csv_path,\n",
    "        input_type=input_type,\n",
    "        csv_type=csv_type,\n",
    "        labels=labels,\n",
    "        chunk_size=chunk_size)\n",
    "\n",
    "  def upload_dataset_from_folder(self,\n",
    "                                 folder_path: str,\n",
    "                                 input_type: str,\n",
    "                                 labels: bool = False,\n",
    "                                 chunk_size: int = 128) -> None:\n",
    "    \"\"\"Uploads dataset from folder into clarifai app.\n",
    "\n",
    "    Args:\n",
    "        folder_path (str): folder path of the dataset to be uploaded into clarifai App.\n",
    "        input_type (str): Input type of the dataset whether (Image, text).\n",
    "        labels (bool): Give True if labels column present in dataset else False.\n",
    "        chunk_size (int): chunk size of parallel uploads of inputs and annotations.\n",
    "\n",
    "    Example: TODO\n",
    "\n",
    "    Note:\n",
    "        Can provide a volume or S3 path to the folder\n",
    "        If label is true, then folder name is class name (label)\n",
    "    \"\"\"\n",
    "\n",
    "    self.upload_from_folder(\n",
    "        folder_path=folder_path, input_type=input_type, labels=labels, chunk_size=chunk_size)\n",
    "\n",
    "  def get_inputs_from_dataframe(self,\n",
    "                                dataframe,\n",
    "                                input_type: str,\n",
    "                                df_type: str,\n",
    "                                dataset_id: str = None,\n",
    "                                labels: str = True) -> List[Input]:\n",
    "    input_protos = []\n",
    "    input_obj = Inputs(user_id=self.user_id, app_id=self.app_id)\n",
    "\n",
    "    for row in dataframe.collect():\n",
    "      if labels:\n",
    "        labels_list = row[\"concepts\"].split(',')\n",
    "        labels = labels_list if len(row['concepts']) > 0 else None\n",
    "      else:\n",
    "        labels = None\n",
    "\n",
    "      if 'metadata' in dataframe.columns:\n",
    "        if row['metadata'] is not None and len(row['metadata']) > 0:\n",
    "          metadata_str = row['metadata'].replace(\"'\", '\"')\n",
    "          try:\n",
    "            metadata_dict = json.loads(metadata_str)\n",
    "          except json.decoder.JSONDecodeError:\n",
    "            raise UserError(\"metadata column in CSV file should be a valid json\")\n",
    "          metadata = Struct()\n",
    "          metadata.update(metadata_dict)\n",
    "        else:\n",
    "          metadata = None\n",
    "      else:\n",
    "        metadata = None\n",
    "\n",
    "      if 'geopoints' in dataframe.columns:\n",
    "        if row['geopoints'] is not None and len(row['geopoints']) > 0:\n",
    "          geo_points = row['geopoints'].split(',')\n",
    "          geo_points = [float(geo_point) for geo_point in geo_points]\n",
    "          geo_info = geo_points if len(geo_points) == 2 else UserError(\n",
    "              \"geopoints column in CSV file should have longitude,latitude\")\n",
    "        else:\n",
    "          geo_info = None\n",
    "      else:\n",
    "        geo_info = None\n",
    "\n",
    "      input_id = row['inputid'] if 'inputid' in dataframe.columns else uuid.uuid4().hex\n",
    "      text = row[\"input\"] if input_type == 'text' else None\n",
    "      image = row['input'] if input_type == 'image' else None\n",
    "      video = row['input'] if input_type == 'video' else None\n",
    "      audio = row['input'] if input_type == 'audio' else None\n",
    "\n",
    "      if df_type == 'raw':\n",
    "        input_protos.append(\n",
    "            input_obj.get_text_input(\n",
    "                input_id=input_id,\n",
    "                raw_text=text,\n",
    "                dataset_id=dataset_id,\n",
    "                labels=labels,\n",
    "                geo_info=geo_info))\n",
    "      elif df_type == 'url':\n",
    "        input_protos.append(\n",
    "            input_obj.get_input_from_url(\n",
    "                input_id=input_id,\n",
    "                image_url=image,\n",
    "                text_url=text,\n",
    "                audio_url=audio,\n",
    "                video_url=video,\n",
    "                dataset_id=dataset_id,\n",
    "                labels=labels,\n",
    "                geo_info=geo_info))\n",
    "      else:\n",
    "        input_protos.append(\n",
    "            input_obj.get_input_from_file(\n",
    "                input_id=input_id,\n",
    "                image_file=image,\n",
    "                text_file=text,\n",
    "                audio_file=audio,\n",
    "                video_file=video,\n",
    "                dataset_id=dataset_id,\n",
    "                labels=labels,\n",
    "                geo_info=geo_info))\n",
    "\n",
    "    return input_protos\n",
    "\n",
    "  def upload_dataset_from_dataframe(self,\n",
    "                                    dataframe,\n",
    "                                    input_type: str,\n",
    "                                    df_type: str = None,\n",
    "                                    labels: bool = True,\n",
    "                                    chunk_size: int = 128) -> None:\n",
    "    \"\"\"Uploads dataset from a dataframe.\n",
    "       Expected columns in the dataframe are inputid, input, concepts (optional), metadata (optional), geopoints (optional).\n",
    "\n",
    "      Args:\n",
    "          task (str): task type(text_clf, visual-classification, visual_detection, visual_segmentation, visual-captioning).\n",
    "          split (str): split type(train, test, val).\n",
    "          module_dir (str): path to the module directory.\n",
    "          dataset_loader (str): name of the dataset loader.\n",
    "          chunk_size (int): chunk size for concurrent upload of inputs and annotations.\n",
    "\n",
    "      Example: TODO\n",
    "    \"\"\"\n",
    "\n",
    "    if input_type not in ('image', 'text', 'video', 'audio'):\n",
    "      raise UserError('Invalid input type, it should be image,text,audio or video')\n",
    "\n",
    "    if df_type not in ('raw', 'url', 'file_path'):\n",
    "      raise UserError('Invalid csv type, it should be raw, url or file_path')\n",
    "\n",
    "    if df_type == 'raw' and input_type != 'text':\n",
    "      raise UserError('Only text input type is supported for raw csv type')\n",
    "\n",
    "    if not isinstance(dataframe, SparkDataFrame):\n",
    "      raise UserError('dataframe should be a Spark DataFrame')\n",
    "\n",
    "    chunk_size = min(128, chunk_size)\n",
    "    input_obj = input_obj = Inputs(user_id=self.user_id, app_id=self.app_id)\n",
    "    input_protos = self.get_inputs_from_dataframe(\n",
    "        dataframe=dataframe,\n",
    "        df_type=df_type,\n",
    "        input_type=input_type,\n",
    "        dataset_id=self.dataset_id,\n",
    "        labels=labels)\n",
    "    return (input_obj._bulk_upload(inputs=input_protos, chunk_size=chunk_size))\n",
    "\n",
    "  def upload_dataset_from_dataloader(self,\n",
    "                                     task: str,\n",
    "                                     split: str,\n",
    "                                     module_dir: str = None,\n",
    "                                     chunk_size: int = 128) -> None:\n",
    "    \"\"\"Uploads dataset using a dataloader function for custom formats.\n",
    "\n",
    "    Args:\n",
    "        task (str): task type(text_clf, visual-classification, visual_detection, visual_segmentation, visual-captioning).\n",
    "        split (str): split type(train, test, val).\n",
    "        module_dir (str): path to the module directory.\n",
    "        chunk_size (int): chunk size for concurrent upload of inputs and annotations.\n",
    "\n",
    "    Example: TODO\n",
    "    \"\"\"\n",
    "    self.upload_dataset(task=task, split=split, module_dir=module_dir, chunk_size=chunk_size)\n",
    "\n",
    "  def upload_dataset_from_table(self,\n",
    "                                table_path: str,\n",
    "                                input_type: str,\n",
    "                                table_type: str,\n",
    "                                labels: bool,\n",
    "                                chunk_size: int = 128) -> None:\n",
    "    \"\"\"upload dataset to clarifai app from spark tables.\n",
    "\n",
    "    Args:\n",
    "        table_path (str): path of the table to be uploaded.\n",
    "        task (str):\n",
    "        split (str):\n",
    "        input_type (str): Input type of the dataset whether (Image, text).\n",
    "        table_type (str): Type of the table contents (url, raw, filepath).\n",
    "        labels (bool): Give True if labels column present in dataset else False.\n",
    "        module_dir (str): path to the module directory.\n",
    "        dataset_loader (str): name of the dataset loader.\n",
    "        chunk_size (int): chunk size for concurrent upload of inputs and annotations.\n",
    "    Note:\n",
    "        Accepted csv format - input, label\n",
    "        TODO: dataframe dataloader template\n",
    "        TODO: Can input column names & extreact them to convert to our csv format\n",
    "    \"\"\"\n",
    "    spark = SparkSession.builder.appName('Clarifai-spark').getOrCreate()\n",
    "    tempdf = spark.read.format(\"delta\").load(table_path)\n",
    "    self.upload_from_dataframe(\n",
    "        dataframe=tempdf,\n",
    "        input_type=input_type,\n",
    "        df_type=table_type,\n",
    "        labels=labels,\n",
    "        chunk_size=chunk_size)\n",
    "\n",
    "  def list_inputs(self, per_page: int = None, input_type: str = None) -> Generator[Input, None, None]:\n",
    "    \"\"\"Lists all the inputs from the app.\n",
    "\n",
    "    Args:\n",
    "        per_page (str): No of response of inputs per page.\n",
    "        input_type (str): Input type that needs to be displayed (text,image)\n",
    "        TODO: Do we need input_type ?, since in our case it is image, so probably we can go with default value of \"image\".\n",
    "\n",
    "    Examples:\n",
    "        TODO\n",
    "\n",
    "    Returns:\n",
    "        list of inputs.\n",
    "        \"\"\"\n",
    "    input_obj = Inputs(user_id=self.user_id, app_id=self.app_id)\n",
    "    return input_obj.list_inputs(\n",
    "        dataset_id=self.dataset_id, input_type=input_type, per_page=per_page)\n",
    "\n",
    "  def list_annotations(self, per_page: int = None, input_type: str = None):\n",
    "    \"\"\"Lists all the annotations for the inputs in the dataset of a clarifai app.\n",
    "\n",
    "    Args:\n",
    "        per_page (str): No of response of inputs per page.\n",
    "        input_type (str): Input type that needs to be displayed (text,image)\n",
    "        TODO: Do we need input_type ?, since in our case it is image, so probably we can go with default value of \"image\".\n",
    "\n",
    "    Examples:\n",
    "        TODO\n",
    "\n",
    "    Returns:\n",
    "        list of annotations.\n",
    "    \"\"\"\n",
    "    ### input_ids: list of input_ids for which user wants annotations\n",
    "    input_obj = Inputs(user_id=self.user_id, app_id=self.app_id)\n",
    "    all_inputs = list(\n",
    "        input_obj.list_inputs(\n",
    "            dataset_id=self.dataset_id, input_type=input_type, per_page=per_page))\n",
    "    return input_obj.list_annotations(batch_input=all_inputs)\n",
    "\n",
    "  def export_annotations_to_dataframe(self):\n",
    "    \"\"\"Export all the annotations from clarifai App to spark dataframe.\n",
    "\n",
    "    Examples:\n",
    "        TODO\n",
    "\n",
    "    Returns:\n",
    "        spark dataframe with annotations\"\"\"\n",
    "\n",
    "    annotation_list = []\n",
    "    spark = SparkSession.builder.appName('Clarifai-spark').getOrCreate()\n",
    "    input_obj = Inputs(user_id=self.user_id, app_id=self.app_id)\n",
    "    all_inputs = list(input_obj.list_inputs(dataset_id=self.dataset_id))\n",
    "    response = list(input_obj.list_annotations(batch_input=all_inputs))\n",
    "    for an in response:\n",
    "      temp = {}\n",
    "      temp['annotation'] = json.loads(MessageToJson(an.data))\n",
    "      if not temp['annotation'] or temp['annotation'] == '{}' or temp['annotation'] == {}:\n",
    "        continue\n",
    "      temp['id'] = an.id\n",
    "      temp['user_id'] = an.user_id\n",
    "      temp['input_id'] = an.input_id\n",
    "      try:\n",
    "        created_at = float(f\"{an.created_at.seconds}.{an.created_at.nanos}\")\n",
    "        temp['created_at'] = time.strftime('%m/%d/% %H:%M:%5', time.gmtime(created_at))\n",
    "        modified_at = float(f\"{an.modified_at.seconds}.{an.modified_at.nanos}\")\n",
    "        temp['modified_at'] = time.strftime('%m/%d/% %H:%M:%5', time.gmtime(modified_at))\n",
    "      except:\n",
    "        temp['created_at'] = float(f\"{an.created_at.seconds}.{an.created_at.nanos}\")\n",
    "        temp['modified_at'] = float(f\"{an.modified_at.seconds}.{an.modified_at.nanos}\")\n",
    "      annotation_list.append(temp)\n",
    "    return spark.createDataFrame(annotation_list)\n",
    "\n",
    "  def export_images_to_volume(self, path, input_response):\n",
    "    for resp in input_response:\n",
    "      imgid = resp.id\n",
    "      ext = resp.data.image.image_info.format\n",
    "      url = resp.data.image.url\n",
    "      img_name = path + '/' + imgid + '.' + ext.lower()\n",
    "      headers = {\"Authorization\": self.metadata[0][1]}\n",
    "      response = requests.get(url, headers=headers)\n",
    "      with open(img_name, \"wb\") as f:\n",
    "        f.write(response.content)\n",
    "\n",
    "  def export_text_to_volume(self, path, input_response):\n",
    "    for resp in input_response:\n",
    "      textid = resp.id\n",
    "      url = resp.data.text.url\n",
    "      file_name = path + '/' + textid + '.txt'\n",
    "      enc = resp.data.text.text_info.encoding\n",
    "      headers = {\"Authorization\": self.metadata[0][1]}\n",
    "      response = requests.get(url, headers=headers)\n",
    "      with open(file_name, \"a\", encoding=enc) as f:\n",
    "        f.write(response.content.decode())\n"
   ]
  },
  {
   "cell_type": "markdown",
   "metadata": {
    "application/vnd.databricks.v1+cell": {
     "cellMetadata": {},
     "inputWidgets": {},
     "nuid": "b1930017-2f54-478f-bbdf-264a1f746c65",
     "showTitle": false,
     "title": ""
    }
   },
   "source": [
    "### ClarifaiPySpark Client class"
   ]
  },
  {
   "cell_type": "code",
   "execution_count": 0,
   "metadata": {
    "application/vnd.databricks.v1+cell": {
     "cellMetadata": {
      "byteLimit": 2048000,
      "rowLimit": 10000
     },
     "inputWidgets": {},
     "nuid": "67816333-aec9-4535-9af4-810115231054",
     "showTitle": false,
     "title": ""
    },
    "jupyter": {
     "source_hidden": true
    }
   },
   "outputs": [
    {
     "output_type": "display_data",
     "data": {
      "text/html": [
       "<pre style=\"white-space:pre;overflow-x:auto;line-height:normal;font-family:Menlo,'DejaVu Sans Mono',consolas,'Courier New',monospace\"><span style=\"color: #7fbfbf; text-decoration-color: #7fbfbf\">2023-10-23 09:04:33 </span><span style=\"color: #000080; text-decoration-color: #000080\">INFO    </span> INFO:py4j.clientserver:Received command c on object id p0          <a href=\"file:///databricks/spark/python/lib/py4j-0.10.9.7-src.zip/py4j/clientserver.py\" target=\"_blank\"><span style=\"color: #7f7f7f; text-decoration-color: #7f7f7f\">clientserver.py</span></a><span style=\"color: #7f7f7f; text-decoration-color: #7f7f7f\">:</span><a href=\"file:///databricks/spark/python/lib/py4j-0.10.9.7-src.zip/py4j/clientserver.py#575\" target=\"_blank\"><span style=\"color: #7f7f7f; text-decoration-color: #7f7f7f\">575</span></a>\n",
       "</pre>\n"
      ],
      "text/plain": [
       "\u001B[2;36m2023-10-23 09:04:33\u001B[0m\u001B[2;36m \u001B[0m\u001B[34mINFO    \u001B[0m INFO:py4j.clientserver:Received command c on object id p0          \u001B]8;id=85542;file:///databricks/spark/python/lib/py4j-0.10.9.7-src.zip/py4j/clientserver.py\u001B\\\u001B[2mclientserver.py\u001B[0m\u001B]8;;\u001B\\\u001B[2m:\u001B[0m\u001B]8;id=669343;file:///databricks/spark/python/lib/py4j-0.10.9.7-src.zip/py4j/clientserver.py#575\u001B\\\u001B[2m575\u001B[0m\u001B]8;;\u001B\\\n"
      ]
     },
     "metadata": {},
     "output_type": "display_data"
    }
   ],
   "source": [
    "from clarifai.client.app import App\n",
    "from clarifai.client.base import BaseClient\n",
    "from clarifai.client.user import User\n",
    "\n",
    "# from clarifaipyspark.dataset import Dataset\n",
    "\n",
    "\n",
    "class ClarifaiPySpark(BaseClient):\n",
    "  \"\"\"\n",
    "  ClarifaiPySpark inherits the BaseClient class from the clarifai SDK and it initializes the client.\n",
    "  \"\"\"\n",
    "\n",
    "  def __init__(self, user_id: str = \"\", app_id: str = \"\"):\n",
    "    \"\"\"Initializes clarifai client object.\n",
    "\n",
    "    Args:\n",
    "      - user_id (str): A user ID for authentication.\n",
    "      - app_id (str): An app ID for the application to interact with.\n",
    "    \"\"\"\n",
    "\n",
    "    self.user = User(user_id=user_id)\n",
    "    self.app = App(app_id=app_id)\n",
    "    self.user_id = user_id\n",
    "    self.app_id = app_id\n",
    "    super().__init__(user_id=user_id, app_id=app_id)\n",
    "\n",
    "  def dataset(self, dataset_id):\n",
    "    \"\"\"Initializes the dataset method with dataset_id.\n",
    "\n",
    "    Args:\n",
    "      dataset_id: The dataset_id within the user app.\n",
    "\n",
    "    Returns:\n",
    "      Dataset object for the dataset_id.\n",
    "    \"\"\"\n",
    "\n",
    "    try:\n",
    "      self.app.dataset(dataset_id=dataset_id)\n",
    "    except:\n",
    "      print(\"Creating a new dataset\")\n",
    "      self.app.create_dataset(dataset_id=dataset_id)\n",
    "\n",
    "    return Dataset(dataset_id=dataset_id, user_id=self.user_id, app_id=self.app_id)\n"
   ]
  },
  {
   "cell_type": "markdown",
   "metadata": {
    "application/vnd.databricks.v1+cell": {
     "cellMetadata": {},
     "inputWidgets": {},
     "nuid": "e324b745-65dc-4e9b-ac56-cc307dc32e20",
     "showTitle": false,
     "title": ""
    }
   },
   "source": [
    "# Testing ClarifaiPySpark SDK"
   ]
  },
  {
   "cell_type": "markdown",
   "metadata": {
    "application/vnd.databricks.v1+cell": {
     "cellMetadata": {},
     "inputWidgets": {},
     "nuid": "b49e60e6-14d5-41cf-98bf-c1d3bac0e326",
     "showTitle": false,
     "title": ""
    }
   },
   "source": [
    "### Setting Env variables"
   ]
  },
  {
   "cell_type": "code",
   "execution_count": 0,
   "metadata": {
    "application/vnd.databricks.v1+cell": {
     "cellMetadata": {
      "byteLimit": 2048000,
      "rowLimit": 10000
     },
     "inputWidgets": {},
     "nuid": "c6c40e27-74cc-400c-b287-ef4946ec9f13",
     "showTitle": false,
     "title": ""
    }
   },
   "outputs": [
    {
     "output_type": "display_data",
     "data": {
      "text/html": [
       "<pre style=\"white-space:pre;overflow-x:auto;line-height:normal;font-family:Menlo,'DejaVu Sans Mono',consolas,'Courier New',monospace\"><span style=\"color: #7fbfbf; text-decoration-color: #7fbfbf\">2023-10-23 09:04:36 </span><span style=\"color: #000080; text-decoration-color: #000080\">INFO    </span> INFO:py4j.clientserver:Received command c on object id p0          <a href=\"file:///databricks/spark/python/lib/py4j-0.10.9.7-src.zip/py4j/clientserver.py\" target=\"_blank\"><span style=\"color: #7f7f7f; text-decoration-color: #7f7f7f\">clientserver.py</span></a><span style=\"color: #7f7f7f; text-decoration-color: #7f7f7f\">:</span><a href=\"file:///databricks/spark/python/lib/py4j-0.10.9.7-src.zip/py4j/clientserver.py#575\" target=\"_blank\"><span style=\"color: #7f7f7f; text-decoration-color: #7f7f7f\">575</span></a>\n",
       "</pre>\n"
      ],
      "text/plain": [
       "\u001B[2;36m2023-10-23 09:04:36\u001B[0m\u001B[2;36m \u001B[0m\u001B[34mINFO    \u001B[0m INFO:py4j.clientserver:Received command c on object id p0          \u001B]8;id=489096;file:///databricks/spark/python/lib/py4j-0.10.9.7-src.zip/py4j/clientserver.py\u001B\\\u001B[2mclientserver.py\u001B[0m\u001B]8;;\u001B\\\u001B[2m:\u001B[0m\u001B]8;id=194774;file:///databricks/spark/python/lib/py4j-0.10.9.7-src.zip/py4j/clientserver.py#575\u001B\\\u001B[2m575\u001B[0m\u001B]8;;\u001B\\\n"
      ]
     },
     "metadata": {},
     "output_type": "display_data"
    }
   ],
   "source": [
    "import os\n",
    "\n",
    "os.environ['CLARIFAI_PAT'] = ''"
   ]
  },
  {
   "cell_type": "markdown",
   "metadata": {
    "application/vnd.databricks.v1+cell": {
     "cellMetadata": {},
     "inputWidgets": {},
     "nuid": "f1d7478c-e90a-4060-aeac-4fd9c302e147",
     "showTitle": false,
     "title": ""
    }
   },
   "source": [
    "### Creating ClarifaiPyspark object & creating/fetching image dataset from app"
   ]
  },
  {
   "cell_type": "code",
   "execution_count": 0,
   "metadata": {
    "application/vnd.databricks.v1+cell": {
     "cellMetadata": {
      "byteLimit": 2048000,
      "rowLimit": 10000
     },
     "inputWidgets": {},
     "nuid": "278fbfb8-3a3c-4556-8066-f801c368f7fb",
     "showTitle": false,
     "title": ""
    }
   },
   "outputs": [
    {
     "output_type": "display_data",
     "data": {
      "text/html": [
       "<pre style=\"white-space:pre;overflow-x:auto;line-height:normal;font-family:Menlo,'DejaVu Sans Mono',consolas,'Courier New',monospace\"><span style=\"color: #7fbfbf; text-decoration-color: #7fbfbf\">2023-10-23 09:04:40 </span><span style=\"color: #000080; text-decoration-color: #000080\">INFO    </span> INFO:py4j.clientserver:Received command c on object id p0          <a href=\"file:///databricks/spark/python/lib/py4j-0.10.9.7-src.zip/py4j/clientserver.py\" target=\"_blank\"><span style=\"color: #7f7f7f; text-decoration-color: #7f7f7f\">clientserver.py</span></a><span style=\"color: #7f7f7f; text-decoration-color: #7f7f7f\">:</span><a href=\"file:///databricks/spark/python/lib/py4j-0.10.9.7-src.zip/py4j/clientserver.py#575\" target=\"_blank\"><span style=\"color: #7f7f7f; text-decoration-color: #7f7f7f\">575</span></a>\n",
       "</pre>\n"
      ],
      "text/plain": [
       "\u001B[2;36m2023-10-23 09:04:40\u001B[0m\u001B[2;36m \u001B[0m\u001B[34mINFO    \u001B[0m INFO:py4j.clientserver:Received command c on object id p0          \u001B]8;id=498902;file:///databricks/spark/python/lib/py4j-0.10.9.7-src.zip/py4j/clientserver.py\u001B\\\u001B[2mclientserver.py\u001B[0m\u001B]8;;\u001B\\\u001B[2m:\u001B[0m\u001B]8;id=634484;file:///databricks/spark/python/lib/py4j-0.10.9.7-src.zip/py4j/clientserver.py#575\u001B\\\u001B[2m575\u001B[0m\u001B]8;;\u001B\\\n"
      ]
     },
     "metadata": {},
     "output_type": "display_data"
    }
   ],
   "source": [
    "cspark_obj = ClarifaiPySpark(user_id='mansi_k', app_id='databricks_tester_img')\n",
    "\n",
    "dataset_obj = cspark_obj.dataset(dataset_id='dataset1')"
   ]
  },
  {
   "cell_type": "markdown",
   "metadata": {
    "application/vnd.databricks.v1+cell": {
     "cellMetadata": {},
     "inputWidgets": {},
     "nuid": "37067eee-62ff-484c-9748-e4a29ae8103c",
     "showTitle": false,
     "title": ""
    }
   },
   "source": [
    "### Fetching current inputs from image dataset"
   ]
  },
  {
   "cell_type": "code",
   "execution_count": 0,
   "metadata": {
    "application/vnd.databricks.v1+cell": {
     "cellMetadata": {
      "byteLimit": 2048000,
      "rowLimit": 10000
     },
     "inputWidgets": {},
     "nuid": "4cca0e26-4d31-4252-9fa1-3a10300bf0f0",
     "showTitle": false,
     "title": ""
    }
   },
   "outputs": [
    {
     "output_type": "display_data",
     "data": {
      "text/html": [
       "<pre style=\"white-space:pre;overflow-x:auto;line-height:normal;font-family:Menlo,'DejaVu Sans Mono',consolas,'Courier New',monospace\"><span style=\"color: #7fbfbf; text-decoration-color: #7fbfbf\">2023-10-23 09:07:10 </span><span style=\"color: #000080; text-decoration-color: #000080\">INFO    </span> INFO:py4j.clientserver:Received command c on object id p0          <a href=\"file:///databricks/spark/python/lib/py4j-0.10.9.7-src.zip/py4j/clientserver.py\" target=\"_blank\"><span style=\"color: #7f7f7f; text-decoration-color: #7f7f7f\">clientserver.py</span></a><span style=\"color: #7f7f7f; text-decoration-color: #7f7f7f\">:</span><a href=\"file:///databricks/spark/python/lib/py4j-0.10.9.7-src.zip/py4j/clientserver.py#575\" target=\"_blank\"><span style=\"color: #7f7f7f; text-decoration-color: #7f7f7f\">575</span></a>\n",
       "</pre>\n"
      ],
      "text/plain": [
       "\u001B[2;36m2023-10-23 09:07:10\u001B[0m\u001B[2;36m \u001B[0m\u001B[34mINFO    \u001B[0m INFO:py4j.clientserver:Received command c on object id p0          \u001B]8;id=653055;file:///databricks/spark/python/lib/py4j-0.10.9.7-src.zip/py4j/clientserver.py\u001B\\\u001B[2mclientserver.py\u001B[0m\u001B]8;;\u001B\\\u001B[2m:\u001B[0m\u001B]8;id=627783;file:///databricks/spark/python/lib/py4j-0.10.9.7-src.zip/py4j/clientserver.py#575\u001B\\\u001B[2m575\u001B[0m\u001B]8;;\u001B\\\n"
      ]
     },
     "metadata": {},
     "output_type": "display_data"
    },
    {
     "output_type": "execute_result",
     "data": {
      "text/plain": [
       "[id: \"dataset1-train-3647386\"\n",
       " data {\n",
       "   image {\n",
       "     url: \"https://data.clarifai.com/orig/users/mansi_k/apps/databricks_tester_img/inputs/image/1249d3d8c8157d1b2dcdb2561175374a\"\n",
       "     hosted {\n",
       "       prefix: \"https://data.clarifai.com\"\n",
       "       suffix: \"users/mansi_k/apps/databricks_tester_img/inputs/image/1249d3d8c8157d1b2dcdb2561175374a\"\n",
       "       sizes: \"orig\"\n",
       "       sizes: \"tiny\"\n",
       "       sizes: \"small\"\n",
       "       sizes: \"large\"\n",
       "       crossorigin: \"use-credentials\"\n",
       "     }\n",
       "     image_info {\n",
       "       width: 512\n",
       "       height: 288\n",
       "       format: \"JPEG\"\n",
       "       color_mode: \"YUV\"\n",
       "     }\n",
       "   }\n",
       "   concepts {\n",
       "     id: \"id-hamburger\"\n",
       "     name: \"hamburger\"\n",
       "     value: 1\n",
       "     app_id: \"databricks_tester_img\"\n",
       "   }\n",
       " }\n",
       " created_at {\n",
       "   seconds: 1698052012\n",
       "   nanos: 477555000\n",
       " }\n",
       " modified_at {\n",
       "   seconds: 1698052013\n",
       "   nanos: 977120000\n",
       " }\n",
       " status {\n",
       "   code: INPUT_DOWNLOAD_SUCCESS\n",
       "   description: \"Download complete\"\n",
       " },\n",
       " id: \"dataset1-train-3520891\"\n",
       " data {\n",
       "   image {\n",
       "     url: \"https://data.clarifai.com/orig/users/mansi_k/apps/databricks_tester_img/inputs/image/2b6cb268add3efb714e702699ff54ed9\"\n",
       "     hosted {\n",
       "       prefix: \"https://data.clarifai.com\"\n",
       "       suffix: \"users/mansi_k/apps/databricks_tester_img/inputs/image/2b6cb268add3efb714e702699ff54ed9\"\n",
       "       sizes: \"orig\"\n",
       "       sizes: \"tiny\"\n",
       "       sizes: \"small\"\n",
       "       sizes: \"large\"\n",
       "       crossorigin: \"use-credentials\"\n",
       "     }\n",
       "     image_info {\n",
       "       width: 512\n",
       "       height: 512\n",
       "       format: \"JPEG\"\n",
       "       color_mode: \"YUV\"\n",
       "     }\n",
       "   }\n",
       "   concepts {\n",
       "     id: \"id-ramen\"\n",
       "     name: \"ramen\"\n",
       "     value: 1\n",
       "     app_id: \"databricks_tester_img\"\n",
       "   }\n",
       " }\n",
       " created_at {\n",
       "   seconds: 1698052012\n",
       "   nanos: 477555000\n",
       " }\n",
       " modified_at {\n",
       "   seconds: 1698052013\n",
       "   nanos: 977120000\n",
       " }\n",
       " status {\n",
       "   code: INPUT_DOWNLOAD_SUCCESS\n",
       "   description: \"Download complete\"\n",
       " },\n",
       " id: \"dataset1-train-3385808\"\n",
       " data {\n",
       "   image {\n",
       "     url: \"https://data.clarifai.com/orig/users/mansi_k/apps/databricks_tester_img/inputs/image/5835a13c322548a67038ca2d191dc7bf\"\n",
       "     hosted {\n",
       "       prefix: \"https://data.clarifai.com\"\n",
       "       suffix: \"users/mansi_k/apps/databricks_tester_img/inputs/image/5835a13c322548a67038ca2d191dc7bf\"\n",
       "       sizes: \"orig\"\n",
       "       sizes: \"tiny\"\n",
       "       sizes: \"small\"\n",
       "       sizes: \"large\"\n",
       "       crossorigin: \"use-credentials\"\n",
       "     }\n",
       "     image_info {\n",
       "       width: 512\n",
       "       height: 384\n",
       "       format: \"JPEG\"\n",
       "       color_mode: \"YUV\"\n",
       "     }\n",
       "   }\n",
       "   concepts {\n",
       "     id: \"id-hamburger\"\n",
       "     name: \"hamburger\"\n",
       "     value: 1\n",
       "     app_id: \"databricks_tester_img\"\n",
       "   }\n",
       " }\n",
       " created_at {\n",
       "   seconds: 1698052012\n",
       "   nanos: 477555000\n",
       " }\n",
       " modified_at {\n",
       "   seconds: 1698052013\n",
       "   nanos: 977120000\n",
       " }\n",
       " status {\n",
       "   code: INPUT_DOWNLOAD_SUCCESS\n",
       "   description: \"Download complete\"\n",
       " },\n",
       " id: \"dataset1-train-2427642\"\n",
       " data {\n",
       "   image {\n",
       "     url: \"https://data.clarifai.com/orig/users/mansi_k/apps/databricks_tester_img/inputs/image/423d388febb5576e5b7fa55f00511b5c\"\n",
       "     hosted {\n",
       "       prefix: \"https://data.clarifai.com\"\n",
       "       suffix: \"users/mansi_k/apps/databricks_tester_img/inputs/image/423d388febb5576e5b7fa55f00511b5c\"\n",
       "       sizes: \"orig\"\n",
       "       sizes: \"tiny\"\n",
       "       sizes: \"small\"\n",
       "       sizes: \"large\"\n",
       "       crossorigin: \"use-credentials\"\n",
       "     }\n",
       "     image_info {\n",
       "       width: 512\n",
       "       height: 384\n",
       "       format: \"JPEG\"\n",
       "       color_mode: \"YUV\"\n",
       "     }\n",
       "   }\n",
       "   concepts {\n",
       "     id: \"id-ramen\"\n",
       "     name: \"ramen\"\n",
       "     value: 1\n",
       "     app_id: \"databricks_tester_img\"\n",
       "   }\n",
       " }\n",
       " created_at {\n",
       "   seconds: 1698052012\n",
       "   nanos: 477555000\n",
       " }\n",
       " modified_at {\n",
       "   seconds: 1698052013\n",
       "   nanos: 977120000\n",
       " }\n",
       " status {\n",
       "   code: INPUT_DOWNLOAD_SUCCESS\n",
       "   description: \"Download complete\"\n",
       " },\n",
       " id: \"img11\"\n",
       " data {\n",
       "   image {\n",
       "     url: \"https://img.freepik.com/free-photo/isolated-happy-smiling-dog-white-background-portrait-4_1562-693.jpg\"\n",
       "     hosted {\n",
       "       prefix: \"https://data.clarifai.com\"\n",
       "       suffix: \"users/mansi_k/apps/databricks_tester_img/inputs/image/975f6c972d9029f9431e1e18274b121d\"\n",
       "       sizes: \"orig\"\n",
       "       sizes: \"tiny\"\n",
       "       sizes: \"small\"\n",
       "       sizes: \"large\"\n",
       "       crossorigin: \"use-credentials\"\n",
       "     }\n",
       "     image_info {\n",
       "       width: 626\n",
       "       height: 417\n",
       "       format: \"JPEG\"\n",
       "       color_mode: \"YUV\"\n",
       "     }\n",
       "   }\n",
       "   concepts {\n",
       "     id: \"id-dog\"\n",
       "     name: \"dog\"\n",
       "     value: 1\n",
       "     app_id: \"databricks_tester_img\"\n",
       "   }\n",
       " }\n",
       " created_at {\n",
       "   seconds: 1698049958\n",
       "   nanos: 658337000\n",
       " }\n",
       " modified_at {\n",
       "   seconds: 1698049959\n",
       "   nanos: 870924000\n",
       " }\n",
       " status {\n",
       "   code: INPUT_DOWNLOAD_SUCCESS\n",
       "   description: \"Download complete\"\n",
       " },\n",
       " id: \"img31\"\n",
       " data {\n",
       "   image {\n",
       "     url: \"https://mymodernmet.com/wp/wp-content/uploads/2023/01/how-to-draw-a-duck-fb-thumbnail.jpg\"\n",
       "     hosted {\n",
       "       prefix: \"https://data.clarifai.com\"\n",
       "       suffix: \"users/mansi_k/apps/databricks_tester_img/inputs/image/2d7a8f8aeb24b42bdae2dce75fdecb6d\"\n",
       "       sizes: \"orig\"\n",
       "       sizes: \"tiny\"\n",
       "       sizes: \"small\"\n",
       "       sizes: \"large\"\n",
       "       crossorigin: \"use-credentials\"\n",
       "     }\n",
       "     image_info {\n",
       "       width: 1200\n",
       "       height: 630\n",
       "       format: \"JPEG\"\n",
       "       color_mode: \"YUV\"\n",
       "     }\n",
       "   }\n",
       "   concepts {\n",
       "     id: \"id-duck\"\n",
       "     name: \"duck\"\n",
       "     value: 1\n",
       "     app_id: \"databricks_tester_img\"\n",
       "   }\n",
       " }\n",
       " created_at {\n",
       "   seconds: 1698049958\n",
       "   nanos: 658337000\n",
       " }\n",
       " modified_at {\n",
       "   seconds: 1698049959\n",
       "   nanos: 870924000\n",
       " }\n",
       " status {\n",
       "   code: INPUT_DOWNLOAD_SUCCESS\n",
       "   description: \"Download complete\"\n",
       " },\n",
       " id: \"img21\"\n",
       " data {\n",
       "   image {\n",
       "     url: \"https://images.unsplash.com/photo-1563409236302-8442b5e644df?auto=format&fit=crop&q=80&w=1000&ixlib=rb-4.0.3&ixid=M3wxMjA3fDB8MHxzZWFyY2h8M3x8ZHVja3xlbnwwfHwwfHx8MA%3D%3D\"\n",
       "     hosted {\n",
       "       prefix: \"https://data.clarifai.com\"\n",
       "       suffix: \"users/mansi_k/apps/databricks_tester_img/inputs/image/6c30aa65cf64b63eba8bca9a1f6b8724\"\n",
       "       sizes: \"orig\"\n",
       "       sizes: \"tiny\"\n",
       "       sizes: \"small\"\n",
       "       sizes: \"large\"\n",
       "       crossorigin: \"use-credentials\"\n",
       "     }\n",
       "     image_info {\n",
       "       width: 1000\n",
       "       height: 1498\n",
       "       format: \"JPEG\"\n",
       "       color_mode: \"YUV\"\n",
       "     }\n",
       "   }\n",
       "   concepts {\n",
       "     id: \"id-duck\"\n",
       "     name: \"duck\"\n",
       "     value: 1\n",
       "     app_id: \"databricks_tester_img\"\n",
       "   }\n",
       " }\n",
       " created_at {\n",
       "   seconds: 1698049958\n",
       "   nanos: 658337000\n",
       " }\n",
       " modified_at {\n",
       "   seconds: 1698049959\n",
       "   nanos: 870924000\n",
       " }\n",
       " status {\n",
       "   code: INPUT_DOWNLOAD_SUCCESS\n",
       "   description: \"Download complete\"\n",
       " },\n",
       " id: \"c10\"\n",
       " data {\n",
       "   image {\n",
       "     url: \"https://data.clarifai.com/orig/users/mansi_k/apps/databricks_tester_img/inputs/image/c1b5a9392f89cf42deca348758a63c79\"\n",
       "     hosted {\n",
       "       prefix: \"https://data.clarifai.com\"\n",
       "       suffix: \"users/mansi_k/apps/databricks_tester_img/inputs/image/c1b5a9392f89cf42deca348758a63c79\"\n",
       "       sizes: \"orig\"\n",
       "       sizes: \"tiny\"\n",
       "       sizes: \"small\"\n",
       "       sizes: \"large\"\n",
       "       crossorigin: \"use-credentials\"\n",
       "     }\n",
       "     image_info {\n",
       "       width: 1000\n",
       "       height: 665\n",
       "       format: \"JPEG\"\n",
       "       color_mode: \"YUV\"\n",
       "     }\n",
       "   }\n",
       "   concepts {\n",
       "     id: \"id-cat\"\n",
       "     name: \"cat\"\n",
       "     value: 1\n",
       "     app_id: \"databricks_tester_img\"\n",
       "   }\n",
       " }\n",
       " created_at {\n",
       "   seconds: 1698049660\n",
       "   nanos: 961070000\n",
       " }\n",
       " modified_at {\n",
       "   seconds: 1698049664\n",
       "   nanos: 89517000\n",
       " }\n",
       " status {\n",
       "   code: INPUT_DOWNLOAD_SUCCESS\n",
       "   description: \"Download complete\"\n",
       " },\n",
       " id: \"c6\"\n",
       " data {\n",
       "   image {\n",
       "     url: \"https://data.clarifai.com/orig/users/mansi_k/apps/databricks_tester_img/inputs/image/9aad344c32108b9c7c1c54e58a3b90e3\"\n",
       "     hosted {\n",
       "       prefix: \"https://data.clarifai.com\"\n",
       "       suffix: \"users/mansi_k/apps/databricks_tester_img/inputs/image/9aad344c32108b9c7c1c54e58a3b90e3\"\n",
       "       sizes: \"orig\"\n",
       "       sizes: \"tiny\"\n",
       "       sizes: \"small\"\n",
       "       sizes: \"large\"\n",
       "       crossorigin: \"use-credentials\"\n",
       "     }\n",
       "     image_info {\n",
       "       width: 612\n",
       "       height: 640\n",
       "       format: \"JPEG\"\n",
       "       color_mode: \"YUV\"\n",
       "     }\n",
       "   }\n",
       "   concepts {\n",
       "     id: \"id-cat\"\n",
       "     name: \"cat\"\n",
       "     value: 1\n",
       "     app_id: \"databricks_tester_img\"\n",
       "   }\n",
       " }\n",
       " created_at {\n",
       "   seconds: 1698049660\n",
       "   nanos: 961070000\n",
       " }\n",
       " modified_at {\n",
       "   seconds: 1698049664\n",
       "   nanos: 89517000\n",
       " }\n",
       " status {\n",
       "   code: INPUT_DOWNLOAD_SUCCESS\n",
       "   description: \"Download complete\"\n",
       " },\n",
       " id: \"c8\"\n",
       " data {\n",
       "   image {\n",
       "     url: \"https://data.clarifai.com/orig/users/mansi_k/apps/databricks_tester_img/inputs/image/1a56dcd4d97934cb2736c1ac3877e373\"\n",
       "     hosted {\n",
       "       prefix: \"https://data.clarifai.com\"\n",
       "       suffix: \"users/mansi_k/apps/databricks_tester_img/inputs/image/1a56dcd4d97934cb2736c1ac3877e373\"\n",
       "       sizes: \"orig\"\n",
       "       sizes: \"tiny\"\n",
       "       sizes: \"small\"\n",
       "       sizes: \"large\"\n",
       "       crossorigin: \"use-credentials\"\n",
       "     }\n",
       "     image_info {\n",
       "       width: 930\n",
       "       height: 620\n",
       "       format: \"WebP\"\n",
       "       color_mode: \"YUV\"\n",
       "     }\n",
       "   }\n",
       "   concepts {\n",
       "     id: \"id-cat\"\n",
       "     name: \"cat\"\n",
       "     value: 1\n",
       "     app_id: \"databricks_tester_img\"\n",
       "   }\n",
       " }\n",
       " created_at {\n",
       "   seconds: 1698049660\n",
       "   nanos: 961070000\n",
       " }\n",
       " modified_at {\n",
       "   seconds: 1698049664\n",
       "   nanos: 89517000\n",
       " }\n",
       " status {\n",
       "   code: INPUT_DOWNLOAD_SUCCESS\n",
       "   description: \"Download complete\"\n",
       " },\n",
       " id: \"c3\"\n",
       " data {\n",
       "   image {\n",
       "     url: \"https://data.clarifai.com/orig/users/mansi_k/apps/databricks_tester_img/inputs/image/737ab81969b3ce8dee6e4e578cfcb7f7\"\n",
       "     hosted {\n",
       "       prefix: \"https://data.clarifai.com\"\n",
       "       suffix: \"users/mansi_k/apps/databricks_tester_img/inputs/image/737ab81969b3ce8dee6e4e578cfcb7f7\"\n",
       "       sizes: \"orig\"\n",
       "       sizes: \"tiny\"\n",
       "       sizes: \"small\"\n",
       "       sizes: \"large\"\n",
       "       crossorigin: \"use-credentials\"\n",
       "     }\n",
       "     image_info {\n",
       "       width: 1200\n",
       "       height: 901\n",
       "       format: \"JPEG\"\n",
       "       color_mode: \"YUV\"\n",
       "     }\n",
       "   }\n",
       "   concepts {\n",
       "     id: \"id-cat\"\n",
       "     name: \"cat\"\n",
       "     value: 1\n",
       "     app_id: \"databricks_tester_img\"\n",
       "   }\n",
       " }\n",
       " created_at {\n",
       "   seconds: 1698049660\n",
       "   nanos: 961070000\n",
       " }\n",
       " modified_at {\n",
       "   seconds: 1698049664\n",
       "   nanos: 89517000\n",
       " }\n",
       " status {\n",
       "   code: INPUT_DOWNLOAD_SUCCESS\n",
       "   description: \"Download complete\"\n",
       " },\n",
       " id: \"c7\"\n",
       " data {\n",
       "   image {\n",
       "     url: \"https://data.clarifai.com/orig/users/mansi_k/apps/databricks_tester_img/inputs/image/042dc758e67c807683d8f7cb3a064fd3\"\n",
       "     hosted {\n",
       "       prefix: \"https://data.clarifai.com\"\n",
       "       suffix: \"users/mansi_k/apps/databricks_tester_img/inputs/image/042dc758e67c807683d8f7cb3a064fd3\"\n",
       "       sizes: \"orig\"\n",
       "       sizes: \"tiny\"\n",
       "       sizes: \"small\"\n",
       "       sizes: \"large\"\n",
       "       crossorigin: \"use-credentials\"\n",
       "     }\n",
       "     image_info {\n",
       "       width: 540\n",
       "       height: 360\n",
       "       format: \"JPEG\"\n",
       "       color_mode: \"YUV\"\n",
       "     }\n",
       "   }\n",
       "   concepts {\n",
       "     id: \"id-cat\"\n",
       "     name: \"cat\"\n",
       "     value: 1\n",
       "     app_id: \"databricks_tester_img\"\n",
       "   }\n",
       " }\n",
       " created_at {\n",
       "   seconds: 1698049660\n",
       "   nanos: 961070000\n",
       " }\n",
       " modified_at {\n",
       "   seconds: 1698049664\n",
       "   nanos: 89517000\n",
       " }\n",
       " status {\n",
       "   code: INPUT_DOWNLOAD_SUCCESS\n",
       "   description: \"Download complete\"\n",
       " },\n",
       " id: \"c9\"\n",
       " data {\n",
       "   image {\n",
       "     url: \"https://data.clarifai.com/orig/users/mansi_k/apps/databricks_tester_img/inputs/image/b88d83dd8fb9f34011ce441bd0cb823b\"\n",
       "     hosted {\n",
       "       prefix: \"https://data.clarifai.com\"\n",
       "       suffix: \"users/mansi_k/apps/databricks_tester_img/inputs/image/b88d83dd8fb9f34011ce441bd0cb823b\"\n",
       "       sizes: \"orig\"\n",
       "       sizes: \"tiny\"\n",
       "       sizes: \"small\"\n",
       "       sizes: \"large\"\n",
       "       crossorigin: \"use-credentials\"\n",
       "     }\n",
       "     image_info {\n",
       "       width: 1200\n",
       "       height: 834\n",
       "       format: \"JPEG\"\n",
       "       color_mode: \"YUV\"\n",
       "     }\n",
       "   }\n",
       "   concepts {\n",
       "     id: \"id-cat\"\n",
       "     name: \"cat\"\n",
       "     value: 1\n",
       "     app_id: \"databricks_tester_img\"\n",
       "   }\n",
       " }\n",
       " created_at {\n",
       "   seconds: 1698049660\n",
       "   nanos: 961070000\n",
       " }\n",
       " modified_at {\n",
       "   seconds: 1698049664\n",
       "   nanos: 89517000\n",
       " }\n",
       " status {\n",
       "   code: INPUT_DOWNLOAD_SUCCESS\n",
       "   description: \"Download complete\"\n",
       " },\n",
       " id: \"c1\"\n",
       " data {\n",
       "   image {\n",
       "     url: \"https://data.clarifai.com/orig/users/mansi_k/apps/databricks_tester_img/inputs/image/4137614e89b636f6afaf749bf7dcea6f\"\n",
       "     hosted {\n",
       "       prefix: \"https://data.clarifai.com\"\n",
       "       suffix: \"users/mansi_k/apps/databricks_tester_img/inputs/image/4137614e89b636f6afaf749bf7dcea6f\"\n",
       "       sizes: \"orig\"\n",
       "       sizes: \"tiny\"\n",
       "       sizes: \"small\"\n",
       "       sizes: \"large\"\n",
       "       crossorigin: \"use-credentials\"\n",
       "     }\n",
       "     image_info {\n",
       "       width: 736\n",
       "       height: 566\n",
       "       format: \"JPEG\"\n",
       "       color_mode: \"YUV\"\n",
       "     }\n",
       "   }\n",
       "   concepts {\n",
       "     id: \"id-cat\"\n",
       "     name: \"cat\"\n",
       "     value: 1\n",
       "     app_id: \"databricks_tester_img\"\n",
       "   }\n",
       " }\n",
       " created_at {\n",
       "   seconds: 1698049660\n",
       "   nanos: 961070000\n",
       " }\n",
       " modified_at {\n",
       "   seconds: 1698049664\n",
       "   nanos: 89517000\n",
       " }\n",
       " status {\n",
       "   code: INPUT_DOWNLOAD_SUCCESS\n",
       "   description: \"Download complete\"\n",
       " },\n",
       " id: \"c11\"\n",
       " data {\n",
       "   image {\n",
       "     url: \"https://data.clarifai.com/orig/users/mansi_k/apps/databricks_tester_img/inputs/image/009e353544134aa65d29c20fa2922e63\"\n",
       "     hosted {\n",
       "       prefix: \"https://data.clarifai.com\"\n",
       "       suffix: \"users/mansi_k/apps/databricks_tester_img/inputs/image/009e353544134aa65d29c20fa2922e63\"\n",
       "       sizes: \"orig\"\n",
       "       sizes: \"tiny\"\n",
       "       sizes: \"small\"\n",
       "       sizes: \"large\"\n",
       "       crossorigin: \"use-credentials\"\n",
       "     }\n",
       "     image_info {\n",
       "       width: 1200\n",
       "       height: 1200\n",
       "       format: \"JPEG\"\n",
       "       color_mode: \"YUV\"\n",
       "     }\n",
       "   }\n",
       "   concepts {\n",
       "     id: \"id-cat\"\n",
       "     name: \"cat\"\n",
       "     value: 1\n",
       "     app_id: \"databricks_tester_img\"\n",
       "   }\n",
       " }\n",
       " created_at {\n",
       "   seconds: 1698049660\n",
       "   nanos: 961070000\n",
       " }\n",
       " modified_at {\n",
       "   seconds: 1698049664\n",
       "   nanos: 89517000\n",
       " }\n",
       " status {\n",
       "   code: INPUT_DOWNLOAD_SUCCESS\n",
       "   description: \"Download complete\"\n",
       " },\n",
       " id: \"c2\"\n",
       " data {\n",
       "   image {\n",
       "     url: \"https://data.clarifai.com/orig/users/mansi_k/apps/databricks_tester_img/inputs/image/6e2a3ada6f10f0b4eb2f1e851b930c1b\"\n",
       "     hosted {\n",
       "       prefix: \"https://data.clarifai.com\"\n",
       "       suffix: \"users/mansi_k/apps/databricks_tester_img/inputs/image/6e2a3ada6f10f0b4eb2f1e851b930c1b\"\n",
       "       sizes: \"orig\"\n",
       "       sizes: \"tiny\"\n",
       "       sizes: \"small\"\n",
       "       sizes: \"large\"\n",
       "       crossorigin: \"use-credentials\"\n",
       "     }\n",
       "     image_info {\n",
       "       width: 1500\n",
       "       height: 1000\n",
       "       format: \"JPEG\"\n",
       "       color_mode: \"YUV\"\n",
       "     }\n",
       "   }\n",
       "   concepts {\n",
       "     id: \"id-cat\"\n",
       "     name: \"cat\"\n",
       "     value: 1\n",
       "     app_id: \"databricks_tester_img\"\n",
       "   }\n",
       " }\n",
       " created_at {\n",
       "   seconds: 1698049660\n",
       "   nanos: 961070000\n",
       " }\n",
       " modified_at {\n",
       "   seconds: 1698049664\n",
       "   nanos: 89517000\n",
       " }\n",
       " status {\n",
       "   code: INPUT_DOWNLOAD_SUCCESS\n",
       "   description: \"Download complete\"\n",
       " },\n",
       " id: \"c4\"\n",
       " data {\n",
       "   image {\n",
       "     url: \"https://data.clarifai.com/orig/users/mansi_k/apps/databricks_tester_img/inputs/image/55889a69788a8ff9a4aab1e457f7420f\"\n",
       "     hosted {\n",
       "       prefix: \"https://data.clarifai.com\"\n",
       "       suffix: \"users/mansi_k/apps/databricks_tester_img/inputs/image/55889a69788a8ff9a4aab1e457f7420f\"\n",
       "       sizes: \"orig\"\n",
       "       sizes: \"tiny\"\n",
       "       sizes: \"small\"\n",
       "       sizes: \"large\"\n",
       "       crossorigin: \"use-credentials\"\n",
       "     }\n",
       "     image_info {\n",
       "       width: 1600\n",
       "       height: 1435\n",
       "       format: \"WebP\"\n",
       "       color_mode: \"YUV\"\n",
       "     }\n",
       "   }\n",
       "   concepts {\n",
       "     id: \"id-cat\"\n",
       "     name: \"cat\"\n",
       "     value: 1\n",
       "     app_id: \"databricks_tester_img\"\n",
       "   }\n",
       " }\n",
       " created_at {\n",
       "   seconds: 1698049660\n",
       "   nanos: 961070000\n",
       " }\n",
       " modified_at {\n",
       "   seconds: 1698049664\n",
       "   nanos: 89517000\n",
       " }\n",
       " status {\n",
       "   code: INPUT_DOWNLOAD_SUCCESS\n",
       "   description: \"Download complete\"\n",
       " },\n",
       " id: \"c5\"\n",
       " data {\n",
       "   image {\n",
       "     url: \"https://data.clarifai.com/orig/users/mansi_k/apps/databricks_tester_img/inputs/image/e91483b17642cc4540cfb97afad3196b\"\n",
       "     hosted {\n",
       "       prefix: \"https://data.clarifai.com\"\n",
       "       suffix: \"users/mansi_k/apps/databricks_tester_img/inputs/image/e91483b17642cc4540cfb97afad3196b\"\n",
       "       sizes: \"orig\"\n",
       "       sizes: \"tiny\"\n",
       "       sizes: \"small\"\n",
       "       sizes: \"large\"\n",
       "       crossorigin: \"use-credentials\"\n",
       "     }\n",
       "     image_info {\n",
       "       width: 500\n",
       "       height: 473\n",
       "       format: \"JPEG\"\n",
       "       color_mode: \"YUV\"\n",
       "     }\n",
       "   }\n",
       "   concepts {\n",
       "     id: \"id-cat\"\n",
       "     name: \"cat\"\n",
       "     value: 1\n",
       "     app_id: \"databricks_tester_img\"\n",
       "   }\n",
       " }\n",
       " created_at {\n",
       "   seconds: 1698049660\n",
       "   nanos: 961070000\n",
       " }\n",
       " modified_at {\n",
       "   seconds: 1698049664\n",
       "   nanos: 89517000\n",
       " }\n",
       " status {\n",
       "   code: INPUT_DOWNLOAD_SUCCESS\n",
       "   description: \"Download complete\"\n",
       " }]"
      ]
     },
     "execution_count": 20,
     "metadata": {},
     "output_type": "execute_result"
    }
   ],
   "source": [
    "my_inputs = list(dataset_obj.list_inputs())\n",
    "my_inputs"
   ]
  },
  {
   "cell_type": "markdown",
   "metadata": {
    "application/vnd.databricks.v1+cell": {
     "cellMetadata": {},
     "inputWidgets": {},
     "nuid": "76a4ffe7-3a47-42ad-84db-1126aacd9cb1",
     "showTitle": false,
     "title": ""
    }
   },
   "source": [
    "### Upload images from volume folder to Clarifai dataset"
   ]
  },
  {
   "cell_type": "code",
   "execution_count": 0,
   "metadata": {
    "application/vnd.databricks.v1+cell": {
     "cellMetadata": {
      "byteLimit": 2048000,
      "rowLimit": 10000
     },
     "inputWidgets": {},
     "nuid": "d15b3001-8b49-498b-b7c3-60d775047671",
     "showTitle": false,
     "title": ""
    }
   },
   "outputs": [
    {
     "output_type": "display_data",
     "data": {
      "text/html": [
       "<pre style=\"white-space:pre;overflow-x:auto;line-height:normal;font-family:Menlo,'DejaVu Sans Mono',consolas,'Courier New',monospace\"><span style=\"color: #7fbfbf; text-decoration-color: #7fbfbf\">2023-10-23 08:27:37 </span><span style=\"color: #000080; text-decoration-color: #000080\">INFO    </span> INFO:py4j.clientserver:Received command c on object id p0          <a href=\"file:///databricks/spark/python/lib/py4j-0.10.9.7-src.zip/py4j/clientserver.py\" target=\"_blank\"><span style=\"color: #7f7f7f; text-decoration-color: #7f7f7f\">clientserver.py</span></a><span style=\"color: #7f7f7f; text-decoration-color: #7f7f7f\">:</span><a href=\"file:///databricks/spark/python/lib/py4j-0.10.9.7-src.zip/py4j/clientserver.py#575\" target=\"_blank\"><span style=\"color: #7f7f7f; text-decoration-color: #7f7f7f\">575</span></a>\n",
       "</pre>\n"
      ],
      "text/plain": [
       "\u001B[2;36m2023-10-23 08:27:37\u001B[0m\u001B[2;36m \u001B[0m\u001B[34mINFO    \u001B[0m INFO:py4j.clientserver:Received command c on object id p0          \u001B]8;id=55296;file:///databricks/spark/python/lib/py4j-0.10.9.7-src.zip/py4j/clientserver.py\u001B\\\u001B[2mclientserver.py\u001B[0m\u001B]8;;\u001B\\\u001B[2m:\u001B[0m\u001B]8;id=786623;file:///databricks/spark/python/lib/py4j-0.10.9.7-src.zip/py4j/clientserver.py#575\u001B\\\u001B[2m575\u001B[0m\u001B]8;;\u001B\\\n"
      ]
     },
     "metadata": {},
     "output_type": "display_data"
    },
    {
     "output_type": "stream",
     "name": "stderr",
     "output_type": "stream",
     "text": [
      "\rUploading inputs:   0%|          | 0/1 [00:00<?, ?it/s]\rUploading inputs: 100%|██████████| 1/1 [00:05<00:00,  5.36s/it]\rUploading inputs: 100%|██████████| 1/1 [00:05<00:00,  5.36s/it]\n"
     ]
    }
   ],
   "source": [
    "dataset_obj.upload_dataset_from_folder(folder_path='/Volumes/mansi_test/default/cat', input_type='image', labels=True)"
   ]
  },
  {
   "cell_type": "markdown",
   "metadata": {
    "application/vnd.databricks.v1+cell": {
     "cellMetadata": {},
     "inputWidgets": {},
     "nuid": "522a228a-52dd-417e-b02c-fa896e7833ad",
     "showTitle": false,
     "title": ""
    }
   },
   "source": [
    "### Export image annotations to spark dataframe"
   ]
  },
  {
   "cell_type": "code",
   "execution_count": 0,
   "metadata": {
    "application/vnd.databricks.v1+cell": {
     "cellMetadata": {
      "byteLimit": 2048000,
      "rowLimit": 10000
     },
     "inputWidgets": {},
     "nuid": "d61eedc2-2488-499a-a367-a943bc692062",
     "showTitle": false,
     "title": ""
    }
   },
   "outputs": [
    {
     "output_type": "display_data",
     "data": {
      "text/html": [
       "<pre style=\"white-space:pre;overflow-x:auto;line-height:normal;font-family:Menlo,'DejaVu Sans Mono',consolas,'Courier New',monospace\"><span style=\"color: #7fbfbf; text-decoration-color: #7fbfbf\">2023-10-23 08:30:22 </span><span style=\"color: #000080; text-decoration-color: #000080\">INFO    </span> INFO:py4j.clientserver:Received command c on object id p0          <a href=\"file:///databricks/spark/python/lib/py4j-0.10.9.7-src.zip/py4j/clientserver.py\" target=\"_blank\"><span style=\"color: #7f7f7f; text-decoration-color: #7f7f7f\">clientserver.py</span></a><span style=\"color: #7f7f7f; text-decoration-color: #7f7f7f\">:</span><a href=\"file:///databricks/spark/python/lib/py4j-0.10.9.7-src.zip/py4j/clientserver.py#575\" target=\"_blank\"><span style=\"color: #7f7f7f; text-decoration-color: #7f7f7f\">575</span></a>\n",
       "</pre>\n"
      ],
      "text/plain": [
       "\u001B[2;36m2023-10-23 08:30:22\u001B[0m\u001B[2;36m \u001B[0m\u001B[34mINFO    \u001B[0m INFO:py4j.clientserver:Received command c on object id p0          \u001B]8;id=777205;file:///databricks/spark/python/lib/py4j-0.10.9.7-src.zip/py4j/clientserver.py\u001B\\\u001B[2mclientserver.py\u001B[0m\u001B]8;;\u001B\\\u001B[2m:\u001B[0m\u001B]8;id=86519;file:///databricks/spark/python/lib/py4j-0.10.9.7-src.zip/py4j/clientserver.py#575\u001B\\\u001B[2m575\u001B[0m\u001B]8;;\u001B\\\n"
      ]
     },
     "metadata": {},
     "output_type": "display_data"
    },
    {
     "output_type": "execute_result",
     "data": {
      "text/plain": [
       "DataFrame[annotation: map<string,array<map<string,string>>>, created_at: string, id: string, input_id: string, modified_at: string, user_id: string]"
      ]
     },
     "execution_count": 42,
     "metadata": {},
     "output_type": "execute_result"
    }
   ],
   "source": [
    "annot_df = dataset_obj.export_annotations_to_dataframe()\n",
    "annot_df"
   ]
  },
  {
   "cell_type": "markdown",
   "metadata": {
    "application/vnd.databricks.v1+cell": {
     "cellMetadata": {},
     "inputWidgets": {},
     "nuid": "228872b2-c1d2-4058-a92c-f81b23d48b47",
     "showTitle": false,
     "title": ""
    }
   },
   "source": [
    "### Write annotations dataframe to volume as delta table"
   ]
  },
  {
   "cell_type": "code",
   "execution_count": 0,
   "metadata": {
    "application/vnd.databricks.v1+cell": {
     "cellMetadata": {
      "byteLimit": 2048000,
      "rowLimit": 10000
     },
     "inputWidgets": {},
     "nuid": "60b3f2dc-3e02-41ce-b0bd-1eedb7db176a",
     "showTitle": false,
     "title": ""
    }
   },
   "outputs": [
    {
     "output_type": "display_data",
     "data": {
      "text/html": [
       "<pre style=\"white-space:pre;overflow-x:auto;line-height:normal;font-family:Menlo,'DejaVu Sans Mono',consolas,'Courier New',monospace\"><span style=\"color: #7fbfbf; text-decoration-color: #7fbfbf\">2023-10-23 08:30:51 </span><span style=\"color: #000080; text-decoration-color: #000080\">INFO    </span> INFO:py4j.clientserver:Received command c on object id p0          <a href=\"file:///databricks/spark/python/lib/py4j-0.10.9.7-src.zip/py4j/clientserver.py\" target=\"_blank\"><span style=\"color: #7f7f7f; text-decoration-color: #7f7f7f\">clientserver.py</span></a><span style=\"color: #7f7f7f; text-decoration-color: #7f7f7f\">:</span><a href=\"file:///databricks/spark/python/lib/py4j-0.10.9.7-src.zip/py4j/clientserver.py#575\" target=\"_blank\"><span style=\"color: #7f7f7f; text-decoration-color: #7f7f7f\">575</span></a>\n",
       "</pre>\n"
      ],
      "text/plain": [
       "\u001B[2;36m2023-10-23 08:30:51\u001B[0m\u001B[2;36m \u001B[0m\u001B[34mINFO    \u001B[0m INFO:py4j.clientserver:Received command c on object id p0          \u001B]8;id=660796;file:///databricks/spark/python/lib/py4j-0.10.9.7-src.zip/py4j/clientserver.py\u001B\\\u001B[2mclientserver.py\u001B[0m\u001B]8;;\u001B\\\u001B[2m:\u001B[0m\u001B]8;id=177253;file:///databricks/spark/python/lib/py4j-0.10.9.7-src.zip/py4j/clientserver.py#575\u001B\\\u001B[2m575\u001B[0m\u001B]8;;\u001B\\\n"
      ]
     },
     "metadata": {},
     "output_type": "display_data"
    }
   ],
   "source": [
    "annot_df.write.format(\"delta\").mode(\"overwrite\").save(\"/Volumes/mansi_test/default/test_vol1/imgAnnsDeltaTable1\") \n"
   ]
  },
  {
   "cell_type": "markdown",
   "metadata": {
    "application/vnd.databricks.v1+cell": {
     "cellMetadata": {},
     "inputWidgets": {},
     "nuid": "d938ddb1-ae12-44df-92b2-cceeb19b24e7",
     "showTitle": false,
     "title": ""
    }
   },
   "source": [
    "### Load annotations delta table from volume"
   ]
  },
  {
   "cell_type": "code",
   "execution_count": 0,
   "metadata": {
    "application/vnd.databricks.v1+cell": {
     "cellMetadata": {
      "byteLimit": 2048000,
      "rowLimit": 10000
     },
     "inputWidgets": {},
     "nuid": "ec9866be-484d-4e26-9e2d-eaf93243e9bb",
     "showTitle": false,
     "title": ""
    }
   },
   "outputs": [
    {
     "output_type": "display_data",
     "data": {
      "text/html": [
       "<pre style=\"white-space:pre;overflow-x:auto;line-height:normal;font-family:Menlo,'DejaVu Sans Mono',consolas,'Courier New',monospace\"><span style=\"color: #7fbfbf; text-decoration-color: #7fbfbf\">2023-10-23 08:31:11 </span><span style=\"color: #000080; text-decoration-color: #000080\">INFO    </span> INFO:py4j.clientserver:Received command c on object id p0          <a href=\"file:///databricks/spark/python/lib/py4j-0.10.9.7-src.zip/py4j/clientserver.py\" target=\"_blank\"><span style=\"color: #7f7f7f; text-decoration-color: #7f7f7f\">clientserver.py</span></a><span style=\"color: #7f7f7f; text-decoration-color: #7f7f7f\">:</span><a href=\"file:///databricks/spark/python/lib/py4j-0.10.9.7-src.zip/py4j/clientserver.py#575\" target=\"_blank\"><span style=\"color: #7f7f7f; text-decoration-color: #7f7f7f\">575</span></a>\n",
       "</pre>\n"
      ],
      "text/plain": [
       "\u001B[2;36m2023-10-23 08:31:11\u001B[0m\u001B[2;36m \u001B[0m\u001B[34mINFO    \u001B[0m INFO:py4j.clientserver:Received command c on object id p0          \u001B]8;id=857207;file:///databricks/spark/python/lib/py4j-0.10.9.7-src.zip/py4j/clientserver.py\u001B\\\u001B[2mclientserver.py\u001B[0m\u001B]8;;\u001B\\\u001B[2m:\u001B[0m\u001B]8;id=734426;file:///databricks/spark/python/lib/py4j-0.10.9.7-src.zip/py4j/clientserver.py#575\u001B\\\u001B[2m575\u001B[0m\u001B]8;;\u001B\\\n"
      ]
     },
     "metadata": {},
     "output_type": "display_data"
    },
    {
     "output_type": "stream",
     "name": "stdout",
     "output_type": "stream",
     "text": [
      "+--------------------+-------------------+--------------------+--------+-------------------+-------+\n|          annotation|         created_at|                  id|input_id|        modified_at|user_id|\n+--------------------+-------------------+--------------------+--------+-------------------+-------+\n|{concepts -> [{na...|10/23/% 08:27:   %5|da7eb3483a654a42a...|      c5|10/23/% 08:27:   %5|mansi_k|\n|{concepts -> [{na...|10/23/% 08:27:   %5|f65d75b3446b40ffa...|     c11|10/23/% 08:27:   %5|mansi_k|\n|{concepts -> [{na...|10/23/% 08:27:   %5|8fd99dc05eef46849...|      c1|10/23/% 08:27:   %5|mansi_k|\n|{concepts -> [{na...|10/23/% 08:27:   %5|9426763104ea42fbb...|      c7|10/23/% 08:27:   %5|mansi_k|\n|{concepts -> [{na...|10/23/% 08:27:   %5|d93bb8387f6743b8a...|      c8|10/23/% 08:27:   %5|mansi_k|\n|{concepts -> [{na...|10/23/% 08:27:   %5|aed44152eaad4fbcb...|      c6|10/23/% 08:27:   %5|mansi_k|\n|{concepts -> [{na...|10/23/% 08:27:   %5|b3847d13486f4f118...|      c2|10/23/% 08:27:   %5|mansi_k|\n|{concepts -> [{na...|10/23/% 08:27:   %5|4ec53920e7e34e569...|      c3|10/23/% 08:27:   %5|mansi_k|\n|{concepts -> [{na...|10/23/% 08:27:   %5|5bfb8934035c4b688...|      c9|10/23/% 08:27:   %5|mansi_k|\n|{concepts -> [{na...|10/23/% 08:27:   %5|0a28d0a6b7a04234b...|     c10|10/23/% 08:27:   %5|mansi_k|\n|{concepts -> [{na...|10/23/% 08:27:   %5|1699d2351f7e42afa...|      c4|10/23/% 08:27:   %5|mansi_k|\n+--------------------+-------------------+--------------------+--------+-------------------+-------+\n\n"
     ]
    }
   ],
   "source": [
    "df_delta = spark.read.format(\"delta\").load(\"/Volumes/mansi_test/default/test_vol1/imgAnnsDeltaTable1\")\n",
    "df_delta.show()"
   ]
  },
  {
   "cell_type": "markdown",
   "metadata": {
    "application/vnd.databricks.v1+cell": {
     "cellMetadata": {},
     "inputWidgets": {},
     "nuid": "ab6dfc75-d4e7-4541-bc3a-6863a8561882",
     "showTitle": false,
     "title": ""
    }
   },
   "source": [
    "### Loop through delta table rows & columns"
   ]
  },
  {
   "cell_type": "code",
   "execution_count": 0,
   "metadata": {
    "application/vnd.databricks.v1+cell": {
     "cellMetadata": {
      "byteLimit": 2048000,
      "rowLimit": 10000
     },
     "inputWidgets": {},
     "nuid": "b46930f4-b3a8-4491-b134-089cd3c9155a",
     "showTitle": false,
     "title": ""
    }
   },
   "outputs": [
    {
     "output_type": "display_data",
     "data": {
      "text/html": [
       "<pre style=\"white-space:pre;overflow-x:auto;line-height:normal;font-family:Menlo,'DejaVu Sans Mono',consolas,'Courier New',monospace\"><span style=\"color: #7fbfbf; text-decoration-color: #7fbfbf\">2023-10-23 08:31:26 </span><span style=\"color: #000080; text-decoration-color: #000080\">INFO    </span> INFO:py4j.clientserver:Received command c on object id p0          <a href=\"file:///databricks/spark/python/lib/py4j-0.10.9.7-src.zip/py4j/clientserver.py\" target=\"_blank\"><span style=\"color: #7f7f7f; text-decoration-color: #7f7f7f\">clientserver.py</span></a><span style=\"color: #7f7f7f; text-decoration-color: #7f7f7f\">:</span><a href=\"file:///databricks/spark/python/lib/py4j-0.10.9.7-src.zip/py4j/clientserver.py#575\" target=\"_blank\"><span style=\"color: #7f7f7f; text-decoration-color: #7f7f7f\">575</span></a>\n",
       "</pre>\n"
      ],
      "text/plain": [
       "\u001B[2;36m2023-10-23 08:31:26\u001B[0m\u001B[2;36m \u001B[0m\u001B[34mINFO    \u001B[0m INFO:py4j.clientserver:Received command c on object id p0          \u001B]8;id=698390;file:///databricks/spark/python/lib/py4j-0.10.9.7-src.zip/py4j/clientserver.py\u001B\\\u001B[2mclientserver.py\u001B[0m\u001B]8;;\u001B\\\u001B[2m:\u001B[0m\u001B]8;id=992550;file:///databricks/spark/python/lib/py4j-0.10.9.7-src.zip/py4j/clientserver.py#575\u001B\\\u001B[2m575\u001B[0m\u001B]8;;\u001B\\\n"
      ]
     },
     "metadata": {},
     "output_type": "display_data"
    },
    {
     "output_type": "stream",
     "name": "stdout",
     "output_type": "stream",
     "text": [
      "da7eb3483a654a42ace1ebac76a69fdc\nc5\nmansi_k\n10/23/% 08:27:   %5\nc5\n{'concepts': [{'name': 'cat', 'id': 'id-cat', 'value': '1.0', 'appId': 'databricks_tester_img'}]}\n########################\n\nf65d75b3446b40ffa012735a31dcbb62\nc11\nmansi_k\n10/23/% 08:27:   %5\nc11\n{'concepts': [{'name': 'cat', 'id': 'id-cat', 'value': '1.0', 'appId': 'databricks_tester_img'}]}\n########################\n\n8fd99dc05eef468492623153531700c9\nc1\nmansi_k\n10/23/% 08:27:   %5\nc1\n{'concepts': [{'name': 'cat', 'id': 'id-cat', 'value': '1.0', 'appId': 'databricks_tester_img'}]}\n########################\n\n9426763104ea42fbb44ff73677fd3806\nc7\nmansi_k\n10/23/% 08:27:   %5\nc7\n{'concepts': [{'name': 'cat', 'id': 'id-cat', 'value': '1.0', 'appId': 'databricks_tester_img'}]}\n########################\n\n"
     ]
    }
   ],
   "source": [
    "for row in df_delta.collect()[:4]:\n",
    "    print(row['id'])\n",
    "    print(row['input_id'])\n",
    "    print(row['user_id'])\n",
    "    print(row['created_at'])\n",
    "    print(row['input_id'])\n",
    "    print(row['annotation'])\n",
    "    print(\"########################\\n\")"
   ]
  },
  {
   "cell_type": "markdown",
   "metadata": {
    "application/vnd.databricks.v1+cell": {
     "cellMetadata": {},
     "inputWidgets": {},
     "nuid": "9b869a1a-2b07-4ce5-ba12-2b4481fc3803",
     "showTitle": false,
     "title": ""
    }
   },
   "source": [
    "### Testing export_images_to_volume()"
   ]
  },
  {
   "cell_type": "code",
   "execution_count": 0,
   "metadata": {
    "application/vnd.databricks.v1+cell": {
     "cellMetadata": {
      "byteLimit": 2048000,
      "rowLimit": 10000
     },
     "inputWidgets": {},
     "nuid": "a7825f27-d719-4a6c-8e7d-6234444865f9",
     "showTitle": false,
     "title": ""
    }
   },
   "outputs": [
    {
     "output_type": "display_data",
     "data": {
      "text/html": [
       "<pre style=\"white-space:pre;overflow-x:auto;line-height:normal;font-family:Menlo,'DejaVu Sans Mono',consolas,'Courier New',monospace\"><span style=\"color: #7fbfbf; text-decoration-color: #7fbfbf\">2023-10-23 08:31:44 </span><span style=\"color: #000080; text-decoration-color: #000080\">INFO    </span> INFO:py4j.clientserver:Received command c on object id p0          <a href=\"file:///databricks/spark/python/lib/py4j-0.10.9.7-src.zip/py4j/clientserver.py\" target=\"_blank\"><span style=\"color: #7f7f7f; text-decoration-color: #7f7f7f\">clientserver.py</span></a><span style=\"color: #7f7f7f; text-decoration-color: #7f7f7f\">:</span><a href=\"file:///databricks/spark/python/lib/py4j-0.10.9.7-src.zip/py4j/clientserver.py#575\" target=\"_blank\"><span style=\"color: #7f7f7f; text-decoration-color: #7f7f7f\">575</span></a>\n",
       "</pre>\n"
      ],
      "text/plain": [
       "\u001B[2;36m2023-10-23 08:31:44\u001B[0m\u001B[2;36m \u001B[0m\u001B[34mINFO    \u001B[0m INFO:py4j.clientserver:Received command c on object id p0          \u001B]8;id=244234;file:///databricks/spark/python/lib/py4j-0.10.9.7-src.zip/py4j/clientserver.py\u001B\\\u001B[2mclientserver.py\u001B[0m\u001B]8;;\u001B\\\u001B[2m:\u001B[0m\u001B]8;id=125648;file:///databricks/spark/python/lib/py4j-0.10.9.7-src.zip/py4j/clientserver.py#575\u001B\\\u001B[2m575\u001B[0m\u001B]8;;\u001B\\\n"
      ]
     },
     "metadata": {},
     "output_type": "display_data"
    }
   ],
   "source": [
    "dataset_obj.export_images_to_volume(path=\"/Volumes/mansi_test/default/test_vol1\", input_response=my_inputs[:5])"
   ]
  },
  {
   "cell_type": "markdown",
   "metadata": {
    "application/vnd.databricks.v1+cell": {
     "cellMetadata": {},
     "inputWidgets": {},
     "nuid": "ec8d8448-bfb3-48b8-87a4-430ea1555985",
     "showTitle": false,
     "title": ""
    }
   },
   "source": [
    "### Load image csv file & upload text data into app using dataframe"
   ]
  },
  {
   "cell_type": "code",
   "execution_count": 0,
   "metadata": {
    "application/vnd.databricks.v1+cell": {
     "cellMetadata": {
      "byteLimit": 2048000,
      "rowLimit": 10000
     },
     "inputWidgets": {},
     "nuid": "0db5727d-fdcc-49f2-9197-315671da3804",
     "showTitle": false,
     "title": ""
    }
   },
   "outputs": [
    {
     "output_type": "display_data",
     "data": {
      "text/html": [
       "<pre style=\"white-space:pre;overflow-x:auto;line-height:normal;font-family:Menlo,'DejaVu Sans Mono',consolas,'Courier New',monospace\"><span style=\"color: #7fbfbf; text-decoration-color: #7fbfbf\">2023-10-23 09:02:37 </span><span style=\"color: #000080; text-decoration-color: #000080\">INFO    </span> INFO:py4j.clientserver:Received command c on object id p0          <a href=\"file:///databricks/spark/python/lib/py4j-0.10.9.7-src.zip/py4j/clientserver.py\" target=\"_blank\"><span style=\"color: #7f7f7f; text-decoration-color: #7f7f7f\">clientserver.py</span></a><span style=\"color: #7f7f7f; text-decoration-color: #7f7f7f\">:</span><a href=\"file:///databricks/spark/python/lib/py4j-0.10.9.7-src.zip/py4j/clientserver.py#575\" target=\"_blank\"><span style=\"color: #7f7f7f; text-decoration-color: #7f7f7f\">575</span></a>\n",
       "</pre>\n"
      ],
      "text/plain": [
       "\u001B[2;36m2023-10-23 09:02:37\u001B[0m\u001B[2;36m \u001B[0m\u001B[34mINFO    \u001B[0m INFO:py4j.clientserver:Received command c on object id p0          \u001B]8;id=783896;file:///databricks/spark/python/lib/py4j-0.10.9.7-src.zip/py4j/clientserver.py\u001B\\\u001B[2mclientserver.py\u001B[0m\u001B]8;;\u001B\\\u001B[2m:\u001B[0m\u001B]8;id=96789;file:///databricks/spark/python/lib/py4j-0.10.9.7-src.zip/py4j/clientserver.py#575\u001B\\\u001B[2m575\u001B[0m\u001B]8;;\u001B\\\n"
      ]
     },
     "metadata": {},
     "output_type": "display_data"
    },
    {
     "output_type": "stream",
     "name": "stdout",
     "output_type": "stream",
     "text": [
      "+-------+--------------------+--------+\n|inputid|               input|concepts|\n+-------+--------------------+--------+\n|  img11|https://img.freep...|     dog|\n|  img21|https://images.un...|    duck|\n|  img31|https://mymodernm...|    duck|\n+-------+--------------------+--------+\n\n"
     ]
    }
   ],
   "source": [
    "spark = SparkSession.builder.appName(\"Clarifai-spark\").getOrCreate()\n",
    "df = spark.read.option(\"header\",True).csv(\"/Volumes/mansi_test/default/test_vol1/img_data2.csv\")\n",
    "df.show()"
   ]
  },
  {
   "cell_type": "code",
   "execution_count": 0,
   "metadata": {
    "application/vnd.databricks.v1+cell": {
     "cellMetadata": {
      "byteLimit": 2048000,
      "rowLimit": 10000
     },
     "inputWidgets": {},
     "nuid": "ea2f83f5-2609-4343-9624-d4664b30e686",
     "showTitle": false,
     "title": ""
    }
   },
   "outputs": [
    {
     "output_type": "display_data",
     "data": {
      "text/html": [
       "<pre style=\"white-space:pre;overflow-x:auto;line-height:normal;font-family:Menlo,'DejaVu Sans Mono',consolas,'Courier New',monospace\"><span style=\"color: #7fbfbf; text-decoration-color: #7fbfbf\">2023-10-23 09:02:44 </span><span style=\"color: #000080; text-decoration-color: #000080\">INFO    </span> INFO:py4j.clientserver:Received command c on object id p0          <a href=\"file:///databricks/spark/python/lib/py4j-0.10.9.7-src.zip/py4j/clientserver.py\" target=\"_blank\"><span style=\"color: #7f7f7f; text-decoration-color: #7f7f7f\">clientserver.py</span></a><span style=\"color: #7f7f7f; text-decoration-color: #7f7f7f\">:</span><a href=\"file:///databricks/spark/python/lib/py4j-0.10.9.7-src.zip/py4j/clientserver.py#575\" target=\"_blank\"><span style=\"color: #7f7f7f; text-decoration-color: #7f7f7f\">575</span></a>\n",
       "</pre>\n"
      ],
      "text/plain": [
       "\u001B[2;36m2023-10-23 09:02:44\u001B[0m\u001B[2;36m \u001B[0m\u001B[34mINFO    \u001B[0m INFO:py4j.clientserver:Received command c on object id p0          \u001B]8;id=315145;file:///databricks/spark/python/lib/py4j-0.10.9.7-src.zip/py4j/clientserver.py\u001B\\\u001B[2mclientserver.py\u001B[0m\u001B]8;;\u001B\\\u001B[2m:\u001B[0m\u001B]8;id=593548;file:///databricks/spark/python/lib/py4j-0.10.9.7-src.zip/py4j/clientserver.py#575\u001B\\\u001B[2m575\u001B[0m\u001B]8;;\u001B\\\n"
      ]
     },
     "metadata": {},
     "output_type": "display_data"
    },
    {
     "output_type": "stream",
     "name": "stderr",
     "output_type": "stream",
     "text": [
      "\rUploading inputs:   0%|          | 0/1 [00:00<?, ?it/s]"
     ]
    },
    {
     "output_type": "display_data",
     "data": {
      "text/html": [
       "<pre style=\"white-space:pre;overflow-x:auto;line-height:normal;font-family:Menlo,'DejaVu Sans Mono',consolas,'Courier New',monospace\"><span style=\"color: #7fbfbf; text-decoration-color: #7fbfbf\">2023-10-23 09:02:45 </span><span style=\"color: #800000; text-decoration-color: #800000\">WARNING </span> WARNING:clarifai.client.input:code: IN<span style=\"color: #808000; text-decoration-color: #808000; font-weight: bold\">PUT</span>_DUPLICATE                       <a href=\"file:///local_disk0/.ephemeral_nfs/envs/pythonEnv-07884fc6-4bdc-4cb9-bce0-6f0de44f7080/lib/python3.10/site-packages/clarifai/client/input.py\" target=\"_blank\"><span style=\"color: #7f7f7f; text-decoration-color: #7f7f7f\">input.py</span></a><span style=\"color: #7f7f7f; text-decoration-color: #7f7f7f\">:</span><a href=\"file:///local_disk0/.ephemeral_nfs/envs/pythonEnv-07884fc6-4bdc-4cb9-bce0-6f0de44f7080/lib/python3.10/site-packages/clarifai/client/input.py#631\" target=\"_blank\"><span style=\"color: #7f7f7f; text-decoration-color: #7f7f7f\">631</span></a>\n",
       "<span style=\"color: #7fbfbf; text-decoration-color: #7fbfbf\">                    </span>         description: <span style=\"color: #008000; text-decoration-color: #008000\">\"Duplicate URL in your application. Check the documentation </span> <span style=\"color: #7f7f7f; text-decoration-color: #7f7f7f\">            </span>\n",
       "<span style=\"color: #7fbfbf; text-decoration-color: #7fbfbf\">                    </span>         <span style=\"color: #008000; text-decoration-color: #008000\">to allow duplications.\"</span>                                                   <span style=\"color: #7f7f7f; text-decoration-color: #7f7f7f\">            </span>\n",
       "<span style=\"color: #7fbfbf; text-decoration-color: #7fbfbf\">                    </span>         details: <span style=\"color: #008000; text-decoration-color: #008000\">\"The input URL is duplicate.\"</span>                                    <span style=\"color: #7f7f7f; text-decoration-color: #7f7f7f\">            </span>\n",
       "<span style=\"color: #7fbfbf; text-decoration-color: #7fbfbf\">                    </span>                                                                                   <span style=\"color: #7f7f7f; text-decoration-color: #7f7f7f\">            </span>\n",
       "</pre>\n"
      ],
      "text/plain": [
       "\u001B[2;36m2023-10-23 09:02:45\u001B[0m\u001B[2;36m \u001B[0m\u001B[31mWARNING \u001B[0m WARNING:clarifai.client.input:code: IN\u001B[1;33mPUT\u001B[0m_DUPLICATE                       \u001B]8;id=742428;file:///local_disk0/.ephemeral_nfs/envs/pythonEnv-07884fc6-4bdc-4cb9-bce0-6f0de44f7080/lib/python3.10/site-packages/clarifai/client/input.py\u001B\\\u001B[2minput.py\u001B[0m\u001B]8;;\u001B\\\u001B[2m:\u001B[0m\u001B]8;id=293937;file:///local_disk0/.ephemeral_nfs/envs/pythonEnv-07884fc6-4bdc-4cb9-bce0-6f0de44f7080/lib/python3.10/site-packages/clarifai/client/input.py#631\u001B\\\u001B[2m631\u001B[0m\u001B]8;;\u001B\\\n",
       "\u001B[2;36m                    \u001B[0m         description: \u001B[32m\"Duplicate URL in your application. Check the documentation \u001B[0m \u001B[2m            \u001B[0m\n",
       "\u001B[2;36m                    \u001B[0m         \u001B[32mto allow duplications.\"\u001B[0m                                                   \u001B[2m            \u001B[0m\n",
       "\u001B[2;36m                    \u001B[0m         details: \u001B[32m\"The input URL is duplicate.\"\u001B[0m                                    \u001B[2m            \u001B[0m\n",
       "\u001B[2;36m                    \u001B[0m                                                                                   \u001B[2m            \u001B[0m\n"
      ]
     },
     "metadata": {},
     "output_type": "display_data"
    },
    {
     "output_type": "stream",
     "name": "stderr",
     "output_type": "stream",
     "text": [
      "\rUploading inputs: 100%|██████████| 1/1 [00:00<00:00,  4.50it/s]\rUploading inputs: 100%|██████████| 1/1 [00:00<00:00,  4.48it/s]\n"
     ]
    }
   ],
   "source": [
    "dataset_obj.upload_dataset_from_dataframe(dataframe=df, input_type='image', df_type='url', labels=True)"
   ]
  },
  {
   "cell_type": "markdown",
   "metadata": {
    "application/vnd.databricks.v1+cell": {
     "cellMetadata": {},
     "inputWidgets": {},
     "nuid": "a1382140-4c49-4bbf-9e0c-9fcd860071e5",
     "showTitle": false,
     "title": ""
    }
   },
   "source": [
    "### Using a custom dataloader to upload images from Volume"
   ]
  },
  {
   "cell_type": "code",
   "execution_count": 0,
   "metadata": {
    "application/vnd.databricks.v1+cell": {
     "cellMetadata": {
      "byteLimit": 2048000,
      "rowLimit": 10000
     },
     "inputWidgets": {},
     "nuid": "6a55c445-b69f-470c-af30-2a4cb1bafcba",
     "showTitle": false,
     "title": ""
    }
   },
   "outputs": [
    {
     "output_type": "display_data",
     "data": {
      "text/html": [
       "<pre style=\"white-space:pre;overflow-x:auto;line-height:normal;font-family:Menlo,'DejaVu Sans Mono',consolas,'Courier New',monospace\"><span style=\"color: #7fbfbf; text-decoration-color: #7fbfbf\">2023-10-23 09:06:51 </span><span style=\"color: #000080; text-decoration-color: #000080\">INFO    </span> INFO:py4j.clientserver:Received command c on object id p0          <a href=\"file:///databricks/spark/python/lib/py4j-0.10.9.7-src.zip/py4j/clientserver.py\" target=\"_blank\"><span style=\"color: #7f7f7f; text-decoration-color: #7f7f7f\">clientserver.py</span></a><span style=\"color: #7f7f7f; text-decoration-color: #7f7f7f\">:</span><a href=\"file:///databricks/spark/python/lib/py4j-0.10.9.7-src.zip/py4j/clientserver.py#575\" target=\"_blank\"><span style=\"color: #7f7f7f; text-decoration-color: #7f7f7f\">575</span></a>\n",
       "</pre>\n"
      ],
      "text/plain": [
       "\u001B[2;36m2023-10-23 09:06:51\u001B[0m\u001B[2;36m \u001B[0m\u001B[34mINFO    \u001B[0m INFO:py4j.clientserver:Received command c on object id p0          \u001B]8;id=977950;file:///databricks/spark/python/lib/py4j-0.10.9.7-src.zip/py4j/clientserver.py\u001B\\\u001B[2mclientserver.py\u001B[0m\u001B]8;;\u001B\\\u001B[2m:\u001B[0m\u001B]8;id=507837;file:///databricks/spark/python/lib/py4j-0.10.9.7-src.zip/py4j/clientserver.py#575\u001B\\\u001B[2m575\u001B[0m\u001B]8;;\u001B\\\n"
      ]
     },
     "metadata": {},
     "output_type": "display_data"
    },
    {
     "output_type": "stream",
     "name": "stderr",
     "output_type": "stream",
     "text": [
      "\rUploading Dataset:   0%|          | 0/1 [00:00<?, ?it/s]\rUploading Dataset: 100%|██████████| 1/1 [00:02<00:00,  2.61s/it]\rUploading Dataset: 100%|██████████| 1/1 [00:02<00:00,  2.61s/it]\n"
     ]
    }
   ],
   "source": [
    "dataset_obj.upload_dataset_from_dataloader(task=\"visual-classification\", split=\"train\", module_dir=\"/Volumes/mansi_test/default/test_vol1/food-101\")"
   ]
  },
  {
   "cell_type": "markdown",
   "metadata": {
    "application/vnd.databricks.v1+cell": {
     "cellMetadata": {},
     "inputWidgets": {},
     "nuid": "bdb964fd-2203-4c83-9313-cce1c5adcbc6",
     "showTitle": false,
     "title": ""
    }
   },
   "source": [
    "### Creating ClarifaiPyspark object & creating/fetching text dataset from app"
   ]
  },
  {
   "cell_type": "code",
   "execution_count": 0,
   "metadata": {
    "application/vnd.databricks.v1+cell": {
     "cellMetadata": {
      "byteLimit": 2048000,
      "rowLimit": 10000
     },
     "inputWidgets": {},
     "nuid": "3be66328-fbf5-4218-b4f7-971d03c67ead",
     "showTitle": false,
     "title": ""
    }
   },
   "outputs": [
    {
     "output_type": "display_data",
     "data": {
      "text/html": [
       "<pre style=\"white-space:pre;overflow-x:auto;line-height:normal;font-family:Menlo,'DejaVu Sans Mono',consolas,'Courier New',monospace\"><span style=\"color: #7fbfbf; text-decoration-color: #7fbfbf\">2023-10-23 08:33:36 </span><span style=\"color: #000080; text-decoration-color: #000080\">INFO    </span> INFO:py4j.clientserver:Received command c on object id p0          <a href=\"file:///databricks/spark/python/lib/py4j-0.10.9.7-src.zip/py4j/clientserver.py\" target=\"_blank\"><span style=\"color: #7f7f7f; text-decoration-color: #7f7f7f\">clientserver.py</span></a><span style=\"color: #7f7f7f; text-decoration-color: #7f7f7f\">:</span><a href=\"file:///databricks/spark/python/lib/py4j-0.10.9.7-src.zip/py4j/clientserver.py#575\" target=\"_blank\"><span style=\"color: #7f7f7f; text-decoration-color: #7f7f7f\">575</span></a>\n",
       "</pre>\n"
      ],
      "text/plain": [
       "\u001B[2;36m2023-10-23 08:33:36\u001B[0m\u001B[2;36m \u001B[0m\u001B[34mINFO    \u001B[0m INFO:py4j.clientserver:Received command c on object id p0          \u001B]8;id=643398;file:///databricks/spark/python/lib/py4j-0.10.9.7-src.zip/py4j/clientserver.py\u001B\\\u001B[2mclientserver.py\u001B[0m\u001B]8;;\u001B\\\u001B[2m:\u001B[0m\u001B]8;id=913909;file:///databricks/spark/python/lib/py4j-0.10.9.7-src.zip/py4j/clientserver.py#575\u001B\\\u001B[2m575\u001B[0m\u001B]8;;\u001B\\\n"
      ]
     },
     "metadata": {},
     "output_type": "display_data"
    },
    {
     "output_type": "stream",
     "name": "stdout",
     "output_type": "stream",
     "text": [
      "Creating a new dataset\n"
     ]
    },
    {
     "output_type": "display_data",
     "data": {
      "text/html": [
       "<pre style=\"white-space:pre;overflow-x:auto;line-height:normal;font-family:Menlo,'DejaVu Sans Mono',consolas,'Courier New',monospace\"><span style=\"color: #7fbfbf; text-decoration-color: #7fbfbf\">                    </span><span style=\"color: #000080; text-decoration-color: #000080\">INFO    </span> INFO:clarifai.client.app:                                                   <a href=\"file:///local_disk0/.ephemeral_nfs/envs/pythonEnv-07884fc6-4bdc-4cb9-bce0-6f0de44f7080/lib/python3.10/site-packages/clarifai/client/app.py\" target=\"_blank\"><span style=\"color: #7f7f7f; text-decoration-color: #7f7f7f\">app.py</span></a><span style=\"color: #7f7f7f; text-decoration-color: #7f7f7f\">:</span><a href=\"file:///local_disk0/.ephemeral_nfs/envs/pythonEnv-07884fc6-4bdc-4cb9-bce0-6f0de44f7080/lib/python3.10/site-packages/clarifai/client/app.py#291\" target=\"_blank\"><span style=\"color: #7f7f7f; text-decoration-color: #7f7f7f\">291</span></a>\n",
       "<span style=\"color: #7fbfbf; text-decoration-color: #7fbfbf\">                    </span>         Dataset created                                                             <span style=\"color: #7f7f7f; text-decoration-color: #7f7f7f\">          </span>\n",
       "<span style=\"color: #7fbfbf; text-decoration-color: #7fbfbf\">                    </span>         code: SUCCESS                                                               <span style=\"color: #7f7f7f; text-decoration-color: #7f7f7f\">          </span>\n",
       "<span style=\"color: #7fbfbf; text-decoration-color: #7fbfbf\">                    </span>         description: <span style=\"color: #008000; text-decoration-color: #008000\">\"Ok\"</span>                                                           <span style=\"color: #7f7f7f; text-decoration-color: #7f7f7f\">          </span>\n",
       "<span style=\"color: #7fbfbf; text-decoration-color: #7fbfbf\">                    </span>         req_id: <span style=\"color: #008000; text-decoration-color: #008000\">\"ad013b11e5cf2894d78d3a5dfc368202\"</span>                                  <span style=\"color: #7f7f7f; text-decoration-color: #7f7f7f\">          </span>\n",
       "<span style=\"color: #7fbfbf; text-decoration-color: #7fbfbf\">                    </span>                                                                                     <span style=\"color: #7f7f7f; text-decoration-color: #7f7f7f\">          </span>\n",
       "</pre>\n"
      ],
      "text/plain": [
       "\u001B[2;36m                   \u001B[0m\u001B[2;36m \u001B[0m\u001B[34mINFO    \u001B[0m INFO:clarifai.client.app:                                                   \u001B]8;id=28864;file:///local_disk0/.ephemeral_nfs/envs/pythonEnv-07884fc6-4bdc-4cb9-bce0-6f0de44f7080/lib/python3.10/site-packages/clarifai/client/app.py\u001B\\\u001B[2mapp.py\u001B[0m\u001B]8;;\u001B\\\u001B[2m:\u001B[0m\u001B]8;id=868935;file:///local_disk0/.ephemeral_nfs/envs/pythonEnv-07884fc6-4bdc-4cb9-bce0-6f0de44f7080/lib/python3.10/site-packages/clarifai/client/app.py#291\u001B\\\u001B[2m291\u001B[0m\u001B]8;;\u001B\\\n",
       "\u001B[2;36m                    \u001B[0m         Dataset created                                                             \u001B[2m          \u001B[0m\n",
       "\u001B[2;36m                    \u001B[0m         code: SUCCESS                                                               \u001B[2m          \u001B[0m\n",
       "\u001B[2;36m                    \u001B[0m         description: \u001B[32m\"Ok\"\u001B[0m                                                           \u001B[2m          \u001B[0m\n",
       "\u001B[2;36m                    \u001B[0m         req_id: \u001B[32m\"ad013b11e5cf2894d78d3a5dfc368202\"\u001B[0m                                  \u001B[2m          \u001B[0m\n",
       "\u001B[2;36m                    \u001B[0m                                                                                     \u001B[2m          \u001B[0m\n"
      ]
     },
     "metadata": {},
     "output_type": "display_data"
    }
   ],
   "source": [
    "cspark_obj = ClarifaiPySpark(user_id='mansi_k', app_id='databricks_tester_txt')\n",
    "\n",
    "dataset_obj = cspark_obj.dataset(dataset_id='dataset1')"
   ]
  },
  {
   "cell_type": "markdown",
   "metadata": {
    "application/vnd.databricks.v1+cell": {
     "cellMetadata": {},
     "inputWidgets": {},
     "nuid": "5f12641b-c675-4e76-bbfd-30c3ca0592a5",
     "showTitle": false,
     "title": ""
    }
   },
   "source": [
    "### Fetching current inputs from text dataset"
   ]
  },
  {
   "cell_type": "code",
   "execution_count": 0,
   "metadata": {
    "application/vnd.databricks.v1+cell": {
     "cellMetadata": {
      "byteLimit": 2048000,
      "rowLimit": 10000
     },
     "inputWidgets": {},
     "nuid": "301a1f0f-b1fa-4220-b8ee-02710876a414",
     "showTitle": false,
     "title": ""
    }
   },
   "outputs": [
    {
     "output_type": "display_data",
     "data": {
      "text/html": [
       "<pre style=\"white-space:pre;overflow-x:auto;line-height:normal;font-family:Menlo,'DejaVu Sans Mono',consolas,'Courier New',monospace\"><span style=\"color: #7fbfbf; text-decoration-color: #7fbfbf\">2023-10-23 08:34:24 </span><span style=\"color: #000080; text-decoration-color: #000080\">INFO    </span> INFO:py4j.clientserver:Received command c on object id p0          <a href=\"file:///databricks/spark/python/lib/py4j-0.10.9.7-src.zip/py4j/clientserver.py\" target=\"_blank\"><span style=\"color: #7f7f7f; text-decoration-color: #7f7f7f\">clientserver.py</span></a><span style=\"color: #7f7f7f; text-decoration-color: #7f7f7f\">:</span><a href=\"file:///databricks/spark/python/lib/py4j-0.10.9.7-src.zip/py4j/clientserver.py#575\" target=\"_blank\"><span style=\"color: #7f7f7f; text-decoration-color: #7f7f7f\">575</span></a>\n",
       "</pre>\n"
      ],
      "text/plain": [
       "\u001B[2;36m2023-10-23 08:34:24\u001B[0m\u001B[2;36m \u001B[0m\u001B[34mINFO    \u001B[0m INFO:py4j.clientserver:Received command c on object id p0          \u001B]8;id=537671;file:///databricks/spark/python/lib/py4j-0.10.9.7-src.zip/py4j/clientserver.py\u001B\\\u001B[2mclientserver.py\u001B[0m\u001B]8;;\u001B\\\u001B[2m:\u001B[0m\u001B]8;id=861851;file:///databricks/spark/python/lib/py4j-0.10.9.7-src.zip/py4j/clientserver.py#575\u001B\\\u001B[2m575\u001B[0m\u001B]8;;\u001B\\\n"
      ]
     },
     "metadata": {},
     "output_type": "display_data"
    },
    {
     "output_type": "execute_result",
     "data": {
      "text/plain": [
       "<generator object Inputs.list_inputs at 0x7f92a88c6570>"
      ]
     },
     "execution_count": 53,
     "metadata": {},
     "output_type": "execute_result"
    }
   ],
   "source": [
    "my_inputs = dataset_obj.list_inputs()\n",
    "\n",
    "my_inputs"
   ]
  },
  {
   "cell_type": "markdown",
   "metadata": {
    "application/vnd.databricks.v1+cell": {
     "cellMetadata": {},
     "inputWidgets": {},
     "nuid": "59d06dc0-5235-41c1-be75-a5a8cd9dad73",
     "showTitle": false,
     "title": ""
    }
   },
   "source": [
    "### Testing export_text_to_volume()\n",
    "\n",
    "Q- Create folders acc to concept name?   \n",
    "Q- Save text as csv?"
   ]
  },
  {
   "cell_type": "code",
   "execution_count": 0,
   "metadata": {
    "application/vnd.databricks.v1+cell": {
     "cellMetadata": {
      "byteLimit": 2048000,
      "rowLimit": 10000
     },
     "inputWidgets": {},
     "nuid": "e01c1396-1cd3-4290-b702-d9114244ff90",
     "showTitle": false,
     "title": ""
    }
   },
   "outputs": [
    {
     "output_type": "display_data",
     "data": {
      "text/html": [
       "<pre style=\"white-space:pre;overflow-x:auto;line-height:normal;font-family:Menlo,'DejaVu Sans Mono',consolas,'Courier New',monospace\"><span style=\"color: #7fbfbf; text-decoration-color: #7fbfbf\">2023-10-23 08:34:45 </span><span style=\"color: #000080; text-decoration-color: #000080\">INFO    </span> INFO:py4j.clientserver:Received command c on object id p0          <a href=\"file:///databricks/spark/python/lib/py4j-0.10.9.7-src.zip/py4j/clientserver.py\" target=\"_blank\"><span style=\"color: #7f7f7f; text-decoration-color: #7f7f7f\">clientserver.py</span></a><span style=\"color: #7f7f7f; text-decoration-color: #7f7f7f\">:</span><a href=\"file:///databricks/spark/python/lib/py4j-0.10.9.7-src.zip/py4j/clientserver.py#575\" target=\"_blank\"><span style=\"color: #7f7f7f; text-decoration-color: #7f7f7f\">575</span></a>\n",
       "</pre>\n"
      ],
      "text/plain": [
       "\u001B[2;36m2023-10-23 08:34:45\u001B[0m\u001B[2;36m \u001B[0m\u001B[34mINFO    \u001B[0m INFO:py4j.clientserver:Received command c on object id p0          \u001B]8;id=654716;file:///databricks/spark/python/lib/py4j-0.10.9.7-src.zip/py4j/clientserver.py\u001B\\\u001B[2mclientserver.py\u001B[0m\u001B]8;;\u001B\\\u001B[2m:\u001B[0m\u001B]8;id=492410;file:///databricks/spark/python/lib/py4j-0.10.9.7-src.zip/py4j/clientserver.py#575\u001B\\\u001B[2m575\u001B[0m\u001B]8;;\u001B\\\n"
      ]
     },
     "metadata": {},
     "output_type": "display_data"
    }
   ],
   "source": [
    "dataset_obj.export_text_to_volume(path=\"/Volumes/mansi_test/default/test_vol1\", input_response=my_inputs)"
   ]
  },
  {
   "cell_type": "markdown",
   "metadata": {
    "application/vnd.databricks.v1+cell": {
     "cellMetadata": {},
     "inputWidgets": {},
     "nuid": "0f8b3c16-8b05-4dee-b834-1270edc2b0b2",
     "showTitle": false,
     "title": ""
    }
   },
   "source": [
    "### Upload text from volume csv to Clarifai dataset"
   ]
  },
  {
   "cell_type": "code",
   "execution_count": 0,
   "metadata": {
    "application/vnd.databricks.v1+cell": {
     "cellMetadata": {
      "byteLimit": 2048000,
      "rowLimit": 10000
     },
     "inputWidgets": {},
     "nuid": "1c7d8451-d9ac-42e6-85e6-ff451aeb6a1e",
     "showTitle": false,
     "title": ""
    }
   },
   "outputs": [
    {
     "output_type": "display_data",
     "data": {
      "text/html": [
       "<pre style=\"white-space:pre;overflow-x:auto;line-height:normal;font-family:Menlo,'DejaVu Sans Mono',consolas,'Courier New',monospace\"><span style=\"color: #7fbfbf; text-decoration-color: #7fbfbf\">2023-10-23 08:38:10 </span><span style=\"color: #000080; text-decoration-color: #000080\">INFO    </span> INFO:py4j.clientserver:Received command c on object id p0          <a href=\"file:///databricks/spark/python/lib/py4j-0.10.9.7-src.zip/py4j/clientserver.py\" target=\"_blank\"><span style=\"color: #7f7f7f; text-decoration-color: #7f7f7f\">clientserver.py</span></a><span style=\"color: #7f7f7f; text-decoration-color: #7f7f7f\">:</span><a href=\"file:///databricks/spark/python/lib/py4j-0.10.9.7-src.zip/py4j/clientserver.py#575\" target=\"_blank\"><span style=\"color: #7f7f7f; text-decoration-color: #7f7f7f\">575</span></a>\n",
       "</pre>\n"
      ],
      "text/plain": [
       "\u001B[2;36m2023-10-23 08:38:10\u001B[0m\u001B[2;36m \u001B[0m\u001B[34mINFO    \u001B[0m INFO:py4j.clientserver:Received command c on object id p0          \u001B]8;id=990114;file:///databricks/spark/python/lib/py4j-0.10.9.7-src.zip/py4j/clientserver.py\u001B\\\u001B[2mclientserver.py\u001B[0m\u001B]8;;\u001B\\\u001B[2m:\u001B[0m\u001B]8;id=279494;file:///databricks/spark/python/lib/py4j-0.10.9.7-src.zip/py4j/clientserver.py#575\u001B\\\u001B[2m575\u001B[0m\u001B]8;;\u001B\\\n"
      ]
     },
     "metadata": {},
     "output_type": "display_data"
    },
    {
     "output_type": "stream",
     "name": "stderr",
     "output_type": "stream",
     "text": [
      "\rUploading inputs:   0%|          | 0/1 [00:00<?, ?it/s]\rUploading inputs: 100%|██████████| 1/1 [00:20<00:00, 20.56s/it]\rUploading inputs: 100%|██████████| 1/1 [00:20<00:00, 20.56s/it]\n"
     ]
    }
   ],
   "source": [
    "dataset_obj.upload_dataset_from_csv(csv_path='/Volumes/mansi_test/default/test_vol1/emotions_data1.csv', input_type='text', labels=True, csv_type='raw')"
   ]
  },
  {
   "cell_type": "markdown",
   "metadata": {
    "application/vnd.databricks.v1+cell": {
     "cellMetadata": {},
     "inputWidgets": {},
     "nuid": "b6363576-2540-491e-9506-5af1c7d5fa2b",
     "showTitle": false,
     "title": ""
    }
   },
   "source": [
    "### Load test csv file & upload text data into app using dataframe"
   ]
  },
  {
   "cell_type": "code",
   "execution_count": 0,
   "metadata": {
    "application/vnd.databricks.v1+cell": {
     "cellMetadata": {
      "byteLimit": 2048000,
      "rowLimit": 10000
     },
     "inputWidgets": {},
     "nuid": "af76b341-7019-4513-bf93-a934067136ff",
     "showTitle": false,
     "title": ""
    }
   },
   "outputs": [
    {
     "output_type": "display_data",
     "data": {
      "text/html": [
       "<pre style=\"white-space:pre;overflow-x:auto;line-height:normal;font-family:Menlo,'DejaVu Sans Mono',consolas,'Courier New',monospace\"><span style=\"color: #7fbfbf; text-decoration-color: #7fbfbf\">2023-10-23 08:38:54 </span><span style=\"color: #000080; text-decoration-color: #000080\">INFO    </span> INFO:py4j.clientserver:Received command c on object id p0          <a href=\"file:///databricks/spark/python/lib/py4j-0.10.9.7-src.zip/py4j/clientserver.py\" target=\"_blank\"><span style=\"color: #7f7f7f; text-decoration-color: #7f7f7f\">clientserver.py</span></a><span style=\"color: #7f7f7f; text-decoration-color: #7f7f7f\">:</span><a href=\"file:///databricks/spark/python/lib/py4j-0.10.9.7-src.zip/py4j/clientserver.py#575\" target=\"_blank\"><span style=\"color: #7f7f7f; text-decoration-color: #7f7f7f\">575</span></a>\n",
       "</pre>\n"
      ],
      "text/plain": [
       "\u001B[2;36m2023-10-23 08:38:54\u001B[0m\u001B[2;36m \u001B[0m\u001B[34mINFO    \u001B[0m INFO:py4j.clientserver:Received command c on object id p0          \u001B]8;id=298316;file:///databricks/spark/python/lib/py4j-0.10.9.7-src.zip/py4j/clientserver.py\u001B\\\u001B[2mclientserver.py\u001B[0m\u001B]8;;\u001B\\\u001B[2m:\u001B[0m\u001B]8;id=912974;file:///databricks/spark/python/lib/py4j-0.10.9.7-src.zip/py4j/clientserver.py#575\u001B\\\u001B[2m575\u001B[0m\u001B]8;;\u001B\\\n"
      ]
     },
     "metadata": {},
     "output_type": "display_data"
    },
    {
     "output_type": "stream",
     "name": "stdout",
     "output_type": "stream",
     "text": [
      "+-------+--------------------+--------+\n|inputid|               input|concepts|\n+-------+--------------------+--------+\n|    t11|   I am feeling good|   happy|\n|    t21|This is a guava tree| neutral|\n|    t31|This is a saddeni...|     sad|\n+-------+--------------------+--------+\n\n"
     ]
    }
   ],
   "source": [
    "spark = SparkSession.builder.appName(\"Clarifai-spark\").getOrCreate()\n",
    "df = spark.read.option(\"header\",True).csv(\"/Volumes/mansi_test/default/test_vol1/emotions_data1.csv\")\n",
    "df.show()"
   ]
  },
  {
   "cell_type": "code",
   "execution_count": 0,
   "metadata": {
    "application/vnd.databricks.v1+cell": {
     "cellMetadata": {
      "byteLimit": 2048000,
      "rowLimit": 10000
     },
     "inputWidgets": {},
     "nuid": "c327d8d8-db0d-42db-bd79-a43743c08423",
     "showTitle": false,
     "title": ""
    }
   },
   "outputs": [
    {
     "output_type": "display_data",
     "data": {
      "text/html": [
       "<pre style=\"white-space:pre;overflow-x:auto;line-height:normal;font-family:Menlo,'DejaVu Sans Mono',consolas,'Courier New',monospace\"><span style=\"color: #7fbfbf; text-decoration-color: #7fbfbf\">2023-10-23 08:39:47 </span><span style=\"color: #000080; text-decoration-color: #000080\">INFO    </span> INFO:py4j.clientserver:Received command c on object id p0          <a href=\"file:///databricks/spark/python/lib/py4j-0.10.9.7-src.zip/py4j/clientserver.py\" target=\"_blank\"><span style=\"color: #7f7f7f; text-decoration-color: #7f7f7f\">clientserver.py</span></a><span style=\"color: #7f7f7f; text-decoration-color: #7f7f7f\">:</span><a href=\"file:///databricks/spark/python/lib/py4j-0.10.9.7-src.zip/py4j/clientserver.py#575\" target=\"_blank\"><span style=\"color: #7f7f7f; text-decoration-color: #7f7f7f\">575</span></a>\n",
       "</pre>\n"
      ],
      "text/plain": [
       "\u001B[2;36m2023-10-23 08:39:47\u001B[0m\u001B[2;36m \u001B[0m\u001B[34mINFO    \u001B[0m INFO:py4j.clientserver:Received command c on object id p0          \u001B]8;id=241980;file:///databricks/spark/python/lib/py4j-0.10.9.7-src.zip/py4j/clientserver.py\u001B\\\u001B[2mclientserver.py\u001B[0m\u001B]8;;\u001B\\\u001B[2m:\u001B[0m\u001B]8;id=257321;file:///databricks/spark/python/lib/py4j-0.10.9.7-src.zip/py4j/clientserver.py#575\u001B\\\u001B[2m575\u001B[0m\u001B]8;;\u001B\\\n"
      ]
     },
     "metadata": {},
     "output_type": "display_data"
    },
    {
     "output_type": "stream",
     "name": "stderr",
     "output_type": "stream",
     "text": [
      "\rUploading inputs:   0%|          | 0/1 [00:00<?, ?it/s]"
     ]
    },
    {
     "output_type": "display_data",
     "data": {
      "text/html": [
       "<pre style=\"white-space:pre;overflow-x:auto;line-height:normal;font-family:Menlo,'DejaVu Sans Mono',consolas,'Courier New',monospace\"><span style=\"color: #7fbfbf; text-decoration-color: #7fbfbf\">2023-10-23 08:39:48 </span><span style=\"color: #800000; text-decoration-color: #800000\">WARNING </span> WARNING:clarifai.client.input:code: IN<span style=\"color: #808000; text-decoration-color: #808000; font-weight: bold\">PUT</span>_INVALID_ARGUMENT                <a href=\"file:///local_disk0/.ephemeral_nfs/envs/pythonEnv-07884fc6-4bdc-4cb9-bce0-6f0de44f7080/lib/python3.10/site-packages/clarifai/client/input.py\" target=\"_blank\"><span style=\"color: #7f7f7f; text-decoration-color: #7f7f7f\">input.py</span></a><span style=\"color: #7f7f7f; text-decoration-color: #7f7f7f\">:</span><a href=\"file:///local_disk0/.ephemeral_nfs/envs/pythonEnv-07884fc6-4bdc-4cb9-bce0-6f0de44f7080/lib/python3.10/site-packages/clarifai/client/input.py#631\" target=\"_blank\"><span style=\"color: #7f7f7f; text-decoration-color: #7f7f7f\">631</span></a>\n",
       "<span style=\"color: #7fbfbf; text-decoration-color: #7fbfbf\">                    </span>         description: <span style=\"color: #008000; text-decoration-color: #008000\">\"Input invalid argument\"</span>                                     <span style=\"color: #7f7f7f; text-decoration-color: #7f7f7f\">            </span>\n",
       "<span style=\"color: #7fbfbf; text-decoration-color: #7fbfbf\">                    </span>         details: <span style=\"color: #008000; text-decoration-color: #008000\">\"Input has a duplicate ID.\"</span>                                      <span style=\"color: #7f7f7f; text-decoration-color: #7f7f7f\">            </span>\n",
       "<span style=\"color: #7fbfbf; text-decoration-color: #7fbfbf\">                    </span>                                                                                   <span style=\"color: #7f7f7f; text-decoration-color: #7f7f7f\">            </span>\n",
       "</pre>\n"
      ],
      "text/plain": [
       "\u001B[2;36m2023-10-23 08:39:48\u001B[0m\u001B[2;36m \u001B[0m\u001B[31mWARNING \u001B[0m WARNING:clarifai.client.input:code: IN\u001B[1;33mPUT\u001B[0m_INVALID_ARGUMENT                \u001B]8;id=620274;file:///local_disk0/.ephemeral_nfs/envs/pythonEnv-07884fc6-4bdc-4cb9-bce0-6f0de44f7080/lib/python3.10/site-packages/clarifai/client/input.py\u001B\\\u001B[2minput.py\u001B[0m\u001B]8;;\u001B\\\u001B[2m:\u001B[0m\u001B]8;id=60565;file:///local_disk0/.ephemeral_nfs/envs/pythonEnv-07884fc6-4bdc-4cb9-bce0-6f0de44f7080/lib/python3.10/site-packages/clarifai/client/input.py#631\u001B\\\u001B[2m631\u001B[0m\u001B]8;;\u001B\\\n",
       "\u001B[2;36m                    \u001B[0m         description: \u001B[32m\"Input invalid argument\"\u001B[0m                                     \u001B[2m            \u001B[0m\n",
       "\u001B[2;36m                    \u001B[0m         details: \u001B[32m\"Input has a duplicate ID.\"\u001B[0m                                      \u001B[2m            \u001B[0m\n",
       "\u001B[2;36m                    \u001B[0m                                                                                   \u001B[2m            \u001B[0m\n"
      ]
     },
     "metadata": {},
     "output_type": "display_data"
    },
    {
     "output_type": "stream",
     "name": "stderr",
     "output_type": "stream",
     "text": [
      "\rUploading inputs: 100%|██████████| 1/1 [00:00<00:00,  5.48it/s]\rUploading inputs: 100%|██████████| 1/1 [00:00<00:00,  5.45it/s]\n"
     ]
    }
   ],
   "source": [
    "dataset_obj.upload_dataset_from_dataframe(dataframe=df, input_type='text', df_type='raw', labels=True)"
   ]
  }
 ],
 "metadata": {
  "application/vnd.databricks.v1+notebook": {
   "dashboards": [],
   "language": "python",
   "notebookMetadata": {
    "pythonIndentUnit": 4
   },
   "notebookName": "SDK_in_book_test_23oct",
   "widgets": {}
  }
 },
 "nbformat": 4,
 "nbformat_minor": 0
}
