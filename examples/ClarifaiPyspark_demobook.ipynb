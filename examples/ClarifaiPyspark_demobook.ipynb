{
 "cells": [
  {
   "cell_type": "code",
   "execution_count": null,
   "metadata": {},
   "outputs": [],
   "source": [
    "!pip install clarifaipyspark\n",
    "!pip install protobuf==4.24.2"
   ]
  },
  {
   "cell_type": "markdown",
   "metadata": {
    "application/vnd.databricks.v1+cell": {
     "cellMetadata": {},
     "inputWidgets": {},
     "nuid": "e324b745-65dc-4e9b-ac56-cc307dc32e20",
     "showTitle": false,
     "title": ""
    }
   },
   "source": [
    "# Testing ClarifaiPySpark SDK"
   ]
  },
  {
   "cell_type": "markdown",
   "metadata": {
    "application/vnd.databricks.v1+cell": {
     "cellMetadata": {},
     "inputWidgets": {},
     "nuid": "b49e60e6-14d5-41cf-98bf-c1d3bac0e326",
     "showTitle": false,
     "title": ""
    }
   },
   "source": [
    "### Setting Env variables"
   ]
  },
  {
   "cell_type": "code",
   "execution_count": null,
   "metadata": {
    "application/vnd.databricks.v1+cell": {
     "cellMetadata": {
      "byteLimit": 2048000,
      "rowLimit": 10000
     },
     "inputWidgets": {},
     "nuid": "c6c40e27-74cc-400c-b287-ef4946ec9f13",
     "showTitle": false,
     "title": ""
    }
   },
   "outputs": [
    {
     "data": {
      "text/html": [
       "<pre style=\"white-space:pre;overflow-x:auto;line-height:normal;font-family:Menlo,'DejaVu Sans Mono',consolas,'Courier New',monospace\"><span style=\"color: #7fbfbf; text-decoration-color: #7fbfbf\">2023-10-23 09:04:36 </span><span style=\"color: #000080; text-decoration-color: #000080\">INFO    </span> INFO:py4j.clientserver:Received command c on object id p0          <a href=\"file:///databricks/spark/python/lib/py4j-0.10.9.7-src.zip/py4j/clientserver.py\" target=\"_blank\"><span style=\"color: #7f7f7f; text-decoration-color: #7f7f7f\">clientserver.py</span></a><span style=\"color: #7f7f7f; text-decoration-color: #7f7f7f\">:</span><a href=\"file:///databricks/spark/python/lib/py4j-0.10.9.7-src.zip/py4j/clientserver.py#575\" target=\"_blank\"><span style=\"color: #7f7f7f; text-decoration-color: #7f7f7f\">575</span></a>\n",
       "</pre>\n"
      ],
      "text/plain": [
       "\u001b[2;36m2023-10-23 09:04:36\u001b[0m\u001b[2;36m \u001b[0m\u001b[34mINFO    \u001b[0m INFO:py4j.clientserver:Received command c on object id p0          \u001b]8;id=489096;file:///databricks/spark/python/lib/py4j-0.10.9.7-src.zip/py4j/clientserver.py\u001b\\\u001b[2mclientserver.py\u001b[0m\u001b]8;;\u001b\\\u001b[2m:\u001b[0m\u001b]8;id=194774;file:///databricks/spark/python/lib/py4j-0.10.9.7-src.zip/py4j/clientserver.py#575\u001b\\\u001b[2m575\u001b[0m\u001b]8;;\u001b\\\n"
      ]
     },
     "metadata": {},
     "output_type": "display_data"
    }
   ],
   "source": [
    "import os\n",
    "from clarifaipyspark.client import ClarifaiPySpark\n",
    "\n",
    "os.environ['CLARIFAI_PAT'] = ''"
   ]
  },
  {
   "cell_type": "markdown",
   "metadata": {
    "application/vnd.databricks.v1+cell": {
     "cellMetadata": {},
     "inputWidgets": {},
     "nuid": "f1d7478c-e90a-4060-aeac-4fd9c302e147",
     "showTitle": false,
     "title": ""
    }
   },
   "source": [
    "### Creating ClarifaiPyspark object & creating/fetching image dataset from app"
   ]
  },
  {
   "cell_type": "code",
   "execution_count": null,
   "metadata": {
    "application/vnd.databricks.v1+cell": {
     "cellMetadata": {
      "byteLimit": 2048000,
      "rowLimit": 10000
     },
     "inputWidgets": {},
     "nuid": "278fbfb8-3a3c-4556-8066-f801c368f7fb",
     "showTitle": false,
     "title": ""
    }
   },
   "outputs": [
    {
     "data": {
      "text/html": [
       "<pre style=\"white-space:pre;overflow-x:auto;line-height:normal;font-family:Menlo,'DejaVu Sans Mono',consolas,'Courier New',monospace\"><span style=\"color: #7fbfbf; text-decoration-color: #7fbfbf\">2023-10-23 09:04:40 </span><span style=\"color: #000080; text-decoration-color: #000080\">INFO    </span> INFO:py4j.clientserver:Received command c on object id p0          <a href=\"file:///databricks/spark/python/lib/py4j-0.10.9.7-src.zip/py4j/clientserver.py\" target=\"_blank\"><span style=\"color: #7f7f7f; text-decoration-color: #7f7f7f\">clientserver.py</span></a><span style=\"color: #7f7f7f; text-decoration-color: #7f7f7f\">:</span><a href=\"file:///databricks/spark/python/lib/py4j-0.10.9.7-src.zip/py4j/clientserver.py#575\" target=\"_blank\"><span style=\"color: #7f7f7f; text-decoration-color: #7f7f7f\">575</span></a>\n",
       "</pre>\n"
      ],
      "text/plain": [
       "\u001b[2;36m2023-10-23 09:04:40\u001b[0m\u001b[2;36m \u001b[0m\u001b[34mINFO    \u001b[0m INFO:py4j.clientserver:Received command c on object id p0          \u001b]8;id=498902;file:///databricks/spark/python/lib/py4j-0.10.9.7-src.zip/py4j/clientserver.py\u001b\\\u001b[2mclientserver.py\u001b[0m\u001b]8;;\u001b\\\u001b[2m:\u001b[0m\u001b]8;id=634484;file:///databricks/spark/python/lib/py4j-0.10.9.7-src.zip/py4j/clientserver.py#575\u001b\\\u001b[2m575\u001b[0m\u001b]8;;\u001b\\\n"
      ]
     },
     "metadata": {},
     "output_type": "display_data"
    }
   ],
   "source": [
    "cspark_obj = ClarifaiPySpark(user_id='mansi_k', app_id='databricks_tester_img')\n",
    "\n",
    "dataset_obj = cspark_obj.dataset(dataset_id='dataset1')"
   ]
  },
  {
   "cell_type": "markdown",
   "metadata": {
    "application/vnd.databricks.v1+cell": {
     "cellMetadata": {},
     "inputWidgets": {},
     "nuid": "37067eee-62ff-484c-9748-e4a29ae8103c",
     "showTitle": false,
     "title": ""
    }
   },
   "source": [
    "### Fetching current inputs from image dataset"
   ]
  },
  {
   "cell_type": "code",
   "execution_count": null,
   "metadata": {
    "application/vnd.databricks.v1+cell": {
     "cellMetadata": {
      "byteLimit": 2048000,
      "rowLimit": 10000
     },
     "inputWidgets": {},
     "nuid": "4cca0e26-4d31-4252-9fa1-3a10300bf0f0",
     "showTitle": false,
     "title": ""
    }
   },
   "outputs": [
    {
     "data": {
      "text/html": [
       "<pre style=\"white-space:pre;overflow-x:auto;line-height:normal;font-family:Menlo,'DejaVu Sans Mono',consolas,'Courier New',monospace\"><span style=\"color: #7fbfbf; text-decoration-color: #7fbfbf\">2023-10-23 09:07:10 </span><span style=\"color: #000080; text-decoration-color: #000080\">INFO    </span> INFO:py4j.clientserver:Received command c on object id p0          <a href=\"file:///databricks/spark/python/lib/py4j-0.10.9.7-src.zip/py4j/clientserver.py\" target=\"_blank\"><span style=\"color: #7f7f7f; text-decoration-color: #7f7f7f\">clientserver.py</span></a><span style=\"color: #7f7f7f; text-decoration-color: #7f7f7f\">:</span><a href=\"file:///databricks/spark/python/lib/py4j-0.10.9.7-src.zip/py4j/clientserver.py#575\" target=\"_blank\"><span style=\"color: #7f7f7f; text-decoration-color: #7f7f7f\">575</span></a>\n",
       "</pre>\n"
      ],
      "text/plain": [
       "\u001b[2;36m2023-10-23 09:07:10\u001b[0m\u001b[2;36m \u001b[0m\u001b[34mINFO    \u001b[0m INFO:py4j.clientserver:Received command c on object id p0          \u001b]8;id=653055;file:///databricks/spark/python/lib/py4j-0.10.9.7-src.zip/py4j/clientserver.py\u001b\\\u001b[2mclientserver.py\u001b[0m\u001b]8;;\u001b\\\u001b[2m:\u001b[0m\u001b]8;id=627783;file:///databricks/spark/python/lib/py4j-0.10.9.7-src.zip/py4j/clientserver.py#575\u001b\\\u001b[2m575\u001b[0m\u001b]8;;\u001b\\\n"
      ]
     },
     "metadata": {},
     "output_type": "display_data"
    },
    {
     "data": {
      "text/plain": [
       "[id: \"dataset1-train-3647386\"\n",
       " data {\n",
       "   image {\n",
       "     url: \"https://data.clarifai.com/orig/users/mansi_k/apps/databricks_tester_img/inputs/image/1249d3d8c8157d1b2dcdb2561175374a\"\n",
       "     hosted {\n",
       "       prefix: \"https://data.clarifai.com\"\n",
       "       suffix: \"users/mansi_k/apps/databricks_tester_img/inputs/image/1249d3d8c8157d1b2dcdb2561175374a\"\n",
       "       sizes: \"orig\"\n",
       "       sizes: \"tiny\"\n",
       "       sizes: \"small\"\n",
       "       sizes: \"large\"\n",
       "       crossorigin: \"use-credentials\"\n",
       "     }\n",
       "     image_info {\n",
       "       width: 512\n",
       "       height: 288\n",
       "       format: \"JPEG\"\n",
       "       color_mode: \"YUV\"\n",
       "     }\n",
       "   }\n",
       "   concepts {\n",
       "     id: \"id-hamburger\"\n",
       "     name: \"hamburger\"\n",
       "     value: 1\n",
       "     app_id: \"databricks_tester_img\"\n",
       "   }\n",
       " }\n",
       " created_at {\n",
       "   seconds: 1698052012\n",
       "   nanos: 477555000\n",
       " }\n",
       " modified_at {\n",
       "   seconds: 1698052013\n",
       "   nanos: 977120000\n",
       " }\n",
       " status {\n",
       "   code: INPUT_DOWNLOAD_SUCCESS\n",
       "   description: \"Download complete\"\n",
       " },\n",
       " id: \"dataset1-train-3520891\"\n",
       " data {\n",
       "   image {\n",
       "     url: \"https://data.clarifai.com/orig/users/mansi_k/apps/databricks_tester_img/inputs/image/2b6cb268add3efb714e702699ff54ed9\"\n",
       "     hosted {\n",
       "       prefix: \"https://data.clarifai.com\"\n",
       "       suffix: \"users/mansi_k/apps/databricks_tester_img/inputs/image/2b6cb268add3efb714e702699ff54ed9\"\n",
       "       sizes: \"orig\"\n",
       "       sizes: \"tiny\"\n",
       "       sizes: \"small\"\n",
       "       sizes: \"large\"\n",
       "       crossorigin: \"use-credentials\"\n",
       "     }\n",
       "     image_info {\n",
       "       width: 512\n",
       "       height: 512\n",
       "       format: \"JPEG\"\n",
       "       color_mode: \"YUV\"\n",
       "     }\n",
       "   }\n",
       "   concepts {\n",
       "     id: \"id-ramen\"\n",
       "     name: \"ramen\"\n",
       "     value: 1\n",
       "     app_id: \"databricks_tester_img\"\n",
       "   }\n",
       " }\n",
       " created_at {\n",
       "   seconds: 1698052012\n",
       "   nanos: 477555000\n",
       " }\n",
       " modified_at {\n",
       "   seconds: 1698052013\n",
       "   nanos: 977120000\n",
       " }\n",
       " status {\n",
       "   code: INPUT_DOWNLOAD_SUCCESS\n",
       "   description: \"Download complete\"\n",
       " },\n",
       " id: \"dataset1-train-3385808\"\n",
       " data {\n",
       "   image {\n",
       "     url: \"https://data.clarifai.com/orig/users/mansi_k/apps/databricks_tester_img/inputs/image/5835a13c322548a67038ca2d191dc7bf\"\n",
       "     hosted {\n",
       "       prefix: \"https://data.clarifai.com\"\n",
       "       suffix: \"users/mansi_k/apps/databricks_tester_img/inputs/image/5835a13c322548a67038ca2d191dc7bf\"\n",
       "       sizes: \"orig\"\n",
       "       sizes: \"tiny\"\n",
       "       sizes: \"small\"\n",
       "       sizes: \"large\"\n",
       "       crossorigin: \"use-credentials\"\n",
       "     }\n",
       "     image_info {\n",
       "       width: 512\n",
       "       height: 384\n",
       "       format: \"JPEG\"\n",
       "       color_mode: \"YUV\"\n",
       "     }\n",
       "   }\n",
       "   concepts {\n",
       "     id: \"id-hamburger\"\n",
       "     name: \"hamburger\"\n",
       "     value: 1\n",
       "     app_id: \"databricks_tester_img\"\n",
       "   }\n",
       " }\n",
       " created_at {\n",
       "   seconds: 1698052012\n",
       "   nanos: 477555000\n",
       " }\n",
       " modified_at {\n",
       "   seconds: 1698052013\n",
       "   nanos: 977120000\n",
       " }\n",
       " status {\n",
       "   code: INPUT_DOWNLOAD_SUCCESS\n",
       "   description: \"Download complete\"\n",
       " },\n",
       " id: \"dataset1-train-2427642\"\n",
       " data {\n",
       "   image {\n",
       "     url: \"https://data.clarifai.com/orig/users/mansi_k/apps/databricks_tester_img/inputs/image/423d388febb5576e5b7fa55f00511b5c\"\n",
       "     hosted {\n",
       "       prefix: \"https://data.clarifai.com\"\n",
       "       suffix: \"users/mansi_k/apps/databricks_tester_img/inputs/image/423d388febb5576e5b7fa55f00511b5c\"\n",
       "       sizes: \"orig\"\n",
       "       sizes: \"tiny\"\n",
       "       sizes: \"small\"\n",
       "       sizes: \"large\"\n",
       "       crossorigin: \"use-credentials\"\n",
       "     }\n",
       "     image_info {\n",
       "       width: 512\n",
       "       height: 384\n",
       "       format: \"JPEG\"\n",
       "       color_mode: \"YUV\"\n",
       "     }\n",
       "   }\n",
       "   concepts {\n",
       "     id: \"id-ramen\"\n",
       "     name: \"ramen\"\n",
       "     value: 1\n",
       "     app_id: \"databricks_tester_img\"\n",
       "   }\n",
       " }\n",
       " created_at {\n",
       "   seconds: 1698052012\n",
       "   nanos: 477555000\n",
       " }\n",
       " modified_at {\n",
       "   seconds: 1698052013\n",
       "   nanos: 977120000\n",
       " }\n",
       " status {\n",
       "   code: INPUT_DOWNLOAD_SUCCESS\n",
       "   description: \"Download complete\"\n",
       " },\n",
       " id: \"img11\"\n",
       " data {\n",
       "   image {\n",
       "     url: \"https://img.freepik.com/free-photo/isolated-happy-smiling-dog-white-background-portrait-4_1562-693.jpg\"\n",
       "     hosted {\n",
       "       prefix: \"https://data.clarifai.com\"\n",
       "       suffix: \"users/mansi_k/apps/databricks_tester_img/inputs/image/975f6c972d9029f9431e1e18274b121d\"\n",
       "       sizes: \"orig\"\n",
       "       sizes: \"tiny\"\n",
       "       sizes: \"small\"\n",
       "       sizes: \"large\"\n",
       "       crossorigin: \"use-credentials\"\n",
       "     }\n",
       "     image_info {\n",
       "       width: 626\n",
       "       height: 417\n",
       "       format: \"JPEG\"\n",
       "       color_mode: \"YUV\"\n",
       "     }\n",
       "   }\n",
       "   concepts {\n",
       "     id: \"id-dog\"\n",
       "     name: \"dog\"\n",
       "     value: 1\n",
       "     app_id: \"databricks_tester_img\"\n",
       "   }\n",
       " }\n",
       " created_at {\n",
       "   seconds: 1698049958\n",
       "   nanos: 658337000\n",
       " }\n",
       " modified_at {\n",
       "   seconds: 1698049959\n",
       "   nanos: 870924000\n",
       " }\n",
       " status {\n",
       "   code: INPUT_DOWNLOAD_SUCCESS\n",
       "   description: \"Download complete\"\n",
       " },\n",
       " id: \"img31\"\n",
       " data {\n",
       "   image {\n",
       "     url: \"https://mymodernmet.com/wp/wp-content/uploads/2023/01/how-to-draw-a-duck-fb-thumbnail.jpg\"\n",
       "     hosted {\n",
       "       prefix: \"https://data.clarifai.com\"\n",
       "       suffix: \"users/mansi_k/apps/databricks_tester_img/inputs/image/2d7a8f8aeb24b42bdae2dce75fdecb6d\"\n",
       "       sizes: \"orig\"\n",
       "       sizes: \"tiny\"\n",
       "       sizes: \"small\"\n",
       "       sizes: \"large\"\n",
       "       crossorigin: \"use-credentials\"\n",
       "     }\n",
       "     image_info {\n",
       "       width: 1200\n",
       "       height: 630\n",
       "       format: \"JPEG\"\n",
       "       color_mode: \"YUV\"\n",
       "     }\n",
       "   }\n",
       "   concepts {\n",
       "     id: \"id-duck\"\n",
       "     name: \"duck\"\n",
       "     value: 1\n",
       "     app_id: \"databricks_tester_img\"\n",
       "   }\n",
       " }\n",
       " created_at {\n",
       "   seconds: 1698049958\n",
       "   nanos: 658337000\n",
       " }\n",
       " modified_at {\n",
       "   seconds: 1698049959\n",
       "   nanos: 870924000\n",
       " }\n",
       " status {\n",
       "   code: INPUT_DOWNLOAD_SUCCESS\n",
       "   description: \"Download complete\"\n",
       " },\n",
       " id: \"img21\"\n",
       " data {\n",
       "   image {\n",
       "     url: \"https://images.unsplash.com/photo-1563409236302-8442b5e644df?auto=format&fit=crop&q=80&w=1000&ixlib=rb-4.0.3&ixid=M3wxMjA3fDB8MHxzZWFyY2h8M3x8ZHVja3xlbnwwfHwwfHx8MA%3D%3D\"\n",
       "     hosted {\n",
       "       prefix: \"https://data.clarifai.com\"\n",
       "       suffix: \"users/mansi_k/apps/databricks_tester_img/inputs/image/6c30aa65cf64b63eba8bca9a1f6b8724\"\n",
       "       sizes: \"orig\"\n",
       "       sizes: \"tiny\"\n",
       "       sizes: \"small\"\n",
       "       sizes: \"large\"\n",
       "       crossorigin: \"use-credentials\"\n",
       "     }\n",
       "     image_info {\n",
       "       width: 1000\n",
       "       height: 1498\n",
       "       format: \"JPEG\"\n",
       "       color_mode: \"YUV\"\n",
       "     }\n",
       "   }\n",
       "   concepts {\n",
       "     id: \"id-duck\"\n",
       "     name: \"duck\"\n",
       "     value: 1\n",
       "     app_id: \"databricks_tester_img\"\n",
       "   }\n",
       " }\n",
       " created_at {\n",
       "   seconds: 1698049958\n",
       "   nanos: 658337000\n",
       " }\n",
       " modified_at {\n",
       "   seconds: 1698049959\n",
       "   nanos: 870924000\n",
       " }\n",
       " status {\n",
       "   code: INPUT_DOWNLOAD_SUCCESS\n",
       "   description: \"Download complete\"\n",
       " },\n",
       " id: \"c10\"\n",
       " data {\n",
       "   image {\n",
       "     url: \"https://data.clarifai.com/orig/users/mansi_k/apps/databricks_tester_img/inputs/image/c1b5a9392f89cf42deca348758a63c79\"\n",
       "     hosted {\n",
       "       prefix: \"https://data.clarifai.com\"\n",
       "       suffix: \"users/mansi_k/apps/databricks_tester_img/inputs/image/c1b5a9392f89cf42deca348758a63c79\"\n",
       "       sizes: \"orig\"\n",
       "       sizes: \"tiny\"\n",
       "       sizes: \"small\"\n",
       "       sizes: \"large\"\n",
       "       crossorigin: \"use-credentials\"\n",
       "     }\n",
       "     image_info {\n",
       "       width: 1000\n",
       "       height: 665\n",
       "       format: \"JPEG\"\n",
       "       color_mode: \"YUV\"\n",
       "     }\n",
       "   }\n",
       "   concepts {\n",
       "     id: \"id-cat\"\n",
       "     name: \"cat\"\n",
       "     value: 1\n",
       "     app_id: \"databricks_tester_img\"\n",
       "   }\n",
       " }\n",
       " created_at {\n",
       "   seconds: 1698049660\n",
       "   nanos: 961070000\n",
       " }\n",
       " modified_at {\n",
       "   seconds: 1698049664\n",
       "   nanos: 89517000\n",
       " }\n",
       " status {\n",
       "   code: INPUT_DOWNLOAD_SUCCESS\n",
       "   description: \"Download complete\"\n",
       " },\n",
       " id: \"c6\"\n",
       " data {\n",
       "   image {\n",
       "     url: \"https://data.clarifai.com/orig/users/mansi_k/apps/databricks_tester_img/inputs/image/9aad344c32108b9c7c1c54e58a3b90e3\"\n",
       "     hosted {\n",
       "       prefix: \"https://data.clarifai.com\"\n",
       "       suffix: \"users/mansi_k/apps/databricks_tester_img/inputs/image/9aad344c32108b9c7c1c54e58a3b90e3\"\n",
       "       sizes: \"orig\"\n",
       "       sizes: \"tiny\"\n",
       "       sizes: \"small\"\n",
       "       sizes: \"large\"\n",
       "       crossorigin: \"use-credentials\"\n",
       "     }\n",
       "     image_info {\n",
       "       width: 612\n",
       "       height: 640\n",
       "       format: \"JPEG\"\n",
       "       color_mode: \"YUV\"\n",
       "     }\n",
       "   }\n",
       "   concepts {\n",
       "     id: \"id-cat\"\n",
       "     name: \"cat\"\n",
       "     value: 1\n",
       "     app_id: \"databricks_tester_img\"\n",
       "   }\n",
       " }\n",
       " created_at {\n",
       "   seconds: 1698049660\n",
       "   nanos: 961070000\n",
       " }\n",
       " modified_at {\n",
       "   seconds: 1698049664\n",
       "   nanos: 89517000\n",
       " }\n",
       " status {\n",
       "   code: INPUT_DOWNLOAD_SUCCESS\n",
       "   description: \"Download complete\"\n",
       " },\n",
       " id: \"c8\"\n",
       " data {\n",
       "   image {\n",
       "     url: \"https://data.clarifai.com/orig/users/mansi_k/apps/databricks_tester_img/inputs/image/1a56dcd4d97934cb2736c1ac3877e373\"\n",
       "     hosted {\n",
       "       prefix: \"https://data.clarifai.com\"\n",
       "       suffix: \"users/mansi_k/apps/databricks_tester_img/inputs/image/1a56dcd4d97934cb2736c1ac3877e373\"\n",
       "       sizes: \"orig\"\n",
       "       sizes: \"tiny\"\n",
       "       sizes: \"small\"\n",
       "       sizes: \"large\"\n",
       "       crossorigin: \"use-credentials\"\n",
       "     }\n",
       "     image_info {\n",
       "       width: 930\n",
       "       height: 620\n",
       "       format: \"WebP\"\n",
       "       color_mode: \"YUV\"\n",
       "     }\n",
       "   }\n",
       "   concepts {\n",
       "     id: \"id-cat\"\n",
       "     name: \"cat\"\n",
       "     value: 1\n",
       "     app_id: \"databricks_tester_img\"\n",
       "   }\n",
       " }\n",
       " created_at {\n",
       "   seconds: 1698049660\n",
       "   nanos: 961070000\n",
       " }\n",
       " modified_at {\n",
       "   seconds: 1698049664\n",
       "   nanos: 89517000\n",
       " }\n",
       " status {\n",
       "   code: INPUT_DOWNLOAD_SUCCESS\n",
       "   description: \"Download complete\"\n",
       " },\n",
       " id: \"c3\"\n",
       " data {\n",
       "   image {\n",
       "     url: \"https://data.clarifai.com/orig/users/mansi_k/apps/databricks_tester_img/inputs/image/737ab81969b3ce8dee6e4e578cfcb7f7\"\n",
       "     hosted {\n",
       "       prefix: \"https://data.clarifai.com\"\n",
       "       suffix: \"users/mansi_k/apps/databricks_tester_img/inputs/image/737ab81969b3ce8dee6e4e578cfcb7f7\"\n",
       "       sizes: \"orig\"\n",
       "       sizes: \"tiny\"\n",
       "       sizes: \"small\"\n",
       "       sizes: \"large\"\n",
       "       crossorigin: \"use-credentials\"\n",
       "     }\n",
       "     image_info {\n",
       "       width: 1200\n",
       "       height: 901\n",
       "       format: \"JPEG\"\n",
       "       color_mode: \"YUV\"\n",
       "     }\n",
       "   }\n",
       "   concepts {\n",
       "     id: \"id-cat\"\n",
       "     name: \"cat\"\n",
       "     value: 1\n",
       "     app_id: \"databricks_tester_img\"\n",
       "   }\n",
       " }\n",
       " created_at {\n",
       "   seconds: 1698049660\n",
       "   nanos: 961070000\n",
       " }\n",
       " modified_at {\n",
       "   seconds: 1698049664\n",
       "   nanos: 89517000\n",
       " }\n",
       " status {\n",
       "   code: INPUT_DOWNLOAD_SUCCESS\n",
       "   description: \"Download complete\"\n",
       " },\n",
       " id: \"c7\"\n",
       " data {\n",
       "   image {\n",
       "     url: \"https://data.clarifai.com/orig/users/mansi_k/apps/databricks_tester_img/inputs/image/042dc758e67c807683d8f7cb3a064fd3\"\n",
       "     hosted {\n",
       "       prefix: \"https://data.clarifai.com\"\n",
       "       suffix: \"users/mansi_k/apps/databricks_tester_img/inputs/image/042dc758e67c807683d8f7cb3a064fd3\"\n",
       "       sizes: \"orig\"\n",
       "       sizes: \"tiny\"\n",
       "       sizes: \"small\"\n",
       "       sizes: \"large\"\n",
       "       crossorigin: \"use-credentials\"\n",
       "     }\n",
       "     image_info {\n",
       "       width: 540\n",
       "       height: 360\n",
       "       format: \"JPEG\"\n",
       "       color_mode: \"YUV\"\n",
       "     }\n",
       "   }\n",
       "   concepts {\n",
       "     id: \"id-cat\"\n",
       "     name: \"cat\"\n",
       "     value: 1\n",
       "     app_id: \"databricks_tester_img\"\n",
       "   }\n",
       " }\n",
       " created_at {\n",
       "   seconds: 1698049660\n",
       "   nanos: 961070000\n",
       " }\n",
       " modified_at {\n",
       "   seconds: 1698049664\n",
       "   nanos: 89517000\n",
       " }\n",
       " status {\n",
       "   code: INPUT_DOWNLOAD_SUCCESS\n",
       "   description: \"Download complete\"\n",
       " },\n",
       " id: \"c9\"\n",
       " data {\n",
       "   image {\n",
       "     url: \"https://data.clarifai.com/orig/users/mansi_k/apps/databricks_tester_img/inputs/image/b88d83dd8fb9f34011ce441bd0cb823b\"\n",
       "     hosted {\n",
       "       prefix: \"https://data.clarifai.com\"\n",
       "       suffix: \"users/mansi_k/apps/databricks_tester_img/inputs/image/b88d83dd8fb9f34011ce441bd0cb823b\"\n",
       "       sizes: \"orig\"\n",
       "       sizes: \"tiny\"\n",
       "       sizes: \"small\"\n",
       "       sizes: \"large\"\n",
       "       crossorigin: \"use-credentials\"\n",
       "     }\n",
       "     image_info {\n",
       "       width: 1200\n",
       "       height: 834\n",
       "       format: \"JPEG\"\n",
       "       color_mode: \"YUV\"\n",
       "     }\n",
       "   }\n",
       "   concepts {\n",
       "     id: \"id-cat\"\n",
       "     name: \"cat\"\n",
       "     value: 1\n",
       "     app_id: \"databricks_tester_img\"\n",
       "   }\n",
       " }\n",
       " created_at {\n",
       "   seconds: 1698049660\n",
       "   nanos: 961070000\n",
       " }\n",
       " modified_at {\n",
       "   seconds: 1698049664\n",
       "   nanos: 89517000\n",
       " }\n",
       " status {\n",
       "   code: INPUT_DOWNLOAD_SUCCESS\n",
       "   description: \"Download complete\"\n",
       " },\n",
       " id: \"c1\"\n",
       " data {\n",
       "   image {\n",
       "     url: \"https://data.clarifai.com/orig/users/mansi_k/apps/databricks_tester_img/inputs/image/4137614e89b636f6afaf749bf7dcea6f\"\n",
       "     hosted {\n",
       "       prefix: \"https://data.clarifai.com\"\n",
       "       suffix: \"users/mansi_k/apps/databricks_tester_img/inputs/image/4137614e89b636f6afaf749bf7dcea6f\"\n",
       "       sizes: \"orig\"\n",
       "       sizes: \"tiny\"\n",
       "       sizes: \"small\"\n",
       "       sizes: \"large\"\n",
       "       crossorigin: \"use-credentials\"\n",
       "     }\n",
       "     image_info {\n",
       "       width: 736\n",
       "       height: 566\n",
       "       format: \"JPEG\"\n",
       "       color_mode: \"YUV\"\n",
       "     }\n",
       "   }\n",
       "   concepts {\n",
       "     id: \"id-cat\"\n",
       "     name: \"cat\"\n",
       "     value: 1\n",
       "     app_id: \"databricks_tester_img\"\n",
       "   }\n",
       " }\n",
       " created_at {\n",
       "   seconds: 1698049660\n",
       "   nanos: 961070000\n",
       " }\n",
       " modified_at {\n",
       "   seconds: 1698049664\n",
       "   nanos: 89517000\n",
       " }\n",
       " status {\n",
       "   code: INPUT_DOWNLOAD_SUCCESS\n",
       "   description: \"Download complete\"\n",
       " },\n",
       " id: \"c11\"\n",
       " data {\n",
       "   image {\n",
       "     url: \"https://data.clarifai.com/orig/users/mansi_k/apps/databricks_tester_img/inputs/image/009e353544134aa65d29c20fa2922e63\"\n",
       "     hosted {\n",
       "       prefix: \"https://data.clarifai.com\"\n",
       "       suffix: \"users/mansi_k/apps/databricks_tester_img/inputs/image/009e353544134aa65d29c20fa2922e63\"\n",
       "       sizes: \"orig\"\n",
       "       sizes: \"tiny\"\n",
       "       sizes: \"small\"\n",
       "       sizes: \"large\"\n",
       "       crossorigin: \"use-credentials\"\n",
       "     }\n",
       "     image_info {\n",
       "       width: 1200\n",
       "       height: 1200\n",
       "       format: \"JPEG\"\n",
       "       color_mode: \"YUV\"\n",
       "     }\n",
       "   }\n",
       "   concepts {\n",
       "     id: \"id-cat\"\n",
       "     name: \"cat\"\n",
       "     value: 1\n",
       "     app_id: \"databricks_tester_img\"\n",
       "   }\n",
       " }\n",
       " created_at {\n",
       "   seconds: 1698049660\n",
       "   nanos: 961070000\n",
       " }\n",
       " modified_at {\n",
       "   seconds: 1698049664\n",
       "   nanos: 89517000\n",
       " }\n",
       " status {\n",
       "   code: INPUT_DOWNLOAD_SUCCESS\n",
       "   description: \"Download complete\"\n",
       " },\n",
       " id: \"c2\"\n",
       " data {\n",
       "   image {\n",
       "     url: \"https://data.clarifai.com/orig/users/mansi_k/apps/databricks_tester_img/inputs/image/6e2a3ada6f10f0b4eb2f1e851b930c1b\"\n",
       "     hosted {\n",
       "       prefix: \"https://data.clarifai.com\"\n",
       "       suffix: \"users/mansi_k/apps/databricks_tester_img/inputs/image/6e2a3ada6f10f0b4eb2f1e851b930c1b\"\n",
       "       sizes: \"orig\"\n",
       "       sizes: \"tiny\"\n",
       "       sizes: \"small\"\n",
       "       sizes: \"large\"\n",
       "       crossorigin: \"use-credentials\"\n",
       "     }\n",
       "     image_info {\n",
       "       width: 1500\n",
       "       height: 1000\n",
       "       format: \"JPEG\"\n",
       "       color_mode: \"YUV\"\n",
       "     }\n",
       "   }\n",
       "   concepts {\n",
       "     id: \"id-cat\"\n",
       "     name: \"cat\"\n",
       "     value: 1\n",
       "     app_id: \"databricks_tester_img\"\n",
       "   }\n",
       " }\n",
       " created_at {\n",
       "   seconds: 1698049660\n",
       "   nanos: 961070000\n",
       " }\n",
       " modified_at {\n",
       "   seconds: 1698049664\n",
       "   nanos: 89517000\n",
       " }\n",
       " status {\n",
       "   code: INPUT_DOWNLOAD_SUCCESS\n",
       "   description: \"Download complete\"\n",
       " },\n",
       " id: \"c4\"\n",
       " data {\n",
       "   image {\n",
       "     url: \"https://data.clarifai.com/orig/users/mansi_k/apps/databricks_tester_img/inputs/image/55889a69788a8ff9a4aab1e457f7420f\"\n",
       "     hosted {\n",
       "       prefix: \"https://data.clarifai.com\"\n",
       "       suffix: \"users/mansi_k/apps/databricks_tester_img/inputs/image/55889a69788a8ff9a4aab1e457f7420f\"\n",
       "       sizes: \"orig\"\n",
       "       sizes: \"tiny\"\n",
       "       sizes: \"small\"\n",
       "       sizes: \"large\"\n",
       "       crossorigin: \"use-credentials\"\n",
       "     }\n",
       "     image_info {\n",
       "       width: 1600\n",
       "       height: 1435\n",
       "       format: \"WebP\"\n",
       "       color_mode: \"YUV\"\n",
       "     }\n",
       "   }\n",
       "   concepts {\n",
       "     id: \"id-cat\"\n",
       "     name: \"cat\"\n",
       "     value: 1\n",
       "     app_id: \"databricks_tester_img\"\n",
       "   }\n",
       " }\n",
       " created_at {\n",
       "   seconds: 1698049660\n",
       "   nanos: 961070000\n",
       " }\n",
       " modified_at {\n",
       "   seconds: 1698049664\n",
       "   nanos: 89517000\n",
       " }\n",
       " status {\n",
       "   code: INPUT_DOWNLOAD_SUCCESS\n",
       "   description: \"Download complete\"\n",
       " },\n",
       " id: \"c5\"\n",
       " data {\n",
       "   image {\n",
       "     url: \"https://data.clarifai.com/orig/users/mansi_k/apps/databricks_tester_img/inputs/image/e91483b17642cc4540cfb97afad3196b\"\n",
       "     hosted {\n",
       "       prefix: \"https://data.clarifai.com\"\n",
       "       suffix: \"users/mansi_k/apps/databricks_tester_img/inputs/image/e91483b17642cc4540cfb97afad3196b\"\n",
       "       sizes: \"orig\"\n",
       "       sizes: \"tiny\"\n",
       "       sizes: \"small\"\n",
       "       sizes: \"large\"\n",
       "       crossorigin: \"use-credentials\"\n",
       "     }\n",
       "     image_info {\n",
       "       width: 500\n",
       "       height: 473\n",
       "       format: \"JPEG\"\n",
       "       color_mode: \"YUV\"\n",
       "     }\n",
       "   }\n",
       "   concepts {\n",
       "     id: \"id-cat\"\n",
       "     name: \"cat\"\n",
       "     value: 1\n",
       "     app_id: \"databricks_tester_img\"\n",
       "   }\n",
       " }\n",
       " created_at {\n",
       "   seconds: 1698049660\n",
       "   nanos: 961070000\n",
       " }\n",
       " modified_at {\n",
       "   seconds: 1698049664\n",
       "   nanos: 89517000\n",
       " }\n",
       " status {\n",
       "   code: INPUT_DOWNLOAD_SUCCESS\n",
       "   description: \"Download complete\"\n",
       " }]"
      ]
     },
     "execution_count": 20,
     "metadata": {},
     "output_type": "execute_result"
    }
   ],
   "source": [
    "my_inputs = list(dataset_obj.list_inputs())\n",
    "my_inputs"
   ]
  },
  {
   "cell_type": "markdown",
   "metadata": {
    "application/vnd.databricks.v1+cell": {
     "cellMetadata": {},
     "inputWidgets": {},
     "nuid": "76a4ffe7-3a47-42ad-84db-1126aacd9cb1",
     "showTitle": false,
     "title": ""
    }
   },
   "source": [
    "### Upload images from volume folder to Clarifai dataset"
   ]
  },
  {
   "cell_type": "code",
   "execution_count": null,
   "metadata": {
    "application/vnd.databricks.v1+cell": {
     "cellMetadata": {
      "byteLimit": 2048000,
      "rowLimit": 10000
     },
     "inputWidgets": {},
     "nuid": "d15b3001-8b49-498b-b7c3-60d775047671",
     "showTitle": false,
     "title": ""
    }
   },
   "outputs": [
    {
     "data": {
      "text/html": [
       "<pre style=\"white-space:pre;overflow-x:auto;line-height:normal;font-family:Menlo,'DejaVu Sans Mono',consolas,'Courier New',monospace\"><span style=\"color: #7fbfbf; text-decoration-color: #7fbfbf\">2023-10-23 08:27:37 </span><span style=\"color: #000080; text-decoration-color: #000080\">INFO    </span> INFO:py4j.clientserver:Received command c on object id p0          <a href=\"file:///databricks/spark/python/lib/py4j-0.10.9.7-src.zip/py4j/clientserver.py\" target=\"_blank\"><span style=\"color: #7f7f7f; text-decoration-color: #7f7f7f\">clientserver.py</span></a><span style=\"color: #7f7f7f; text-decoration-color: #7f7f7f\">:</span><a href=\"file:///databricks/spark/python/lib/py4j-0.10.9.7-src.zip/py4j/clientserver.py#575\" target=\"_blank\"><span style=\"color: #7f7f7f; text-decoration-color: #7f7f7f\">575</span></a>\n",
       "</pre>\n"
      ],
      "text/plain": [
       "\u001b[2;36m2023-10-23 08:27:37\u001b[0m\u001b[2;36m \u001b[0m\u001b[34mINFO    \u001b[0m INFO:py4j.clientserver:Received command c on object id p0          \u001b]8;id=55296;file:///databricks/spark/python/lib/py4j-0.10.9.7-src.zip/py4j/clientserver.py\u001b\\\u001b[2mclientserver.py\u001b[0m\u001b]8;;\u001b\\\u001b[2m:\u001b[0m\u001b]8;id=786623;file:///databricks/spark/python/lib/py4j-0.10.9.7-src.zip/py4j/clientserver.py#575\u001b\\\u001b[2m575\u001b[0m\u001b]8;;\u001b\\\n"
      ]
     },
     "metadata": {},
     "output_type": "display_data"
    },
    {
     "name": "stderr",
     "output_type": "stream",
     "text": [
      "\rUploading inputs:   0%|          | 0/1 [00:00<?, ?it/s]\rUploading inputs: 100%|██████████| 1/1 [00:05<00:00,  5.36s/it]\rUploading inputs: 100%|██████████| 1/1 [00:05<00:00,  5.36s/it]\n"
     ]
    }
   ],
   "source": [
    "dataset_obj.upload_dataset_from_folder(folder_path='/Volumes/mansi_test/default/cat', input_type='image', labels=True)"
   ]
  },
  {
   "cell_type": "markdown",
   "metadata": {
    "application/vnd.databricks.v1+cell": {
     "cellMetadata": {},
     "inputWidgets": {},
     "nuid": "522a228a-52dd-417e-b02c-fa896e7833ad",
     "showTitle": false,
     "title": ""
    }
   },
   "source": [
    "### Export image annotations to spark dataframe"
   ]
  },
  {
   "cell_type": "code",
   "execution_count": null,
   "metadata": {
    "application/vnd.databricks.v1+cell": {
     "cellMetadata": {
      "byteLimit": 2048000,
      "rowLimit": 10000
     },
     "inputWidgets": {},
     "nuid": "d61eedc2-2488-499a-a367-a943bc692062",
     "showTitle": false,
     "title": ""
    }
   },
   "outputs": [
    {
     "data": {
      "text/html": [
       "<pre style=\"white-space:pre;overflow-x:auto;line-height:normal;font-family:Menlo,'DejaVu Sans Mono',consolas,'Courier New',monospace\"><span style=\"color: #7fbfbf; text-decoration-color: #7fbfbf\">2023-10-23 08:30:22 </span><span style=\"color: #000080; text-decoration-color: #000080\">INFO    </span> INFO:py4j.clientserver:Received command c on object id p0          <a href=\"file:///databricks/spark/python/lib/py4j-0.10.9.7-src.zip/py4j/clientserver.py\" target=\"_blank\"><span style=\"color: #7f7f7f; text-decoration-color: #7f7f7f\">clientserver.py</span></a><span style=\"color: #7f7f7f; text-decoration-color: #7f7f7f\">:</span><a href=\"file:///databricks/spark/python/lib/py4j-0.10.9.7-src.zip/py4j/clientserver.py#575\" target=\"_blank\"><span style=\"color: #7f7f7f; text-decoration-color: #7f7f7f\">575</span></a>\n",
       "</pre>\n"
      ],
      "text/plain": [
       "\u001b[2;36m2023-10-23 08:30:22\u001b[0m\u001b[2;36m \u001b[0m\u001b[34mINFO    \u001b[0m INFO:py4j.clientserver:Received command c on object id p0          \u001b]8;id=777205;file:///databricks/spark/python/lib/py4j-0.10.9.7-src.zip/py4j/clientserver.py\u001b\\\u001b[2mclientserver.py\u001b[0m\u001b]8;;\u001b\\\u001b[2m:\u001b[0m\u001b]8;id=86519;file:///databricks/spark/python/lib/py4j-0.10.9.7-src.zip/py4j/clientserver.py#575\u001b\\\u001b[2m575\u001b[0m\u001b]8;;\u001b\\\n"
      ]
     },
     "metadata": {},
     "output_type": "display_data"
    },
    {
     "data": {
      "text/plain": [
       "DataFrame[annotation: map<string,array<map<string,string>>>, created_at: string, id: string, input_id: string, modified_at: string, user_id: string]"
      ]
     },
     "execution_count": 42,
     "metadata": {},
     "output_type": "execute_result"
    }
   ],
   "source": [
    "annot_df = dataset_obj.export_annotations_to_dataframe()\n",
    "annot_df"
   ]
  },
  {
   "cell_type": "markdown",
   "metadata": {
    "application/vnd.databricks.v1+cell": {
     "cellMetadata": {},
     "inputWidgets": {},
     "nuid": "228872b2-c1d2-4058-a92c-f81b23d48b47",
     "showTitle": false,
     "title": ""
    }
   },
   "source": [
    "### Write annotations dataframe to volume as delta table"
   ]
  },
  {
   "cell_type": "code",
   "execution_count": null,
   "metadata": {
    "application/vnd.databricks.v1+cell": {
     "cellMetadata": {
      "byteLimit": 2048000,
      "rowLimit": 10000
     },
     "inputWidgets": {},
     "nuid": "60b3f2dc-3e02-41ce-b0bd-1eedb7db176a",
     "showTitle": false,
     "title": ""
    }
   },
   "outputs": [
    {
     "data": {
      "text/html": [
       "<pre style=\"white-space:pre;overflow-x:auto;line-height:normal;font-family:Menlo,'DejaVu Sans Mono',consolas,'Courier New',monospace\"><span style=\"color: #7fbfbf; text-decoration-color: #7fbfbf\">2023-10-23 08:30:51 </span><span style=\"color: #000080; text-decoration-color: #000080\">INFO    </span> INFO:py4j.clientserver:Received command c on object id p0          <a href=\"file:///databricks/spark/python/lib/py4j-0.10.9.7-src.zip/py4j/clientserver.py\" target=\"_blank\"><span style=\"color: #7f7f7f; text-decoration-color: #7f7f7f\">clientserver.py</span></a><span style=\"color: #7f7f7f; text-decoration-color: #7f7f7f\">:</span><a href=\"file:///databricks/spark/python/lib/py4j-0.10.9.7-src.zip/py4j/clientserver.py#575\" target=\"_blank\"><span style=\"color: #7f7f7f; text-decoration-color: #7f7f7f\">575</span></a>\n",
       "</pre>\n"
      ],
      "text/plain": [
       "\u001b[2;36m2023-10-23 08:30:51\u001b[0m\u001b[2;36m \u001b[0m\u001b[34mINFO    \u001b[0m INFO:py4j.clientserver:Received command c on object id p0          \u001b]8;id=660796;file:///databricks/spark/python/lib/py4j-0.10.9.7-src.zip/py4j/clientserver.py\u001b\\\u001b[2mclientserver.py\u001b[0m\u001b]8;;\u001b\\\u001b[2m:\u001b[0m\u001b]8;id=177253;file:///databricks/spark/python/lib/py4j-0.10.9.7-src.zip/py4j/clientserver.py#575\u001b\\\u001b[2m575\u001b[0m\u001b]8;;\u001b\\\n"
      ]
     },
     "metadata": {},
     "output_type": "display_data"
    }
   ],
   "source": [
    "annot_df.write.format(\"delta\").mode(\"overwrite\").save(\"/Volumes/mansi_test/default/test_vol1/imgAnnsDeltaTable1\") \n"
   ]
  },
  {
   "cell_type": "markdown",
   "metadata": {
    "application/vnd.databricks.v1+cell": {
     "cellMetadata": {},
     "inputWidgets": {},
     "nuid": "d938ddb1-ae12-44df-92b2-cceeb19b24e7",
     "showTitle": false,
     "title": ""
    }
   },
   "source": [
    "### Load annotations delta table from volume"
   ]
  },
  {
   "cell_type": "code",
   "execution_count": null,
   "metadata": {
    "application/vnd.databricks.v1+cell": {
     "cellMetadata": {
      "byteLimit": 2048000,
      "rowLimit": 10000
     },
     "inputWidgets": {},
     "nuid": "ec9866be-484d-4e26-9e2d-eaf93243e9bb",
     "showTitle": false,
     "title": ""
    }
   },
   "outputs": [
    {
     "data": {
      "text/html": [
       "<pre style=\"white-space:pre;overflow-x:auto;line-height:normal;font-family:Menlo,'DejaVu Sans Mono',consolas,'Courier New',monospace\"><span style=\"color: #7fbfbf; text-decoration-color: #7fbfbf\">2023-10-23 08:31:11 </span><span style=\"color: #000080; text-decoration-color: #000080\">INFO    </span> INFO:py4j.clientserver:Received command c on object id p0          <a href=\"file:///databricks/spark/python/lib/py4j-0.10.9.7-src.zip/py4j/clientserver.py\" target=\"_blank\"><span style=\"color: #7f7f7f; text-decoration-color: #7f7f7f\">clientserver.py</span></a><span style=\"color: #7f7f7f; text-decoration-color: #7f7f7f\">:</span><a href=\"file:///databricks/spark/python/lib/py4j-0.10.9.7-src.zip/py4j/clientserver.py#575\" target=\"_blank\"><span style=\"color: #7f7f7f; text-decoration-color: #7f7f7f\">575</span></a>\n",
       "</pre>\n"
      ],
      "text/plain": [
       "\u001b[2;36m2023-10-23 08:31:11\u001b[0m\u001b[2;36m \u001b[0m\u001b[34mINFO    \u001b[0m INFO:py4j.clientserver:Received command c on object id p0          \u001b]8;id=857207;file:///databricks/spark/python/lib/py4j-0.10.9.7-src.zip/py4j/clientserver.py\u001b\\\u001b[2mclientserver.py\u001b[0m\u001b]8;;\u001b\\\u001b[2m:\u001b[0m\u001b]8;id=734426;file:///databricks/spark/python/lib/py4j-0.10.9.7-src.zip/py4j/clientserver.py#575\u001b\\\u001b[2m575\u001b[0m\u001b]8;;\u001b\\\n"
      ]
     },
     "metadata": {},
     "output_type": "display_data"
    },
    {
     "name": "stdout",
     "output_type": "stream",
     "text": [
      "+--------------------+-------------------+--------------------+--------+-------------------+-------+\n",
      "|          annotation|         created_at|                  id|input_id|        modified_at|user_id|\n",
      "+--------------------+-------------------+--------------------+--------+-------------------+-------+\n",
      "|{concepts -> [{na...|10/23/% 08:27:   %5|da7eb3483a654a42a...|      c5|10/23/% 08:27:   %5|mansi_k|\n",
      "|{concepts -> [{na...|10/23/% 08:27:   %5|f65d75b3446b40ffa...|     c11|10/23/% 08:27:   %5|mansi_k|\n",
      "|{concepts -> [{na...|10/23/% 08:27:   %5|8fd99dc05eef46849...|      c1|10/23/% 08:27:   %5|mansi_k|\n",
      "|{concepts -> [{na...|10/23/% 08:27:   %5|9426763104ea42fbb...|      c7|10/23/% 08:27:   %5|mansi_k|\n",
      "|{concepts -> [{na...|10/23/% 08:27:   %5|d93bb8387f6743b8a...|      c8|10/23/% 08:27:   %5|mansi_k|\n",
      "|{concepts -> [{na...|10/23/% 08:27:   %5|aed44152eaad4fbcb...|      c6|10/23/% 08:27:   %5|mansi_k|\n",
      "|{concepts -> [{na...|10/23/% 08:27:   %5|b3847d13486f4f118...|      c2|10/23/% 08:27:   %5|mansi_k|\n",
      "|{concepts -> [{na...|10/23/% 08:27:   %5|4ec53920e7e34e569...|      c3|10/23/% 08:27:   %5|mansi_k|\n",
      "|{concepts -> [{na...|10/23/% 08:27:   %5|5bfb8934035c4b688...|      c9|10/23/% 08:27:   %5|mansi_k|\n",
      "|{concepts -> [{na...|10/23/% 08:27:   %5|0a28d0a6b7a04234b...|     c10|10/23/% 08:27:   %5|mansi_k|\n",
      "|{concepts -> [{na...|10/23/% 08:27:   %5|1699d2351f7e42afa...|      c4|10/23/% 08:27:   %5|mansi_k|\n",
      "+--------------------+-------------------+--------------------+--------+-------------------+-------+\n",
      "\n"
     ]
    }
   ],
   "source": [
    "df_delta = spark.read.format(\"delta\").load(\"/Volumes/mansi_test/default/test_vol1/imgAnnsDeltaTable1\")\n",
    "df_delta.show()"
   ]
  },
  {
   "cell_type": "markdown",
   "metadata": {
    "application/vnd.databricks.v1+cell": {
     "cellMetadata": {},
     "inputWidgets": {},
     "nuid": "ab6dfc75-d4e7-4541-bc3a-6863a8561882",
     "showTitle": false,
     "title": ""
    }
   },
   "source": [
    "### Loop through delta table rows & columns"
   ]
  },
  {
   "cell_type": "code",
   "execution_count": null,
   "metadata": {
    "application/vnd.databricks.v1+cell": {
     "cellMetadata": {
      "byteLimit": 2048000,
      "rowLimit": 10000
     },
     "inputWidgets": {},
     "nuid": "b46930f4-b3a8-4491-b134-089cd3c9155a",
     "showTitle": false,
     "title": ""
    }
   },
   "outputs": [
    {
     "data": {
      "text/html": [
       "<pre style=\"white-space:pre;overflow-x:auto;line-height:normal;font-family:Menlo,'DejaVu Sans Mono',consolas,'Courier New',monospace\"><span style=\"color: #7fbfbf; text-decoration-color: #7fbfbf\">2023-10-23 08:31:26 </span><span style=\"color: #000080; text-decoration-color: #000080\">INFO    </span> INFO:py4j.clientserver:Received command c on object id p0          <a href=\"file:///databricks/spark/python/lib/py4j-0.10.9.7-src.zip/py4j/clientserver.py\" target=\"_blank\"><span style=\"color: #7f7f7f; text-decoration-color: #7f7f7f\">clientserver.py</span></a><span style=\"color: #7f7f7f; text-decoration-color: #7f7f7f\">:</span><a href=\"file:///databricks/spark/python/lib/py4j-0.10.9.7-src.zip/py4j/clientserver.py#575\" target=\"_blank\"><span style=\"color: #7f7f7f; text-decoration-color: #7f7f7f\">575</span></a>\n",
       "</pre>\n"
      ],
      "text/plain": [
       "\u001b[2;36m2023-10-23 08:31:26\u001b[0m\u001b[2;36m \u001b[0m\u001b[34mINFO    \u001b[0m INFO:py4j.clientserver:Received command c on object id p0          \u001b]8;id=698390;file:///databricks/spark/python/lib/py4j-0.10.9.7-src.zip/py4j/clientserver.py\u001b\\\u001b[2mclientserver.py\u001b[0m\u001b]8;;\u001b\\\u001b[2m:\u001b[0m\u001b]8;id=992550;file:///databricks/spark/python/lib/py4j-0.10.9.7-src.zip/py4j/clientserver.py#575\u001b\\\u001b[2m575\u001b[0m\u001b]8;;\u001b\\\n"
      ]
     },
     "metadata": {},
     "output_type": "display_data"
    },
    {
     "name": "stdout",
     "output_type": "stream",
     "text": [
      "da7eb3483a654a42ace1ebac76a69fdc\n",
      "c5\n",
      "mansi_k\n",
      "10/23/% 08:27:   %5\n",
      "c5\n",
      "{'concepts': [{'name': 'cat', 'id': 'id-cat', 'value': '1.0', 'appId': 'databricks_tester_img'}]}\n",
      "########################\n",
      "\n",
      "f65d75b3446b40ffa012735a31dcbb62\n",
      "c11\n",
      "mansi_k\n",
      "10/23/% 08:27:   %5\n",
      "c11\n",
      "{'concepts': [{'name': 'cat', 'id': 'id-cat', 'value': '1.0', 'appId': 'databricks_tester_img'}]}\n",
      "########################\n",
      "\n",
      "8fd99dc05eef468492623153531700c9\n",
      "c1\n",
      "mansi_k\n",
      "10/23/% 08:27:   %5\n",
      "c1\n",
      "{'concepts': [{'name': 'cat', 'id': 'id-cat', 'value': '1.0', 'appId': 'databricks_tester_img'}]}\n",
      "########################\n",
      "\n",
      "9426763104ea42fbb44ff73677fd3806\n",
      "c7\n",
      "mansi_k\n",
      "10/23/% 08:27:   %5\n",
      "c7\n",
      "{'concepts': [{'name': 'cat', 'id': 'id-cat', 'value': '1.0', 'appId': 'databricks_tester_img'}]}\n",
      "########################\n",
      "\n"
     ]
    }
   ],
   "source": [
    "for row in df_delta.collect()[:4]:\n",
    "    print(row['id'])\n",
    "    print(row['input_id'])\n",
    "    print(row['user_id'])\n",
    "    print(row['created_at'])\n",
    "    print(row['input_id'])\n",
    "    print(row['annotation'])\n",
    "    print(\"########################\\n\")"
   ]
  },
  {
   "cell_type": "markdown",
   "metadata": {
    "application/vnd.databricks.v1+cell": {
     "cellMetadata": {},
     "inputWidgets": {},
     "nuid": "9b869a1a-2b07-4ce5-ba12-2b4481fc3803",
     "showTitle": false,
     "title": ""
    }
   },
   "source": [
    "### Testing export_images_to_volume()"
   ]
  },
  {
   "cell_type": "code",
   "execution_count": null,
   "metadata": {
    "application/vnd.databricks.v1+cell": {
     "cellMetadata": {
      "byteLimit": 2048000,
      "rowLimit": 10000
     },
     "inputWidgets": {},
     "nuid": "a7825f27-d719-4a6c-8e7d-6234444865f9",
     "showTitle": false,
     "title": ""
    }
   },
   "outputs": [
    {
     "data": {
      "text/html": [
       "<pre style=\"white-space:pre;overflow-x:auto;line-height:normal;font-family:Menlo,'DejaVu Sans Mono',consolas,'Courier New',monospace\"><span style=\"color: #7fbfbf; text-decoration-color: #7fbfbf\">2023-10-23 08:31:44 </span><span style=\"color: #000080; text-decoration-color: #000080\">INFO    </span> INFO:py4j.clientserver:Received command c on object id p0          <a href=\"file:///databricks/spark/python/lib/py4j-0.10.9.7-src.zip/py4j/clientserver.py\" target=\"_blank\"><span style=\"color: #7f7f7f; text-decoration-color: #7f7f7f\">clientserver.py</span></a><span style=\"color: #7f7f7f; text-decoration-color: #7f7f7f\">:</span><a href=\"file:///databricks/spark/python/lib/py4j-0.10.9.7-src.zip/py4j/clientserver.py#575\" target=\"_blank\"><span style=\"color: #7f7f7f; text-decoration-color: #7f7f7f\">575</span></a>\n",
       "</pre>\n"
      ],
      "text/plain": [
       "\u001b[2;36m2023-10-23 08:31:44\u001b[0m\u001b[2;36m \u001b[0m\u001b[34mINFO    \u001b[0m INFO:py4j.clientserver:Received command c on object id p0          \u001b]8;id=244234;file:///databricks/spark/python/lib/py4j-0.10.9.7-src.zip/py4j/clientserver.py\u001b\\\u001b[2mclientserver.py\u001b[0m\u001b]8;;\u001b\\\u001b[2m:\u001b[0m\u001b]8;id=125648;file:///databricks/spark/python/lib/py4j-0.10.9.7-src.zip/py4j/clientserver.py#575\u001b\\\u001b[2m575\u001b[0m\u001b]8;;\u001b\\\n"
      ]
     },
     "metadata": {},
     "output_type": "display_data"
    }
   ],
   "source": [
    "dataset_obj.export_images_to_volume(path=\"/Volumes/mansi_test/default/test_vol1\", input_response=my_inputs[:5])"
   ]
  },
  {
   "cell_type": "markdown",
   "metadata": {
    "application/vnd.databricks.v1+cell": {
     "cellMetadata": {},
     "inputWidgets": {},
     "nuid": "ec8d8448-bfb3-48b8-87a4-430ea1555985",
     "showTitle": false,
     "title": ""
    }
   },
   "source": [
    "### Load image csv file & upload text data into app using dataframe"
   ]
  },
  {
   "cell_type": "code",
   "execution_count": null,
   "metadata": {
    "application/vnd.databricks.v1+cell": {
     "cellMetadata": {
      "byteLimit": 2048000,
      "rowLimit": 10000
     },
     "inputWidgets": {},
     "nuid": "0db5727d-fdcc-49f2-9197-315671da3804",
     "showTitle": false,
     "title": ""
    }
   },
   "outputs": [
    {
     "data": {
      "text/html": [
       "<pre style=\"white-space:pre;overflow-x:auto;line-height:normal;font-family:Menlo,'DejaVu Sans Mono',consolas,'Courier New',monospace\"><span style=\"color: #7fbfbf; text-decoration-color: #7fbfbf\">2023-10-23 09:02:37 </span><span style=\"color: #000080; text-decoration-color: #000080\">INFO    </span> INFO:py4j.clientserver:Received command c on object id p0          <a href=\"file:///databricks/spark/python/lib/py4j-0.10.9.7-src.zip/py4j/clientserver.py\" target=\"_blank\"><span style=\"color: #7f7f7f; text-decoration-color: #7f7f7f\">clientserver.py</span></a><span style=\"color: #7f7f7f; text-decoration-color: #7f7f7f\">:</span><a href=\"file:///databricks/spark/python/lib/py4j-0.10.9.7-src.zip/py4j/clientserver.py#575\" target=\"_blank\"><span style=\"color: #7f7f7f; text-decoration-color: #7f7f7f\">575</span></a>\n",
       "</pre>\n"
      ],
      "text/plain": [
       "\u001b[2;36m2023-10-23 09:02:37\u001b[0m\u001b[2;36m \u001b[0m\u001b[34mINFO    \u001b[0m INFO:py4j.clientserver:Received command c on object id p0          \u001b]8;id=783896;file:///databricks/spark/python/lib/py4j-0.10.9.7-src.zip/py4j/clientserver.py\u001b\\\u001b[2mclientserver.py\u001b[0m\u001b]8;;\u001b\\\u001b[2m:\u001b[0m\u001b]8;id=96789;file:///databricks/spark/python/lib/py4j-0.10.9.7-src.zip/py4j/clientserver.py#575\u001b\\\u001b[2m575\u001b[0m\u001b]8;;\u001b\\\n"
      ]
     },
     "metadata": {},
     "output_type": "display_data"
    },
    {
     "name": "stdout",
     "output_type": "stream",
     "text": [
      "+-------+--------------------+--------+\n",
      "|inputid|               input|concepts|\n",
      "+-------+--------------------+--------+\n",
      "|  img11|https://img.freep...|     dog|\n",
      "|  img21|https://images.un...|    duck|\n",
      "|  img31|https://mymodernm...|    duck|\n",
      "+-------+--------------------+--------+\n",
      "\n"
     ]
    }
   ],
   "source": [
    "spark = SparkSession.builder.appName(\"Clarifai-spark\").getOrCreate()\n",
    "df = spark.read.option(\"header\",True).csv(\"/Volumes/mansi_test/default/test_vol1/img_data2.csv\")\n",
    "df.show()"
   ]
  },
  {
   "cell_type": "code",
   "execution_count": null,
   "metadata": {
    "application/vnd.databricks.v1+cell": {
     "cellMetadata": {
      "byteLimit": 2048000,
      "rowLimit": 10000
     },
     "inputWidgets": {},
     "nuid": "ea2f83f5-2609-4343-9624-d4664b30e686",
     "showTitle": false,
     "title": ""
    }
   },
   "outputs": [
    {
     "data": {
      "text/html": [
       "<pre style=\"white-space:pre;overflow-x:auto;line-height:normal;font-family:Menlo,'DejaVu Sans Mono',consolas,'Courier New',monospace\"><span style=\"color: #7fbfbf; text-decoration-color: #7fbfbf\">2023-10-23 09:02:44 </span><span style=\"color: #000080; text-decoration-color: #000080\">INFO    </span> INFO:py4j.clientserver:Received command c on object id p0          <a href=\"file:///databricks/spark/python/lib/py4j-0.10.9.7-src.zip/py4j/clientserver.py\" target=\"_blank\"><span style=\"color: #7f7f7f; text-decoration-color: #7f7f7f\">clientserver.py</span></a><span style=\"color: #7f7f7f; text-decoration-color: #7f7f7f\">:</span><a href=\"file:///databricks/spark/python/lib/py4j-0.10.9.7-src.zip/py4j/clientserver.py#575\" target=\"_blank\"><span style=\"color: #7f7f7f; text-decoration-color: #7f7f7f\">575</span></a>\n",
       "</pre>\n"
      ],
      "text/plain": [
       "\u001b[2;36m2023-10-23 09:02:44\u001b[0m\u001b[2;36m \u001b[0m\u001b[34mINFO    \u001b[0m INFO:py4j.clientserver:Received command c on object id p0          \u001b]8;id=315145;file:///databricks/spark/python/lib/py4j-0.10.9.7-src.zip/py4j/clientserver.py\u001b\\\u001b[2mclientserver.py\u001b[0m\u001b]8;;\u001b\\\u001b[2m:\u001b[0m\u001b]8;id=593548;file:///databricks/spark/python/lib/py4j-0.10.9.7-src.zip/py4j/clientserver.py#575\u001b\\\u001b[2m575\u001b[0m\u001b]8;;\u001b\\\n"
      ]
     },
     "metadata": {},
     "output_type": "display_data"
    },
    {
     "name": "stderr",
     "output_type": "stream",
     "text": [
      "\rUploading inputs:   0%|          | 0/1 [00:00<?, ?it/s]"
     ]
    },
    {
     "data": {
      "text/html": [
       "<pre style=\"white-space:pre;overflow-x:auto;line-height:normal;font-family:Menlo,'DejaVu Sans Mono',consolas,'Courier New',monospace\"><span style=\"color: #7fbfbf; text-decoration-color: #7fbfbf\">2023-10-23 09:02:45 </span><span style=\"color: #800000; text-decoration-color: #800000\">WARNING </span> WARNING:clarifai.client.input:code: IN<span style=\"color: #808000; text-decoration-color: #808000; font-weight: bold\">PUT</span>_DUPLICATE                       <a href=\"file:///local_disk0/.ephemeral_nfs/envs/pythonEnv-07884fc6-4bdc-4cb9-bce0-6f0de44f7080/lib/python3.10/site-packages/clarifai/client/input.py\" target=\"_blank\"><span style=\"color: #7f7f7f; text-decoration-color: #7f7f7f\">input.py</span></a><span style=\"color: #7f7f7f; text-decoration-color: #7f7f7f\">:</span><a href=\"file:///local_disk0/.ephemeral_nfs/envs/pythonEnv-07884fc6-4bdc-4cb9-bce0-6f0de44f7080/lib/python3.10/site-packages/clarifai/client/input.py#631\" target=\"_blank\"><span style=\"color: #7f7f7f; text-decoration-color: #7f7f7f\">631</span></a>\n",
       "<span style=\"color: #7fbfbf; text-decoration-color: #7fbfbf\">                    </span>         description: <span style=\"color: #008000; text-decoration-color: #008000\">\"Duplicate URL in your application. Check the documentation </span> <span style=\"color: #7f7f7f; text-decoration-color: #7f7f7f\">            </span>\n",
       "<span style=\"color: #7fbfbf; text-decoration-color: #7fbfbf\">                    </span>         <span style=\"color: #008000; text-decoration-color: #008000\">to allow duplications.\"</span>                                                   <span style=\"color: #7f7f7f; text-decoration-color: #7f7f7f\">            </span>\n",
       "<span style=\"color: #7fbfbf; text-decoration-color: #7fbfbf\">                    </span>         details: <span style=\"color: #008000; text-decoration-color: #008000\">\"The input URL is duplicate.\"</span>                                    <span style=\"color: #7f7f7f; text-decoration-color: #7f7f7f\">            </span>\n",
       "<span style=\"color: #7fbfbf; text-decoration-color: #7fbfbf\">                    </span>                                                                                   <span style=\"color: #7f7f7f; text-decoration-color: #7f7f7f\">            </span>\n",
       "</pre>\n"
      ],
      "text/plain": [
       "\u001b[2;36m2023-10-23 09:02:45\u001b[0m\u001b[2;36m \u001b[0m\u001b[31mWARNING \u001b[0m WARNING:clarifai.client.input:code: IN\u001b[1;33mPUT\u001b[0m_DUPLICATE                       \u001b]8;id=742428;file:///local_disk0/.ephemeral_nfs/envs/pythonEnv-07884fc6-4bdc-4cb9-bce0-6f0de44f7080/lib/python3.10/site-packages/clarifai/client/input.py\u001b\\\u001b[2minput.py\u001b[0m\u001b]8;;\u001b\\\u001b[2m:\u001b[0m\u001b]8;id=293937;file:///local_disk0/.ephemeral_nfs/envs/pythonEnv-07884fc6-4bdc-4cb9-bce0-6f0de44f7080/lib/python3.10/site-packages/clarifai/client/input.py#631\u001b\\\u001b[2m631\u001b[0m\u001b]8;;\u001b\\\n",
       "\u001b[2;36m                    \u001b[0m         description: \u001b[32m\"Duplicate URL in your application. Check the documentation \u001b[0m \u001b[2m            \u001b[0m\n",
       "\u001b[2;36m                    \u001b[0m         \u001b[32mto allow duplications.\"\u001b[0m                                                   \u001b[2m            \u001b[0m\n",
       "\u001b[2;36m                    \u001b[0m         details: \u001b[32m\"The input URL is duplicate.\"\u001b[0m                                    \u001b[2m            \u001b[0m\n",
       "\u001b[2;36m                    \u001b[0m                                                                                   \u001b[2m            \u001b[0m\n"
      ]
     },
     "metadata": {},
     "output_type": "display_data"
    },
    {
     "name": "stderr",
     "output_type": "stream",
     "text": [
      "\rUploading inputs: 100%|██████████| 1/1 [00:00<00:00,  4.50it/s]\rUploading inputs: 100%|██████████| 1/1 [00:00<00:00,  4.48it/s]\n"
     ]
    }
   ],
   "source": [
    "dataset_obj.upload_dataset_from_dataframe(dataframe=df, input_type='image', df_type='url', labels=True)"
   ]
  },
  {
   "cell_type": "markdown",
   "metadata": {
    "application/vnd.databricks.v1+cell": {
     "cellMetadata": {},
     "inputWidgets": {},
     "nuid": "a1382140-4c49-4bbf-9e0c-9fcd860071e5",
     "showTitle": false,
     "title": ""
    }
   },
   "source": [
    "### Using a custom dataloader to upload images from Volume"
   ]
  },
  {
   "cell_type": "code",
   "execution_count": null,
   "metadata": {
    "application/vnd.databricks.v1+cell": {
     "cellMetadata": {
      "byteLimit": 2048000,
      "rowLimit": 10000
     },
     "inputWidgets": {},
     "nuid": "6a55c445-b69f-470c-af30-2a4cb1bafcba",
     "showTitle": false,
     "title": ""
    }
   },
   "outputs": [
    {
     "data": {
      "text/html": [
       "<pre style=\"white-space:pre;overflow-x:auto;line-height:normal;font-family:Menlo,'DejaVu Sans Mono',consolas,'Courier New',monospace\"><span style=\"color: #7fbfbf; text-decoration-color: #7fbfbf\">2023-10-23 09:06:51 </span><span style=\"color: #000080; text-decoration-color: #000080\">INFO    </span> INFO:py4j.clientserver:Received command c on object id p0          <a href=\"file:///databricks/spark/python/lib/py4j-0.10.9.7-src.zip/py4j/clientserver.py\" target=\"_blank\"><span style=\"color: #7f7f7f; text-decoration-color: #7f7f7f\">clientserver.py</span></a><span style=\"color: #7f7f7f; text-decoration-color: #7f7f7f\">:</span><a href=\"file:///databricks/spark/python/lib/py4j-0.10.9.7-src.zip/py4j/clientserver.py#575\" target=\"_blank\"><span style=\"color: #7f7f7f; text-decoration-color: #7f7f7f\">575</span></a>\n",
       "</pre>\n"
      ],
      "text/plain": [
       "\u001b[2;36m2023-10-23 09:06:51\u001b[0m\u001b[2;36m \u001b[0m\u001b[34mINFO    \u001b[0m INFO:py4j.clientserver:Received command c on object id p0          \u001b]8;id=977950;file:///databricks/spark/python/lib/py4j-0.10.9.7-src.zip/py4j/clientserver.py\u001b\\\u001b[2mclientserver.py\u001b[0m\u001b]8;;\u001b\\\u001b[2m:\u001b[0m\u001b]8;id=507837;file:///databricks/spark/python/lib/py4j-0.10.9.7-src.zip/py4j/clientserver.py#575\u001b\\\u001b[2m575\u001b[0m\u001b]8;;\u001b\\\n"
      ]
     },
     "metadata": {},
     "output_type": "display_data"
    },
    {
     "name": "stderr",
     "output_type": "stream",
     "text": [
      "\rUploading Dataset:   0%|          | 0/1 [00:00<?, ?it/s]\rUploading Dataset: 100%|██████████| 1/1 [00:02<00:00,  2.61s/it]\rUploading Dataset: 100%|██████████| 1/1 [00:02<00:00,  2.61s/it]\n"
     ]
    }
   ],
   "source": [
    "dataset_obj.upload_dataset_from_dataloader(task=\"visual-classification\", split=\"train\", module_dir=\"/Volumes/mansi_test/default/test_vol1/food-101\")"
   ]
  },
  {
   "cell_type": "markdown",
   "metadata": {
    "application/vnd.databricks.v1+cell": {
     "cellMetadata": {},
     "inputWidgets": {},
     "nuid": "bdb964fd-2203-4c83-9313-cce1c5adcbc6",
     "showTitle": false,
     "title": ""
    }
   },
   "source": [
    "### Creating ClarifaiPyspark object & creating/fetching text dataset from app"
   ]
  },
  {
   "cell_type": "code",
   "execution_count": null,
   "metadata": {
    "application/vnd.databricks.v1+cell": {
     "cellMetadata": {
      "byteLimit": 2048000,
      "rowLimit": 10000
     },
     "inputWidgets": {},
     "nuid": "3be66328-fbf5-4218-b4f7-971d03c67ead",
     "showTitle": false,
     "title": ""
    }
   },
   "outputs": [
    {
     "data": {
      "text/html": [
       "<pre style=\"white-space:pre;overflow-x:auto;line-height:normal;font-family:Menlo,'DejaVu Sans Mono',consolas,'Courier New',monospace\"><span style=\"color: #7fbfbf; text-decoration-color: #7fbfbf\">2023-10-23 08:33:36 </span><span style=\"color: #000080; text-decoration-color: #000080\">INFO    </span> INFO:py4j.clientserver:Received command c on object id p0          <a href=\"file:///databricks/spark/python/lib/py4j-0.10.9.7-src.zip/py4j/clientserver.py\" target=\"_blank\"><span style=\"color: #7f7f7f; text-decoration-color: #7f7f7f\">clientserver.py</span></a><span style=\"color: #7f7f7f; text-decoration-color: #7f7f7f\">:</span><a href=\"file:///databricks/spark/python/lib/py4j-0.10.9.7-src.zip/py4j/clientserver.py#575\" target=\"_blank\"><span style=\"color: #7f7f7f; text-decoration-color: #7f7f7f\">575</span></a>\n",
       "</pre>\n"
      ],
      "text/plain": [
       "\u001b[2;36m2023-10-23 08:33:36\u001b[0m\u001b[2;36m \u001b[0m\u001b[34mINFO    \u001b[0m INFO:py4j.clientserver:Received command c on object id p0          \u001b]8;id=643398;file:///databricks/spark/python/lib/py4j-0.10.9.7-src.zip/py4j/clientserver.py\u001b\\\u001b[2mclientserver.py\u001b[0m\u001b]8;;\u001b\\\u001b[2m:\u001b[0m\u001b]8;id=913909;file:///databricks/spark/python/lib/py4j-0.10.9.7-src.zip/py4j/clientserver.py#575\u001b\\\u001b[2m575\u001b[0m\u001b]8;;\u001b\\\n"
      ]
     },
     "metadata": {},
     "output_type": "display_data"
    },
    {
     "name": "stdout",
     "output_type": "stream",
     "text": [
      "Creating a new dataset\n"
     ]
    },
    {
     "data": {
      "text/html": [
       "<pre style=\"white-space:pre;overflow-x:auto;line-height:normal;font-family:Menlo,'DejaVu Sans Mono',consolas,'Courier New',monospace\"><span style=\"color: #7fbfbf; text-decoration-color: #7fbfbf\">                    </span><span style=\"color: #000080; text-decoration-color: #000080\">INFO    </span> INFO:clarifai.client.app:                                                   <a href=\"file:///local_disk0/.ephemeral_nfs/envs/pythonEnv-07884fc6-4bdc-4cb9-bce0-6f0de44f7080/lib/python3.10/site-packages/clarifai/client/app.py\" target=\"_blank\"><span style=\"color: #7f7f7f; text-decoration-color: #7f7f7f\">app.py</span></a><span style=\"color: #7f7f7f; text-decoration-color: #7f7f7f\">:</span><a href=\"file:///local_disk0/.ephemeral_nfs/envs/pythonEnv-07884fc6-4bdc-4cb9-bce0-6f0de44f7080/lib/python3.10/site-packages/clarifai/client/app.py#291\" target=\"_blank\"><span style=\"color: #7f7f7f; text-decoration-color: #7f7f7f\">291</span></a>\n",
       "<span style=\"color: #7fbfbf; text-decoration-color: #7fbfbf\">                    </span>         Dataset created                                                             <span style=\"color: #7f7f7f; text-decoration-color: #7f7f7f\">          </span>\n",
       "<span style=\"color: #7fbfbf; text-decoration-color: #7fbfbf\">                    </span>         code: SUCCESS                                                               <span style=\"color: #7f7f7f; text-decoration-color: #7f7f7f\">          </span>\n",
       "<span style=\"color: #7fbfbf; text-decoration-color: #7fbfbf\">                    </span>         description: <span style=\"color: #008000; text-decoration-color: #008000\">\"Ok\"</span>                                                           <span style=\"color: #7f7f7f; text-decoration-color: #7f7f7f\">          </span>\n",
       "<span style=\"color: #7fbfbf; text-decoration-color: #7fbfbf\">                    </span>         req_id: <span style=\"color: #008000; text-decoration-color: #008000\">\"ad013b11e5cf2894d78d3a5dfc368202\"</span>                                  <span style=\"color: #7f7f7f; text-decoration-color: #7f7f7f\">          </span>\n",
       "<span style=\"color: #7fbfbf; text-decoration-color: #7fbfbf\">                    </span>                                                                                     <span style=\"color: #7f7f7f; text-decoration-color: #7f7f7f\">          </span>\n",
       "</pre>\n"
      ],
      "text/plain": [
       "\u001b[2;36m                   \u001b[0m\u001b[2;36m \u001b[0m\u001b[34mINFO    \u001b[0m INFO:clarifai.client.app:                                                   \u001b]8;id=28864;file:///local_disk0/.ephemeral_nfs/envs/pythonEnv-07884fc6-4bdc-4cb9-bce0-6f0de44f7080/lib/python3.10/site-packages/clarifai/client/app.py\u001b\\\u001b[2mapp.py\u001b[0m\u001b]8;;\u001b\\\u001b[2m:\u001b[0m\u001b]8;id=868935;file:///local_disk0/.ephemeral_nfs/envs/pythonEnv-07884fc6-4bdc-4cb9-bce0-6f0de44f7080/lib/python3.10/site-packages/clarifai/client/app.py#291\u001b\\\u001b[2m291\u001b[0m\u001b]8;;\u001b\\\n",
       "\u001b[2;36m                    \u001b[0m         Dataset created                                                             \u001b[2m          \u001b[0m\n",
       "\u001b[2;36m                    \u001b[0m         code: SUCCESS                                                               \u001b[2m          \u001b[0m\n",
       "\u001b[2;36m                    \u001b[0m         description: \u001b[32m\"Ok\"\u001b[0m                                                           \u001b[2m          \u001b[0m\n",
       "\u001b[2;36m                    \u001b[0m         req_id: \u001b[32m\"ad013b11e5cf2894d78d3a5dfc368202\"\u001b[0m                                  \u001b[2m          \u001b[0m\n",
       "\u001b[2;36m                    \u001b[0m                                                                                     \u001b[2m          \u001b[0m\n"
      ]
     },
     "metadata": {},
     "output_type": "display_data"
    }
   ],
   "source": [
    "cspark_obj = ClarifaiPySpark(user_id='mansi_k', app_id='databricks_tester_txt')\n",
    "\n",
    "dataset_obj = cspark_obj.dataset(dataset_id='dataset1')"
   ]
  },
  {
   "cell_type": "markdown",
   "metadata": {
    "application/vnd.databricks.v1+cell": {
     "cellMetadata": {},
     "inputWidgets": {},
     "nuid": "5f12641b-c675-4e76-bbfd-30c3ca0592a5",
     "showTitle": false,
     "title": ""
    }
   },
   "source": [
    "### Fetching current inputs from text dataset"
   ]
  },
  {
   "cell_type": "code",
   "execution_count": null,
   "metadata": {
    "application/vnd.databricks.v1+cell": {
     "cellMetadata": {
      "byteLimit": 2048000,
      "rowLimit": 10000
     },
     "inputWidgets": {},
     "nuid": "301a1f0f-b1fa-4220-b8ee-02710876a414",
     "showTitle": false,
     "title": ""
    }
   },
   "outputs": [
    {
     "data": {
      "text/html": [
       "<pre style=\"white-space:pre;overflow-x:auto;line-height:normal;font-family:Menlo,'DejaVu Sans Mono',consolas,'Courier New',monospace\"><span style=\"color: #7fbfbf; text-decoration-color: #7fbfbf\">2023-10-23 08:34:24 </span><span style=\"color: #000080; text-decoration-color: #000080\">INFO    </span> INFO:py4j.clientserver:Received command c on object id p0          <a href=\"file:///databricks/spark/python/lib/py4j-0.10.9.7-src.zip/py4j/clientserver.py\" target=\"_blank\"><span style=\"color: #7f7f7f; text-decoration-color: #7f7f7f\">clientserver.py</span></a><span style=\"color: #7f7f7f; text-decoration-color: #7f7f7f\">:</span><a href=\"file:///databricks/spark/python/lib/py4j-0.10.9.7-src.zip/py4j/clientserver.py#575\" target=\"_blank\"><span style=\"color: #7f7f7f; text-decoration-color: #7f7f7f\">575</span></a>\n",
       "</pre>\n"
      ],
      "text/plain": [
       "\u001b[2;36m2023-10-23 08:34:24\u001b[0m\u001b[2;36m \u001b[0m\u001b[34mINFO    \u001b[0m INFO:py4j.clientserver:Received command c on object id p0          \u001b]8;id=537671;file:///databricks/spark/python/lib/py4j-0.10.9.7-src.zip/py4j/clientserver.py\u001b\\\u001b[2mclientserver.py\u001b[0m\u001b]8;;\u001b\\\u001b[2m:\u001b[0m\u001b]8;id=861851;file:///databricks/spark/python/lib/py4j-0.10.9.7-src.zip/py4j/clientserver.py#575\u001b\\\u001b[2m575\u001b[0m\u001b]8;;\u001b\\\n"
      ]
     },
     "metadata": {},
     "output_type": "display_data"
    },
    {
     "data": {
      "text/plain": [
       "<generator object Inputs.list_inputs at 0x7f92a88c6570>"
      ]
     },
     "execution_count": 53,
     "metadata": {},
     "output_type": "execute_result"
    }
   ],
   "source": [
    "my_inputs = dataset_obj.list_inputs()\n",
    "\n",
    "my_inputs"
   ]
  },
  {
   "cell_type": "markdown",
   "metadata": {
    "application/vnd.databricks.v1+cell": {
     "cellMetadata": {},
     "inputWidgets": {},
     "nuid": "59d06dc0-5235-41c1-be75-a5a8cd9dad73",
     "showTitle": false,
     "title": ""
    }
   },
   "source": [
    "### Testing export_text_to_volume()\n",
    "\n",
    "Q- Create folders acc to concept name?   \n",
    "Q- Save text as csv?"
   ]
  },
  {
   "cell_type": "code",
   "execution_count": null,
   "metadata": {
    "application/vnd.databricks.v1+cell": {
     "cellMetadata": {
      "byteLimit": 2048000,
      "rowLimit": 10000
     },
     "inputWidgets": {},
     "nuid": "e01c1396-1cd3-4290-b702-d9114244ff90",
     "showTitle": false,
     "title": ""
    }
   },
   "outputs": [
    {
     "data": {
      "text/html": [
       "<pre style=\"white-space:pre;overflow-x:auto;line-height:normal;font-family:Menlo,'DejaVu Sans Mono',consolas,'Courier New',monospace\"><span style=\"color: #7fbfbf; text-decoration-color: #7fbfbf\">2023-10-23 08:34:45 </span><span style=\"color: #000080; text-decoration-color: #000080\">INFO    </span> INFO:py4j.clientserver:Received command c on object id p0          <a href=\"file:///databricks/spark/python/lib/py4j-0.10.9.7-src.zip/py4j/clientserver.py\" target=\"_blank\"><span style=\"color: #7f7f7f; text-decoration-color: #7f7f7f\">clientserver.py</span></a><span style=\"color: #7f7f7f; text-decoration-color: #7f7f7f\">:</span><a href=\"file:///databricks/spark/python/lib/py4j-0.10.9.7-src.zip/py4j/clientserver.py#575\" target=\"_blank\"><span style=\"color: #7f7f7f; text-decoration-color: #7f7f7f\">575</span></a>\n",
       "</pre>\n"
      ],
      "text/plain": [
       "\u001b[2;36m2023-10-23 08:34:45\u001b[0m\u001b[2;36m \u001b[0m\u001b[34mINFO    \u001b[0m INFO:py4j.clientserver:Received command c on object id p0          \u001b]8;id=654716;file:///databricks/spark/python/lib/py4j-0.10.9.7-src.zip/py4j/clientserver.py\u001b\\\u001b[2mclientserver.py\u001b[0m\u001b]8;;\u001b\\\u001b[2m:\u001b[0m\u001b]8;id=492410;file:///databricks/spark/python/lib/py4j-0.10.9.7-src.zip/py4j/clientserver.py#575\u001b\\\u001b[2m575\u001b[0m\u001b]8;;\u001b\\\n"
      ]
     },
     "metadata": {},
     "output_type": "display_data"
    }
   ],
   "source": [
    "dataset_obj.export_text_to_volume(path=\"/Volumes/mansi_test/default/test_vol1\", input_response=my_inputs)"
   ]
  },
  {
   "cell_type": "markdown",
   "metadata": {
    "application/vnd.databricks.v1+cell": {
     "cellMetadata": {},
     "inputWidgets": {},
     "nuid": "0f8b3c16-8b05-4dee-b834-1270edc2b0b2",
     "showTitle": false,
     "title": ""
    }
   },
   "source": [
    "### Upload text from volume csv to Clarifai dataset"
   ]
  },
  {
   "cell_type": "code",
   "execution_count": null,
   "metadata": {
    "application/vnd.databricks.v1+cell": {
     "cellMetadata": {
      "byteLimit": 2048000,
      "rowLimit": 10000
     },
     "inputWidgets": {},
     "nuid": "1c7d8451-d9ac-42e6-85e6-ff451aeb6a1e",
     "showTitle": false,
     "title": ""
    }
   },
   "outputs": [
    {
     "data": {
      "text/html": [
       "<pre style=\"white-space:pre;overflow-x:auto;line-height:normal;font-family:Menlo,'DejaVu Sans Mono',consolas,'Courier New',monospace\"><span style=\"color: #7fbfbf; text-decoration-color: #7fbfbf\">2023-10-23 08:38:10 </span><span style=\"color: #000080; text-decoration-color: #000080\">INFO    </span> INFO:py4j.clientserver:Received command c on object id p0          <a href=\"file:///databricks/spark/python/lib/py4j-0.10.9.7-src.zip/py4j/clientserver.py\" target=\"_blank\"><span style=\"color: #7f7f7f; text-decoration-color: #7f7f7f\">clientserver.py</span></a><span style=\"color: #7f7f7f; text-decoration-color: #7f7f7f\">:</span><a href=\"file:///databricks/spark/python/lib/py4j-0.10.9.7-src.zip/py4j/clientserver.py#575\" target=\"_blank\"><span style=\"color: #7f7f7f; text-decoration-color: #7f7f7f\">575</span></a>\n",
       "</pre>\n"
      ],
      "text/plain": [
       "\u001b[2;36m2023-10-23 08:38:10\u001b[0m\u001b[2;36m \u001b[0m\u001b[34mINFO    \u001b[0m INFO:py4j.clientserver:Received command c on object id p0          \u001b]8;id=990114;file:///databricks/spark/python/lib/py4j-0.10.9.7-src.zip/py4j/clientserver.py\u001b\\\u001b[2mclientserver.py\u001b[0m\u001b]8;;\u001b\\\u001b[2m:\u001b[0m\u001b]8;id=279494;file:///databricks/spark/python/lib/py4j-0.10.9.7-src.zip/py4j/clientserver.py#575\u001b\\\u001b[2m575\u001b[0m\u001b]8;;\u001b\\\n"
      ]
     },
     "metadata": {},
     "output_type": "display_data"
    },
    {
     "name": "stderr",
     "output_type": "stream",
     "text": [
      "\rUploading inputs:   0%|          | 0/1 [00:00<?, ?it/s]\rUploading inputs: 100%|██████████| 1/1 [00:20<00:00, 20.56s/it]\rUploading inputs: 100%|██████████| 1/1 [00:20<00:00, 20.56s/it]\n"
     ]
    }
   ],
   "source": [
    "dataset_obj.upload_dataset_from_csv(csv_path='/Volumes/mansi_test/default/test_vol1/emotions_data1.csv', input_type='text', labels=True, csv_type='raw')"
   ]
  },
  {
   "cell_type": "markdown",
   "metadata": {
    "application/vnd.databricks.v1+cell": {
     "cellMetadata": {},
     "inputWidgets": {},
     "nuid": "b6363576-2540-491e-9506-5af1c7d5fa2b",
     "showTitle": false,
     "title": ""
    }
   },
   "source": [
    "### Load test csv file & upload text data into app using dataframe"
   ]
  },
  {
   "cell_type": "code",
   "execution_count": null,
   "metadata": {
    "application/vnd.databricks.v1+cell": {
     "cellMetadata": {
      "byteLimit": 2048000,
      "rowLimit": 10000
     },
     "inputWidgets": {},
     "nuid": "af76b341-7019-4513-bf93-a934067136ff",
     "showTitle": false,
     "title": ""
    }
   },
   "outputs": [
    {
     "data": {
      "text/html": [
       "<pre style=\"white-space:pre;overflow-x:auto;line-height:normal;font-family:Menlo,'DejaVu Sans Mono',consolas,'Courier New',monospace\"><span style=\"color: #7fbfbf; text-decoration-color: #7fbfbf\">2023-10-23 08:38:54 </span><span style=\"color: #000080; text-decoration-color: #000080\">INFO    </span> INFO:py4j.clientserver:Received command c on object id p0          <a href=\"file:///databricks/spark/python/lib/py4j-0.10.9.7-src.zip/py4j/clientserver.py\" target=\"_blank\"><span style=\"color: #7f7f7f; text-decoration-color: #7f7f7f\">clientserver.py</span></a><span style=\"color: #7f7f7f; text-decoration-color: #7f7f7f\">:</span><a href=\"file:///databricks/spark/python/lib/py4j-0.10.9.7-src.zip/py4j/clientserver.py#575\" target=\"_blank\"><span style=\"color: #7f7f7f; text-decoration-color: #7f7f7f\">575</span></a>\n",
       "</pre>\n"
      ],
      "text/plain": [
       "\u001b[2;36m2023-10-23 08:38:54\u001b[0m\u001b[2;36m \u001b[0m\u001b[34mINFO    \u001b[0m INFO:py4j.clientserver:Received command c on object id p0          \u001b]8;id=298316;file:///databricks/spark/python/lib/py4j-0.10.9.7-src.zip/py4j/clientserver.py\u001b\\\u001b[2mclientserver.py\u001b[0m\u001b]8;;\u001b\\\u001b[2m:\u001b[0m\u001b]8;id=912974;file:///databricks/spark/python/lib/py4j-0.10.9.7-src.zip/py4j/clientserver.py#575\u001b\\\u001b[2m575\u001b[0m\u001b]8;;\u001b\\\n"
      ]
     },
     "metadata": {},
     "output_type": "display_data"
    },
    {
     "name": "stdout",
     "output_type": "stream",
     "text": [
      "+-------+--------------------+--------+\n",
      "|inputid|               input|concepts|\n",
      "+-------+--------------------+--------+\n",
      "|    t11|   I am feeling good|   happy|\n",
      "|    t21|This is a guava tree| neutral|\n",
      "|    t31|This is a saddeni...|     sad|\n",
      "+-------+--------------------+--------+\n",
      "\n"
     ]
    }
   ],
   "source": [
    "spark = SparkSession.builder.appName(\"Clarifai-spark\").getOrCreate()\n",
    "df = spark.read.option(\"header\",True).csv(\"/Volumes/mansi_test/default/test_vol1/emotions_data1.csv\")\n",
    "df.show()"
   ]
  },
  {
   "cell_type": "code",
   "execution_count": null,
   "metadata": {
    "application/vnd.databricks.v1+cell": {
     "cellMetadata": {
      "byteLimit": 2048000,
      "rowLimit": 10000
     },
     "inputWidgets": {},
     "nuid": "c327d8d8-db0d-42db-bd79-a43743c08423",
     "showTitle": false,
     "title": ""
    }
   },
   "outputs": [
    {
     "data": {
      "text/html": [
       "<pre style=\"white-space:pre;overflow-x:auto;line-height:normal;font-family:Menlo,'DejaVu Sans Mono',consolas,'Courier New',monospace\"><span style=\"color: #7fbfbf; text-decoration-color: #7fbfbf\">2023-10-23 08:39:47 </span><span style=\"color: #000080; text-decoration-color: #000080\">INFO    </span> INFO:py4j.clientserver:Received command c on object id p0          <a href=\"file:///databricks/spark/python/lib/py4j-0.10.9.7-src.zip/py4j/clientserver.py\" target=\"_blank\"><span style=\"color: #7f7f7f; text-decoration-color: #7f7f7f\">clientserver.py</span></a><span style=\"color: #7f7f7f; text-decoration-color: #7f7f7f\">:</span><a href=\"file:///databricks/spark/python/lib/py4j-0.10.9.7-src.zip/py4j/clientserver.py#575\" target=\"_blank\"><span style=\"color: #7f7f7f; text-decoration-color: #7f7f7f\">575</span></a>\n",
       "</pre>\n"
      ],
      "text/plain": [
       "\u001b[2;36m2023-10-23 08:39:47\u001b[0m\u001b[2;36m \u001b[0m\u001b[34mINFO    \u001b[0m INFO:py4j.clientserver:Received command c on object id p0          \u001b]8;id=241980;file:///databricks/spark/python/lib/py4j-0.10.9.7-src.zip/py4j/clientserver.py\u001b\\\u001b[2mclientserver.py\u001b[0m\u001b]8;;\u001b\\\u001b[2m:\u001b[0m\u001b]8;id=257321;file:///databricks/spark/python/lib/py4j-0.10.9.7-src.zip/py4j/clientserver.py#575\u001b\\\u001b[2m575\u001b[0m\u001b]8;;\u001b\\\n"
      ]
     },
     "metadata": {},
     "output_type": "display_data"
    },
    {
     "name": "stderr",
     "output_type": "stream",
     "text": [
      "\rUploading inputs:   0%|          | 0/1 [00:00<?, ?it/s]"
     ]
    },
    {
     "data": {
      "text/html": [
       "<pre style=\"white-space:pre;overflow-x:auto;line-height:normal;font-family:Menlo,'DejaVu Sans Mono',consolas,'Courier New',monospace\"><span style=\"color: #7fbfbf; text-decoration-color: #7fbfbf\">2023-10-23 08:39:48 </span><span style=\"color: #800000; text-decoration-color: #800000\">WARNING </span> WARNING:clarifai.client.input:code: IN<span style=\"color: #808000; text-decoration-color: #808000; font-weight: bold\">PUT</span>_INVALID_ARGUMENT                <a href=\"file:///local_disk0/.ephemeral_nfs/envs/pythonEnv-07884fc6-4bdc-4cb9-bce0-6f0de44f7080/lib/python3.10/site-packages/clarifai/client/input.py\" target=\"_blank\"><span style=\"color: #7f7f7f; text-decoration-color: #7f7f7f\">input.py</span></a><span style=\"color: #7f7f7f; text-decoration-color: #7f7f7f\">:</span><a href=\"file:///local_disk0/.ephemeral_nfs/envs/pythonEnv-07884fc6-4bdc-4cb9-bce0-6f0de44f7080/lib/python3.10/site-packages/clarifai/client/input.py#631\" target=\"_blank\"><span style=\"color: #7f7f7f; text-decoration-color: #7f7f7f\">631</span></a>\n",
       "<span style=\"color: #7fbfbf; text-decoration-color: #7fbfbf\">                    </span>         description: <span style=\"color: #008000; text-decoration-color: #008000\">\"Input invalid argument\"</span>                                     <span style=\"color: #7f7f7f; text-decoration-color: #7f7f7f\">            </span>\n",
       "<span style=\"color: #7fbfbf; text-decoration-color: #7fbfbf\">                    </span>         details: <span style=\"color: #008000; text-decoration-color: #008000\">\"Input has a duplicate ID.\"</span>                                      <span style=\"color: #7f7f7f; text-decoration-color: #7f7f7f\">            </span>\n",
       "<span style=\"color: #7fbfbf; text-decoration-color: #7fbfbf\">                    </span>                                                                                   <span style=\"color: #7f7f7f; text-decoration-color: #7f7f7f\">            </span>\n",
       "</pre>\n"
      ],
      "text/plain": [
       "\u001b[2;36m2023-10-23 08:39:48\u001b[0m\u001b[2;36m \u001b[0m\u001b[31mWARNING \u001b[0m WARNING:clarifai.client.input:code: IN\u001b[1;33mPUT\u001b[0m_INVALID_ARGUMENT                \u001b]8;id=620274;file:///local_disk0/.ephemeral_nfs/envs/pythonEnv-07884fc6-4bdc-4cb9-bce0-6f0de44f7080/lib/python3.10/site-packages/clarifai/client/input.py\u001b\\\u001b[2minput.py\u001b[0m\u001b]8;;\u001b\\\u001b[2m:\u001b[0m\u001b]8;id=60565;file:///local_disk0/.ephemeral_nfs/envs/pythonEnv-07884fc6-4bdc-4cb9-bce0-6f0de44f7080/lib/python3.10/site-packages/clarifai/client/input.py#631\u001b\\\u001b[2m631\u001b[0m\u001b]8;;\u001b\\\n",
       "\u001b[2;36m                    \u001b[0m         description: \u001b[32m\"Input invalid argument\"\u001b[0m                                     \u001b[2m            \u001b[0m\n",
       "\u001b[2;36m                    \u001b[0m         details: \u001b[32m\"Input has a duplicate ID.\"\u001b[0m                                      \u001b[2m            \u001b[0m\n",
       "\u001b[2;36m                    \u001b[0m                                                                                   \u001b[2m            \u001b[0m\n"
      ]
     },
     "metadata": {},
     "output_type": "display_data"
    },
    {
     "name": "stderr",
     "output_type": "stream",
     "text": [
      "\rUploading inputs: 100%|██████████| 1/1 [00:00<00:00,  5.48it/s]\rUploading inputs: 100%|██████████| 1/1 [00:00<00:00,  5.45it/s]\n"
     ]
    }
   ],
   "source": [
    "dataset_obj.upload_dataset_from_dataframe(dataframe=df, input_type='text', df_type='raw', labels=True)"
   ]
  }
 ],
 "metadata": {
  "application/vnd.databricks.v1+notebook": {
   "dashboards": [],
   "language": "python",
   "notebookMetadata": {
    "pythonIndentUnit": 4
   },
   "notebookName": "SDK_in_book_test_23oct",
   "widgets": {}
  },
  "language_info": {
   "name": "python"
  }
 },
 "nbformat": 4,
 "nbformat_minor": 0
}
